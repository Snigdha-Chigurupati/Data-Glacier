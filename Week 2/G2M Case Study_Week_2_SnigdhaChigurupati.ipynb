{
 "cells": [
  {
   "cell_type": "code",
   "execution_count": 79,
   "metadata": {
    "id": "lpnvQgk-Dd8c"
   },
   "outputs": [],
   "source": [
    "import pandas as pd\n",
    "import numpy as np\n",
    "import matplotlib.pyplot as plt\n",
    "import seaborn as sns\n",
    "import plotly.express as py\n",
    "%matplotlib inline"
   ]
  },
  {
   "cell_type": "code",
   "execution_count": 80,
   "metadata": {
    "id": "B_pf_apZEbfe"
   },
   "outputs": [],
   "source": [
    "cab_data_df = pd.read_csv(\"Cab_Data.csv\")\n",
    "city_df = pd.read_csv(\"City.csv\")\n",
    "customerID_df = pd.read_csv(\"Customer_ID.csv\")\n",
    "transactionID_df = pd.read_csv(\"Transaction_ID.csv\")"
   ]
  },
  {
   "cell_type": "code",
   "execution_count": 81,
   "metadata": {
    "colab": {
     "base_uri": "https://localhost:8080/"
    },
    "id": "vb5Og-vdE5Xd",
    "outputId": "e2eff7e1-baeb-44a8-c761-84cbb631534a"
   },
   "outputs": [
    {
     "name": "stdout",
     "output_type": "stream",
     "text": [
      "<class 'pandas.core.frame.DataFrame'>\n",
      "RangeIndex: 359392 entries, 0 to 359391\n",
      "Data columns (total 7 columns):\n",
      " #   Column          Non-Null Count   Dtype  \n",
      "---  ------          --------------   -----  \n",
      " 0   Transaction ID  359392 non-null  int64  \n",
      " 1   Date of Travel  359392 non-null  object \n",
      " 2   Company         359392 non-null  object \n",
      " 3   City            359392 non-null  object \n",
      " 4   KM Travelled    359392 non-null  float64\n",
      " 5   Price Charged   359392 non-null  float64\n",
      " 6   Cost of Trip    359392 non-null  float64\n",
      "dtypes: float64(3), int64(1), object(3)\n",
      "memory usage: 19.2+ MB\n"
     ]
    }
   ],
   "source": [
    "cab_data_df.info()"
   ]
  },
  {
   "cell_type": "code",
   "execution_count": 82,
   "metadata": {
    "colab": {
     "base_uri": "https://localhost:8080/",
     "height": 423
    },
    "id": "uIIWYgdeFFvI",
    "outputId": "86d52c3b-ee62-4b64-98e9-9c15be25deff"
   },
   "outputs": [
    {
     "data": {
      "text/html": [
       "<div>\n",
       "<style scoped>\n",
       "    .dataframe tbody tr th:only-of-type {\n",
       "        vertical-align: middle;\n",
       "    }\n",
       "\n",
       "    .dataframe tbody tr th {\n",
       "        vertical-align: top;\n",
       "    }\n",
       "\n",
       "    .dataframe thead th {\n",
       "        text-align: right;\n",
       "    }\n",
       "</style>\n",
       "<table border=\"1\" class=\"dataframe\">\n",
       "  <thead>\n",
       "    <tr style=\"text-align: right;\">\n",
       "      <th></th>\n",
       "      <th>Transaction ID</th>\n",
       "      <th>Date of Travel</th>\n",
       "      <th>Company</th>\n",
       "      <th>City</th>\n",
       "      <th>KM Travelled</th>\n",
       "      <th>Price Charged</th>\n",
       "      <th>Cost of Trip</th>\n",
       "    </tr>\n",
       "  </thead>\n",
       "  <tbody>\n",
       "    <tr>\n",
       "      <th>0</th>\n",
       "      <td>10000013</td>\n",
       "      <td>1/2/2016</td>\n",
       "      <td>Pink Cab</td>\n",
       "      <td>ATLANTA GA</td>\n",
       "      <td>9.04</td>\n",
       "      <td>125.20</td>\n",
       "      <td>97.63</td>\n",
       "    </tr>\n",
       "    <tr>\n",
       "      <th>1</th>\n",
       "      <td>10000029</td>\n",
       "      <td>1/2/2016</td>\n",
       "      <td>Pink Cab</td>\n",
       "      <td>BOSTON MA</td>\n",
       "      <td>21.34</td>\n",
       "      <td>324.21</td>\n",
       "      <td>226.20</td>\n",
       "    </tr>\n",
       "    <tr>\n",
       "      <th>2</th>\n",
       "      <td>10000030</td>\n",
       "      <td>1/2/2016</td>\n",
       "      <td>Pink Cab</td>\n",
       "      <td>BOSTON MA</td>\n",
       "      <td>41.30</td>\n",
       "      <td>646.06</td>\n",
       "      <td>454.30</td>\n",
       "    </tr>\n",
       "    <tr>\n",
       "      <th>3</th>\n",
       "      <td>10000041</td>\n",
       "      <td>1/2/2016</td>\n",
       "      <td>Pink Cab</td>\n",
       "      <td>CHICAGO IL</td>\n",
       "      <td>35.02</td>\n",
       "      <td>598.43</td>\n",
       "      <td>406.23</td>\n",
       "    </tr>\n",
       "    <tr>\n",
       "      <th>4</th>\n",
       "      <td>10000045</td>\n",
       "      <td>1/2/2016</td>\n",
       "      <td>Pink Cab</td>\n",
       "      <td>CHICAGO IL</td>\n",
       "      <td>3.24</td>\n",
       "      <td>48.04</td>\n",
       "      <td>33.70</td>\n",
       "    </tr>\n",
       "  </tbody>\n",
       "</table>\n",
       "</div>"
      ],
      "text/plain": [
       "   Transaction ID Date of Travel   Company        City  KM Travelled  \\\n",
       "0        10000013       1/2/2016  Pink Cab  ATLANTA GA          9.04   \n",
       "1        10000029       1/2/2016  Pink Cab   BOSTON MA         21.34   \n",
       "2        10000030       1/2/2016  Pink Cab   BOSTON MA         41.30   \n",
       "3        10000041       1/2/2016  Pink Cab  CHICAGO IL         35.02   \n",
       "4        10000045       1/2/2016  Pink Cab  CHICAGO IL          3.24   \n",
       "\n",
       "   Price Charged  Cost of Trip  \n",
       "0         125.20         97.63  \n",
       "1         324.21        226.20  \n",
       "2         646.06        454.30  \n",
       "3         598.43        406.23  \n",
       "4          48.04         33.70  "
      ]
     },
     "execution_count": 82,
     "metadata": {},
     "output_type": "execute_result"
    }
   ],
   "source": [
    "cab_data_df.head()"
   ]
  },
  {
   "cell_type": "code",
   "execution_count": 83,
   "metadata": {
    "id": "p3o649eNtIlE"
   },
   "outputs": [],
   "source": [
    "import datetime as dt\n",
    "cab_data_df['Date of Travel'] = pd.to_datetime(cab_data_df['Date of Travel'])"
   ]
  },
  {
   "cell_type": "code",
   "execution_count": 84,
   "metadata": {
    "colab": {
     "base_uri": "https://localhost:8080/"
    },
    "id": "SQw1l7CiA85t",
    "outputId": "6e2abe61-fdf6-4288-f84d-35068d904b95"
   },
   "outputs": [
    {
     "data": {
      "text/plain": [
       "Timestamp('2016-01-02 00:00:00')"
      ]
     },
     "execution_count": 84,
     "metadata": {},
     "output_type": "execute_result"
    }
   ],
   "source": [
    "cab_data_df['Date of Travel'].min()"
   ]
  },
  {
   "cell_type": "code",
   "execution_count": 85,
   "metadata": {
    "colab": {
     "base_uri": "https://localhost:8080/"
    },
    "id": "YPWIzao3BKnn",
    "outputId": "4ea0e496-6810-42ec-caa0-ac46a19dc2ba"
   },
   "outputs": [
    {
     "data": {
      "text/plain": [
       "Timestamp('2018-12-31 00:00:00')"
      ]
     },
     "execution_count": 85,
     "metadata": {},
     "output_type": "execute_result"
    }
   ],
   "source": [
    "cab_data_df['Date of Travel'].max()"
   ]
  },
  {
   "cell_type": "code",
   "execution_count": 86,
   "metadata": {},
   "outputs": [
    {
     "data": {
      "text/html": [
       "<div>\n",
       "<style scoped>\n",
       "    .dataframe tbody tr th:only-of-type {\n",
       "        vertical-align: middle;\n",
       "    }\n",
       "\n",
       "    .dataframe tbody tr th {\n",
       "        vertical-align: top;\n",
       "    }\n",
       "\n",
       "    .dataframe thead th {\n",
       "        text-align: right;\n",
       "    }\n",
       "</style>\n",
       "<table border=\"1\" class=\"dataframe\">\n",
       "  <thead>\n",
       "    <tr style=\"text-align: right;\">\n",
       "      <th></th>\n",
       "      <th>Transaction ID</th>\n",
       "      <th>Date of Travel</th>\n",
       "      <th>Company</th>\n",
       "      <th>City</th>\n",
       "      <th>KM Travelled</th>\n",
       "      <th>Price Charged</th>\n",
       "      <th>Cost of Trip</th>\n",
       "    </tr>\n",
       "  </thead>\n",
       "  <tbody>\n",
       "    <tr>\n",
       "      <th>0</th>\n",
       "      <td>10000013</td>\n",
       "      <td>2016-01-02</td>\n",
       "      <td>Pink Cab</td>\n",
       "      <td>ATLANTA GA</td>\n",
       "      <td>9.04</td>\n",
       "      <td>125.20</td>\n",
       "      <td>97.63</td>\n",
       "    </tr>\n",
       "    <tr>\n",
       "      <th>1</th>\n",
       "      <td>10000029</td>\n",
       "      <td>2016-01-02</td>\n",
       "      <td>Pink Cab</td>\n",
       "      <td>BOSTON MA</td>\n",
       "      <td>21.34</td>\n",
       "      <td>324.21</td>\n",
       "      <td>226.20</td>\n",
       "    </tr>\n",
       "    <tr>\n",
       "      <th>2</th>\n",
       "      <td>10000030</td>\n",
       "      <td>2016-01-02</td>\n",
       "      <td>Pink Cab</td>\n",
       "      <td>BOSTON MA</td>\n",
       "      <td>41.30</td>\n",
       "      <td>646.06</td>\n",
       "      <td>454.30</td>\n",
       "    </tr>\n",
       "    <tr>\n",
       "      <th>3</th>\n",
       "      <td>10000041</td>\n",
       "      <td>2016-01-02</td>\n",
       "      <td>Pink Cab</td>\n",
       "      <td>CHICAGO IL</td>\n",
       "      <td>35.02</td>\n",
       "      <td>598.43</td>\n",
       "      <td>406.23</td>\n",
       "    </tr>\n",
       "    <tr>\n",
       "      <th>4</th>\n",
       "      <td>10000045</td>\n",
       "      <td>2016-01-02</td>\n",
       "      <td>Pink Cab</td>\n",
       "      <td>CHICAGO IL</td>\n",
       "      <td>3.24</td>\n",
       "      <td>48.04</td>\n",
       "      <td>33.70</td>\n",
       "    </tr>\n",
       "  </tbody>\n",
       "</table>\n",
       "</div>"
      ],
      "text/plain": [
       "   Transaction ID Date of Travel   Company        City  KM Travelled  \\\n",
       "0        10000013     2016-01-02  Pink Cab  ATLANTA GA          9.04   \n",
       "1        10000029     2016-01-02  Pink Cab   BOSTON MA         21.34   \n",
       "2        10000030     2016-01-02  Pink Cab   BOSTON MA         41.30   \n",
       "3        10000041     2016-01-02  Pink Cab  CHICAGO IL         35.02   \n",
       "4        10000045     2016-01-02  Pink Cab  CHICAGO IL          3.24   \n",
       "\n",
       "   Price Charged  Cost of Trip  \n",
       "0         125.20         97.63  \n",
       "1         324.21        226.20  \n",
       "2         646.06        454.30  \n",
       "3         598.43        406.23  \n",
       "4          48.04         33.70  "
      ]
     },
     "execution_count": 86,
     "metadata": {},
     "output_type": "execute_result"
    }
   ],
   "source": [
    "cab_data_df.head()"
   ]
  },
  {
   "cell_type": "code",
   "execution_count": 87,
   "metadata": {},
   "outputs": [
    {
     "name": "stdout",
     "output_type": "stream",
     "text": [
      "<class 'pandas.core.frame.DataFrame'>\n",
      "RangeIndex: 359392 entries, 0 to 359391\n",
      "Data columns (total 7 columns):\n",
      " #   Column          Non-Null Count   Dtype         \n",
      "---  ------          --------------   -----         \n",
      " 0   Transaction ID  359392 non-null  int64         \n",
      " 1   Date of Travel  359392 non-null  datetime64[ns]\n",
      " 2   Company         359392 non-null  object        \n",
      " 3   City            359392 non-null  object        \n",
      " 4   KM Travelled    359392 non-null  float64       \n",
      " 5   Price Charged   359392 non-null  float64       \n",
      " 6   Cost of Trip    359392 non-null  float64       \n",
      "dtypes: datetime64[ns](1), float64(3), int64(1), object(2)\n",
      "memory usage: 19.2+ MB\n"
     ]
    }
   ],
   "source": [
    "cab_data_df.info()"
   ]
  },
  {
   "cell_type": "code",
   "execution_count": 88,
   "metadata": {
    "colab": {
     "base_uri": "https://localhost:8080/"
    },
    "id": "tNC8RaIkFHGU",
    "outputId": "cab8b52f-7246-4df4-a2a4-d52f6c80f9e3"
   },
   "outputs": [
    {
     "name": "stdout",
     "output_type": "stream",
     "text": [
      "<class 'pandas.core.frame.DataFrame'>\n",
      "RangeIndex: 20 entries, 0 to 19\n",
      "Data columns (total 3 columns):\n",
      " #   Column      Non-Null Count  Dtype \n",
      "---  ------      --------------  ----- \n",
      " 0   City        20 non-null     object\n",
      " 1   Population  20 non-null     object\n",
      " 2   Users       20 non-null     object\n",
      "dtypes: object(3)\n",
      "memory usage: 608.0+ bytes\n"
     ]
    }
   ],
   "source": [
    "city_df.info()"
   ]
  },
  {
   "cell_type": "code",
   "execution_count": 89,
   "metadata": {
    "colab": {
     "base_uri": "https://localhost:8080/",
     "height": 676
    },
    "id": "itex6nUfFKpc",
    "outputId": "58c63a11-7b9d-438d-8fc8-6f10c5b4b7dd"
   },
   "outputs": [
    {
     "data": {
      "text/html": [
       "<div>\n",
       "<style scoped>\n",
       "    .dataframe tbody tr th:only-of-type {\n",
       "        vertical-align: middle;\n",
       "    }\n",
       "\n",
       "    .dataframe tbody tr th {\n",
       "        vertical-align: top;\n",
       "    }\n",
       "\n",
       "    .dataframe thead th {\n",
       "        text-align: right;\n",
       "    }\n",
       "</style>\n",
       "<table border=\"1\" class=\"dataframe\">\n",
       "  <thead>\n",
       "    <tr style=\"text-align: right;\">\n",
       "      <th></th>\n",
       "      <th>City</th>\n",
       "      <th>Population</th>\n",
       "      <th>Users</th>\n",
       "    </tr>\n",
       "  </thead>\n",
       "  <tbody>\n",
       "    <tr>\n",
       "      <th>0</th>\n",
       "      <td>NEW YORK NY</td>\n",
       "      <td>8,405,837</td>\n",
       "      <td>302,149</td>\n",
       "    </tr>\n",
       "    <tr>\n",
       "      <th>1</th>\n",
       "      <td>CHICAGO IL</td>\n",
       "      <td>1,955,130</td>\n",
       "      <td>164,468</td>\n",
       "    </tr>\n",
       "    <tr>\n",
       "      <th>2</th>\n",
       "      <td>LOS ANGELES CA</td>\n",
       "      <td>1,595,037</td>\n",
       "      <td>144,132</td>\n",
       "    </tr>\n",
       "    <tr>\n",
       "      <th>3</th>\n",
       "      <td>MIAMI FL</td>\n",
       "      <td>1,339,155</td>\n",
       "      <td>17,675</td>\n",
       "    </tr>\n",
       "    <tr>\n",
       "      <th>4</th>\n",
       "      <td>SILICON VALLEY</td>\n",
       "      <td>1,177,609</td>\n",
       "      <td>27,247</td>\n",
       "    </tr>\n",
       "  </tbody>\n",
       "</table>\n",
       "</div>"
      ],
      "text/plain": [
       "             City   Population      Users\n",
       "0     NEW YORK NY   8,405,837    302,149 \n",
       "1      CHICAGO IL   1,955,130    164,468 \n",
       "2  LOS ANGELES CA   1,595,037    144,132 \n",
       "3        MIAMI FL   1,339,155     17,675 \n",
       "4  SILICON VALLEY   1,177,609     27,247 "
      ]
     },
     "execution_count": 89,
     "metadata": {},
     "output_type": "execute_result"
    }
   ],
   "source": [
    "city_df.head()"
   ]
  },
  {
   "cell_type": "code",
   "execution_count": 90,
   "metadata": {},
   "outputs": [],
   "source": [
    "city_df['Population'] = city_df['Population'].apply(lambda x: x.replace(\",\", \"\"))\n",
    "city_df['Users'] = city_df['Users'].apply(lambda x: x.replace(\",\", \"\"))"
   ]
  },
  {
   "cell_type": "code",
   "execution_count": 91,
   "metadata": {},
   "outputs": [],
   "source": [
    "city_df['Population'] = city_df['Population'].astype(\"int\")\n",
    "city_df['Users'] = city_df['Users'].astype(\"int\")"
   ]
  },
  {
   "cell_type": "code",
   "execution_count": 92,
   "metadata": {},
   "outputs": [
    {
     "data": {
      "text/html": [
       "<div>\n",
       "<style scoped>\n",
       "    .dataframe tbody tr th:only-of-type {\n",
       "        vertical-align: middle;\n",
       "    }\n",
       "\n",
       "    .dataframe tbody tr th {\n",
       "        vertical-align: top;\n",
       "    }\n",
       "\n",
       "    .dataframe thead th {\n",
       "        text-align: right;\n",
       "    }\n",
       "</style>\n",
       "<table border=\"1\" class=\"dataframe\">\n",
       "  <thead>\n",
       "    <tr style=\"text-align: right;\">\n",
       "      <th></th>\n",
       "      <th>City</th>\n",
       "      <th>Population</th>\n",
       "      <th>Users</th>\n",
       "    </tr>\n",
       "  </thead>\n",
       "  <tbody>\n",
       "    <tr>\n",
       "      <th>0</th>\n",
       "      <td>NEW YORK NY</td>\n",
       "      <td>8405837</td>\n",
       "      <td>302149</td>\n",
       "    </tr>\n",
       "    <tr>\n",
       "      <th>1</th>\n",
       "      <td>CHICAGO IL</td>\n",
       "      <td>1955130</td>\n",
       "      <td>164468</td>\n",
       "    </tr>\n",
       "    <tr>\n",
       "      <th>2</th>\n",
       "      <td>LOS ANGELES CA</td>\n",
       "      <td>1595037</td>\n",
       "      <td>144132</td>\n",
       "    </tr>\n",
       "    <tr>\n",
       "      <th>3</th>\n",
       "      <td>MIAMI FL</td>\n",
       "      <td>1339155</td>\n",
       "      <td>17675</td>\n",
       "    </tr>\n",
       "    <tr>\n",
       "      <th>4</th>\n",
       "      <td>SILICON VALLEY</td>\n",
       "      <td>1177609</td>\n",
       "      <td>27247</td>\n",
       "    </tr>\n",
       "    <tr>\n",
       "      <th>5</th>\n",
       "      <td>ORANGE COUNTY</td>\n",
       "      <td>1030185</td>\n",
       "      <td>12994</td>\n",
       "    </tr>\n",
       "    <tr>\n",
       "      <th>6</th>\n",
       "      <td>SAN DIEGO CA</td>\n",
       "      <td>959307</td>\n",
       "      <td>69995</td>\n",
       "    </tr>\n",
       "    <tr>\n",
       "      <th>7</th>\n",
       "      <td>PHOENIX AZ</td>\n",
       "      <td>943999</td>\n",
       "      <td>6133</td>\n",
       "    </tr>\n",
       "    <tr>\n",
       "      <th>8</th>\n",
       "      <td>DALLAS TX</td>\n",
       "      <td>942908</td>\n",
       "      <td>22157</td>\n",
       "    </tr>\n",
       "    <tr>\n",
       "      <th>9</th>\n",
       "      <td>ATLANTA GA</td>\n",
       "      <td>814885</td>\n",
       "      <td>24701</td>\n",
       "    </tr>\n",
       "    <tr>\n",
       "      <th>10</th>\n",
       "      <td>DENVER CO</td>\n",
       "      <td>754233</td>\n",
       "      <td>12421</td>\n",
       "    </tr>\n",
       "    <tr>\n",
       "      <th>11</th>\n",
       "      <td>AUSTIN TX</td>\n",
       "      <td>698371</td>\n",
       "      <td>14978</td>\n",
       "    </tr>\n",
       "    <tr>\n",
       "      <th>12</th>\n",
       "      <td>SEATTLE WA</td>\n",
       "      <td>671238</td>\n",
       "      <td>25063</td>\n",
       "    </tr>\n",
       "    <tr>\n",
       "      <th>13</th>\n",
       "      <td>TUCSON AZ</td>\n",
       "      <td>631442</td>\n",
       "      <td>5712</td>\n",
       "    </tr>\n",
       "    <tr>\n",
       "      <th>14</th>\n",
       "      <td>SAN FRANCISCO CA</td>\n",
       "      <td>629591</td>\n",
       "      <td>213609</td>\n",
       "    </tr>\n",
       "    <tr>\n",
       "      <th>15</th>\n",
       "      <td>SACRAMENTO CA</td>\n",
       "      <td>545776</td>\n",
       "      <td>7044</td>\n",
       "    </tr>\n",
       "    <tr>\n",
       "      <th>16</th>\n",
       "      <td>PITTSBURGH PA</td>\n",
       "      <td>542085</td>\n",
       "      <td>3643</td>\n",
       "    </tr>\n",
       "    <tr>\n",
       "      <th>17</th>\n",
       "      <td>WASHINGTON DC</td>\n",
       "      <td>418859</td>\n",
       "      <td>127001</td>\n",
       "    </tr>\n",
       "    <tr>\n",
       "      <th>18</th>\n",
       "      <td>NASHVILLE TN</td>\n",
       "      <td>327225</td>\n",
       "      <td>9270</td>\n",
       "    </tr>\n",
       "    <tr>\n",
       "      <th>19</th>\n",
       "      <td>BOSTON MA</td>\n",
       "      <td>248968</td>\n",
       "      <td>80021</td>\n",
       "    </tr>\n",
       "  </tbody>\n",
       "</table>\n",
       "</div>"
      ],
      "text/plain": [
       "                City  Population   Users\n",
       "0        NEW YORK NY     8405837  302149\n",
       "1         CHICAGO IL     1955130  164468\n",
       "2     LOS ANGELES CA     1595037  144132\n",
       "3           MIAMI FL     1339155   17675\n",
       "4     SILICON VALLEY     1177609   27247\n",
       "5      ORANGE COUNTY     1030185   12994\n",
       "6       SAN DIEGO CA      959307   69995\n",
       "7         PHOENIX AZ      943999    6133\n",
       "8          DALLAS TX      942908   22157\n",
       "9         ATLANTA GA      814885   24701\n",
       "10         DENVER CO      754233   12421\n",
       "11         AUSTIN TX      698371   14978\n",
       "12        SEATTLE WA      671238   25063\n",
       "13         TUCSON AZ      631442    5712\n",
       "14  SAN FRANCISCO CA      629591  213609\n",
       "15     SACRAMENTO CA      545776    7044\n",
       "16     PITTSBURGH PA      542085    3643\n",
       "17     WASHINGTON DC      418859  127001\n",
       "18      NASHVILLE TN      327225    9270\n",
       "19         BOSTON MA      248968   80021"
      ]
     },
     "execution_count": 92,
     "metadata": {},
     "output_type": "execute_result"
    }
   ],
   "source": [
    "city_df"
   ]
  },
  {
   "cell_type": "code",
   "execution_count": 93,
   "metadata": {},
   "outputs": [
    {
     "name": "stdout",
     "output_type": "stream",
     "text": [
      "<class 'pandas.core.frame.DataFrame'>\n",
      "RangeIndex: 20 entries, 0 to 19\n",
      "Data columns (total 3 columns):\n",
      " #   Column      Non-Null Count  Dtype \n",
      "---  ------      --------------  ----- \n",
      " 0   City        20 non-null     object\n",
      " 1   Population  20 non-null     int32 \n",
      " 2   Users       20 non-null     int32 \n",
      "dtypes: int32(2), object(1)\n",
      "memory usage: 448.0+ bytes\n"
     ]
    }
   ],
   "source": [
    "city_df.info()"
   ]
  },
  {
   "cell_type": "code",
   "execution_count": 94,
   "metadata": {},
   "outputs": [
    {
     "data": {
      "text/html": [
       "<div>\n",
       "<style scoped>\n",
       "    .dataframe tbody tr th:only-of-type {\n",
       "        vertical-align: middle;\n",
       "    }\n",
       "\n",
       "    .dataframe tbody tr th {\n",
       "        vertical-align: top;\n",
       "    }\n",
       "\n",
       "    .dataframe thead th {\n",
       "        text-align: right;\n",
       "    }\n",
       "</style>\n",
       "<table border=\"1\" class=\"dataframe\">\n",
       "  <thead>\n",
       "    <tr style=\"text-align: right;\">\n",
       "      <th></th>\n",
       "      <th>Transaction ID</th>\n",
       "      <th>Date of Travel</th>\n",
       "      <th>Company</th>\n",
       "      <th>City</th>\n",
       "      <th>KM Travelled</th>\n",
       "      <th>Price Charged</th>\n",
       "      <th>Cost of Trip</th>\n",
       "    </tr>\n",
       "  </thead>\n",
       "  <tbody>\n",
       "  </tbody>\n",
       "</table>\n",
       "</div>"
      ],
      "text/plain": [
       "Empty DataFrame\n",
       "Columns: [Transaction ID, Date of Travel, Company, City, KM Travelled, Price Charged, Cost of Trip]\n",
       "Index: []"
      ]
     },
     "execution_count": 94,
     "metadata": {},
     "output_type": "execute_result"
    }
   ],
   "source": [
    "cab_data_df[cab_data_df['City']=='SAN FRANCISCO CA']"
   ]
  },
  {
   "cell_type": "code",
   "execution_count": 95,
   "metadata": {
    "colab": {
     "base_uri": "https://localhost:8080/"
    },
    "id": "8XqdV3TUFNMj",
    "outputId": "683bfe9e-f05c-4066-adb7-616ffe593597"
   },
   "outputs": [
    {
     "name": "stdout",
     "output_type": "stream",
     "text": [
      "<class 'pandas.core.frame.DataFrame'>\n",
      "RangeIndex: 49171 entries, 0 to 49170\n",
      "Data columns (total 4 columns):\n",
      " #   Column              Non-Null Count  Dtype \n",
      "---  ------              --------------  ----- \n",
      " 0   Customer ID         49171 non-null  int64 \n",
      " 1   Gender              49171 non-null  object\n",
      " 2   Age                 49171 non-null  int64 \n",
      " 3   Income (USD/Month)  49171 non-null  int64 \n",
      "dtypes: int64(3), object(1)\n",
      "memory usage: 1.5+ MB\n"
     ]
    }
   ],
   "source": [
    "customerID_df.info()"
   ]
  },
  {
   "cell_type": "code",
   "execution_count": 96,
   "metadata": {
    "colab": {
     "base_uri": "https://localhost:8080/",
     "height": 423
    },
    "id": "wJOn0M9DFR4K",
    "outputId": "6b93a40e-66cd-447f-f5fd-e6c6bca9f622"
   },
   "outputs": [
    {
     "data": {
      "text/html": [
       "<div>\n",
       "<style scoped>\n",
       "    .dataframe tbody tr th:only-of-type {\n",
       "        vertical-align: middle;\n",
       "    }\n",
       "\n",
       "    .dataframe tbody tr th {\n",
       "        vertical-align: top;\n",
       "    }\n",
       "\n",
       "    .dataframe thead th {\n",
       "        text-align: right;\n",
       "    }\n",
       "</style>\n",
       "<table border=\"1\" class=\"dataframe\">\n",
       "  <thead>\n",
       "    <tr style=\"text-align: right;\">\n",
       "      <th></th>\n",
       "      <th>Customer ID</th>\n",
       "      <th>Gender</th>\n",
       "      <th>Age</th>\n",
       "      <th>Income (USD/Month)</th>\n",
       "    </tr>\n",
       "  </thead>\n",
       "  <tbody>\n",
       "    <tr>\n",
       "      <th>0</th>\n",
       "      <td>29290</td>\n",
       "      <td>Male</td>\n",
       "      <td>28</td>\n",
       "      <td>10813</td>\n",
       "    </tr>\n",
       "    <tr>\n",
       "      <th>1</th>\n",
       "      <td>27703</td>\n",
       "      <td>Male</td>\n",
       "      <td>27</td>\n",
       "      <td>9237</td>\n",
       "    </tr>\n",
       "    <tr>\n",
       "      <th>2</th>\n",
       "      <td>28712</td>\n",
       "      <td>Male</td>\n",
       "      <td>53</td>\n",
       "      <td>11242</td>\n",
       "    </tr>\n",
       "    <tr>\n",
       "      <th>3</th>\n",
       "      <td>28020</td>\n",
       "      <td>Male</td>\n",
       "      <td>23</td>\n",
       "      <td>23327</td>\n",
       "    </tr>\n",
       "    <tr>\n",
       "      <th>4</th>\n",
       "      <td>27182</td>\n",
       "      <td>Male</td>\n",
       "      <td>33</td>\n",
       "      <td>8536</td>\n",
       "    </tr>\n",
       "  </tbody>\n",
       "</table>\n",
       "</div>"
      ],
      "text/plain": [
       "   Customer ID Gender  Age  Income (USD/Month)\n",
       "0        29290   Male   28               10813\n",
       "1        27703   Male   27                9237\n",
       "2        28712   Male   53               11242\n",
       "3        28020   Male   23               23327\n",
       "4        27182   Male   33                8536"
      ]
     },
     "execution_count": 96,
     "metadata": {},
     "output_type": "execute_result"
    }
   ],
   "source": [
    "customerID_df.head()"
   ]
  },
  {
   "cell_type": "code",
   "execution_count": 97,
   "metadata": {
    "colab": {
     "base_uri": "https://localhost:8080/"
    },
    "id": "qJ3hnv87FU0P",
    "outputId": "9b7c7d6d-8781-4e99-e2a5-eeed029bdab0"
   },
   "outputs": [
    {
     "name": "stdout",
     "output_type": "stream",
     "text": [
      "<class 'pandas.core.frame.DataFrame'>\n",
      "RangeIndex: 440098 entries, 0 to 440097\n",
      "Data columns (total 3 columns):\n",
      " #   Column          Non-Null Count   Dtype \n",
      "---  ------          --------------   ----- \n",
      " 0   Transaction ID  440098 non-null  int64 \n",
      " 1   Customer ID     440098 non-null  int64 \n",
      " 2   Payment_Mode    440098 non-null  object\n",
      "dtypes: int64(2), object(1)\n",
      "memory usage: 10.1+ MB\n"
     ]
    }
   ],
   "source": [
    "transactionID_df.info()"
   ]
  },
  {
   "cell_type": "code",
   "execution_count": 98,
   "metadata": {
    "colab": {
     "base_uri": "https://localhost:8080/",
     "height": 423
    },
    "id": "4I2cQHA7FY6K",
    "outputId": "0b7e4712-59db-43fe-ad2c-92c891d56aca"
   },
   "outputs": [
    {
     "data": {
      "text/html": [
       "<div>\n",
       "<style scoped>\n",
       "    .dataframe tbody tr th:only-of-type {\n",
       "        vertical-align: middle;\n",
       "    }\n",
       "\n",
       "    .dataframe tbody tr th {\n",
       "        vertical-align: top;\n",
       "    }\n",
       "\n",
       "    .dataframe thead th {\n",
       "        text-align: right;\n",
       "    }\n",
       "</style>\n",
       "<table border=\"1\" class=\"dataframe\">\n",
       "  <thead>\n",
       "    <tr style=\"text-align: right;\">\n",
       "      <th></th>\n",
       "      <th>Transaction ID</th>\n",
       "      <th>Customer ID</th>\n",
       "      <th>Payment_Mode</th>\n",
       "    </tr>\n",
       "  </thead>\n",
       "  <tbody>\n",
       "    <tr>\n",
       "      <th>0</th>\n",
       "      <td>10000011</td>\n",
       "      <td>29290</td>\n",
       "      <td>Card</td>\n",
       "    </tr>\n",
       "    <tr>\n",
       "      <th>1</th>\n",
       "      <td>10000012</td>\n",
       "      <td>27703</td>\n",
       "      <td>Card</td>\n",
       "    </tr>\n",
       "    <tr>\n",
       "      <th>2</th>\n",
       "      <td>10000013</td>\n",
       "      <td>28712</td>\n",
       "      <td>Cash</td>\n",
       "    </tr>\n",
       "    <tr>\n",
       "      <th>3</th>\n",
       "      <td>10000014</td>\n",
       "      <td>28020</td>\n",
       "      <td>Cash</td>\n",
       "    </tr>\n",
       "    <tr>\n",
       "      <th>4</th>\n",
       "      <td>10000015</td>\n",
       "      <td>27182</td>\n",
       "      <td>Card</td>\n",
       "    </tr>\n",
       "  </tbody>\n",
       "</table>\n",
       "</div>"
      ],
      "text/plain": [
       "   Transaction ID  Customer ID Payment_Mode\n",
       "0        10000011        29290         Card\n",
       "1        10000012        27703         Card\n",
       "2        10000013        28712         Cash\n",
       "3        10000014        28020         Cash\n",
       "4        10000015        27182         Card"
      ]
     },
     "execution_count": 98,
     "metadata": {},
     "output_type": "execute_result"
    }
   ],
   "source": [
    "transactionID_df.head()"
   ]
  },
  {
   "cell_type": "markdown",
   "metadata": {},
   "source": [
    "### Revenue generated by each company for all three years"
   ]
  },
  {
   "cell_type": "code",
   "execution_count": 99,
   "metadata": {
    "id": "44dNcMylLenK"
   },
   "outputs": [],
   "source": [
    "cab_data_df['Year'] = cab_data_df['Date of Travel'].dt.year"
   ]
  },
  {
   "cell_type": "code",
   "execution_count": 100,
   "metadata": {},
   "outputs": [
    {
     "data": {
      "text/html": [
       "<div>\n",
       "<style scoped>\n",
       "    .dataframe tbody tr th:only-of-type {\n",
       "        vertical-align: middle;\n",
       "    }\n",
       "\n",
       "    .dataframe tbody tr th {\n",
       "        vertical-align: top;\n",
       "    }\n",
       "\n",
       "    .dataframe thead th {\n",
       "        text-align: right;\n",
       "    }\n",
       "</style>\n",
       "<table border=\"1\" class=\"dataframe\">\n",
       "  <thead>\n",
       "    <tr style=\"text-align: right;\">\n",
       "      <th></th>\n",
       "      <th>Company</th>\n",
       "      <th>Price Charged</th>\n",
       "      <th>Cost of Trip</th>\n",
       "      <th>Year</th>\n",
       "    </tr>\n",
       "  </thead>\n",
       "  <tbody>\n",
       "    <tr>\n",
       "      <th>0</th>\n",
       "      <td>Pink Cab</td>\n",
       "      <td>125.20</td>\n",
       "      <td>97.63</td>\n",
       "      <td>2016</td>\n",
       "    </tr>\n",
       "    <tr>\n",
       "      <th>1</th>\n",
       "      <td>Pink Cab</td>\n",
       "      <td>324.21</td>\n",
       "      <td>226.20</td>\n",
       "      <td>2016</td>\n",
       "    </tr>\n",
       "    <tr>\n",
       "      <th>2</th>\n",
       "      <td>Pink Cab</td>\n",
       "      <td>646.06</td>\n",
       "      <td>454.30</td>\n",
       "      <td>2016</td>\n",
       "    </tr>\n",
       "    <tr>\n",
       "      <th>3</th>\n",
       "      <td>Pink Cab</td>\n",
       "      <td>598.43</td>\n",
       "      <td>406.23</td>\n",
       "      <td>2016</td>\n",
       "    </tr>\n",
       "    <tr>\n",
       "      <th>4</th>\n",
       "      <td>Pink Cab</td>\n",
       "      <td>48.04</td>\n",
       "      <td>33.70</td>\n",
       "      <td>2016</td>\n",
       "    </tr>\n",
       "  </tbody>\n",
       "</table>\n",
       "</div>"
      ],
      "text/plain": [
       "    Company  Price Charged  Cost of Trip  Year\n",
       "0  Pink Cab         125.20         97.63  2016\n",
       "1  Pink Cab         324.21        226.20  2016\n",
       "2  Pink Cab         646.06        454.30  2016\n",
       "3  Pink Cab         598.43        406.23  2016\n",
       "4  Pink Cab          48.04         33.70  2016"
      ]
     },
     "execution_count": 100,
     "metadata": {},
     "output_type": "execute_result"
    }
   ],
   "source": [
    "totalrevenue_allyears = cab_data_df[['Company','Price Charged','Cost of Trip','Year']]\n",
    "totalrevenue_allyears.head()"
   ]
  },
  {
   "cell_type": "code",
   "execution_count": 101,
   "metadata": {},
   "outputs": [
    {
     "data": {
      "text/html": [
       "<div>\n",
       "<style scoped>\n",
       "    .dataframe tbody tr th:only-of-type {\n",
       "        vertical-align: middle;\n",
       "    }\n",
       "\n",
       "    .dataframe tbody tr th {\n",
       "        vertical-align: top;\n",
       "    }\n",
       "\n",
       "    .dataframe thead th {\n",
       "        text-align: right;\n",
       "    }\n",
       "</style>\n",
       "<table border=\"1\" class=\"dataframe\">\n",
       "  <thead>\n",
       "    <tr style=\"text-align: right;\">\n",
       "      <th></th>\n",
       "      <th></th>\n",
       "      <th>Revenue</th>\n",
       "      <th>Investments</th>\n",
       "    </tr>\n",
       "    <tr>\n",
       "      <th>Company</th>\n",
       "      <th>Year</th>\n",
       "      <th></th>\n",
       "      <th></th>\n",
       "    </tr>\n",
       "  </thead>\n",
       "  <tbody>\n",
       "    <tr>\n",
       "      <th rowspan=\"3\" valign=\"top\">Pink Cab</th>\n",
       "      <th>2016</th>\n",
       "      <td>7908479.23</td>\n",
       "      <td>6194968.01</td>\n",
       "    </tr>\n",
       "    <tr>\n",
       "      <th>2017</th>\n",
       "      <td>9578629.54</td>\n",
       "      <td>7544974.63</td>\n",
       "    </tr>\n",
       "    <tr>\n",
       "      <th>2018</th>\n",
       "      <td>8841142.56</td>\n",
       "      <td>7280980.37</td>\n",
       "    </tr>\n",
       "    <tr>\n",
       "      <th rowspan=\"3\" valign=\"top\">Yellow Cab</th>\n",
       "      <th>2016</th>\n",
       "      <td>38481133.18</td>\n",
       "      <td>24554137.75</td>\n",
       "    </tr>\n",
       "    <tr>\n",
       "      <th>2017</th>\n",
       "      <td>45818910.04</td>\n",
       "      <td>29242932.07</td>\n",
       "    </tr>\n",
       "    <tr>\n",
       "      <th>2018</th>\n",
       "      <td>41553843.97</td>\n",
       "      <td>28036444.20</td>\n",
       "    </tr>\n",
       "  </tbody>\n",
       "</table>\n",
       "</div>"
      ],
      "text/plain": [
       "                    Revenue  Investments\n",
       "Company    Year                         \n",
       "Pink Cab   2016  7908479.23   6194968.01\n",
       "           2017  9578629.54   7544974.63\n",
       "           2018  8841142.56   7280980.37\n",
       "Yellow Cab 2016 38481133.18  24554137.75\n",
       "           2017 45818910.04  29242932.07\n",
       "           2018 41553843.97  28036444.20"
      ]
     },
     "execution_count": 101,
     "metadata": {},
     "output_type": "execute_result"
    }
   ],
   "source": [
    "totalrevenue_allyears_grpby = totalrevenue_allyears.groupby(['Company','Year']).agg(Revenue = pd.NamedAgg(column ='Price Charged', \n",
    "                                                                                                          aggfunc= 'sum'), Investments = pd.NamedAgg(column=\n",
    "                                                                                                                                                     'Cost of Trip',aggfunc='sum'))\n",
    "totalrevenue_allyears_grpby"
   ]
  },
  {
   "cell_type": "code",
   "execution_count": 102,
   "metadata": {},
   "outputs": [],
   "source": [
    "totalrevenue_allyears_grpby = totalrevenue_allyears_grpby.reset_index()"
   ]
  },
  {
   "cell_type": "code",
   "execution_count": 103,
   "metadata": {
    "colab": {
     "base_uri": "https://localhost:8080/",
     "height": 307
    },
    "id": "zWJR1JYngTP0",
    "outputId": "dc566264-8b55-48c3-ae68-94fe7ae29fa0"
   },
   "outputs": [
    {
     "data": {
      "text/plain": [
       "Text(0, 0.5, 'Revenue * 10^7')"
      ]
     },
     "execution_count": 103,
     "metadata": {},
     "output_type": "execute_result"
    },
    {
     "data": {
      "image/png": "[encoded data removed]",
      "text/plain": [
       "<Figure size 432x288 with 1 Axes>"
      ]
     },
     "metadata": {},
     "output_type": "display_data"
    }
   ],
   "source": [
    "sns.set_style('darkgrid')\n",
    "sns.barplot(x='Company',y='Revenue',data=totalrevenue_allyears_grpby, hue='Year' ,palette='GnBu')\n",
    "plt.ylabel(\"Revenue * 10^7\")"
   ]
  },
  {
   "cell_type": "markdown",
   "metadata": {},
   "source": [
    "### Profit percentage of each company for all years"
   ]
  },
  {
   "cell_type": "code",
   "execution_count": 104,
   "metadata": {},
   "outputs": [],
   "source": [
    "totalrevenue_allyears_grpby['profit_percentage'] = ((totalrevenue_allyears_grpby['Revenue'] - \n",
    "                                                    totalrevenue_allyears_grpby['Investments']) / totalrevenue_allyears_grpby['Investments']) * 100"
   ]
  },
  {
   "cell_type": "code",
   "execution_count": 105,
   "metadata": {},
   "outputs": [
    {
     "data": {
      "text/html": [
       "<div>\n",
       "<style scoped>\n",
       "    .dataframe tbody tr th:only-of-type {\n",
       "        vertical-align: middle;\n",
       "    }\n",
       "\n",
       "    .dataframe tbody tr th {\n",
       "        vertical-align: top;\n",
       "    }\n",
       "\n",
       "    .dataframe thead th {\n",
       "        text-align: right;\n",
       "    }\n",
       "</style>\n",
       "<table border=\"1\" class=\"dataframe\">\n",
       "  <thead>\n",
       "    <tr style=\"text-align: right;\">\n",
       "      <th></th>\n",
       "      <th>Company</th>\n",
       "      <th>Year</th>\n",
       "      <th>Revenue</th>\n",
       "      <th>Investments</th>\n",
       "      <th>profit_percentage</th>\n",
       "    </tr>\n",
       "  </thead>\n",
       "  <tbody>\n",
       "    <tr>\n",
       "      <th>0</th>\n",
       "      <td>Pink Cab</td>\n",
       "      <td>2016</td>\n",
       "      <td>7908479.23</td>\n",
       "      <td>6194968.01</td>\n",
       "      <td>27.66</td>\n",
       "    </tr>\n",
       "    <tr>\n",
       "      <th>1</th>\n",
       "      <td>Pink Cab</td>\n",
       "      <td>2017</td>\n",
       "      <td>9578629.54</td>\n",
       "      <td>7544974.63</td>\n",
       "      <td>26.95</td>\n",
       "    </tr>\n",
       "    <tr>\n",
       "      <th>2</th>\n",
       "      <td>Pink Cab</td>\n",
       "      <td>2018</td>\n",
       "      <td>8841142.56</td>\n",
       "      <td>7280980.37</td>\n",
       "      <td>21.43</td>\n",
       "    </tr>\n",
       "    <tr>\n",
       "      <th>3</th>\n",
       "      <td>Yellow Cab</td>\n",
       "      <td>2016</td>\n",
       "      <td>38481133.18</td>\n",
       "      <td>24554137.75</td>\n",
       "      <td>56.72</td>\n",
       "    </tr>\n",
       "    <tr>\n",
       "      <th>4</th>\n",
       "      <td>Yellow Cab</td>\n",
       "      <td>2017</td>\n",
       "      <td>45818910.04</td>\n",
       "      <td>29242932.07</td>\n",
       "      <td>56.68</td>\n",
       "    </tr>\n",
       "    <tr>\n",
       "      <th>5</th>\n",
       "      <td>Yellow Cab</td>\n",
       "      <td>2018</td>\n",
       "      <td>41553843.97</td>\n",
       "      <td>28036444.20</td>\n",
       "      <td>48.21</td>\n",
       "    </tr>\n",
       "  </tbody>\n",
       "</table>\n",
       "</div>"
      ],
      "text/plain": [
       "      Company  Year     Revenue  Investments  profit_percentage\n",
       "0    Pink Cab  2016  7908479.23   6194968.01              27.66\n",
       "1    Pink Cab  2017  9578629.54   7544974.63              26.95\n",
       "2    Pink Cab  2018  8841142.56   7280980.37              21.43\n",
       "3  Yellow Cab  2016 38481133.18  24554137.75              56.72\n",
       "4  Yellow Cab  2017 45818910.04  29242932.07              56.68\n",
       "5  Yellow Cab  2018 41553843.97  28036444.20              48.21"
      ]
     },
     "execution_count": 105,
     "metadata": {},
     "output_type": "execute_result"
    }
   ],
   "source": [
    "totalrevenue_allyears_grpby"
   ]
  },
  {
   "cell_type": "code",
   "execution_count": 106,
   "metadata": {},
   "outputs": [
    {
     "data": {
      "text/plain": [
       "<AxesSubplot:xlabel='Company', ylabel='profit_percentage'>"
      ]
     },
     "execution_count": 106,
     "metadata": {},
     "output_type": "execute_result"
    },
    {
     "data": {
      "image/png": "[encoded data removed]",
      "text/plain": [
       "<Figure size 432x288 with 1 Axes>"
      ]
     },
     "metadata": {},
     "output_type": "display_data"
    }
   ],
   "source": [
    "sns.barplot(x= totalrevenue_allyears_grpby['Company'],y =totalrevenue_allyears_grpby['profit_percentage'], hue=\n",
    "            totalrevenue_allyears_grpby['Year'], palette='RdPu')\n"
   ]
  },
  {
   "cell_type": "markdown",
   "metadata": {},
   "source": [
    "### How is the profit percentage varying for kilometers/distances travelled for each company? Is there any effect?"
   ]
  },
  {
   "cell_type": "code",
   "execution_count": 107,
   "metadata": {},
   "outputs": [
    {
     "data": {
      "text/plain": [
       "1.9"
      ]
     },
     "execution_count": 107,
     "metadata": {},
     "output_type": "execute_result"
    }
   ],
   "source": [
    "cab_data_df['KM Travelled'].min()"
   ]
  },
  {
   "cell_type": "code",
   "execution_count": 108,
   "metadata": {},
   "outputs": [
    {
     "data": {
      "text/plain": [
       "48.0"
      ]
     },
     "execution_count": 108,
     "metadata": {},
     "output_type": "execute_result"
    }
   ],
   "source": [
    "cab_data_df['KM Travelled'].max()"
   ]
  },
  {
   "cell_type": "code",
   "execution_count": 109,
   "metadata": {},
   "outputs": [],
   "source": [
    "cab_data_df['profit_percentage'] = ((cab_data_df['Price Charged'] - cab_data_df['Cost of Trip'])/cab_data_df['Cost of Trip'])*100"
   ]
  },
  {
   "cell_type": "code",
   "execution_count": 110,
   "metadata": {},
   "outputs": [
    {
     "data": {
      "text/html": [
       "<div>\n",
       "<style scoped>\n",
       "    .dataframe tbody tr th:only-of-type {\n",
       "        vertical-align: middle;\n",
       "    }\n",
       "\n",
       "    .dataframe tbody tr th {\n",
       "        vertical-align: top;\n",
       "    }\n",
       "\n",
       "    .dataframe thead th {\n",
       "        text-align: right;\n",
       "    }\n",
       "</style>\n",
       "<table border=\"1\" class=\"dataframe\">\n",
       "  <thead>\n",
       "    <tr style=\"text-align: right;\">\n",
       "      <th></th>\n",
       "      <th>Transaction ID</th>\n",
       "      <th>Date of Travel</th>\n",
       "      <th>Company</th>\n",
       "      <th>City</th>\n",
       "      <th>KM Travelled</th>\n",
       "      <th>Price Charged</th>\n",
       "      <th>Cost of Trip</th>\n",
       "      <th>Year</th>\n",
       "      <th>profit_percentage</th>\n",
       "    </tr>\n",
       "  </thead>\n",
       "  <tbody>\n",
       "    <tr>\n",
       "      <th>0</th>\n",
       "      <td>10000013</td>\n",
       "      <td>2016-01-02</td>\n",
       "      <td>Pink Cab</td>\n",
       "      <td>ATLANTA GA</td>\n",
       "      <td>9.04</td>\n",
       "      <td>125.20</td>\n",
       "      <td>97.63</td>\n",
       "      <td>2016</td>\n",
       "      <td>28.24</td>\n",
       "    </tr>\n",
       "    <tr>\n",
       "      <th>1</th>\n",
       "      <td>10000029</td>\n",
       "      <td>2016-01-02</td>\n",
       "      <td>Pink Cab</td>\n",
       "      <td>BOSTON MA</td>\n",
       "      <td>21.34</td>\n",
       "      <td>324.21</td>\n",
       "      <td>226.20</td>\n",
       "      <td>2016</td>\n",
       "      <td>43.33</td>\n",
       "    </tr>\n",
       "    <tr>\n",
       "      <th>2</th>\n",
       "      <td>10000030</td>\n",
       "      <td>2016-01-02</td>\n",
       "      <td>Pink Cab</td>\n",
       "      <td>BOSTON MA</td>\n",
       "      <td>41.30</td>\n",
       "      <td>646.06</td>\n",
       "      <td>454.30</td>\n",
       "      <td>2016</td>\n",
       "      <td>42.21</td>\n",
       "    </tr>\n",
       "    <tr>\n",
       "      <th>3</th>\n",
       "      <td>10000041</td>\n",
       "      <td>2016-01-02</td>\n",
       "      <td>Pink Cab</td>\n",
       "      <td>CHICAGO IL</td>\n",
       "      <td>35.02</td>\n",
       "      <td>598.43</td>\n",
       "      <td>406.23</td>\n",
       "      <td>2016</td>\n",
       "      <td>47.31</td>\n",
       "    </tr>\n",
       "    <tr>\n",
       "      <th>4</th>\n",
       "      <td>10000045</td>\n",
       "      <td>2016-01-02</td>\n",
       "      <td>Pink Cab</td>\n",
       "      <td>CHICAGO IL</td>\n",
       "      <td>3.24</td>\n",
       "      <td>48.04</td>\n",
       "      <td>33.70</td>\n",
       "      <td>2016</td>\n",
       "      <td>42.57</td>\n",
       "    </tr>\n",
       "  </tbody>\n",
       "</table>\n",
       "</div>"
      ],
      "text/plain": [
       "   Transaction ID Date of Travel   Company        City  KM Travelled  \\\n",
       "0        10000013     2016-01-02  Pink Cab  ATLANTA GA          9.04   \n",
       "1        10000029     2016-01-02  Pink Cab   BOSTON MA         21.34   \n",
       "2        10000030     2016-01-02  Pink Cab   BOSTON MA         41.30   \n",
       "3        10000041     2016-01-02  Pink Cab  CHICAGO IL         35.02   \n",
       "4        10000045     2016-01-02  Pink Cab  CHICAGO IL          3.24   \n",
       "\n",
       "   Price Charged  Cost of Trip  Year  profit_percentage  \n",
       "0         125.20         97.63  2016              28.24  \n",
       "1         324.21        226.20  2016              43.33  \n",
       "2         646.06        454.30  2016              42.21  \n",
       "3         598.43        406.23  2016              47.31  \n",
       "4          48.04         33.70  2016              42.57  "
      ]
     },
     "execution_count": 110,
     "metadata": {},
     "output_type": "execute_result"
    }
   ],
   "source": [
    "cab_data_df.head()"
   ]
  },
  {
   "cell_type": "code",
   "execution_count": 111,
   "metadata": {},
   "outputs": [],
   "source": [
    "km_profit = cab_data_df.groupby(['Company','KM Travelled'])['profit_percentage'].mean().reset_index()\n",
    "pink_km_profit = km_profit.where(km_profit['Company']=='Pink Cab')\n",
    "yellow_km_profit = km_profit.where(km_profit['Company']=='Yellow Cab')"
   ]
  },
  {
   "cell_type": "code",
   "execution_count": 112,
   "metadata": {},
   "outputs": [
    {
     "data": {
      "text/html": [
       "<div>\n",
       "<style scoped>\n",
       "    .dataframe tbody tr th:only-of-type {\n",
       "        vertical-align: middle;\n",
       "    }\n",
       "\n",
       "    .dataframe tbody tr th {\n",
       "        vertical-align: top;\n",
       "    }\n",
       "\n",
       "    .dataframe thead th {\n",
       "        text-align: right;\n",
       "    }\n",
       "</style>\n",
       "<table border=\"1\" class=\"dataframe\">\n",
       "  <thead>\n",
       "    <tr style=\"text-align: right;\">\n",
       "      <th></th>\n",
       "      <th>Company</th>\n",
       "      <th>KM Travelled</th>\n",
       "      <th>profit_percentage</th>\n",
       "    </tr>\n",
       "  </thead>\n",
       "  <tbody>\n",
       "    <tr>\n",
       "      <th>0</th>\n",
       "      <td>Pink Cab</td>\n",
       "      <td>1.90</td>\n",
       "      <td>26.90</td>\n",
       "    </tr>\n",
       "    <tr>\n",
       "      <th>1</th>\n",
       "      <td>Pink Cab</td>\n",
       "      <td>1.92</td>\n",
       "      <td>28.29</td>\n",
       "    </tr>\n",
       "    <tr>\n",
       "      <th>2</th>\n",
       "      <td>Pink Cab</td>\n",
       "      <td>1.94</td>\n",
       "      <td>25.37</td>\n",
       "    </tr>\n",
       "    <tr>\n",
       "      <th>3</th>\n",
       "      <td>Pink Cab</td>\n",
       "      <td>1.96</td>\n",
       "      <td>23.35</td>\n",
       "    </tr>\n",
       "    <tr>\n",
       "      <th>4</th>\n",
       "      <td>Pink Cab</td>\n",
       "      <td>1.98</td>\n",
       "      <td>22.17</td>\n",
       "    </tr>\n",
       "    <tr>\n",
       "      <th>...</th>\n",
       "      <td>...</td>\n",
       "      <td>...</td>\n",
       "      <td>...</td>\n",
       "    </tr>\n",
       "    <tr>\n",
       "      <th>869</th>\n",
       "      <td>Pink Cab</td>\n",
       "      <td>46.41</td>\n",
       "      <td>27.00</td>\n",
       "    </tr>\n",
       "    <tr>\n",
       "      <th>870</th>\n",
       "      <td>Pink Cab</td>\n",
       "      <td>46.80</td>\n",
       "      <td>27.49</td>\n",
       "    </tr>\n",
       "    <tr>\n",
       "      <th>871</th>\n",
       "      <td>Pink Cab</td>\n",
       "      <td>47.20</td>\n",
       "      <td>23.96</td>\n",
       "    </tr>\n",
       "    <tr>\n",
       "      <th>872</th>\n",
       "      <td>Pink Cab</td>\n",
       "      <td>47.60</td>\n",
       "      <td>25.30</td>\n",
       "    </tr>\n",
       "    <tr>\n",
       "      <th>873</th>\n",
       "      <td>Pink Cab</td>\n",
       "      <td>48.00</td>\n",
       "      <td>22.56</td>\n",
       "    </tr>\n",
       "  </tbody>\n",
       "</table>\n",
       "<p>874 rows × 3 columns</p>\n",
       "</div>"
      ],
      "text/plain": [
       "      Company  KM Travelled  profit_percentage\n",
       "0    Pink Cab          1.90              26.90\n",
       "1    Pink Cab          1.92              28.29\n",
       "2    Pink Cab          1.94              25.37\n",
       "3    Pink Cab          1.96              23.35\n",
       "4    Pink Cab          1.98              22.17\n",
       "..        ...           ...                ...\n",
       "869  Pink Cab         46.41              27.00\n",
       "870  Pink Cab         46.80              27.49\n",
       "871  Pink Cab         47.20              23.96\n",
       "872  Pink Cab         47.60              25.30\n",
       "873  Pink Cab         48.00              22.56\n",
       "\n",
       "[874 rows x 3 columns]"
      ]
     },
     "execution_count": 112,
     "metadata": {},
     "output_type": "execute_result"
    }
   ],
   "source": [
    "pink_km_profit.dropna(inplace=True)\n",
    "pink_km_profit"
   ]
  },
  {
   "cell_type": "code",
   "execution_count": 113,
   "metadata": {},
   "outputs": [
    {
     "data": {
      "application/vnd.plotly.v1+json": {
       "config": {
        "plotlyServerURL": "https://plot.ly"
       },
       "data": [
        {
         "hovertemplate": "KM Travelled=%{x}<br>profit_percentage=%{y}<extra></extra>",
         "legendgroup": "",
         "line": {
          "color": "#636efa",
          "dash": "solid"
         },
         "marker": {
          "symbol": "circle"
         },
         "mode": "lines",
         "name": "",
         "orientation": "v",
         "showlegend": false,
         "type": "scatter",
         "x": [
          1.9,
          1.92,
          1.94,
          1.96,
          1.98,
          2,
          2.02,
          2.04,
          2.06,
          2.08,
          2.1,
          2.12,
          2.14,
          2.16,
          2.18,
          2.2,
          2.22,
          2.24,
          2.26,
          2.28,
          2.3,
          2.32,
          2.34,
          2.36,
          2.38,
          2.4,
          2.85,
          2.88,
          2.91,
          2.94,
          2.97,
          3,
          3.03,
          3.06,
          3.09,
          3.12,
          3.15,
          3.18,
          3.21,
          3.24,
          3.27,
          3.3,
          3.33,
          3.36,
          3.39,
          3.42,
          3.45,
          3.48,
          3.51,
          3.54,
          3.57,
          3.6,
          3.8,
          3.84,
          3.88,
          3.92,
          3.96,
          4,
          4.04,
          4.08,
          4.12,
          4.16,
          4.2,
          4.24,
          4.28,
          4.32,
          4.36,
          4.4,
          4.44,
          4.48,
          4.52,
          4.56,
          4.6,
          4.64,
          4.68,
          4.72,
          4.75,
          4.76,
          4.8,
          4.85,
          4.9,
          4.95,
          5,
          5.05,
          5.1,
          5.15,
          5.2,
          5.25,
          5.3,
          5.35,
          5.4,
          5.45,
          5.5,
          5.55,
          5.6,
          5.65,
          5.7,
          5.75,
          5.76,
          5.8,
          5.82,
          5.85,
          5.88,
          5.9,
          5.94,
          5.95,
          6,
          6.06,
          6.12,
          6.18,
          6.24,
          6.3,
          6.36,
          6.42,
          6.48,
          6.54,
          6.6,
          6.65,
          6.66,
          6.72,
          6.78,
          6.79,
          6.84,
          6.86,
          6.9,
          6.93,
          6.96,
          7,
          7.02,
          7.07,
          7.08,
          7.14,
          7.2,
          7.21,
          7.28,
          7.35,
          7.42,
          7.49,
          7.56,
          7.6,
          7.63,
          7.68,
          7.7,
          7.76,
          7.77,
          7.84,
          7.91,
          7.92,
          7.98,
          8,
          8.05,
          8.08,
          8.12,
          8.16,
          8.19,
          8.24,
          8.26,
          8.32,
          8.33,
          8.4,
          8.48,
          8.55,
          8.56,
          8.64,
          8.72,
          8.73,
          8.8,
          8.82,
          8.88,
          8.91,
          8.96,
          9,
          9.04,
          9.09,
          9.12,
          9.18,
          9.2,
          9.27,
          9.28,
          9.36,
          9.44,
          9.45,
          9.5,
          9.52,
          9.54,
          9.6,
          9.63,
          9.7,
          9.72,
          9.8,
          9.81,
          9.9,
          9.99,
          10,
          10.08,
          10.1,
          10.17,
          10.2,
          10.26,
          10.3,
          10.35,
          10.4,
          10.44,
          10.45,
          10.5,
          10.53,
          10.56,
          10.6,
          10.62,
          10.67,
          10.7,
          10.71,
          10.78,
          10.8,
          10.89,
          10.9,
          11,
          11.1,
          11.11,
          11.2,
          11.22,
          11.3,
          11.33,
          11.4,
          11.44,
          11.5,
          11.52,
          11.55,
          11.6,
          11.64,
          11.66,
          11.7,
          11.76,
          11.77,
          11.8,
          11.88,
          11.9,
          11.99,
          12,
          12.1,
          12.12,
          12.21,
          12.24,
          12.32,
          12.35,
          12.36,
          12.43,
          12.48,
          12.54,
          12.6,
          12.61,
          12.65,
          12.72,
          12.74,
          12.76,
          12.84,
          12.87,
          12.96,
          12.98,
          13,
          13.08,
          13.09,
          13.13,
          13.2,
          13.26,
          13.3,
          13.32,
          13.39,
          13.44,
          13.52,
          13.56,
          13.58,
          13.65,
          13.68,
          13.72,
          13.78,
          13.8,
          13.86,
          13.91,
          13.92,
          14,
          14.04,
          14.14,
          14.16,
          14.17,
          14.25,
          14.28,
          14.3,
          14.4,
          14.42,
          14.43,
          14.55,
          14.56,
          14.69,
          14.7,
          14.82,
          14.84,
          14.85,
          14.95,
          14.98,
          15,
          15.08,
          15.12,
          15.15,
          15.2,
          15.21,
          15.26,
          15.3,
          15.34,
          15.36,
          15.4,
          15.45,
          15.47,
          15.52,
          15.54,
          15.6,
          15.68,
          15.75,
          15.82,
          15.84,
          15.9,
          15.96,
          16,
          16.05,
          16.1,
          16.15,
          16.16,
          16.2,
          16.24,
          16.32,
          16.35,
          16.38,
          16.48,
          16.49,
          16.5,
          16.52,
          16.64,
          16.65,
          16.66,
          16.8,
          16.83,
          16.95,
          16.96,
          17,
          17.1,
          17.12,
          17.17,
          17.25,
          17.28,
          17.34,
          17.4,
          17.44,
          17.46,
          17.51,
          17.55,
          17.6,
          17.64,
          17.68,
          17.7,
          17.76,
          17.82,
          17.85,
          17.92,
          18,
          18.02,
          18.05,
          18.08,
          18.18,
          18.19,
          18.24,
          18.36,
          18.4,
          18.43,
          18.53,
          18.54,
          18.56,
          18.62,
          18.7,
          18.72,
          18.81,
          18.87,
          18.88,
          18.9,
          19,
          19.04,
          19.08,
          19.19,
          19.2,
          19.21,
          19.26,
          19.38,
          19.4,
          19.44,
          19.55,
          19.57,
          19.6,
          19.62,
          19.72,
          19.76,
          19.8,
          19.89,
          19.95,
          19.98,
          20,
          20.06,
          20.14,
          20.16,
          20.2,
          20.23,
          20.33,
          20.34,
          20.37,
          20.4,
          20.52,
          20.58,
          20.6,
          20.7,
          20.71,
          20.79,
          20.8,
          20.88,
          20.9,
          21,
          21.06,
          21.09,
          21.12,
          21.2,
          21.21,
          21.24,
          21.28,
          21.34,
          21.4,
          21.42,
          21.47,
          21.56,
          21.6,
          21.63,
          21.66,
          21.78,
          21.8,
          21.84,
          21.85,
          22,
          22.04,
          22.05,
          22.08,
          22.2,
          22.22,
          22.23,
          22.26,
          22.31,
          22.4,
          22.42,
          22.44,
          22.47,
          22.54,
          22.6,
          22.61,
          22.66,
          22.68,
          22.77,
          22.8,
          22.88,
          22.89,
          23,
          23.04,
          23.1,
          23.2,
          23.23,
          23.28,
          23.31,
          23.32,
          23.4,
          23.46,
          23.52,
          23.54,
          23.6,
          23.69,
          23.73,
          23.75,
          23.76,
          23.8,
          23.92,
          23.94,
          23.98,
          24,
          24.15,
          24.2,
          24.24,
          24.25,
          24.36,
          24.38,
          24.42,
          24.48,
          24.5,
          24.57,
          24.61,
          24.64,
          24.7,
          24.72,
          24.75,
          24.78,
          24.84,
          24.86,
          24.96,
          24.99,
          25,
          25.07,
          25.08,
          25.2,
          25.22,
          25.25,
          25.3,
          25.44,
          25.48,
          25.5,
          25.52,
          25.53,
          25.65,
          25.68,
          25.74,
          25.75,
          25.76,
          25.92,
          25.96,
          25.99,
          26,
          26.16,
          26.18,
          26.19,
          26.22,
          26.25,
          26.26,
          26.4,
          26.45,
          26.46,
          26.5,
          26.52,
          26.6,
          26.64,
          26.68,
          26.73,
          26.75,
          26.78,
          26.88,
          26.91,
          27,
          27.04,
          27.12,
          27.14,
          27.16,
          27.25,
          27.27,
          27.3,
          27.36,
          27.37,
          27.44,
          27.5,
          27.54,
          27.55,
          27.56,
          27.6,
          27.72,
          27.75,
          27.81,
          27.82,
          27.84,
          28,
          28.08,
          28.13,
          28.25,
          28.28,
          28.32,
          28.34,
          28.35,
          28.42,
          28.5,
          28.56,
          28.6,
          28.62,
          28.71,
          28.75,
          28.8,
          28.84,
          28.86,
          28.89,
          29,
          29.1,
          29.12,
          29.16,
          29.25,
          29.29,
          29.38,
          29.4,
          29.43,
          29.45,
          29.5,
          29.58,
          29.64,
          29.68,
          29.7,
          29.75,
          29.76,
          29.87,
          29.9,
          29.96,
          29.97,
          30,
          30.07,
          30.16,
          30.24,
          30.3,
          30.38,
          30.4,
          30.42,
          30.45,
          30.51,
          30.52,
          30.6,
          30.68,
          30.69,
          30.72,
          30.74,
          30.78,
          30.8,
          30.9,
          30.94,
          31,
          31.03,
          31.04,
          31.05,
          31.08,
          31.2,
          31.31,
          31.32,
          31.35,
          31.36,
          31.5,
          31.59,
          31.61,
          31.62,
          31.64,
          31.68,
          31.8,
          31.86,
          31.9,
          31.92,
          31.93,
          32,
          32.01,
          32.1,
          32.13,
          32.19,
          32.2,
          32.24,
          32.3,
          32.32,
          32.34,
          32.4,
          32.48,
          32.55,
          32.64,
          32.67,
          32.7,
          32.76,
          32.77,
          32.86,
          32.96,
          32.98,
          33,
          33.04,
          33.06,
          33.17,
          33.25,
          33.28,
          33.3,
          33.32,
          33.33,
          33.35,
          33.48,
          33.6,
          33.64,
          33.66,
          33.79,
          33.9,
          33.92,
          33.93,
          33.95,
          33.99,
          34,
          34.1,
          34.2,
          34.22,
          34.24,
          34.3,
          34.32,
          34.34,
          34.41,
          34.5,
          34.51,
          34.56,
          34.65,
          34.68,
          34.72,
          34.8,
          34.88,
          34.92,
          34.98,
          35,
          35.02,
          35.03,
          35.1,
          35.15,
          35.2,
          35.28,
          35.31,
          35.34,
          35.35,
          35.36,
          35.4,
          35.52,
          35.64,
          35.65,
          35.7,
          35.84,
          35.89,
          35.96,
          35.97,
          36,
          36.04,
          36.05,
          36.1,
          36.16,
          36.26,
          36.27,
          36.3,
          36.36,
          36.38,
          36.4,
          36.48,
          36.58,
          36.63,
          36.72,
          36.75,
          36.8,
          36.86,
          36.89,
          36.96,
          37,
          37.05,
          37.06,
          37.08,
          37.1,
          37.12,
          37.2,
          37.24,
          37.29,
          37.37,
          37.4,
          37.44,
          37.45,
          37.62,
          37.74,
          37.76,
          37.8,
          37.83,
          37.95,
          38,
          38.08,
          38.11,
          38.15,
          38.16,
          38.22,
          38.28,
          38.38,
          38.4,
          38.42,
          38.48,
          38.5,
          38.52,
          38.61,
          38.76,
          38.8,
          38.85,
          38.88,
          38.94,
          39,
          39.1,
          39.14,
          39.2,
          39.22,
          39.24,
          39.27,
          39.39,
          39.44,
          39.52,
          39.55,
          39.59,
          39.6,
          39.78,
          39.9,
          39.96,
          40,
          40.12,
          40.17,
          40.25,
          40.28,
          40.32,
          40.33,
          40.4,
          40.46,
          40.56,
          40.6,
          40.66,
          40.68,
          40.7,
          40.8,
          40.95,
          41.04,
          41.07,
          41.2,
          41.3,
          41.34,
          41.4,
          41.42,
          41.44,
          41.6,
          41.65,
          41.73,
          41.76,
          41.8,
          41.81,
          42,
          42.12,
          42.18,
          42.4,
          42.48,
          42.51,
          42.55,
          42.56,
          42.8,
          42.84,
          42.9,
          42.92,
          42.94,
          43.2,
          43.29,
          43.32,
          43.6,
          43.66,
          43.68,
          43.7,
          44,
          44.03,
          44.07,
          44.08,
          44.4,
          44.46,
          44.8,
          44.84,
          44.85,
          45.2,
          45.22,
          45.24,
          45.6,
          45.63,
          46,
          46.02,
          46.4,
          46.41,
          46.8,
          47.2,
          47.6,
          48
         ],
         "xaxis": "x",
         "y": [
          26.895604811069386,
          28.289619834566032,
          25.367229560563857,
          23.34940440948473,
          22.16598318873282,
          24.3350866131767,
          25.536357156422746,
          29.591877216347555,
          25.64019897028531,
          27.712044016505526,
          22.172769908806103,
          26.672151379455908,
          23.7968150355786,
          23.020202240993235,
          22.135620058769998,
          23.12546413452459,
          21.90270621971513,
          27.740012464345334,
          28.226571144014073,
          24.159886334368593,
          24.054063575338333,
          27.582122285630508,
          26.064986805628784,
          23.864255359177992,
          31.355673845199494,
          30.277701732701143,
          26.99566350528111,
          28.586240260394618,
          22.694049408166386,
          23.100334989539117,
          28.586367745527145,
          26.294279091489035,
          27.6887114682965,
          25.975219677581965,
          28.226616724536484,
          27.16982400519881,
          25.424117396647976,
          23.759272889026395,
          32.88708798729437,
          28.223593439164905,
          24.720866712974797,
          22.697731212746323,
          24.993320868825204,
          26.799784979352648,
          23.35237216879915,
          25.735343766358845,
          29.976125252334135,
          22.715691445952405,
          29.35426592943135,
          27.821535014514758,
          24.2936924211348,
          23.85615546159726,
          22.987619484997495,
          23.17151659753709,
          22.518245012351745,
          25.554567620614513,
          22.90525584042945,
          29.551845334746993,
          25.1661131842937,
          22.688046015564513,
          24.6203293100753,
          18.314017424152098,
          23.837678655236008,
          22.57441416902685,
          22.192143097825987,
          28.094422428588597,
          28.262993297699765,
          21.52587296864943,
          24.49687225821394,
          22.573375974814308,
          18.65139019983511,
          22.377586036085113,
          26.27446396875613,
          23.107237884083677,
          21.21018096827694,
          25.695600444584265,
          22.08202815494243,
          27.65086314675226,
          28.48602754327154,
          27.969517131938414,
          25.63832211564656,
          26.610258768918005,
          29.815641693664183,
          25.62337164350516,
          24.893032218412106,
          27.48069842044717,
          27.11508030543831,
          25.69025398825486,
          26.09606597096227,
          24.21927471535581,
          25.968760311289248,
          26.254111787288437,
          24.046413655530763,
          25.24710999652523,
          21.78510242677318,
          22.250245780012925,
          25.679735988005888,
          24.173606491569743,
          25.077990474144478,
          30.005198571997717,
          28.94891377571577,
          27.95678878459867,
          22.169396148590653,
          24.541727081220607,
          28.684744916592535,
          24.394040564958843,
          22.43403152509011,
          23.999361393661328,
          25.352444495435684,
          27.165700507889085,
          27.048969658734364,
          28.054611097702427,
          28.978790669870655,
          25.10310657653086,
          27.283501867671063,
          25.570879820983965,
          25.48101149510894,
          27.990585330622,
          21.888010173173043,
          26.027551103583296,
          24.9468237663901,
          26.20228632384346,
          25.454450262102863,
          26.537104594671185,
          24.14267965906941,
          27.349321330810653,
          24.20405304231265,
          23.392417407674113,
          27.17605850245209,
          22.346384165686054,
          20.777357061072518,
          22.779773540420514,
          21.064844248894772,
          27.62093203110775,
          21.70670960437312,
          22.83571418825806,
          30.881562248786427,
          23.10307588821385,
          25.73161081639808,
          29.589389525400634,
          23.886963426196175,
          26.86038349073638,
          29.203190181537003,
          24.953878131912354,
          24.245561534683727,
          25.792917802041103,
          29.774872231545395,
          25.669312671458044,
          23.696100744473068,
          24.660529463538936,
          21.22954305359634,
          29.50724541414794,
          23.383804256916797,
          24.9904904784272,
          24.377685775482142,
          26.994546506241594,
          24.81918898154712,
          31.556981597119965,
          24.786505220610405,
          25.530166145392776,
          28.73866485021481,
          26.33144892917443,
          27.6017655261473,
          25.72248675530054,
          27.630529122142413,
          27.238388785192527,
          27.972346456233826,
          22.865768752736596,
          34.436635309719634,
          23.307587076725447,
          22.307278692077738,
          21.16224975497617,
          25.801579977230617,
          26.46277056739788,
          29.29428370699882,
          27.04187229554166,
          27.300539547173784,
          27.29356584814216,
          27.51049457347554,
          31.414679719252995,
          27.527579586371914,
          28.24181044165808,
          27.510717087299152,
          26.916644823451346,
          25.34203737799804,
          26.57341951333408,
          22.66677898751786,
          20.889138797075795,
          20.909981101097525,
          26.85519856363181,
          24.708890395169618,
          27.20100498381064,
          23.004630285760488,
          23.87441264060672,
          27.866557147266253,
          26.23539274858932,
          27.591210860136385,
          22.805412499679598,
          26.930435025367665,
          30.115717914674484,
          28.237415442813578,
          24.314045224120587,
          27.870383851828628,
          25.30441254664557,
          26.441494012501856,
          23.069067824566098,
          28.981946166839318,
          28.84351681191565,
          20.301798263909653,
          21.877940080591383,
          21.813399627139194,
          32.219977608113794,
          22.823126957242636,
          29.66447505659808,
          24.102960687095816,
          27.694614228526547,
          29.163370058810127,
          25.914929644977573,
          28.73192077154553,
          23.588753274303656,
          23.487903753166247,
          24.663253204561844,
          24.366459043665387,
          23.99924514503571,
          26.1271500658023,
          25.775358085908536,
          22.59776329322745,
          23.14329972541318,
          25.792806952601456,
          32.29931824580559,
          26.15416922529057,
          25.742928399724764,
          20.934054639202962,
          27.231942035662605,
          30.804993268371774,
          24.84777903704281,
          21.4720695406815,
          25.98634126722932,
          23.422810806817335,
          25.763608953474723,
          26.467943099379227,
          25.16442057033673,
          25.940077373369274,
          27.72845279645433,
          23.00274045203445,
          24.248949177606853,
          27.933267296707022,
          24.961619130979884,
          28.585474988439664,
          22.79903876432039,
          27.893700955450175,
          23.72064554693738,
          29.081018721387924,
          21.42334526850471,
          26.792455858727504,
          27.846073858143534,
          25.70215580632462,
          24.801535773519664,
          26.549667441070483,
          23.522967459458794,
          23.685903809140456,
          23.02029773086823,
          28.744451256561927,
          25.972005770307536,
          24.283198870427075,
          27.587423753838156,
          22.78448763760033,
          24.301193265267894,
          24.802174477937346,
          25.843016913372253,
          24.7189040393203,
          26.701888280735126,
          26.29015777647879,
          26.02320813830833,
          22.334112801636362,
          23.688554895434578,
          28.801370182550652,
          29.296059225676903,
          23.047617753175107,
          22.654557602239983,
          25.218306470802656,
          26.3725549559176,
          25.279184751391504,
          24.248500290341685,
          24.424652119189194,
          28.883101814987455,
          24.14518330163866,
          24.474138306532847,
          22.376504707507415,
          28.152786073950875,
          23.417001004496818,
          23.979633385832063,
          26.565737484952084,
          23.91809682980483,
          24.98450054040587,
          23.448067705472567,
          24.589146964452937,
          24.46690158063726,
          29.120143691733766,
          19.670733242130307,
          25.10448347078057,
          23.665919821555228,
          22.009209243325092,
          23.54632421604087,
          27.017192109504744,
          23.44984782651098,
          24.939092350210146,
          24.425921044185642,
          21.459485460093198,
          24.29151410258947,
          28.61705023408311,
          23.67351865910054,
          27.57734362777539,
          26.302721301154254,
          26.107687707924523,
          23.130567097583192,
          26.175139823571943,
          26.956702362599398,
          28.21179082649518,
          29.766359075840157,
          22.75394420435618,
          26.4161798581158,
          26.189059644514618,
          27.048068370218072,
          28.298498037117856,
          28.093652468399338,
          24.43770035395228,
          26.586772587439672,
          24.019727843851268,
          23.912026757196124,
          23.751166973870397,
          25.823695534004894,
          24.067199290338635,
          20.632773272442943,
          32.07530382725412,
          24.524858285306923,
          29.104106639007522,
          27.26630456719292,
          22.83396784130883,
          24.723641436641902,
          23.8726831519152,
          26.32870837117774,
          23.332537733321757,
          24.750957784530673,
          21.655845775558998,
          27.146227345856047,
          26.623037866439656,
          24.519825336879254,
          27.02773157207306,
          27.255299133701325,
          22.241208676121214,
          26.05268245574666,
          22.669309915464307,
          27.084903910078047,
          20.545821520845973,
          28.916066754714574,
          23.31161287876673,
          29.698571522849505,
          26.134513120774024,
          24.57817928911703,
          29.409397008814437,
          22.61333459245865,
          21.373669839992928,
          26.46496638835008,
          23.661975083863986,
          28.51894812007628,
          24.18790832289857,
          24.867602008540004,
          31.85436871449558,
          26.99967339542526,
          25.475465686056097,
          22.174408246491236,
          23.576914595927242,
          23.875676916229782,
          22.685336124326394,
          23.04093369352993,
          26.795750066298208,
          25.812214934188418,
          26.691121621105797,
          26.987026432601287,
          27.233286166356677,
          23.023485190320734,
          27.48176566805108,
          27.203618029400708,
          27.28057771167853,
          25.182437337672088,
          25.009358055792784,
          25.20644488596236,
          26.889739171442464,
          22.491296130505383,
          22.002208788230245,
          30.08642822243785,
          31.260183247465033,
          27.29578373130391,
          19.882041436384817,
          23.77756894937843,
          25.808555423848922,
          23.148847075593306,
          25.925606918716124,
          23.10461275915492,
          25.639131350119552,
          26.98243361711483,
          23.45055851839821,
          23.829021594223608,
          23.445921819043743,
          25.024370570118315,
          24.31155820204973,
          23.594934943417215,
          26.502236072540462,
          27.259386923995326,
          27.69939729431383,
          20.95582529051695,
          26.306999339759233,
          22.867668981121877,
          26.61058456380388,
          25.770663635077188,
          24.39437998263908,
          23.34172841524203,
          25.13548339133188,
          22.430382274825384,
          30.814442804448237,
          25.102607560728845,
          26.20298383774168,
          25.121343923233454,
          23.521302359392994,
          20.671772358004134,
          24.10812314936057,
          30.09848407559641,
          28.37313709462336,
          26.316027552024636,
          26.79891174006958,
          22.878458113423616,
          27.012558979667958,
          26.294378031033656,
          19.75411254143769,
          28.179833291153205,
          21.648230875958234,
          23.74016464110589,
          28.294040402065104,
          25.749163139998576,
          20.701253067638387,
          22.876605947899723,
          21.653739476365818,
          19.30855442257606,
          31.79161924406585,
          27.478826048886294,
          22.57514062416673,
          25.48077858588476,
          27.37595152143142,
          28.68277567584755,
          22.156463785448093,
          25.02315521498985,
          20.257740963200188,
          29.978688232072823,
          21.97741785876053,
          23.350761574476866,
          25.533596466983443,
          27.897945651159592,
          23.96945317078527,
          29.061458487331663,
          25.763917687626456,
          25.859185576242055,
          24.89297256113162,
          30.483043690168067,
          26.25796466546529,
          24.400680352562443,
          25.161815481267844,
          24.11322956231057,
          28.28239627775549,
          23.738158084259663,
          22.975473797121044,
          26.437479700860433,
          25.86851098735162,
          26.74097592659643,
          23.843820755665355,
          27.80813510467099,
          23.814314138021647,
          27.24853076166017,
          22.43657915885749,
          23.484430272238537,
          23.083016852198366,
          27.28110105828268,
          27.647954393822566,
          26.186268228798863,
          25.941713027593696,
          25.794221878008294,
          24.647583074905693,
          22.27586516886351,
          23.86087075355978,
          23.212323285303565,
          28.610374876971882,
          21.021477813355446,
          28.472736760925077,
          23.89455738194437,
          24.4164399906424,
          24.111499212555003,
          24.82296479008344,
          20.63351771209569,
          20.46021725380052,
          22.553913860217556,
          31.253013233548504,
          27.908073186175905,
          22.189010056507314,
          31.885632240987142,
          27.61189586529435,
          20.594453269297677,
          27.073954861015622,
          25.224838218383827,
          27.362777887169898,
          26.44500870939747,
          23.232972221808968,
          26.330336422747646,
          23.763445786264832,
          23.088800302875512,
          24.84279532955504,
          23.86047607694741,
          22.448600292883153,
          21.08265292931704,
          28.000417798729956,
          24.130851905742894,
          27.315127452286372,
          26.265835566434138,
          25.031911166836935,
          29.50220971428997,
          25.478721963121874,
          25.226845990412652,
          25.83946759908636,
          22.411758763685025,
          21.738028037436724,
          25.246661528613163,
          26.00029009659419,
          20.706478451605715,
          24.251065943902347,
          20.75457746579575,
          17.857635178458672,
          28.138367276252513,
          25.539821366003153,
          27.273036959739677,
          24.49263854475108,
          23.143123697906788,
          22.633382526623095,
          25.03319863943172,
          27.79038926234394,
          26.20805706429396,
          25.615808863891726,
          25.3851078822065,
          27.79016458391504,
          25.14637085826084,
          26.05548031785373,
          26.5214372182619,
          24.718225510097422,
          25.8030888000829,
          21.09343856557099,
          22.530147484841436,
          25.460447961029033,
          20.998958375095018,
          24.92053424920238,
          26.356176397762376,
          26.98046362580816,
          22.485767025945957,
          29.661685350024293,
          26.96207182549291,
          22.718516595863413,
          19.38983520863167,
          25.612573631768488,
          29.360360060101364,
          28.88264093549162,
          25.209333085100777,
          26.828718107488125,
          23.738071065742773,
          23.697034044919327,
          26.62858923377604,
          26.478727149517677,
          26.766848812434088,
          29.846650057538543,
          24.804106099033007,
          23.995969520683392,
          24.081179136007677,
          23.60700254641983,
          27.81120093960412,
          29.608508848587384,
          23.76520987100534,
          28.793569970182496,
          28.16168055435102,
          18.815232508303804,
          28.170549924385053,
          26.953304973378224,
          22.510547967618898,
          29.34423150092078,
          22.93581570201664,
          32.78304244313093,
          29.940171895174363,
          18.87736879740982,
          21.620626838796017,
          30.051987935110223,
          26.211709825547295,
          28.229317888416336,
          27.0204556713513,
          24.538287902202022,
          22.31715176436301,
          23.475185540424867,
          26.44966877538014,
          24.195327645942186,
          27.34429236649577,
          23.04981262480694,
          29.699137152483303,
          18.797131156309547,
          25.63448489025844,
          24.982565072602085,
          24.15985071324201,
          22.904417405585374,
          22.3711597985636,
          22.480555272224777,
          27.33667048728155,
          25.885668239889995,
          25.022079388886393,
          22.594492832134218,
          24.124476363303796,
          28.548401145458705,
          25.28241693599606,
          22.632266524068918,
          20.92722741612308,
          23.651103375920133,
          24.40413455564146,
          23.933037176046614,
          28.572520440587223,
          26.748437994314514,
          27.24703847800257,
          27.34729262135688,
          22.17588896296779,
          23.20937381269913,
          23.1522711460516,
          23.88964294089904,
          30.59812091996045,
          25.000853483890904,
          24.872076043278575,
          27.761370286900863,
          27.220280841989982,
          24.879533077094063,
          28.078278832986296,
          30.470022138111943,
          24.705260503668764,
          28.79002441634323,
          27.862908772024458,
          25.230505152775454,
          23.572330329076717,
          28.2775689957618,
          27.10509922152108,
          30.60288851697832,
          24.279279416632196,
          26.315157477596625,
          26.561649910058698,
          23.27219600384963,
          25.69779473199691,
          24.164412895274523,
          26.56929490851325,
          23.61563953013578,
          27.343320671910124,
          22.582729224773665,
          25.513767236935887,
          21.22378173390218,
          24.003258598985195,
          31.397976356763294,
          23.864583506786296,
          25.813319142856454,
          24.4445504264146,
          34.348034296444496,
          31.430446221030998,
          27.377733579062106,
          28.744708990554788,
          21.209388301674775,
          26.477126597855786,
          29.599876669080178,
          27.616806331319875,
          22.61683750890792,
          26.956989709968873,
          24.69793567562421,
          23.399081910422897,
          28.71703135998097,
          31.677911057824,
          26.397722056414924,
          25.315070446497398,
          25.56519748551096,
          25.262416696955803,
          24.263446345110776,
          30.66025525061295,
          22.83604119928163,
          21.853539836153608,
          24.78813824793172,
          27.7531910266422,
          27.59775728400186,
          24.61429809481305,
          23.571856149379407,
          29.078604160137033,
          33.16347781237795,
          30.37462947472797,
          27.32076680600839,
          24.397754869844945,
          20.941615847039998,
          27.963708867255427,
          28.05328263309922,
          24.911660749663476,
          23.094612608959693,
          21.74227449698444,
          23.620988353529935,
          20.1949647475132,
          20.99007246900376,
          28.187954064059486,
          23.244052756459272,
          29.218727403202656,
          26.42493770357512,
          26.983183460981422,
          23.56779573728988,
          24.68257619272932,
          24.786632564988782,
          25.10718165739751,
          29.74882962228313,
          27.218265784860698,
          31.41404912788193,
          25.617751176261674,
          26.638449054627067,
          26.271200961655587,
          24.092519006082398,
          22.885410294702737,
          23.15398409298514,
          24.154608804743127,
          24.132947749239325,
          26.414358699839504,
          30.63513479775886,
          20.22694775175532,
          21.675365345997168,
          25.43039526067383,
          32.9477596285686,
          30.203189387641014,
          21.13769304591876,
          22.611067542145793,
          26.309049932726246,
          23.044098530510286,
          23.872804940195167,
          27.159832291721163,
          26.780704866097228,
          27.699674291640644,
          25.366133710536708,
          23.918377090025608,
          25.328402066132796,
          23.382571826983423,
          28.104392701389536,
          31.004377849102745,
          26.49302519575926,
          28.1308873811959,
          22.632557442094694,
          28.10484525968578,
          30.421033614617816,
          26.323326812054194,
          24.099982788090912,
          24.55187329031525,
          26.418156387428514,
          30.038077220893374,
          27.063016250547022,
          27.61045790655269,
          27.39370803560734,
          25.04292416142008,
          24.91394727139536,
          26.809572190958054,
          24.456160530108562,
          26.99019215957755,
          25.12868776273582,
          22.25385407130998,
          24.592349124426516,
          27.61121475904442,
          24.291773823509722,
          32.71505154204859,
          27.387043221622044,
          25.385207060457972,
          23.73943978945007,
          23.130603276548392,
          27.410399823712357,
          27.454827246013394,
          24.831724134424114,
          19.548483394777758,
          26.316085533698423,
          23.5224991844358,
          24.02872189891182,
          26.22289079578033,
          24.074719795164494,
          23.879343283278274,
          25.4909247039999,
          22.276903224531523,
          20.71579945696204,
          26.895666373411316,
          29.58171020273106,
          23.175997854300142,
          25.63939236755677,
          24.094889080324734,
          23.48343192018071,
          27.85182208005539,
          30.71162360383005,
          29.886320820546636,
          25.82339255557611,
          28.493753302083476,
          25.08051366147269,
          26.650845586148172,
          25.17112431511686,
          24.18176653144175,
          29.142420200500588,
          29.70532710959386,
          26.286704678770054,
          23.565647280060443,
          26.703876445496878,
          25.283407724575593,
          28.97985821771088,
          29.524878976692047,
          23.91668569839942,
          24.256021576499286,
          26.58502663782286,
          25.638714031468336,
          25.150807164850637,
          24.88040541783059,
          26.984359899444524,
          26.19731201044548,
          28.033859822640718,
          25.042977086250495,
          27.623122401100893,
          27.02922622193624,
          26.346009206878602,
          26.899456346454176,
          25.73866862065886,
          25.480204323047047,
          26.510691993387585,
          26.354902845486244,
          24.72178492430844,
          28.620926269940075,
          29.635622684508988,
          28.90550809296622,
          26.017952871230737,
          24.23788317962878,
          25.300253544691376,
          26.595081004057302,
          29.022084080542374,
          20.11039699396573,
          27.577701794029284,
          27.946501182012938,
          24.924640676427448,
          20.276261237764796,
          28.801822972755982,
          29.03137295558765,
          26.78073891278361,
          23.047641395278944,
          25.17309301896695,
          23.485148102709992,
          26.559492053795946,
          28.190963674754446,
          22.072107319949964,
          23.38919506435066,
          24.335083174782433,
          24.983045536495272,
          25.611404021411058,
          25.80193245881229,
          27.842383738836215,
          21.137184552375075,
          26.7405070874081,
          23.823347362579206,
          27.964987120590898,
          21.663586563425874,
          25.04360778986369,
          27.439597081799878,
          27.91248742935565,
          20.93704099640182,
          23.004811514411113,
          27.00244077505171,
          27.49212714047676,
          23.96416414730891,
          25.299051323168708,
          22.557526243381382
         ],
         "yaxis": "y"
        }
       ],
       "layout": {
        "legend": {
         "tracegroupgap": 0
        },
        "margin": {
         "t": 60
        },
        "template": {
         "data": {
          "bar": [
           {
            "error_x": {
             "color": "#2a3f5f"
            },
            "error_y": {
             "color": "#2a3f5f"
            },
            "marker": {
             "line": {
              "color": "#E5ECF6",
              "width": 0.5
             },
             "pattern": {
              "fillmode": "overlay",
              "size": 10,
              "solidity": 0.2
             }
            },
            "type": "bar"
           }
          ],
          "barpolar": [
           {
            "marker": {
             "line": {
              "color": "#E5ECF6",
              "width": 0.5
             },
             "pattern": {
              "fillmode": "overlay",
              "size": 10,
              "solidity": 0.2
             }
            },
            "type": "barpolar"
           }
          ],
          "carpet": [
           {
            "aaxis": {
             "endlinecolor": "#2a3f5f",
             "gridcolor": "white",
             "linecolor": "white",
             "minorgridcolor": "white",
             "startlinecolor": "#2a3f5f"
            },
            "baxis": {
             "endlinecolor": "#2a3f5f",
             "gridcolor": "white",
             "linecolor": "white",
             "minorgridcolor": "white",
             "startlinecolor": "#2a3f5f"
            },
            "type": "carpet"
           }
          ],
          "choropleth": [
           {
            "colorbar": {
             "outlinewidth": 0,
             "ticks": ""
            },
            "type": "choropleth"
           }
          ],
          "contour": [
           {
            "colorbar": {
             "outlinewidth": 0,
             "ticks": ""
            },
            "colorscale": [
             [
              0,
              "#0d0887"
             ],
             [
              0.1111111111111111,
              "#46039f"
             ],
             [
              0.2222222222222222,
              "#7201a8"
             ],
             [
              0.3333333333333333,
              "#9c179e"
             ],
             [
              0.4444444444444444,
              "#bd3786"
             ],
             [
              0.5555555555555556,
              "#d8576b"
             ],
             [
              0.6666666666666666,
              "#ed7953"
             ],
             [
              0.7777777777777778,
              "#fb9f3a"
             ],
             [
              0.8888888888888888,
              "#fdca26"
             ],
             [
              1,
              "#f0f921"
             ]
            ],
            "type": "contour"
           }
          ],
          "contourcarpet": [
           {
            "colorbar": {
             "outlinewidth": 0,
             "ticks": ""
            },
            "type": "contourcarpet"
           }
          ],
          "heatmap": [
           {
            "colorbar": {
             "outlinewidth": 0,
             "ticks": ""
            },
            "colorscale": [
             [
              0,
              "#0d0887"
             ],
             [
              0.1111111111111111,
              "#46039f"
             ],
             [
              0.2222222222222222,
              "#7201a8"
             ],
             [
              0.3333333333333333,
              "#9c179e"
             ],
             [
              0.4444444444444444,
              "#bd3786"
             ],
             [
              0.5555555555555556,
              "#d8576b"
             ],
             [
              0.6666666666666666,
              "#ed7953"
             ],
             [
              0.7777777777777778,
              "#fb9f3a"
             ],
             [
              0.8888888888888888,
              "#fdca26"
             ],
             [
              1,
              "#f0f921"
             ]
            ],
            "type": "heatmap"
           }
          ],
          "heatmapgl": [
           {
            "colorbar": {
             "outlinewidth": 0,
             "ticks": ""
            },
            "colorscale": [
             [
              0,
              "#0d0887"
             ],
             [
              0.1111111111111111,
              "#46039f"
             ],
             [
              0.2222222222222222,
              "#7201a8"
             ],
             [
              0.3333333333333333,
              "#9c179e"
             ],
             [
              0.4444444444444444,
              "#bd3786"
             ],
             [
              0.5555555555555556,
              "#d8576b"
             ],
             [
              0.6666666666666666,
              "#ed7953"
             ],
             [
              0.7777777777777778,
              "#fb9f3a"
             ],
             [
              0.8888888888888888,
              "#fdca26"
             ],
             [
              1,
              "#f0f921"
             ]
            ],
            "type": "heatmapgl"
           }
          ],
          "histogram": [
           {
            "marker": {
             "pattern": {
              "fillmode": "overlay",
              "size": 10,
              "solidity": 0.2
             }
            },
            "type": "histogram"
           }
          ],
          "histogram2d": [
           {
            "colorbar": {
             "outlinewidth": 0,
             "ticks": ""
            },
            "colorscale": [
             [
              0,
              "#0d0887"
             ],
             [
              0.1111111111111111,
              "#46039f"
             ],
             [
              0.2222222222222222,
              "#7201a8"
             ],
             [
              0.3333333333333333,
              "#9c179e"
             ],
             [
              0.4444444444444444,
              "#bd3786"
             ],
             [
              0.5555555555555556,
              "#d8576b"
             ],
             [
              0.6666666666666666,
              "#ed7953"
             ],
             [
              0.7777777777777778,
              "#fb9f3a"
             ],
             [
              0.8888888888888888,
              "#fdca26"
             ],
             [
              1,
              "#f0f921"
             ]
            ],
            "type": "histogram2d"
           }
          ],
          "histogram2dcontour": [
           {
            "colorbar": {
             "outlinewidth": 0,
             "ticks": ""
            },
            "colorscale": [
             [
              0,
              "#0d0887"
             ],
             [
              0.1111111111111111,
              "#46039f"
             ],
             [
              0.2222222222222222,
              "#7201a8"
             ],
             [
              0.3333333333333333,
              "#9c179e"
             ],
             [
              0.4444444444444444,
              "#bd3786"
             ],
             [
              0.5555555555555556,
              "#d8576b"
             ],
             [
              0.6666666666666666,
              "#ed7953"
             ],
             [
              0.7777777777777778,
              "#fb9f3a"
             ],
             [
              0.8888888888888888,
              "#fdca26"
             ],
             [
              1,
              "#f0f921"
             ]
            ],
            "type": "histogram2dcontour"
           }
          ],
          "mesh3d": [
           {
            "colorbar": {
             "outlinewidth": 0,
             "ticks": ""
            },
            "type": "mesh3d"
           }
          ],
          "parcoords": [
           {
            "line": {
             "colorbar": {
              "outlinewidth": 0,
              "ticks": ""
             }
            },
            "type": "parcoords"
           }
          ],
          "pie": [
           {
            "automargin": true,
            "type": "pie"
           }
          ],
          "scatter": [
           {
            "fillpattern": {
             "fillmode": "overlay",
             "size": 10,
             "solidity": 0.2
            },
            "type": "scatter"
           }
          ],
          "scatter3d": [
           {
            "line": {
             "colorbar": {
              "outlinewidth": 0,
              "ticks": ""
             }
            },
            "marker": {
             "colorbar": {
              "outlinewidth": 0,
              "ticks": ""
             }
            },
            "type": "scatter3d"
           }
          ],
          "scattercarpet": [
           {
            "marker": {
             "colorbar": {
              "outlinewidth": 0,
              "ticks": ""
             }
            },
            "type": "scattercarpet"
           }
          ],
          "scattergeo": [
           {
            "marker": {
             "colorbar": {
              "outlinewidth": 0,
              "ticks": ""
             }
            },
            "type": "scattergeo"
           }
          ],
          "scattergl": [
           {
            "marker": {
             "colorbar": {
              "outlinewidth": 0,
              "ticks": ""
             }
            },
            "type": "scattergl"
           }
          ],
          "scattermapbox": [
           {
            "marker": {
             "colorbar": {
              "outlinewidth": 0,
              "ticks": ""
             }
            },
            "type": "scattermapbox"
           }
          ],
          "scatterpolar": [
           {
            "marker": {
             "colorbar": {
              "outlinewidth": 0,
              "ticks": ""
             }
            },
            "type": "scatterpolar"
           }
          ],
          "scatterpolargl": [
           {
            "marker": {
             "colorbar": {
              "outlinewidth": 0,
              "ticks": ""
             }
            },
            "type": "scatterpolargl"
           }
          ],
          "scatterternary": [
           {
            "marker": {
             "colorbar": {
              "outlinewidth": 0,
              "ticks": ""
             }
            },
            "type": "scatterternary"
           }
          ],
          "surface": [
           {
            "colorbar": {
             "outlinewidth": 0,
             "ticks": ""
            },
            "colorscale": [
             [
              0,
              "#0d0887"
             ],
             [
              0.1111111111111111,
              "#46039f"
             ],
             [
              0.2222222222222222,
              "#7201a8"
             ],
             [
              0.3333333333333333,
              "#9c179e"
             ],
             [
              0.4444444444444444,
              "#bd3786"
             ],
             [
              0.5555555555555556,
              "#d8576b"
             ],
             [
              0.6666666666666666,
              "#ed7953"
             ],
             [
              0.7777777777777778,
              "#fb9f3a"
             ],
             [
              0.8888888888888888,
              "#fdca26"
             ],
             [
              1,
              "#f0f921"
             ]
            ],
            "type": "surface"
           }
          ],
          "table": [
           {
            "cells": {
             "fill": {
              "color": "#EBF0F8"
             },
             "line": {
              "color": "white"
             }
            },
            "header": {
             "fill": {
              "color": "#C8D4E3"
             },
             "line": {
              "color": "white"
             }
            },
            "type": "table"
           }
          ]
         },
         "layout": {
          "annotationdefaults": {
           "arrowcolor": "#2a3f5f",
           "arrowhead": 0,
           "arrowwidth": 1
          },
          "autotypenumbers": "strict",
          "coloraxis": {
           "colorbar": {
            "outlinewidth": 0,
            "ticks": ""
           }
          },
          "colorscale": {
           "diverging": [
            [
             0,
             "#8e0152"
            ],
            [
             0.1,
             "#c51b7d"
            ],
            [
             0.2,
             "#de77ae"
            ],
            [
             0.3,
             "#f1b6da"
            ],
            [
             0.4,
             "#fde0ef"
            ],
            [
             0.5,
             "#f7f7f7"
            ],
            [
             0.6,
             "#e6f5d0"
            ],
            [
             0.7,
             "#b8e186"
            ],
            [
             0.8,
             "#7fbc41"
            ],
            [
             0.9,
             "#4d9221"
            ],
            [
             1,
             "#276419"
            ]
           ],
           "sequential": [
            [
             0,
             "#0d0887"
            ],
            [
             0.1111111111111111,
             "#46039f"
            ],
            [
             0.2222222222222222,
             "#7201a8"
            ],
            [
             0.3333333333333333,
             "#9c179e"
            ],
            [
             0.4444444444444444,
             "#bd3786"
            ],
            [
             0.5555555555555556,
             "#d8576b"
            ],
            [
             0.6666666666666666,
             "#ed7953"
            ],
            [
             0.7777777777777778,
             "#fb9f3a"
            ],
            [
             0.8888888888888888,
             "#fdca26"
            ],
            [
             1,
             "#f0f921"
            ]
           ],
           "sequentialminus": [
            [
             0,
             "#0d0887"
            ],
            [
             0.1111111111111111,
             "#46039f"
            ],
            [
             0.2222222222222222,
             "#7201a8"
            ],
            [
             0.3333333333333333,
             "#9c179e"
            ],
            [
             0.4444444444444444,
             "#bd3786"
            ],
            [
             0.5555555555555556,
             "#d8576b"
            ],
            [
             0.6666666666666666,
             "#ed7953"
            ],
            [
             0.7777777777777778,
             "#fb9f3a"
            ],
            [
             0.8888888888888888,
             "#fdca26"
            ],
            [
             1,
             "#f0f921"
            ]
           ]
          },
          "colorway": [
           "#636efa",
           "#EF553B",
           "#00cc96",
           "#ab63fa",
           "#FFA15A",
           "#19d3f3",
           "#FF6692",
           "#B6E880",
           "#FF97FF",
           "#FECB52"
          ],
          "font": {
           "color": "#2a3f5f"
          },
          "geo": {
           "bgcolor": "white",
           "lakecolor": "white",
           "landcolor": "#E5ECF6",
           "showlakes": true,
           "showland": true,
           "subunitcolor": "white"
          },
          "hoverlabel": {
           "align": "left"
          },
          "hovermode": "closest",
          "mapbox": {
           "style": "light"
          },
          "paper_bgcolor": "white",
          "plot_bgcolor": "#E5ECF6",
          "polar": {
           "angularaxis": {
            "gridcolor": "white",
            "linecolor": "white",
            "ticks": ""
           },
           "bgcolor": "#E5ECF6",
           "radialaxis": {
            "gridcolor": "white",
            "linecolor": "white",
            "ticks": ""
           }
          },
          "scene": {
           "xaxis": {
            "backgroundcolor": "#E5ECF6",
            "gridcolor": "white",
            "gridwidth": 2,
            "linecolor": "white",
            "showbackground": true,
            "ticks": "",
            "zerolinecolor": "white"
           },
           "yaxis": {
            "backgroundcolor": "#E5ECF6",
            "gridcolor": "white",
            "gridwidth": 2,
            "linecolor": "white",
            "showbackground": true,
            "ticks": "",
            "zerolinecolor": "white"
           },
           "zaxis": {
            "backgroundcolor": "#E5ECF6",
            "gridcolor": "white",
            "gridwidth": 2,
            "linecolor": "white",
            "showbackground": true,
            "ticks": "",
            "zerolinecolor": "white"
           }
          },
          "shapedefaults": {
           "line": {
            "color": "#2a3f5f"
           }
          },
          "ternary": {
           "aaxis": {
            "gridcolor": "white",
            "linecolor": "white",
            "ticks": ""
           },
           "baxis": {
            "gridcolor": "white",
            "linecolor": "white",
            "ticks": ""
           },
           "bgcolor": "#E5ECF6",
           "caxis": {
            "gridcolor": "white",
            "linecolor": "white",
            "ticks": ""
           }
          },
          "title": {
           "x": 0.05
          },
          "xaxis": {
           "automargin": true,
           "gridcolor": "white",
           "linecolor": "white",
           "ticks": "",
           "title": {
            "standoff": 15
           },
           "zerolinecolor": "white",
           "zerolinewidth": 2
          },
          "yaxis": {
           "automargin": true,
           "gridcolor": "white",
           "linecolor": "white",
           "ticks": "",
           "title": {
            "standoff": 15
           },
           "zerolinecolor": "white",
           "zerolinewidth": 2
          }
         }
        },
        "xaxis": {
         "anchor": "y",
         "domain": [
          0,
          1
         ],
         "title": {
          "text": "KM Travelled"
         }
        },
        "yaxis": {
         "anchor": "x",
         "domain": [
          0,
          1
         ],
         "title": {
          "text": "profit_percentage"
         }
        }
       }
      },
      "text/html": [
       "<div>                            <div id=\"240972b2-2f40-4ec7-b7f7-bb99b16b1b32\" class=\"plotly-graph-div\" style=\"height:525px; width:100%;\"></div>            <script type=\"text/javascript\">                require([\"plotly\"], function(Plotly) {                    window.PLOTLYENV=window.PLOTLYENV || {};                                    if (document.getElementById(\"240972b2-2f40-4ec7-b7f7-bb99b16b1b32\")) {                    Plotly.newPlot(                        \"240972b2-2f40-4ec7-b7f7-bb99b16b1b32\",                        [{\"hovertemplate\":\"KM Travelled=%{x}<br>profit_percentage=%{y}<extra></extra>\",\"legendgroup\":\"\",\"line\":{\"color\":\"#636efa\",\"dash\":\"solid\"},\"marker\":{\"symbol\":\"circle\"},\"mode\":\"lines\",\"name\":\"\",\"orientation\":\"v\",\"showlegend\":false,\"x\":[1.9,1.92,1.94,1.96,1.98,2.0,2.02,2.04,2.06,2.08,2.1,2.12,2.14,2.16,2.18,2.2,2.22,2.24,2.26,2.28,2.3,2.32,2.34,2.36,2.38,2.4,2.85,2.88,2.91,2.94,2.97,3.0,3.03,3.06,3.09,3.12,3.15,3.18,3.21,3.24,3.27,3.3,3.33,3.36,3.39,3.42,3.45,3.48,3.51,3.54,3.57,3.6,3.8,3.84,3.88,3.92,3.96,4.0,4.04,4.08,4.12,4.16,4.2,4.24,4.28,4.32,4.36,4.4,4.44,4.48,4.52,4.56,4.6,4.64,4.68,4.72,4.75,4.76,4.8,4.85,4.9,4.95,5.0,5.05,5.1,5.15,5.2,5.25,5.3,5.35,5.4,5.45,5.5,5.55,5.6,5.65,5.7,5.75,5.76,5.8,5.82,5.85,5.88,5.9,5.94,5.95,6.0,6.06,6.12,6.18,6.24,6.3,6.36,6.42,6.48,6.54,6.6,6.65,6.66,6.72,6.78,6.79,6.84,6.86,6.9,6.93,6.96,7.0,7.02,7.07,7.08,7.14,7.2,7.21,7.28,7.35,7.42,7.49,7.56,7.6,7.63,7.68,7.7,7.76,7.77,7.84,7.91,7.92,7.98,8.0,8.05,8.08,8.12,8.16,8.19,8.24,8.26,8.32,8.33,8.4,8.48,8.55,8.56,8.64,8.72,8.73,8.8,8.82,8.88,8.91,8.96,9.0,9.04,9.09,9.12,9.18,9.2,9.27,9.28,9.36,9.44,9.45,9.5,9.52,9.54,9.6,9.63,9.7,9.72,9.8,9.81,9.9,9.99,10.0,10.08,10.1,10.17,10.2,10.26,10.3,10.35,10.4,10.44,10.45,10.5,10.53,10.56,10.6,10.62,10.67,10.7,10.71,10.78,10.8,10.89,10.9,11.0,11.1,11.11,11.2,11.22,11.3,11.33,11.4,11.44,11.5,11.52,11.55,11.6,11.64,11.66,11.7,11.76,11.77,11.8,11.88,11.9,11.99,12.0,12.1,12.12,12.21,12.24,12.32,12.35,12.36,12.43,12.48,12.54,12.6,12.61,12.65,12.72,12.74,12.76,12.84,12.87,12.96,12.98,13.0,13.08,13.09,13.13,13.2,13.26,13.3,13.32,13.39,13.44,13.52,13.56,13.58,13.65,13.68,13.72,13.78,13.8,13.86,13.91,13.92,14.0,14.04,14.14,14.16,14.17,14.25,14.28,14.3,14.4,14.42,14.43,14.55,14.56,14.69,14.7,14.82,14.84,14.85,14.95,14.98,15.0,15.08,15.12,15.15,15.2,15.21,15.26,15.3,15.34,15.36,15.4,15.45,15.47,15.52,15.54,15.6,15.68,15.75,15.82,15.84,15.9,15.96,16.0,16.05,16.1,16.15,16.16,16.2,16.24,16.32,16.35,16.38,16.48,16.49,16.5,16.52,16.64,16.65,16.66,16.8,16.83,16.95,16.96,17.0,17.1,17.12,17.17,17.25,17.28,17.34,17.4,17.44,17.46,17.51,17.55,17.6,17.64,17.68,17.7,17.76,17.82,17.85,17.92,18.0,18.02,18.05,18.08,18.18,18.19,18.24,18.36,18.4,18.43,18.53,18.54,18.56,18.62,18.7,18.72,18.81,18.87,18.88,18.9,19.0,19.04,19.08,19.19,19.2,19.21,19.26,19.38,19.4,19.44,19.55,19.57,19.6,19.62,19.72,19.76,19.8,19.89,19.95,19.98,20.0,20.06,20.14,20.16,20.2,20.23,20.33,20.34,20.37,20.4,20.52,20.58,20.6,20.7,20.71,20.79,20.8,20.88,20.9,21.0,21.06,21.09,21.12,21.2,21.21,21.24,21.28,21.34,21.4,21.42,21.47,21.56,21.6,21.63,21.66,21.78,21.8,21.84,21.85,22.0,22.04,22.05,22.08,22.2,22.22,22.23,22.26,22.31,22.4,22.42,22.44,22.47,22.54,22.6,22.61,22.66,22.68,22.77,22.8,22.88,22.89,23.0,23.04,23.1,23.2,23.23,23.28,23.31,23.32,23.4,23.46,23.52,23.54,23.6,23.69,23.73,23.75,23.76,23.8,23.92,23.94,23.98,24.0,24.15,24.2,24.24,24.25,24.36,24.38,24.42,24.48,24.5,24.57,24.61,24.64,24.7,24.72,24.75,24.78,24.84,24.86,24.96,24.99,25.0,25.07,25.08,25.2,25.22,25.25,25.3,25.44,25.48,25.5,25.52,25.53,25.65,25.68,25.74,25.75,25.76,25.92,25.96,25.99,26.0,26.16,26.18,26.19,26.22,26.25,26.26,26.4,26.45,26.46,26.5,26.52,26.6,26.64,26.68,26.73,26.75,26.78,26.88,26.91,27.0,27.04,27.12,27.14,27.16,27.25,27.27,27.3,27.36,27.37,27.44,27.5,27.54,27.55,27.56,27.6,27.72,27.75,27.81,27.82,27.84,28.0,28.08,28.13,28.25,28.28,28.32,28.34,28.35,28.42,28.5,28.56,28.6,28.62,28.71,28.75,28.8,28.84,28.86,28.89,29.0,29.1,29.12,29.16,29.25,29.29,29.38,29.4,29.43,29.45,29.5,29.58,29.64,29.68,29.7,29.75,29.76,29.87,29.9,29.96,29.97,30.0,30.07,30.16,30.24,30.3,30.38,30.4,30.42,30.45,30.51,30.52,30.6,30.68,30.69,30.72,30.74,30.78,30.8,30.9,30.94,31.0,31.03,31.04,31.05,31.08,31.2,31.31,31.32,31.35,31.36,31.5,31.59,31.61,31.62,31.64,31.68,31.8,31.86,31.9,31.92,31.93,32.0,32.01,32.1,32.13,32.19,32.2,32.24,32.3,32.32,32.34,32.4,32.48,32.55,32.64,32.67,32.7,32.76,32.77,32.86,32.96,32.98,33.0,33.04,33.06,33.17,33.25,33.28,33.3,33.32,33.33,33.35,33.48,33.6,33.64,33.66,33.79,33.9,33.92,33.93,33.95,33.99,34.0,34.1,34.2,34.22,34.24,34.3,34.32,34.34,34.41,34.5,34.51,34.56,34.65,34.68,34.72,34.8,34.88,34.92,34.98,35.0,35.02,35.03,35.1,35.15,35.2,35.28,35.31,35.34,35.35,35.36,35.4,35.52,35.64,35.65,35.7,35.84,35.89,35.96,35.97,36.0,36.04,36.05,36.1,36.16,36.26,36.27,36.3,36.36,36.38,36.4,36.48,36.58,36.63,36.72,36.75,36.8,36.86,36.89,36.96,37.0,37.05,37.06,37.08,37.1,37.12,37.2,37.24,37.29,37.37,37.4,37.44,37.45,37.62,37.74,37.76,37.8,37.83,37.95,38.0,38.08,38.11,38.15,38.16,38.22,38.28,38.38,38.4,38.42,38.48,38.5,38.52,38.61,38.76,38.8,38.85,38.88,38.94,39.0,39.1,39.14,39.2,39.22,39.24,39.27,39.39,39.44,39.52,39.55,39.59,39.6,39.78,39.9,39.96,40.0,40.12,40.17,40.25,40.28,40.32,40.33,40.4,40.46,40.56,40.6,40.66,40.68,40.7,40.8,40.95,41.04,41.07,41.2,41.3,41.34,41.4,41.42,41.44,41.6,41.65,41.73,41.76,41.8,41.81,42.0,42.12,42.18,42.4,42.48,42.51,42.55,42.56,42.8,42.84,42.9,42.92,42.94,43.2,43.29,43.32,43.6,43.66,43.68,43.7,44.0,44.03,44.07,44.08,44.4,44.46,44.8,44.84,44.85,45.2,45.22,45.24,45.6,45.63,46.0,46.02,46.4,46.41,46.8,47.2,47.6,48.0],\"xaxis\":\"x\",\"y\":[26.895604811069386,28.289619834566032,25.367229560563857,23.34940440948473,22.16598318873282,24.3350866131767,25.536357156422746,29.591877216347555,25.64019897028531,27.712044016505526,22.172769908806103,26.672151379455908,23.7968150355786,23.020202240993235,22.135620058769998,23.12546413452459,21.90270621971513,27.740012464345334,28.226571144014073,24.159886334368593,24.054063575338333,27.582122285630508,26.064986805628784,23.864255359177992,31.355673845199494,30.277701732701143,26.99566350528111,28.586240260394618,22.694049408166386,23.100334989539117,28.586367745527145,26.294279091489035,27.6887114682965,25.975219677581965,28.226616724536484,27.16982400519881,25.424117396647976,23.759272889026395,32.88708798729437,28.223593439164905,24.720866712974797,22.697731212746323,24.993320868825204,26.799784979352648,23.35237216879915,25.735343766358845,29.976125252334135,22.715691445952405,29.35426592943135,27.821535014514758,24.2936924211348,23.85615546159726,22.987619484997495,23.17151659753709,22.518245012351745,25.554567620614513,22.90525584042945,29.551845334746993,25.1661131842937,22.688046015564513,24.6203293100753,18.314017424152098,23.837678655236008,22.57441416902685,22.192143097825987,28.094422428588597,28.262993297699765,21.52587296864943,24.49687225821394,22.573375974814308,18.65139019983511,22.377586036085113,26.27446396875613,23.107237884083677,21.21018096827694,25.695600444584265,22.08202815494243,27.65086314675226,28.48602754327154,27.969517131938414,25.63832211564656,26.610258768918005,29.815641693664183,25.62337164350516,24.893032218412106,27.48069842044717,27.11508030543831,25.69025398825486,26.09606597096227,24.21927471535581,25.968760311289248,26.254111787288437,24.046413655530763,25.24710999652523,21.78510242677318,22.250245780012925,25.679735988005888,24.173606491569743,25.077990474144478,30.005198571997717,28.94891377571577,27.95678878459867,22.169396148590653,24.541727081220607,28.684744916592535,24.394040564958843,22.43403152509011,23.999361393661328,25.352444495435684,27.165700507889085,27.048969658734364,28.054611097702427,28.978790669870655,25.10310657653086,27.283501867671063,25.570879820983965,25.48101149510894,27.990585330622,21.888010173173043,26.027551103583296,24.9468237663901,26.20228632384346,25.454450262102863,26.537104594671185,24.14267965906941,27.349321330810653,24.20405304231265,23.392417407674113,27.17605850245209,22.346384165686054,20.777357061072518,22.779773540420514,21.064844248894772,27.62093203110775,21.70670960437312,22.83571418825806,30.881562248786427,23.10307588821385,25.73161081639808,29.589389525400634,23.886963426196175,26.86038349073638,29.203190181537003,24.953878131912354,24.245561534683727,25.792917802041103,29.774872231545395,25.669312671458044,23.696100744473068,24.660529463538936,21.22954305359634,29.50724541414794,23.383804256916797,24.9904904784272,24.377685775482142,26.994546506241594,24.81918898154712,31.556981597119965,24.786505220610405,25.530166145392776,28.73866485021481,26.33144892917443,27.6017655261473,25.72248675530054,27.630529122142413,27.238388785192527,27.972346456233826,22.865768752736596,34.436635309719634,23.307587076725447,22.307278692077738,21.16224975497617,25.801579977230617,26.46277056739788,29.29428370699882,27.04187229554166,27.300539547173784,27.29356584814216,27.51049457347554,31.414679719252995,27.527579586371914,28.24181044165808,27.510717087299152,26.916644823451346,25.34203737799804,26.57341951333408,22.66677898751786,20.889138797075795,20.909981101097525,26.85519856363181,24.708890395169618,27.20100498381064,23.004630285760488,23.87441264060672,27.866557147266253,26.23539274858932,27.591210860136385,22.805412499679598,26.930435025367665,30.115717914674484,28.237415442813578,24.314045224120587,27.870383851828628,25.30441254664557,26.441494012501856,23.069067824566098,28.981946166839318,28.84351681191565,20.301798263909653,21.877940080591383,21.813399627139194,32.219977608113794,22.823126957242636,29.66447505659808,24.102960687095816,27.694614228526547,29.163370058810127,25.914929644977573,28.73192077154553,23.588753274303656,23.487903753166247,24.663253204561844,24.366459043665387,23.99924514503571,26.1271500658023,25.775358085908536,22.59776329322745,23.14329972541318,25.792806952601456,32.29931824580559,26.15416922529057,25.742928399724764,20.934054639202962,27.231942035662605,30.804993268371774,24.84777903704281,21.4720695406815,25.98634126722932,23.422810806817335,25.763608953474723,26.467943099379227,25.16442057033673,25.940077373369274,27.72845279645433,23.00274045203445,24.248949177606853,27.933267296707022,24.961619130979884,28.585474988439664,22.79903876432039,27.893700955450175,23.72064554693738,29.081018721387924,21.42334526850471,26.792455858727504,27.846073858143534,25.70215580632462,24.801535773519664,26.549667441070483,23.522967459458794,23.685903809140456,23.02029773086823,28.744451256561927,25.972005770307536,24.283198870427075,27.587423753838156,22.78448763760033,24.301193265267894,24.802174477937346,25.843016913372253,24.7189040393203,26.701888280735126,26.29015777647879,26.02320813830833,22.334112801636362,23.688554895434578,28.801370182550652,29.296059225676903,23.047617753175107,22.654557602239983,25.218306470802656,26.3725549559176,25.279184751391504,24.248500290341685,24.424652119189194,28.883101814987455,24.14518330163866,24.474138306532847,22.376504707507415,28.152786073950875,23.417001004496818,23.979633385832063,26.565737484952084,23.91809682980483,24.98450054040587,23.448067705472567,24.589146964452937,24.46690158063726,29.120143691733766,19.670733242130307,25.10448347078057,23.665919821555228,22.009209243325092,23.54632421604087,27.017192109504744,23.44984782651098,24.939092350210146,24.425921044185642,21.459485460093198,24.29151410258947,28.61705023408311,23.67351865910054,27.57734362777539,26.302721301154254,26.107687707924523,23.130567097583192,26.175139823571943,26.956702362599398,28.21179082649518,29.766359075840157,22.75394420435618,26.4161798581158,26.189059644514618,27.048068370218072,28.298498037117856,28.093652468399338,24.43770035395228,26.586772587439672,24.019727843851268,23.912026757196124,23.751166973870397,25.823695534004894,24.067199290338635,20.632773272442943,32.07530382725412,24.524858285306923,29.104106639007522,27.26630456719292,22.83396784130883,24.723641436641902,23.8726831519152,26.32870837117774,23.332537733321757,24.750957784530673,21.655845775558998,27.146227345856047,26.623037866439656,24.519825336879254,27.02773157207306,27.255299133701325,22.241208676121214,26.05268245574666,22.669309915464307,27.084903910078047,20.545821520845973,28.916066754714574,23.31161287876673,29.698571522849505,26.134513120774024,24.57817928911703,29.409397008814437,22.61333459245865,21.373669839992928,26.46496638835008,23.661975083863986,28.51894812007628,24.18790832289857,24.867602008540004,31.85436871449558,26.99967339542526,25.475465686056097,22.174408246491236,23.576914595927242,23.875676916229782,22.685336124326394,23.04093369352993,26.795750066298208,25.812214934188418,26.691121621105797,26.987026432601287,27.233286166356677,23.023485190320734,27.48176566805108,27.203618029400708,27.28057771167853,25.182437337672088,25.009358055792784,25.20644488596236,26.889739171442464,22.491296130505383,22.002208788230245,30.08642822243785,31.260183247465033,27.29578373130391,19.882041436384817,23.77756894937843,25.808555423848922,23.148847075593306,25.925606918716124,23.10461275915492,25.639131350119552,26.98243361711483,23.45055851839821,23.829021594223608,23.445921819043743,25.024370570118315,24.31155820204973,23.594934943417215,26.502236072540462,27.259386923995326,27.69939729431383,20.95582529051695,26.306999339759233,22.867668981121877,26.61058456380388,25.770663635077188,24.39437998263908,23.34172841524203,25.13548339133188,22.430382274825384,30.814442804448237,25.102607560728845,26.20298383774168,25.121343923233454,23.521302359392994,20.671772358004134,24.10812314936057,30.09848407559641,28.37313709462336,26.316027552024636,26.79891174006958,22.878458113423616,27.012558979667958,26.294378031033656,19.75411254143769,28.179833291153205,21.648230875958234,23.74016464110589,28.294040402065104,25.749163139998576,20.701253067638387,22.876605947899723,21.653739476365818,19.30855442257606,31.79161924406585,27.478826048886294,22.57514062416673,25.48077858588476,27.37595152143142,28.68277567584755,22.156463785448093,25.02315521498985,20.257740963200188,29.978688232072823,21.97741785876053,23.350761574476866,25.533596466983443,27.897945651159592,23.96945317078527,29.061458487331663,25.763917687626456,25.859185576242055,24.89297256113162,30.483043690168067,26.25796466546529,24.400680352562443,25.161815481267844,24.11322956231057,28.28239627775549,23.738158084259663,22.975473797121044,26.437479700860433,25.86851098735162,26.74097592659643,23.843820755665355,27.80813510467099,23.814314138021647,27.24853076166017,22.43657915885749,23.484430272238537,23.083016852198366,27.28110105828268,27.647954393822566,26.186268228798863,25.941713027593696,25.794221878008294,24.647583074905693,22.27586516886351,23.86087075355978,23.212323285303565,28.610374876971882,21.021477813355446,28.472736760925077,23.89455738194437,24.4164399906424,24.111499212555003,24.82296479008344,20.63351771209569,20.46021725380052,22.553913860217556,31.253013233548504,27.908073186175905,22.189010056507314,31.885632240987142,27.61189586529435,20.594453269297677,27.073954861015622,25.224838218383827,27.362777887169898,26.44500870939747,23.232972221808968,26.330336422747646,23.763445786264832,23.088800302875512,24.84279532955504,23.86047607694741,22.448600292883153,21.08265292931704,28.000417798729956,24.130851905742894,27.315127452286372,26.265835566434138,25.031911166836935,29.50220971428997,25.478721963121874,25.226845990412652,25.83946759908636,22.411758763685025,21.738028037436724,25.246661528613163,26.00029009659419,20.706478451605715,24.251065943902347,20.75457746579575,17.857635178458672,28.138367276252513,25.539821366003153,27.273036959739677,24.49263854475108,23.143123697906788,22.633382526623095,25.03319863943172,27.79038926234394,26.20805706429396,25.615808863891726,25.3851078822065,27.79016458391504,25.14637085826084,26.05548031785373,26.5214372182619,24.718225510097422,25.8030888000829,21.09343856557099,22.530147484841436,25.460447961029033,20.998958375095018,24.92053424920238,26.356176397762376,26.98046362580816,22.485767025945957,29.661685350024293,26.96207182549291,22.718516595863413,19.38983520863167,25.612573631768488,29.360360060101364,28.88264093549162,25.209333085100777,26.828718107488125,23.738071065742773,23.697034044919327,26.62858923377604,26.478727149517677,26.766848812434088,29.846650057538543,24.804106099033007,23.995969520683392,24.081179136007677,23.60700254641983,27.81120093960412,29.608508848587384,23.76520987100534,28.793569970182496,28.16168055435102,18.815232508303804,28.170549924385053,26.953304973378224,22.510547967618898,29.34423150092078,22.93581570201664,32.78304244313093,29.940171895174363,18.87736879740982,21.620626838796017,30.051987935110223,26.211709825547295,28.229317888416336,27.0204556713513,24.538287902202022,22.31715176436301,23.475185540424867,26.44966877538014,24.195327645942186,27.34429236649577,23.04981262480694,29.699137152483303,18.797131156309547,25.63448489025844,24.982565072602085,24.15985071324201,22.904417405585374,22.3711597985636,22.480555272224777,27.33667048728155,25.885668239889995,25.022079388886393,22.594492832134218,24.124476363303796,28.548401145458705,25.28241693599606,22.632266524068918,20.92722741612308,23.651103375920133,24.40413455564146,23.933037176046614,28.572520440587223,26.748437994314514,27.24703847800257,27.34729262135688,22.17588896296779,23.20937381269913,23.1522711460516,23.88964294089904,30.59812091996045,25.000853483890904,24.872076043278575,27.761370286900863,27.220280841989982,24.879533077094063,28.078278832986296,30.470022138111943,24.705260503668764,28.79002441634323,27.862908772024458,25.230505152775454,23.572330329076717,28.2775689957618,27.10509922152108,30.60288851697832,24.279279416632196,26.315157477596625,26.561649910058698,23.27219600384963,25.69779473199691,24.164412895274523,26.56929490851325,23.61563953013578,27.343320671910124,22.582729224773665,25.513767236935887,21.22378173390218,24.003258598985195,31.397976356763294,23.864583506786296,25.813319142856454,24.4445504264146,34.348034296444496,31.430446221030998,27.377733579062106,28.744708990554788,21.209388301674775,26.477126597855786,29.599876669080178,27.616806331319875,22.61683750890792,26.956989709968873,24.69793567562421,23.399081910422897,28.71703135998097,31.677911057824,26.397722056414924,25.315070446497398,25.56519748551096,25.262416696955803,24.263446345110776,30.66025525061295,22.83604119928163,21.853539836153608,24.78813824793172,27.7531910266422,27.59775728400186,24.61429809481305,23.571856149379407,29.078604160137033,33.16347781237795,30.37462947472797,27.32076680600839,24.397754869844945,20.941615847039998,27.963708867255427,28.05328263309922,24.911660749663476,23.094612608959693,21.74227449698444,23.620988353529935,20.1949647475132,20.99007246900376,28.187954064059486,23.244052756459272,29.218727403202656,26.42493770357512,26.983183460981422,23.56779573728988,24.68257619272932,24.786632564988782,25.10718165739751,29.74882962228313,27.218265784860698,31.41404912788193,25.617751176261674,26.638449054627067,26.271200961655587,24.092519006082398,22.885410294702737,23.15398409298514,24.154608804743127,24.132947749239325,26.414358699839504,30.63513479775886,20.22694775175532,21.675365345997168,25.43039526067383,32.9477596285686,30.203189387641014,21.13769304591876,22.611067542145793,26.309049932726246,23.044098530510286,23.872804940195167,27.159832291721163,26.780704866097228,27.699674291640644,25.366133710536708,23.918377090025608,25.328402066132796,23.382571826983423,28.104392701389536,31.004377849102745,26.49302519575926,28.1308873811959,22.632557442094694,28.10484525968578,30.421033614617816,26.323326812054194,24.099982788090912,24.55187329031525,26.418156387428514,30.038077220893374,27.063016250547022,27.61045790655269,27.39370803560734,25.04292416142008,24.91394727139536,26.809572190958054,24.456160530108562,26.99019215957755,25.12868776273582,22.25385407130998,24.592349124426516,27.61121475904442,24.291773823509722,32.71505154204859,27.387043221622044,25.385207060457972,23.73943978945007,23.130603276548392,27.410399823712357,27.454827246013394,24.831724134424114,19.548483394777758,26.316085533698423,23.5224991844358,24.02872189891182,26.22289079578033,24.074719795164494,23.879343283278274,25.4909247039999,22.276903224531523,20.71579945696204,26.895666373411316,29.58171020273106,23.175997854300142,25.63939236755677,24.094889080324734,23.48343192018071,27.85182208005539,30.71162360383005,29.886320820546636,25.82339255557611,28.493753302083476,25.08051366147269,26.650845586148172,25.17112431511686,24.18176653144175,29.142420200500588,29.70532710959386,26.286704678770054,23.565647280060443,26.703876445496878,25.283407724575593,28.97985821771088,29.524878976692047,23.91668569839942,24.256021576499286,26.58502663782286,25.638714031468336,25.150807164850637,24.88040541783059,26.984359899444524,26.19731201044548,28.033859822640718,25.042977086250495,27.623122401100893,27.02922622193624,26.346009206878602,26.899456346454176,25.73866862065886,25.480204323047047,26.510691993387585,26.354902845486244,24.72178492430844,28.620926269940075,29.635622684508988,28.90550809296622,26.017952871230737,24.23788317962878,25.300253544691376,26.595081004057302,29.022084080542374,20.11039699396573,27.577701794029284,27.946501182012938,24.924640676427448,20.276261237764796,28.801822972755982,29.03137295558765,26.78073891278361,23.047641395278944,25.17309301896695,23.485148102709992,26.559492053795946,28.190963674754446,22.072107319949964,23.38919506435066,24.335083174782433,24.983045536495272,25.611404021411058,25.80193245881229,27.842383738836215,21.137184552375075,26.7405070874081,23.823347362579206,27.964987120590898,21.663586563425874,25.04360778986369,27.439597081799878,27.91248742935565,20.93704099640182,23.004811514411113,27.00244077505171,27.49212714047676,23.96416414730891,25.299051323168708,22.557526243381382],\"yaxis\":\"y\",\"type\":\"scatter\"}],                        {\"template\":{\"data\":{\"histogram2dcontour\":[{\"type\":\"histogram2dcontour\",\"colorbar\":{\"outlinewidth\":0,\"ticks\":\"\"},\"colorscale\":[[0.0,\"#0d0887\"],[0.1111111111111111,\"#46039f\"],[0.2222222222222222,\"#7201a8\"],[0.3333333333333333,\"#9c179e\"],[0.4444444444444444,\"#bd3786\"],[0.5555555555555556,\"#d8576b\"],[0.6666666666666666,\"#ed7953\"],[0.7777777777777778,\"#fb9f3a\"],[0.8888888888888888,\"#fdca26\"],[1.0,\"#f0f921\"]]}],\"choropleth\":[{\"type\":\"choropleth\",\"colorbar\":{\"outlinewidth\":0,\"ticks\":\"\"}}],\"histogram2d\":[{\"type\":\"histogram2d\",\"colorbar\":{\"outlinewidth\":0,\"ticks\":\"\"},\"colorscale\":[[0.0,\"#0d0887\"],[0.1111111111111111,\"#46039f\"],[0.2222222222222222,\"#7201a8\"],[0.3333333333333333,\"#9c179e\"],[0.4444444444444444,\"#bd3786\"],[0.5555555555555556,\"#d8576b\"],[0.6666666666666666,\"#ed7953\"],[0.7777777777777778,\"#fb9f3a\"],[0.8888888888888888,\"#fdca26\"],[1.0,\"#f0f921\"]]}],\"heatmap\":[{\"type\":\"heatmap\",\"colorbar\":{\"outlinewidth\":0,\"ticks\":\"\"},\"colorscale\":[[0.0,\"#0d0887\"],[0.1111111111111111,\"#46039f\"],[0.2222222222222222,\"#7201a8\"],[0.3333333333333333,\"#9c179e\"],[0.4444444444444444,\"#bd3786\"],[0.5555555555555556,\"#d8576b\"],[0.6666666666666666,\"#ed7953\"],[0.7777777777777778,\"#fb9f3a\"],[0.8888888888888888,\"#fdca26\"],[1.0,\"#f0f921\"]]}],\"heatmapgl\":[{\"type\":\"heatmapgl\",\"colorbar\":{\"outlinewidth\":0,\"ticks\":\"\"},\"colorscale\":[[0.0,\"#0d0887\"],[0.1111111111111111,\"#46039f\"],[0.2222222222222222,\"#7201a8\"],[0.3333333333333333,\"#9c179e\"],[0.4444444444444444,\"#bd3786\"],[0.5555555555555556,\"#d8576b\"],[0.6666666666666666,\"#ed7953\"],[0.7777777777777778,\"#fb9f3a\"],[0.8888888888888888,\"#fdca26\"],[1.0,\"#f0f921\"]]}],\"contourcarpet\":[{\"type\":\"contourcarpet\",\"colorbar\":{\"outlinewidth\":0,\"ticks\":\"\"}}],\"contour\":[{\"type\":\"contour\",\"colorbar\":{\"outlinewidth\":0,\"ticks\":\"\"},\"colorscale\":[[0.0,\"#0d0887\"],[0.1111111111111111,\"#46039f\"],[0.2222222222222222,\"#7201a8\"],[0.3333333333333333,\"#9c179e\"],[0.4444444444444444,\"#bd3786\"],[0.5555555555555556,\"#d8576b\"],[0.6666666666666666,\"#ed7953\"],[0.7777777777777778,\"#fb9f3a\"],[0.8888888888888888,\"#fdca26\"],[1.0,\"#f0f921\"]]}],\"surface\":[{\"type\":\"surface\",\"colorbar\":{\"outlinewidth\":0,\"ticks\":\"\"},\"colorscale\":[[0.0,\"#0d0887\"],[0.1111111111111111,\"#46039f\"],[0.2222222222222222,\"#7201a8\"],[0.3333333333333333,\"#9c179e\"],[0.4444444444444444,\"#bd3786\"],[0.5555555555555556,\"#d8576b\"],[0.6666666666666666,\"#ed7953\"],[0.7777777777777778,\"#fb9f3a\"],[0.8888888888888888,\"#fdca26\"],[1.0,\"#f0f921\"]]}],\"mesh3d\":[{\"type\":\"mesh3d\",\"colorbar\":{\"outlinewidth\":0,\"ticks\":\"\"}}],\"scatter\":[{\"fillpattern\":{\"fillmode\":\"overlay\",\"size\":10,\"solidity\":0.2},\"type\":\"scatter\"}],\"parcoords\":[{\"type\":\"parcoords\",\"line\":{\"colorbar\":{\"outlinewidth\":0,\"ticks\":\"\"}}}],\"scatterpolargl\":[{\"type\":\"scatterpolargl\",\"marker\":{\"colorbar\":{\"outlinewidth\":0,\"ticks\":\"\"}}}],\"bar\":[{\"error_x\":{\"color\":\"#2a3f5f\"},\"error_y\":{\"color\":\"#2a3f5f\"},\"marker\":{\"line\":{\"color\":\"#E5ECF6\",\"width\":0.5},\"pattern\":{\"fillmode\":\"overlay\",\"size\":10,\"solidity\":0.2}},\"type\":\"bar\"}],\"scattergeo\":[{\"type\":\"scattergeo\",\"marker\":{\"colorbar\":{\"outlinewidth\":0,\"ticks\":\"\"}}}],\"scatterpolar\":[{\"type\":\"scatterpolar\",\"marker\":{\"colorbar\":{\"outlinewidth\":0,\"ticks\":\"\"}}}],\"histogram\":[{\"marker\":{\"pattern\":{\"fillmode\":\"overlay\",\"size\":10,\"solidity\":0.2}},\"type\":\"histogram\"}],\"scattergl\":[{\"type\":\"scattergl\",\"marker\":{\"colorbar\":{\"outlinewidth\":0,\"ticks\":\"\"}}}],\"scatter3d\":[{\"type\":\"scatter3d\",\"line\":{\"colorbar\":{\"outlinewidth\":0,\"ticks\":\"\"}},\"marker\":{\"colorbar\":{\"outlinewidth\":0,\"ticks\":\"\"}}}],\"scattermapbox\":[{\"type\":\"scattermapbox\",\"marker\":{\"colorbar\":{\"outlinewidth\":0,\"ticks\":\"\"}}}],\"scatterternary\":[{\"type\":\"scatterternary\",\"marker\":{\"colorbar\":{\"outlinewidth\":0,\"ticks\":\"\"}}}],\"scattercarpet\":[{\"type\":\"scattercarpet\",\"marker\":{\"colorbar\":{\"outlinewidth\":0,\"ticks\":\"\"}}}],\"carpet\":[{\"aaxis\":{\"endlinecolor\":\"#2a3f5f\",\"gridcolor\":\"white\",\"linecolor\":\"white\",\"minorgridcolor\":\"white\",\"startlinecolor\":\"#2a3f5f\"},\"baxis\":{\"endlinecolor\":\"#2a3f5f\",\"gridcolor\":\"white\",\"linecolor\":\"white\",\"minorgridcolor\":\"white\",\"startlinecolor\":\"#2a3f5f\"},\"type\":\"carpet\"}],\"table\":[{\"cells\":{\"fill\":{\"color\":\"#EBF0F8\"},\"line\":{\"color\":\"white\"}},\"header\":{\"fill\":{\"color\":\"#C8D4E3\"},\"line\":{\"color\":\"white\"}},\"type\":\"table\"}],\"barpolar\":[{\"marker\":{\"line\":{\"color\":\"#E5ECF6\",\"width\":0.5},\"pattern\":{\"fillmode\":\"overlay\",\"size\":10,\"solidity\":0.2}},\"type\":\"barpolar\"}],\"pie\":[{\"automargin\":true,\"type\":\"pie\"}]},\"layout\":{\"autotypenumbers\":\"strict\",\"colorway\":[\"#636efa\",\"#EF553B\",\"#00cc96\",\"#ab63fa\",\"#FFA15A\",\"#19d3f3\",\"#FF6692\",\"#B6E880\",\"#FF97FF\",\"#FECB52\"],\"font\":{\"color\":\"#2a3f5f\"},\"hovermode\":\"closest\",\"hoverlabel\":{\"align\":\"left\"},\"paper_bgcolor\":\"white\",\"plot_bgcolor\":\"#E5ECF6\",\"polar\":{\"bgcolor\":\"#E5ECF6\",\"angularaxis\":{\"gridcolor\":\"white\",\"linecolor\":\"white\",\"ticks\":\"\"},\"radialaxis\":{\"gridcolor\":\"white\",\"linecolor\":\"white\",\"ticks\":\"\"}},\"ternary\":{\"bgcolor\":\"#E5ECF6\",\"aaxis\":{\"gridcolor\":\"white\",\"linecolor\":\"white\",\"ticks\":\"\"},\"baxis\":{\"gridcolor\":\"white\",\"linecolor\":\"white\",\"ticks\":\"\"},\"caxis\":{\"gridcolor\":\"white\",\"linecolor\":\"white\",\"ticks\":\"\"}},\"coloraxis\":{\"colorbar\":{\"outlinewidth\":0,\"ticks\":\"\"}},\"colorscale\":{\"sequential\":[[0.0,\"#0d0887\"],[0.1111111111111111,\"#46039f\"],[0.2222222222222222,\"#7201a8\"],[0.3333333333333333,\"#9c179e\"],[0.4444444444444444,\"#bd3786\"],[0.5555555555555556,\"#d8576b\"],[0.6666666666666666,\"#ed7953\"],[0.7777777777777778,\"#fb9f3a\"],[0.8888888888888888,\"#fdca26\"],[1.0,\"#f0f921\"]],\"sequentialminus\":[[0.0,\"#0d0887\"],[0.1111111111111111,\"#46039f\"],[0.2222222222222222,\"#7201a8\"],[0.3333333333333333,\"#9c179e\"],[0.4444444444444444,\"#bd3786\"],[0.5555555555555556,\"#d8576b\"],[0.6666666666666666,\"#ed7953\"],[0.7777777777777778,\"#fb9f3a\"],[0.8888888888888888,\"#fdca26\"],[1.0,\"#f0f921\"]],\"diverging\":[[0,\"#8e0152\"],[0.1,\"#c51b7d\"],[0.2,\"#de77ae\"],[0.3,\"#f1b6da\"],[0.4,\"#fde0ef\"],[0.5,\"#f7f7f7\"],[0.6,\"#e6f5d0\"],[0.7,\"#b8e186\"],[0.8,\"#7fbc41\"],[0.9,\"#4d9221\"],[1,\"#276419\"]]},\"xaxis\":{\"gridcolor\":\"white\",\"linecolor\":\"white\",\"ticks\":\"\",\"title\":{\"standoff\":15},\"zerolinecolor\":\"white\",\"automargin\":true,\"zerolinewidth\":2},\"yaxis\":{\"gridcolor\":\"white\",\"linecolor\":\"white\",\"ticks\":\"\",\"title\":{\"standoff\":15},\"zerolinecolor\":\"white\",\"automargin\":true,\"zerolinewidth\":2},\"scene\":{\"xaxis\":{\"backgroundcolor\":\"#E5ECF6\",\"gridcolor\":\"white\",\"linecolor\":\"white\",\"showbackground\":true,\"ticks\":\"\",\"zerolinecolor\":\"white\",\"gridwidth\":2},\"yaxis\":{\"backgroundcolor\":\"#E5ECF6\",\"gridcolor\":\"white\",\"linecolor\":\"white\",\"showbackground\":true,\"ticks\":\"\",\"zerolinecolor\":\"white\",\"gridwidth\":2},\"zaxis\":{\"backgroundcolor\":\"#E5ECF6\",\"gridcolor\":\"white\",\"linecolor\":\"white\",\"showbackground\":true,\"ticks\":\"\",\"zerolinecolor\":\"white\",\"gridwidth\":2}},\"shapedefaults\":{\"line\":{\"color\":\"#2a3f5f\"}},\"annotationdefaults\":{\"arrowcolor\":\"#2a3f5f\",\"arrowhead\":0,\"arrowwidth\":1},\"geo\":{\"bgcolor\":\"white\",\"landcolor\":\"#E5ECF6\",\"subunitcolor\":\"white\",\"showland\":true,\"showlakes\":true,\"lakecolor\":\"white\"},\"title\":{\"x\":0.05},\"mapbox\":{\"style\":\"light\"}}},\"xaxis\":{\"anchor\":\"y\",\"domain\":[0.0,1.0],\"title\":{\"text\":\"KM Travelled\"}},\"yaxis\":{\"anchor\":\"x\",\"domain\":[0.0,1.0],\"title\":{\"text\":\"profit_percentage\"}},\"legend\":{\"tracegroupgap\":0},\"margin\":{\"t\":60}},                        {\"responsive\": true}                    ).then(function(){\n",
       "                            \n",
       "var gd = document.getElementById('240972b2-2f40-4ec7-b7f7-bb99b16b1b32');\n",
       "var x = new MutationObserver(function (mutations, observer) {{\n",
       "        var display = window.getComputedStyle(gd).display;\n",
       "        if (!display || display === 'none') {{\n",
       "            console.log([gd, 'removed!']);\n",
       "            Plotly.purge(gd);\n",
       "            observer.disconnect();\n",
       "        }}\n",
       "}});\n",
       "\n",
       "// Listen for the removal of the full notebook cells\n",
       "var notebookContainer = gd.closest('#notebook-container');\n",
       "if (notebookContainer) {{\n",
       "    x.observe(notebookContainer, {childList: true});\n",
       "}}\n",
       "\n",
       "// Listen for the clearing of the current output cell\n",
       "var outputEl = gd.closest('.output');\n",
       "if (outputEl) {{\n",
       "    x.observe(outputEl, {childList: true});\n",
       "}}\n",
       "\n",
       "                        })                };                });            </script>        </div>"
      ]
     },
     "metadata": {},
     "output_type": "display_data"
    }
   ],
   "source": [
    "pink_km_profit_vis = py.line(x='KM Travelled',y='profit_percentage',data_frame=pink_km_profit)\n",
    "pink_km_profit_vis.show()"
   ]
  },
  {
   "cell_type": "code",
   "execution_count": 114,
   "metadata": {},
   "outputs": [
    {
     "data": {
      "text/html": [
       "<div>\n",
       "<style scoped>\n",
       "    .dataframe tbody tr th:only-of-type {\n",
       "        vertical-align: middle;\n",
       "    }\n",
       "\n",
       "    .dataframe tbody tr th {\n",
       "        vertical-align: top;\n",
       "    }\n",
       "\n",
       "    .dataframe thead th {\n",
       "        text-align: right;\n",
       "    }\n",
       "</style>\n",
       "<table border=\"1\" class=\"dataframe\">\n",
       "  <thead>\n",
       "    <tr style=\"text-align: right;\">\n",
       "      <th></th>\n",
       "      <th>Company</th>\n",
       "      <th>KM Travelled</th>\n",
       "      <th>profit_percentage</th>\n",
       "    </tr>\n",
       "  </thead>\n",
       "  <tbody>\n",
       "    <tr>\n",
       "      <th>874</th>\n",
       "      <td>Yellow Cab</td>\n",
       "      <td>1.90</td>\n",
       "      <td>54.86</td>\n",
       "    </tr>\n",
       "    <tr>\n",
       "      <th>875</th>\n",
       "      <td>Yellow Cab</td>\n",
       "      <td>1.92</td>\n",
       "      <td>49.23</td>\n",
       "    </tr>\n",
       "    <tr>\n",
       "      <th>876</th>\n",
       "      <td>Yellow Cab</td>\n",
       "      <td>1.94</td>\n",
       "      <td>58.52</td>\n",
       "    </tr>\n",
       "    <tr>\n",
       "      <th>877</th>\n",
       "      <td>Yellow Cab</td>\n",
       "      <td>1.96</td>\n",
       "      <td>56.07</td>\n",
       "    </tr>\n",
       "    <tr>\n",
       "      <th>878</th>\n",
       "      <td>Yellow Cab</td>\n",
       "      <td>1.98</td>\n",
       "      <td>60.23</td>\n",
       "    </tr>\n",
       "    <tr>\n",
       "      <th>...</th>\n",
       "      <td>...</td>\n",
       "      <td>...</td>\n",
       "      <td>...</td>\n",
       "    </tr>\n",
       "    <tr>\n",
       "      <th>1743</th>\n",
       "      <td>Yellow Cab</td>\n",
       "      <td>46.41</td>\n",
       "      <td>49.52</td>\n",
       "    </tr>\n",
       "    <tr>\n",
       "      <th>1744</th>\n",
       "      <td>Yellow Cab</td>\n",
       "      <td>46.80</td>\n",
       "      <td>52.15</td>\n",
       "    </tr>\n",
       "    <tr>\n",
       "      <th>1745</th>\n",
       "      <td>Yellow Cab</td>\n",
       "      <td>47.20</td>\n",
       "      <td>57.38</td>\n",
       "    </tr>\n",
       "    <tr>\n",
       "      <th>1746</th>\n",
       "      <td>Yellow Cab</td>\n",
       "      <td>47.60</td>\n",
       "      <td>53.10</td>\n",
       "    </tr>\n",
       "    <tr>\n",
       "      <th>1747</th>\n",
       "      <td>Yellow Cab</td>\n",
       "      <td>48.00</td>\n",
       "      <td>53.07</td>\n",
       "    </tr>\n",
       "  </tbody>\n",
       "</table>\n",
       "<p>874 rows × 3 columns</p>\n",
       "</div>"
      ],
      "text/plain": [
       "         Company  KM Travelled  profit_percentage\n",
       "874   Yellow Cab          1.90              54.86\n",
       "875   Yellow Cab          1.92              49.23\n",
       "876   Yellow Cab          1.94              58.52\n",
       "877   Yellow Cab          1.96              56.07\n",
       "878   Yellow Cab          1.98              60.23\n",
       "...          ...           ...                ...\n",
       "1743  Yellow Cab         46.41              49.52\n",
       "1744  Yellow Cab         46.80              52.15\n",
       "1745  Yellow Cab         47.20              57.38\n",
       "1746  Yellow Cab         47.60              53.10\n",
       "1747  Yellow Cab         48.00              53.07\n",
       "\n",
       "[874 rows x 3 columns]"
      ]
     },
     "execution_count": 114,
     "metadata": {},
     "output_type": "execute_result"
    }
   ],
   "source": [
    "yellow_km_profit.dropna(inplace=True)\n",
    "yellow_km_profit"
   ]
  },
  {
   "cell_type": "code",
   "execution_count": 115,
   "metadata": {},
   "outputs": [
    {
     "data": {
      "application/vnd.plotly.v1+json": {
       "config": {
        "plotlyServerURL": "https://plot.ly"
       },
       "data": [
        {
         "hovertemplate": "KM Travelled=%{x}<br>profit_percentage=%{y}<extra></extra>",
         "legendgroup": "",
         "line": {
          "color": "#636efa",
          "dash": "solid"
         },
         "marker": {
          "symbol": "circle"
         },
         "mode": "lines",
         "name": "",
         "orientation": "v",
         "showlegend": false,
         "type": "scatter",
         "x": [
          1.9,
          1.92,
          1.94,
          1.96,
          1.98,
          2,
          2.02,
          2.04,
          2.06,
          2.08,
          2.1,
          2.12,
          2.14,
          2.16,
          2.18,
          2.2,
          2.22,
          2.24,
          2.26,
          2.28,
          2.3,
          2.32,
          2.34,
          2.36,
          2.38,
          2.4,
          2.85,
          2.88,
          2.91,
          2.94,
          2.97,
          3,
          3.03,
          3.06,
          3.09,
          3.12,
          3.15,
          3.18,
          3.21,
          3.24,
          3.27,
          3.3,
          3.33,
          3.36,
          3.39,
          3.42,
          3.45,
          3.48,
          3.51,
          3.54,
          3.57,
          3.6,
          3.8,
          3.84,
          3.88,
          3.92,
          3.96,
          4,
          4.04,
          4.08,
          4.12,
          4.16,
          4.2,
          4.24,
          4.28,
          4.32,
          4.36,
          4.4,
          4.44,
          4.48,
          4.52,
          4.56,
          4.6,
          4.64,
          4.68,
          4.72,
          4.75,
          4.76,
          4.8,
          4.85,
          4.9,
          4.95,
          5,
          5.05,
          5.1,
          5.15,
          5.2,
          5.25,
          5.3,
          5.35,
          5.4,
          5.45,
          5.5,
          5.55,
          5.6,
          5.65,
          5.7,
          5.75,
          5.76,
          5.8,
          5.82,
          5.85,
          5.88,
          5.9,
          5.94,
          5.95,
          6,
          6.06,
          6.12,
          6.18,
          6.24,
          6.3,
          6.36,
          6.42,
          6.48,
          6.54,
          6.6,
          6.65,
          6.66,
          6.72,
          6.78,
          6.79,
          6.84,
          6.86,
          6.9,
          6.93,
          6.96,
          7,
          7.02,
          7.07,
          7.08,
          7.14,
          7.2,
          7.21,
          7.28,
          7.35,
          7.42,
          7.49,
          7.56,
          7.6,
          7.63,
          7.68,
          7.7,
          7.76,
          7.77,
          7.84,
          7.91,
          7.92,
          7.98,
          8,
          8.05,
          8.08,
          8.12,
          8.16,
          8.19,
          8.24,
          8.26,
          8.32,
          8.33,
          8.4,
          8.48,
          8.55,
          8.56,
          8.64,
          8.72,
          8.73,
          8.8,
          8.82,
          8.88,
          8.91,
          8.96,
          9,
          9.04,
          9.09,
          9.12,
          9.18,
          9.2,
          9.27,
          9.28,
          9.36,
          9.44,
          9.45,
          9.5,
          9.52,
          9.54,
          9.6,
          9.63,
          9.7,
          9.72,
          9.8,
          9.81,
          9.9,
          9.99,
          10,
          10.08,
          10.1,
          10.17,
          10.2,
          10.26,
          10.3,
          10.35,
          10.4,
          10.44,
          10.45,
          10.5,
          10.53,
          10.56,
          10.6,
          10.62,
          10.67,
          10.7,
          10.71,
          10.78,
          10.8,
          10.89,
          10.9,
          11,
          11.1,
          11.11,
          11.2,
          11.22,
          11.3,
          11.33,
          11.4,
          11.44,
          11.5,
          11.52,
          11.55,
          11.6,
          11.64,
          11.66,
          11.7,
          11.76,
          11.77,
          11.8,
          11.88,
          11.9,
          11.99,
          12,
          12.1,
          12.12,
          12.21,
          12.24,
          12.32,
          12.35,
          12.36,
          12.43,
          12.48,
          12.54,
          12.6,
          12.61,
          12.65,
          12.72,
          12.74,
          12.76,
          12.84,
          12.87,
          12.96,
          12.98,
          13,
          13.08,
          13.09,
          13.13,
          13.2,
          13.26,
          13.3,
          13.32,
          13.39,
          13.44,
          13.52,
          13.56,
          13.58,
          13.65,
          13.68,
          13.72,
          13.78,
          13.8,
          13.86,
          13.91,
          13.92,
          14,
          14.04,
          14.14,
          14.16,
          14.17,
          14.25,
          14.28,
          14.3,
          14.4,
          14.42,
          14.43,
          14.55,
          14.56,
          14.69,
          14.7,
          14.82,
          14.84,
          14.85,
          14.95,
          14.98,
          15,
          15.08,
          15.12,
          15.15,
          15.2,
          15.21,
          15.26,
          15.3,
          15.34,
          15.36,
          15.4,
          15.45,
          15.47,
          15.52,
          15.54,
          15.6,
          15.68,
          15.75,
          15.82,
          15.84,
          15.9,
          15.96,
          16,
          16.05,
          16.1,
          16.15,
          16.16,
          16.2,
          16.24,
          16.32,
          16.35,
          16.38,
          16.48,
          16.49,
          16.5,
          16.52,
          16.64,
          16.65,
          16.66,
          16.8,
          16.83,
          16.95,
          16.96,
          17,
          17.1,
          17.12,
          17.17,
          17.25,
          17.28,
          17.34,
          17.4,
          17.44,
          17.46,
          17.51,
          17.55,
          17.6,
          17.64,
          17.68,
          17.7,
          17.76,
          17.82,
          17.85,
          17.92,
          18,
          18.02,
          18.05,
          18.08,
          18.18,
          18.19,
          18.24,
          18.36,
          18.4,
          18.43,
          18.53,
          18.54,
          18.56,
          18.62,
          18.7,
          18.72,
          18.81,
          18.87,
          18.88,
          18.9,
          19,
          19.04,
          19.08,
          19.19,
          19.2,
          19.21,
          19.26,
          19.38,
          19.4,
          19.44,
          19.55,
          19.57,
          19.6,
          19.62,
          19.72,
          19.76,
          19.8,
          19.89,
          19.95,
          19.98,
          20,
          20.06,
          20.14,
          20.16,
          20.2,
          20.23,
          20.33,
          20.34,
          20.37,
          20.4,
          20.52,
          20.58,
          20.6,
          20.7,
          20.71,
          20.79,
          20.8,
          20.88,
          20.9,
          21,
          21.06,
          21.09,
          21.12,
          21.2,
          21.21,
          21.24,
          21.28,
          21.34,
          21.4,
          21.42,
          21.47,
          21.56,
          21.6,
          21.63,
          21.66,
          21.78,
          21.8,
          21.84,
          21.85,
          22,
          22.04,
          22.05,
          22.08,
          22.2,
          22.22,
          22.23,
          22.26,
          22.31,
          22.4,
          22.42,
          22.44,
          22.47,
          22.54,
          22.6,
          22.61,
          22.66,
          22.68,
          22.77,
          22.8,
          22.88,
          22.89,
          23,
          23.04,
          23.1,
          23.2,
          23.23,
          23.28,
          23.31,
          23.32,
          23.4,
          23.46,
          23.52,
          23.54,
          23.6,
          23.69,
          23.73,
          23.75,
          23.76,
          23.8,
          23.92,
          23.94,
          23.98,
          24,
          24.15,
          24.2,
          24.24,
          24.25,
          24.36,
          24.38,
          24.42,
          24.48,
          24.5,
          24.57,
          24.61,
          24.64,
          24.7,
          24.72,
          24.75,
          24.78,
          24.84,
          24.86,
          24.96,
          24.99,
          25,
          25.07,
          25.08,
          25.2,
          25.22,
          25.25,
          25.3,
          25.44,
          25.48,
          25.5,
          25.52,
          25.53,
          25.65,
          25.68,
          25.74,
          25.75,
          25.76,
          25.92,
          25.96,
          25.99,
          26,
          26.16,
          26.18,
          26.19,
          26.22,
          26.25,
          26.26,
          26.4,
          26.45,
          26.46,
          26.5,
          26.52,
          26.6,
          26.64,
          26.68,
          26.73,
          26.75,
          26.78,
          26.88,
          26.91,
          27,
          27.04,
          27.12,
          27.14,
          27.16,
          27.25,
          27.27,
          27.3,
          27.36,
          27.37,
          27.44,
          27.5,
          27.54,
          27.55,
          27.56,
          27.6,
          27.72,
          27.75,
          27.81,
          27.82,
          27.84,
          28,
          28.08,
          28.13,
          28.25,
          28.28,
          28.32,
          28.34,
          28.35,
          28.42,
          28.5,
          28.56,
          28.6,
          28.62,
          28.71,
          28.75,
          28.8,
          28.84,
          28.86,
          28.89,
          29,
          29.1,
          29.12,
          29.16,
          29.25,
          29.29,
          29.38,
          29.4,
          29.43,
          29.45,
          29.5,
          29.58,
          29.64,
          29.68,
          29.7,
          29.75,
          29.76,
          29.87,
          29.9,
          29.96,
          29.97,
          30,
          30.07,
          30.16,
          30.24,
          30.3,
          30.38,
          30.4,
          30.42,
          30.45,
          30.51,
          30.52,
          30.6,
          30.68,
          30.69,
          30.72,
          30.74,
          30.78,
          30.8,
          30.9,
          30.94,
          31,
          31.03,
          31.04,
          31.05,
          31.08,
          31.2,
          31.31,
          31.32,
          31.35,
          31.36,
          31.5,
          31.59,
          31.61,
          31.62,
          31.64,
          31.68,
          31.8,
          31.86,
          31.9,
          31.92,
          31.93,
          32,
          32.01,
          32.1,
          32.13,
          32.19,
          32.2,
          32.24,
          32.3,
          32.32,
          32.34,
          32.4,
          32.48,
          32.55,
          32.64,
          32.67,
          32.7,
          32.76,
          32.77,
          32.86,
          32.96,
          32.98,
          33,
          33.04,
          33.06,
          33.17,
          33.25,
          33.28,
          33.3,
          33.32,
          33.33,
          33.35,
          33.48,
          33.6,
          33.64,
          33.66,
          33.79,
          33.9,
          33.92,
          33.93,
          33.95,
          33.99,
          34,
          34.1,
          34.2,
          34.22,
          34.24,
          34.3,
          34.32,
          34.34,
          34.41,
          34.5,
          34.51,
          34.56,
          34.65,
          34.68,
          34.72,
          34.8,
          34.88,
          34.92,
          34.98,
          35,
          35.02,
          35.03,
          35.1,
          35.15,
          35.2,
          35.28,
          35.31,
          35.34,
          35.35,
          35.36,
          35.4,
          35.52,
          35.64,
          35.65,
          35.7,
          35.84,
          35.89,
          35.96,
          35.97,
          36,
          36.04,
          36.05,
          36.1,
          36.16,
          36.26,
          36.27,
          36.3,
          36.36,
          36.38,
          36.4,
          36.48,
          36.58,
          36.63,
          36.72,
          36.75,
          36.8,
          36.86,
          36.89,
          36.96,
          37,
          37.05,
          37.06,
          37.08,
          37.1,
          37.12,
          37.2,
          37.24,
          37.29,
          37.37,
          37.4,
          37.44,
          37.45,
          37.62,
          37.74,
          37.76,
          37.8,
          37.83,
          37.95,
          38,
          38.08,
          38.11,
          38.15,
          38.16,
          38.22,
          38.28,
          38.38,
          38.4,
          38.42,
          38.48,
          38.5,
          38.52,
          38.61,
          38.76,
          38.8,
          38.85,
          38.88,
          38.94,
          39,
          39.1,
          39.14,
          39.2,
          39.22,
          39.24,
          39.27,
          39.39,
          39.44,
          39.52,
          39.55,
          39.59,
          39.6,
          39.78,
          39.9,
          39.96,
          40,
          40.12,
          40.17,
          40.25,
          40.28,
          40.32,
          40.33,
          40.4,
          40.46,
          40.56,
          40.6,
          40.66,
          40.68,
          40.7,
          40.8,
          40.95,
          41.04,
          41.07,
          41.2,
          41.3,
          41.34,
          41.4,
          41.42,
          41.44,
          41.6,
          41.65,
          41.73,
          41.76,
          41.8,
          41.81,
          42,
          42.12,
          42.18,
          42.4,
          42.48,
          42.51,
          42.55,
          42.56,
          42.8,
          42.84,
          42.9,
          42.92,
          42.94,
          43.2,
          43.29,
          43.32,
          43.6,
          43.66,
          43.68,
          43.7,
          44,
          44.03,
          44.07,
          44.08,
          44.4,
          44.46,
          44.8,
          44.84,
          44.85,
          45.2,
          45.22,
          45.24,
          45.6,
          45.63,
          46,
          46.02,
          46.4,
          46.41,
          46.8,
          47.2,
          47.6,
          48
         ],
         "xaxis": "x",
         "y": [
          54.86366498594807,
          49.22698586364246,
          58.52261693366948,
          56.07398217804382,
          60.23441015197632,
          55.289967468319816,
          52.14643621952611,
          49.725798519983265,
          50.833936498444764,
          54.830714599347985,
          55.15506073985775,
          59.54493790872582,
          57.9463623730007,
          50.11328433694918,
          51.20969317426568,
          51.883610131064856,
          52.036135025385256,
          57.30241702798091,
          46.48598193894657,
          50.801181286372255,
          54.824550227460236,
          52.97874912488827,
          53.816876217906724,
          55.718862423623506,
          56.53532649692152,
          53.980994902254665,
          57.44001294672371,
          55.865089177657026,
          51.45450042811467,
          54.960997875633595,
          52.04638330254013,
          52.71439956477379,
          53.15460841125349,
          58.8671825032688,
          54.67643608897683,
          55.974914690539876,
          54.195575121433635,
          53.07728617161622,
          50.3952042674213,
          53.25998586158888,
          51.51926847521584,
          56.211107766624394,
          53.592440804521566,
          52.29033763092292,
          56.65919754723733,
          55.067920544920646,
          56.11574532159222,
          56.54142358454381,
          52.036963493534785,
          56.79288137790117,
          53.9027205688603,
          50.679461400102994,
          56.67403386464726,
          59.631619077230084,
          52.669951127432,
          52.79610075970176,
          50.355294153535645,
          56.581542784047556,
          53.852306232072145,
          56.42271630629471,
          55.62613905503477,
          56.50193439870656,
          51.4041046963269,
          55.31784503834202,
          52.313103006680095,
          55.32511296828479,
          58.27206272646672,
          54.728706356295966,
          52.05157631510696,
          49.22696945405739,
          51.45900603175297,
          54.688299642568424,
          52.18085824418902,
          55.39058462261619,
          51.94571982139726,
          50.110867863233345,
          57.67439936982594,
          54.94901636214193,
          54.181805669904485,
          59.787626457116374,
          54.82813229394573,
          49.96742010511187,
          51.098060874043185,
          54.48180723978276,
          51.112675024044144,
          55.297237504142636,
          62.62613941674689,
          52.92502733419494,
          55.057294158793084,
          51.074451938759886,
          53.613532223084164,
          54.52406514299823,
          55.02664722314109,
          59.924914926729265,
          54.74905167780636,
          56.57951246192364,
          52.58263626676052,
          53.29446047831589,
          54.934731127793825,
          58.658824528831666,
          53.07443722967547,
          57.19229542028893,
          55.00283420727142,
          54.20296191109083,
          54.65736713332675,
          56.81854614626636,
          54.76382816204916,
          54.00439699146493,
          60.06879345905581,
          52.112921425948386,
          53.12200816089603,
          52.46465904346651,
          54.82235428147243,
          51.75769066444825,
          56.13546626376003,
          55.3892118517966,
          52.104736829885084,
          50.89612102096648,
          52.17683989394136,
          54.393290934530086,
          55.90727091085431,
          52.02003050000617,
          52.24049189500269,
          55.95967679047841,
          49.11723491972604,
          51.34409129815811,
          54.475835524090456,
          55.60126323277339,
          54.1323080898599,
          55.34902451318694,
          51.020793532327296,
          55.35461744127497,
          53.40469468209954,
          53.19752056261734,
          57.05017054285908,
          59.36269090655283,
          55.138595754294116,
          51.86997575136409,
          55.00468858064771,
          51.563928635859305,
          52.391170904014004,
          57.96712305275791,
          51.17180279629817,
          58.66362684836558,
          57.64145078941214,
          56.49696428476533,
          59.81847479318167,
          55.340699445450326,
          54.52346952399908,
          57.43462942888502,
          56.638698382698784,
          53.97643041594545,
          52.71268354360409,
          56.59035572904629,
          54.407164030997755,
          55.61709271943547,
          53.71711074491132,
          54.70774778544074,
          56.43505961831219,
          57.199707950628635,
          53.725493781709105,
          53.79044091156374,
          56.00744635020063,
          55.084520471038985,
          57.40864216867497,
          51.68265770453801,
          57.61683979538665,
          53.23047650551275,
          54.49620290691148,
          53.596236508199574,
          52.443179842652704,
          56.44119513924016,
          54.2162721292067,
          52.68557124706495,
          54.955268491652504,
          51.91648709970798,
          52.78532750116247,
          55.1445621839898,
          57.43777972346972,
          54.53713664923556,
          58.0919949142939,
          52.7289970695638,
          51.64220377780891,
          50.819971586096266,
          55.77117192262961,
          53.403885423162656,
          52.92102409089078,
          54.587064305933445,
          56.38043490122472,
          53.3873548815381,
          56.430606535971776,
          53.87144077828132,
          50.575549152761205,
          53.19716221638877,
          54.735199359069966,
          53.29965557849488,
          51.14366375784228,
          51.8082355282113,
          51.05336148406118,
          57.634977121641505,
          59.43793345892963,
          57.86885295239611,
          53.95253144751256,
          53.92509881848834,
          55.086705905714055,
          49.25665375063855,
          52.83517177200175,
          50.861423206940806,
          55.28584113598639,
          55.47517912969259,
          48.736641497663854,
          57.68341976442053,
          55.522327500411116,
          55.496628829624065,
          52.22948289723381,
          55.02693375741186,
          50.8080826526134,
          50.50353349714872,
          52.24492090443821,
          55.722763427251,
          50.48065317157654,
          52.59690836623167,
          57.20385937460091,
          55.25937095987084,
          56.58519684523317,
          55.050535684240856,
          56.72286701668472,
          54.598064549480675,
          53.75363274222955,
          58.30329095898578,
          52.47574547393577,
          56.37219517443509,
          54.613730214198725,
          55.55734200452295,
          58.563710772832195,
          52.5626533010119,
          54.43432864781672,
          52.44092023160395,
          56.278944974920165,
          54.241055562600735,
          53.50435026064593,
          55.62237370511468,
          50.15893794157417,
          52.54877755862919,
          56.60700955548436,
          53.266242543978066,
          51.75982163519674,
          55.621324706971684,
          57.618604708355434,
          52.944061350031326,
          53.76926535958225,
          53.14225548120302,
          53.81287226975802,
          56.124595039922134,
          55.12608640242345,
          52.24000597908665,
          53.54305526987355,
          50.319077795782924,
          59.30187762255528,
          49.60936477636425,
          51.148649150582585,
          55.89799953308152,
          56.280405468591205,
          49.34438368841639,
          52.72633008869805,
          51.54589791853085,
          56.17146754616312,
          58.56040563022722,
          52.692740779788075,
          52.06658003024113,
          53.1574543490227,
          56.853990341404035,
          51.94105283989612,
          52.18400091389288,
          49.237203996611186,
          54.23890319194319,
          56.01815950817486,
          55.081229255920654,
          55.7277093569963,
          52.23581549402586,
          52.542990702840996,
          52.547435790002716,
          52.76184382019329,
          53.71738797736575,
          54.07021387986807,
          54.33679276275662,
          55.545504579256324,
          49.74940142426459,
          51.59592701330564,
          53.2137433842542,
          51.799700275664065,
          53.14673720581018,
          52.356976091417046,
          56.09788561992073,
          51.68594276215429,
          53.28390194078838,
          52.023283331644535,
          54.9627041432401,
          56.038479761403906,
          53.452926022573614,
          60.396391971574175,
          58.60567578224061,
          55.082695986997614,
          52.95331783213418,
          55.967139909153104,
          56.55200549131158,
          55.9444041795109,
          52.08876592134965,
          51.770924359847065,
          48.67007606672098,
          53.52295826350544,
          54.87127302731642,
          55.660160873226616,
          52.77570135230008,
          56.479044201138365,
          57.53102176407111,
          54.36757109030914,
          55.50584529741758,
          54.64089339599924,
          58.27652043834172,
          54.81005361194485,
          54.6241829022293,
          56.778850489864965,
          54.21231289527291,
          51.00111945190939,
          54.21652730155509,
          55.06082752461363,
          52.5977277096027,
          56.739023773942804,
          51.21553518951475,
          54.0660503281027,
          49.15851025989892,
          55.40311368976796,
          51.16960461935136,
          52.94651320949149,
          51.09261643795136,
          54.24459735030561,
          56.95933565011935,
          51.586187376908676,
          55.12347475372975,
          52.909037403555544,
          56.56339120966648,
          52.10527392051752,
          50.079527885548956,
          54.21887342724787,
          52.128345564863125,
          53.05507570715843,
          53.63128653095385,
          55.90139544982349,
          57.859713300783014,
          50.121451921737595,
          53.488810582928785,
          54.531538955687395,
          52.776915568654125,
          55.22375892876643,
          53.30251998942893,
          54.89762351450915,
          56.52128323945047,
          50.214475732447596,
          55.18842650222531,
          53.74884295208357,
          53.40268784758411,
          59.80428721807335,
          53.7159932332231,
          53.01106702889664,
          52.75775752893456,
          57.31253006546056,
          53.151343606909236,
          55.57586629794829,
          53.8497829643997,
          54.440083649457605,
          52.31528014982975,
          54.180186211739354,
          56.619110393468056,
          62.22753027692026,
          50.62083212463259,
          56.86550553921823,
          49.46262841941201,
          54.31113659162026,
          56.39076128604793,
          57.54059603574264,
          53.110017583356225,
          56.12681162742496,
          57.85513580048924,
          54.56663208863962,
          54.48354064847696,
          51.5087572937933,
          57.055638814758936,
          55.79528359018291,
          53.60811955896686,
          53.97941566643298,
          54.78080179576703,
          52.84610532785425,
          52.15238657301437,
          52.91535702925481,
          55.41026625074986,
          53.59832652183207,
          52.514893265898976,
          53.000331755866725,
          54.63226799343962,
          52.25703210446763,
          53.49730070074642,
          54.10047925504243,
          59.79121782565396,
          54.28026999246218,
          50.17528015079695,
          54.58086477823892,
          54.19768506163674,
          59.89153626364232,
          55.821230622786786,
          56.81747297417035,
          57.47445208475267,
          53.093792914263446,
          52.386499353602005,
          53.19211895407263,
          49.28580615424782,
          55.906920158944544,
          56.140011634514444,
          49.869006681390985,
          56.46992845777696,
          55.893564089146764,
          56.69398095883385,
          54.030303539390005,
          52.942734392474954,
          59.39737658711931,
          53.69473121734857,
          52.87553960689907,
          54.142749373349496,
          52.72065411609148,
          56.39927483065602,
          57.86157057230562,
          56.71422715152216,
          54.26415026844153,
          51.73124207200694,
          58.43666416742395,
          54.432638594445386,
          55.01483123886737,
          55.33454675101606,
          52.78781433573549,
          54.841142280264826,
          50.06822185538703,
          54.33448822157292,
          59.16435558702755,
          51.08359081131957,
          53.91322475461716,
          49.7290497454438,
          52.70156447816444,
          50.861055054272924,
          53.86012017949631,
          57.03671669938676,
          54.784683549932126,
          55.28247881714449,
          55.32972381629978,
          50.24999358414919,
          55.73224847544616,
          50.396323918453774,
          58.864353232835114,
          49.99820494352797,
          52.52090496585472,
          57.7107359464423,
          56.64773746870592,
          56.74395403038018,
          53.50291725544506,
          57.10486979602581,
          54.75680563986789,
          51.78882751348977,
          54.7844230607499,
          56.897902156877805,
          57.583320134351844,
          55.04432237345802,
          56.84204051169305,
          57.52075030237407,
          56.969235900068746,
          56.09202193389742,
          54.27061106518151,
          56.13259994466707,
          53.692723103257805,
          55.57305385629186,
          53.78842484993728,
          56.346104783837106,
          53.52162809667985,
          52.701632299023196,
          54.672706953203324,
          55.45060239706907,
          54.22951060253504,
          54.37155470942971,
          55.765587058735754,
          55.8634501168215,
          53.119396995027145,
          60.19684225950521,
          48.99985260723179,
          54.256895500486955,
          57.82055510673854,
          57.233992018816075,
          53.04754474651493,
          56.72834135175939,
          57.38849499373242,
          60.689181364596564,
          57.65776238889977,
          52.67572234947587,
          56.67979165864012,
          56.136271291221824,
          55.73749477785594,
          52.88129603340617,
          55.66304314405247,
          58.65562426102071,
          58.1687178163731,
          53.42334883132986,
          54.92415331552563,
          54.53944762775916,
          50.51609128894532,
          54.066864034967566,
          58.54342790599495,
          61.80098201859343,
          51.15143477309384,
          56.580748126851454,
          53.15498086558692,
          55.84151853353069,
          53.16242004217485,
          50.706497027091196,
          51.82621900571168,
          54.79925827808943,
          52.86762581465039,
          53.8506406013446,
          54.990940119454386,
          54.730001240148226,
          54.084326253432025,
          55.248871354079924,
          57.83385500493077,
          53.495982321689226,
          56.20425936737937,
          51.34744431093214,
          56.65084182934333,
          56.157925643684216,
          51.46052155923279,
          55.53219841285888,
          56.167219366298994,
          52.02986569485471,
          52.779101161812164,
          56.04861798210728,
          55.888770065754194,
          56.55258508233998,
          53.857277919072125,
          51.67316088033853,
          53.71302534164788,
          51.43799370901865,
          54.74285779839321,
          49.78359389310021,
          54.74430258265008,
          57.020432841649125,
          52.63571745373277,
          59.70670475176806,
          53.623640821515494,
          55.58175418068234,
          60.569636028123675,
          55.40233888800951,
          54.83024967288497,
          56.7625075791423,
          52.69063940626114,
          52.82709326590255,
          54.2993929247271,
          54.08279062035292,
          57.12128958864318,
          52.8756689386804,
          54.56858633469417,
          53.26950946003479,
          53.520928325962046,
          51.09365154633178,
          55.616128413676215,
          58.942591402485746,
          58.14088415292382,
          54.12844905619229,
          54.741080263317315,
          52.734400751761974,
          51.634396995950326,
          53.94418591225965,
          52.65282818868852,
          53.80008229227726,
          54.06587973472985,
          53.68631564994713,
          55.853354265900975,
          55.16535269809807,
          52.89267185104942,
          57.47542700132958,
          55.46676107879513,
          56.42510023399877,
          53.517346706407125,
          58.81367837965192,
          51.73040439876277,
          51.61190723655316,
          53.78263668152013,
          57.62748991758072,
          53.58315709029362,
          54.622735866752585,
          52.79924161412532,
          57.49507530312996,
          50.79232045432667,
          52.22859338051906,
          48.8936206440209,
          52.5772157600744,
          51.24525306884182,
          56.126187814875536,
          54.852253920681434,
          53.113212275450614,
          54.492565287050105,
          51.16036281315804,
          54.13747790783987,
          54.82863874834005,
          56.76883962152588,
          53.92100432142532,
          54.63373503456349,
          50.52693154616924,
          51.10676351232294,
          53.48745916446619,
          51.2991963119112,
          51.13980191084364,
          48.457338012747165,
          55.625745330504934,
          50.03235406270462,
          47.85939453022324,
          55.67125609869086,
          49.43526649793699,
          55.979220930362615,
          55.78424499453864,
          58.07504519739282,
          55.74418468154326,
          52.910115388200204,
          59.23152871147331,
          49.934493349672366,
          55.23976183308456,
          55.0897996674353,
          54.672836528327544,
          53.83862312606427,
          51.3539545209451,
          53.219653323758806,
          58.01465001479077,
          53.611232245814726,
          50.41904124833483,
          52.44845924369221,
          50.43889752748773,
          52.88349314790679,
          57.204242065589355,
          53.18879876268686,
          58.44035387586378,
          49.1394543169914,
          53.50194332289993,
          52.62258450146769,
          49.541460741002574,
          53.64685179487063,
          50.25885536421228,
          57.052067991175775,
          58.78288247623888,
          52.93104410119883,
          54.849996115955804,
          52.46337121504622,
          54.388302571377594,
          58.380378583539056,
          60.37985181444812,
          57.77111340221772,
          55.10825854234411,
          53.91265217789385,
          54.80028110813107,
          56.50127430206414,
          56.8504301462575,
          53.90666980548362,
          55.43896050878142,
          53.12157449203824,
          51.85218040422989,
          54.39070055811034,
          56.232046989012524,
          59.111709922504225,
          59.794334595311156,
          53.79751198169892,
          54.93572846858246,
          54.90683963160593,
          57.817960497776795,
          56.664814429495,
          54.7924166059294,
          48.931707154118655,
          57.57227146941225,
          54.896555710436026,
          53.92324677259633,
          54.86322162283725,
          56.70639297304169,
          57.038718422614345,
          55.252317069995705,
          53.48933724344498,
          54.537769750918706,
          50.197098313846595,
          54.55605158618363,
          57.41784570223325,
          56.56603743949807,
          55.5366540833565,
          51.74732970580627,
          53.95406889324504,
          54.85419383511469,
          52.44060404793217,
          57.21606130789283,
          52.19392641268396,
          56.608656863923756,
          55.40260009792237,
          56.27721029466533,
          52.57937396271173,
          58.72589864975309,
          52.09319284213132,
          55.45139209009437,
          55.61013632240963,
          54.42813530707817,
          55.77941723725829,
          55.22099601805884,
          55.86770726795349,
          55.88354510159394,
          51.9374037379579,
          59.22976198761919,
          55.57839060970856,
          52.09614368188194,
          56.6564288393321,
          56.18901221660721,
          52.570413384913934,
          54.33719332128699,
          53.97428596778815,
          54.21270837990399,
          55.18924505219595,
          54.44574264037272,
          58.05383007973324,
          55.46486431107793,
          54.05271192805839,
          50.648155699206335,
          55.9564637011555,
          54.56525905819743,
          54.627937318695665,
          49.09297843576122,
          50.57847939363944,
          51.685849347807064,
          55.80992522050559,
          54.29031787804679,
          53.45915924324305,
          54.074601302410294,
          52.27528604965412,
          54.21473768545289,
          49.69138886227728,
          57.139305244339695,
          51.44006690949834,
          57.526100165000265,
          56.0329418747685,
          52.24209337614296,
          56.82113128678562,
          56.60058741721715,
          51.47761012352724,
          54.6877593986965,
          56.08155285748697,
          55.799172090249634,
          50.90025795528006,
          56.112016424853316,
          47.49985632251014,
          59.50111071408426,
          48.61348140235966,
          58.783864586949804,
          53.69171527214748,
          54.227844168717915,
          56.77703923182045,
          54.62317286679723,
          52.374218017997066,
          53.59257997059835,
          53.34569825682122,
          53.3916517838251,
          50.45171752601664,
          55.59980106056508,
          58.36669419628202,
          50.93529503966408,
          50.655484378133806,
          55.962659869144666,
          53.443758021809856,
          57.102963498692155,
          57.09815801280575,
          53.68624514313121,
          53.10656444998072,
          54.896644156444474,
          54.65552700866987,
          56.38392028190724,
          54.668117780048696,
          53.60032583087877,
          57.076037613540876,
          50.41172267408563,
          58.29332885575078,
          52.26256035580893,
          52.46623943796316,
          49.46969709893284,
          60.03608170682864,
          54.26561849958224,
          54.63626501635643,
          50.5800029228552,
          50.161879377283626,
          55.15314638979214,
          56.515738513752375,
          49.06849337597543,
          54.53505399441932,
          56.409265510226014,
          53.293724497168846,
          54.457244821668766,
          54.47329610342643,
          50.18736988056913,
          55.192552349559435,
          52.7952057309514,
          52.45781637277613,
          55.84377336517543,
          52.87238914208421,
          58.248029734751285,
          53.00225096066439,
          53.731540936638815,
          53.64372947039903,
          55.78139429996625,
          56.48142912472257,
          55.319277816745874,
          51.045955995671875,
          51.39107835790338,
          52.793663244735825,
          56.91232044916954,
          51.518354964842565,
          54.346514481058435,
          54.35644890329455,
          53.54262737534297,
          59.23511208634948,
          56.83972246315612,
          51.814738991611705,
          54.41093516667883,
          50.89653492117364,
          60.67134616913079,
          48.75896017762614,
          50.38534794991168,
          50.23967936146133,
          51.463218915357324,
          53.996729102802675,
          55.03976714171697,
          52.98943710452813,
          51.30167716927794,
          48.93199076651746,
          53.63415160960138,
          53.653997506058275,
          55.382914483171135,
          55.809171346780566,
          50.85171691990185,
          56.62602315885696,
          48.164912608678065,
          57.739414362637206,
          56.06316888483561,
          54.24650455202489,
          53.59104614736847,
          54.22935415509098,
          55.56518089975298,
          54.29901256965089,
          56.33367481173328,
          53.60353635181026,
          46.48359579611521,
          55.65999149250788,
          55.26755896322001,
          54.15634539984497,
          54.608545493083035,
          53.90060917149479,
          53.639796792919114,
          57.70018411465461,
          55.990881044554236,
          48.416106018723866,
          50.84167024835639,
          53.91625083042546,
          51.630036416539575,
          52.423828318204244,
          55.58447379264562,
          50.68725412212659,
          49.52245490905294,
          52.14568921462184,
          57.37642191140413,
          53.09655826503632,
          53.07423217404666
         ],
         "yaxis": "y"
        }
       ],
       "layout": {
        "legend": {
         "tracegroupgap": 0
        },
        "margin": {
         "t": 60
        },
        "template": {
         "data": {
          "bar": [
           {
            "error_x": {
             "color": "#2a3f5f"
            },
            "error_y": {
             "color": "#2a3f5f"
            },
            "marker": {
             "line": {
              "color": "#E5ECF6",
              "width": 0.5
             },
             "pattern": {
              "fillmode": "overlay",
              "size": 10,
              "solidity": 0.2
             }
            },
            "type": "bar"
           }
          ],
          "barpolar": [
           {
            "marker": {
             "line": {
              "color": "#E5ECF6",
              "width": 0.5
             },
             "pattern": {
              "fillmode": "overlay",
              "size": 10,
              "solidity": 0.2
             }
            },
            "type": "barpolar"
           }
          ],
          "carpet": [
           {
            "aaxis": {
             "endlinecolor": "#2a3f5f",
             "gridcolor": "white",
             "linecolor": "white",
             "minorgridcolor": "white",
             "startlinecolor": "#2a3f5f"
            },
            "baxis": {
             "endlinecolor": "#2a3f5f",
             "gridcolor": "white",
             "linecolor": "white",
             "minorgridcolor": "white",
             "startlinecolor": "#2a3f5f"
            },
            "type": "carpet"
           }
          ],
          "choropleth": [
           {
            "colorbar": {
             "outlinewidth": 0,
             "ticks": ""
            },
            "type": "choropleth"
           }
          ],
          "contour": [
           {
            "colorbar": {
             "outlinewidth": 0,
             "ticks": ""
            },
            "colorscale": [
             [
              0,
              "#0d0887"
             ],
             [
              0.1111111111111111,
              "#46039f"
             ],
             [
              0.2222222222222222,
              "#7201a8"
             ],
             [
              0.3333333333333333,
              "#9c179e"
             ],
             [
              0.4444444444444444,
              "#bd3786"
             ],
             [
              0.5555555555555556,
              "#d8576b"
             ],
             [
              0.6666666666666666,
              "#ed7953"
             ],
             [
              0.7777777777777778,
              "#fb9f3a"
             ],
             [
              0.8888888888888888,
              "#fdca26"
             ],
             [
              1,
              "#f0f921"
             ]
            ],
            "type": "contour"
           }
          ],
          "contourcarpet": [
           {
            "colorbar": {
             "outlinewidth": 0,
             "ticks": ""
            },
            "type": "contourcarpet"
           }
          ],
          "heatmap": [
           {
            "colorbar": {
             "outlinewidth": 0,
             "ticks": ""
            },
            "colorscale": [
             [
              0,
              "#0d0887"
             ],
             [
              0.1111111111111111,
              "#46039f"
             ],
             [
              0.2222222222222222,
              "#7201a8"
             ],
             [
              0.3333333333333333,
              "#9c179e"
             ],
             [
              0.4444444444444444,
              "#bd3786"
             ],
             [
              0.5555555555555556,
              "#d8576b"
             ],
             [
              0.6666666666666666,
              "#ed7953"
             ],
             [
              0.7777777777777778,
              "#fb9f3a"
             ],
             [
              0.8888888888888888,
              "#fdca26"
             ],
             [
              1,
              "#f0f921"
             ]
            ],
            "type": "heatmap"
           }
          ],
          "heatmapgl": [
           {
            "colorbar": {
             "outlinewidth": 0,
             "ticks": ""
            },
            "colorscale": [
             [
              0,
              "#0d0887"
             ],
             [
              0.1111111111111111,
              "#46039f"
             ],
             [
              0.2222222222222222,
              "#7201a8"
             ],
             [
              0.3333333333333333,
              "#9c179e"
             ],
             [
              0.4444444444444444,
              "#bd3786"
             ],
             [
              0.5555555555555556,
              "#d8576b"
             ],
             [
              0.6666666666666666,
              "#ed7953"
             ],
             [
              0.7777777777777778,
              "#fb9f3a"
             ],
             [
              0.8888888888888888,
              "#fdca26"
             ],
             [
              1,
              "#f0f921"
             ]
            ],
            "type": "heatmapgl"
           }
          ],
          "histogram": [
           {
            "marker": {
             "pattern": {
              "fillmode": "overlay",
              "size": 10,
              "solidity": 0.2
             }
            },
            "type": "histogram"
           }
          ],
          "histogram2d": [
           {
            "colorbar": {
             "outlinewidth": 0,
             "ticks": ""
            },
            "colorscale": [
             [
              0,
              "#0d0887"
             ],
             [
              0.1111111111111111,
              "#46039f"
             ],
             [
              0.2222222222222222,
              "#7201a8"
             ],
             [
              0.3333333333333333,
              "#9c179e"
             ],
             [
              0.4444444444444444,
              "#bd3786"
             ],
             [
              0.5555555555555556,
              "#d8576b"
             ],
             [
              0.6666666666666666,
              "#ed7953"
             ],
             [
              0.7777777777777778,
              "#fb9f3a"
             ],
             [
              0.8888888888888888,
              "#fdca26"
             ],
             [
              1,
              "#f0f921"
             ]
            ],
            "type": "histogram2d"
           }
          ],
          "histogram2dcontour": [
           {
            "colorbar": {
             "outlinewidth": 0,
             "ticks": ""
            },
            "colorscale": [
             [
              0,
              "#0d0887"
             ],
             [
              0.1111111111111111,
              "#46039f"
             ],
             [
              0.2222222222222222,
              "#7201a8"
             ],
             [
              0.3333333333333333,
              "#9c179e"
             ],
             [
              0.4444444444444444,
              "#bd3786"
             ],
             [
              0.5555555555555556,
              "#d8576b"
             ],
             [
              0.6666666666666666,
              "#ed7953"
             ],
             [
              0.7777777777777778,
              "#fb9f3a"
             ],
             [
              0.8888888888888888,
              "#fdca26"
             ],
             [
              1,
              "#f0f921"
             ]
            ],
            "type": "histogram2dcontour"
           }
          ],
          "mesh3d": [
           {
            "colorbar": {
             "outlinewidth": 0,
             "ticks": ""
            },
            "type": "mesh3d"
           }
          ],
          "parcoords": [
           {
            "line": {
             "colorbar": {
              "outlinewidth": 0,
              "ticks": ""
             }
            },
            "type": "parcoords"
           }
          ],
          "pie": [
           {
            "automargin": true,
            "type": "pie"
           }
          ],
          "scatter": [
           {
            "fillpattern": {
             "fillmode": "overlay",
             "size": 10,
             "solidity": 0.2
            },
            "type": "scatter"
           }
          ],
          "scatter3d": [
           {
            "line": {
             "colorbar": {
              "outlinewidth": 0,
              "ticks": ""
             }
            },
            "marker": {
             "colorbar": {
              "outlinewidth": 0,
              "ticks": ""
             }
            },
            "type": "scatter3d"
           }
          ],
          "scattercarpet": [
           {
            "marker": {
             "colorbar": {
              "outlinewidth": 0,
              "ticks": ""
             }
            },
            "type": "scattercarpet"
           }
          ],
          "scattergeo": [
           {
            "marker": {
             "colorbar": {
              "outlinewidth": 0,
              "ticks": ""
             }
            },
            "type": "scattergeo"
           }
          ],
          "scattergl": [
           {
            "marker": {
             "colorbar": {
              "outlinewidth": 0,
              "ticks": ""
             }
            },
            "type": "scattergl"
           }
          ],
          "scattermapbox": [
           {
            "marker": {
             "colorbar": {
              "outlinewidth": 0,
              "ticks": ""
             }
            },
            "type": "scattermapbox"
           }
          ],
          "scatterpolar": [
           {
            "marker": {
             "colorbar": {
              "outlinewidth": 0,
              "ticks": ""
             }
            },
            "type": "scatterpolar"
           }
          ],
          "scatterpolargl": [
           {
            "marker": {
             "colorbar": {
              "outlinewidth": 0,
              "ticks": ""
             }
            },
            "type": "scatterpolargl"
           }
          ],
          "scatterternary": [
           {
            "marker": {
             "colorbar": {
              "outlinewidth": 0,
              "ticks": ""
             }
            },
            "type": "scatterternary"
           }
          ],
          "surface": [
           {
            "colorbar": {
             "outlinewidth": 0,
             "ticks": ""
            },
            "colorscale": [
             [
              0,
              "#0d0887"
             ],
             [
              0.1111111111111111,
              "#46039f"
             ],
             [
              0.2222222222222222,
              "#7201a8"
             ],
             [
              0.3333333333333333,
              "#9c179e"
             ],
             [
              0.4444444444444444,
              "#bd3786"
             ],
             [
              0.5555555555555556,
              "#d8576b"
             ],
             [
              0.6666666666666666,
              "#ed7953"
             ],
             [
              0.7777777777777778,
              "#fb9f3a"
             ],
             [
              0.8888888888888888,
              "#fdca26"
             ],
             [
              1,
              "#f0f921"
             ]
            ],
            "type": "surface"
           }
          ],
          "table": [
           {
            "cells": {
             "fill": {
              "color": "#EBF0F8"
             },
             "line": {
              "color": "white"
             }
            },
            "header": {
             "fill": {
              "color": "#C8D4E3"
             },
             "line": {
              "color": "white"
             }
            },
            "type": "table"
           }
          ]
         },
         "layout": {
          "annotationdefaults": {
           "arrowcolor": "#2a3f5f",
           "arrowhead": 0,
           "arrowwidth": 1
          },
          "autotypenumbers": "strict",
          "coloraxis": {
           "colorbar": {
            "outlinewidth": 0,
            "ticks": ""
           }
          },
          "colorscale": {
           "diverging": [
            [
             0,
             "#8e0152"
            ],
            [
             0.1,
             "#c51b7d"
            ],
            [
             0.2,
             "#de77ae"
            ],
            [
             0.3,
             "#f1b6da"
            ],
            [
             0.4,
             "#fde0ef"
            ],
            [
             0.5,
             "#f7f7f7"
            ],
            [
             0.6,
             "#e6f5d0"
            ],
            [
             0.7,
             "#b8e186"
            ],
            [
             0.8,
             "#7fbc41"
            ],
            [
             0.9,
             "#4d9221"
            ],
            [
             1,
             "#276419"
            ]
           ],
           "sequential": [
            [
             0,
             "#0d0887"
            ],
            [
             0.1111111111111111,
             "#46039f"
            ],
            [
             0.2222222222222222,
             "#7201a8"
            ],
            [
             0.3333333333333333,
             "#9c179e"
            ],
            [
             0.4444444444444444,
             "#bd3786"
            ],
            [
             0.5555555555555556,
             "#d8576b"
            ],
            [
             0.6666666666666666,
             "#ed7953"
            ],
            [
             0.7777777777777778,
             "#fb9f3a"
            ],
            [
             0.8888888888888888,
             "#fdca26"
            ],
            [
             1,
             "#f0f921"
            ]
           ],
           "sequentialminus": [
            [
             0,
             "#0d0887"
            ],
            [
             0.1111111111111111,
             "#46039f"
            ],
            [
             0.2222222222222222,
             "#7201a8"
            ],
            [
             0.3333333333333333,
             "#9c179e"
            ],
            [
             0.4444444444444444,
             "#bd3786"
            ],
            [
             0.5555555555555556,
             "#d8576b"
            ],
            [
             0.6666666666666666,
             "#ed7953"
            ],
            [
             0.7777777777777778,
             "#fb9f3a"
            ],
            [
             0.8888888888888888,
             "#fdca26"
            ],
            [
             1,
             "#f0f921"
            ]
           ]
          },
          "colorway": [
           "#636efa",
           "#EF553B",
           "#00cc96",
           "#ab63fa",
           "#FFA15A",
           "#19d3f3",
           "#FF6692",
           "#B6E880",
           "#FF97FF",
           "#FECB52"
          ],
          "font": {
           "color": "#2a3f5f"
          },
          "geo": {
           "bgcolor": "white",
           "lakecolor": "white",
           "landcolor": "#E5ECF6",
           "showlakes": true,
           "showland": true,
           "subunitcolor": "white"
          },
          "hoverlabel": {
           "align": "left"
          },
          "hovermode": "closest",
          "mapbox": {
           "style": "light"
          },
          "paper_bgcolor": "white",
          "plot_bgcolor": "#E5ECF6",
          "polar": {
           "angularaxis": {
            "gridcolor": "white",
            "linecolor": "white",
            "ticks": ""
           },
           "bgcolor": "#E5ECF6",
           "radialaxis": {
            "gridcolor": "white",
            "linecolor": "white",
            "ticks": ""
           }
          },
          "scene": {
           "xaxis": {
            "backgroundcolor": "#E5ECF6",
            "gridcolor": "white",
            "gridwidth": 2,
            "linecolor": "white",
            "showbackground": true,
            "ticks": "",
            "zerolinecolor": "white"
           },
           "yaxis": {
            "backgroundcolor": "#E5ECF6",
            "gridcolor": "white",
            "gridwidth": 2,
            "linecolor": "white",
            "showbackground": true,
            "ticks": "",
            "zerolinecolor": "white"
           },
           "zaxis": {
            "backgroundcolor": "#E5ECF6",
            "gridcolor": "white",
            "gridwidth": 2,
            "linecolor": "white",
            "showbackground": true,
            "ticks": "",
            "zerolinecolor": "white"
           }
          },
          "shapedefaults": {
           "line": {
            "color": "#2a3f5f"
           }
          },
          "ternary": {
           "aaxis": {
            "gridcolor": "white",
            "linecolor": "white",
            "ticks": ""
           },
           "baxis": {
            "gridcolor": "white",
            "linecolor": "white",
            "ticks": ""
           },
           "bgcolor": "#E5ECF6",
           "caxis": {
            "gridcolor": "white",
            "linecolor": "white",
            "ticks": ""
           }
          },
          "title": {
           "x": 0.05
          },
          "xaxis": {
           "automargin": true,
           "gridcolor": "white",
           "linecolor": "white",
           "ticks": "",
           "title": {
            "standoff": 15
           },
           "zerolinecolor": "white",
           "zerolinewidth": 2
          },
          "yaxis": {
           "automargin": true,
           "gridcolor": "white",
           "linecolor": "white",
           "ticks": "",
           "title": {
            "standoff": 15
           },
           "zerolinecolor": "white",
           "zerolinewidth": 2
          }
         }
        },
        "xaxis": {
         "anchor": "y",
         "domain": [
          0,
          1
         ],
         "title": {
          "text": "KM Travelled"
         }
        },
        "yaxis": {
         "anchor": "x",
         "domain": [
          0,
          1
         ],
         "title": {
          "text": "profit_percentage"
         }
        }
       }
      },
      "text/html": [
       "<div>                            <div id=\"78c6eb18-25e1-4b62-9c44-e3e47a947a12\" class=\"plotly-graph-div\" style=\"height:525px; width:100%;\"></div>            <script type=\"text/javascript\">                require([\"plotly\"], function(Plotly) {                    window.PLOTLYENV=window.PLOTLYENV || {};                                    if (document.getElementById(\"78c6eb18-25e1-4b62-9c44-e3e47a947a12\")) {                    Plotly.newPlot(                        \"78c6eb18-25e1-4b62-9c44-e3e47a947a12\",                        [{\"hovertemplate\":\"KM Travelled=%{x}<br>profit_percentage=%{y}<extra></extra>\",\"legendgroup\":\"\",\"line\":{\"color\":\"#636efa\",\"dash\":\"solid\"},\"marker\":{\"symbol\":\"circle\"},\"mode\":\"lines\",\"name\":\"\",\"orientation\":\"v\",\"showlegend\":false,\"x\":[1.9,1.92,1.94,1.96,1.98,2.0,2.02,2.04,2.06,2.08,2.1,2.12,2.14,2.16,2.18,2.2,2.22,2.24,2.26,2.28,2.3,2.32,2.34,2.36,2.38,2.4,2.85,2.88,2.91,2.94,2.97,3.0,3.03,3.06,3.09,3.12,3.15,3.18,3.21,3.24,3.27,3.3,3.33,3.36,3.39,3.42,3.45,3.48,3.51,3.54,3.57,3.6,3.8,3.84,3.88,3.92,3.96,4.0,4.04,4.08,4.12,4.16,4.2,4.24,4.28,4.32,4.36,4.4,4.44,4.48,4.52,4.56,4.6,4.64,4.68,4.72,4.75,4.76,4.8,4.85,4.9,4.95,5.0,5.05,5.1,5.15,5.2,5.25,5.3,5.35,5.4,5.45,5.5,5.55,5.6,5.65,5.7,5.75,5.76,5.8,5.82,5.85,5.88,5.9,5.94,5.95,6.0,6.06,6.12,6.18,6.24,6.3,6.36,6.42,6.48,6.54,6.6,6.65,6.66,6.72,6.78,6.79,6.84,6.86,6.9,6.93,6.96,7.0,7.02,7.07,7.08,7.14,7.2,7.21,7.28,7.35,7.42,7.49,7.56,7.6,7.63,7.68,7.7,7.76,7.77,7.84,7.91,7.92,7.98,8.0,8.05,8.08,8.12,8.16,8.19,8.24,8.26,8.32,8.33,8.4,8.48,8.55,8.56,8.64,8.72,8.73,8.8,8.82,8.88,8.91,8.96,9.0,9.04,9.09,9.12,9.18,9.2,9.27,9.28,9.36,9.44,9.45,9.5,9.52,9.54,9.6,9.63,9.7,9.72,9.8,9.81,9.9,9.99,10.0,10.08,10.1,10.17,10.2,10.26,10.3,10.35,10.4,10.44,10.45,10.5,10.53,10.56,10.6,10.62,10.67,10.7,10.71,10.78,10.8,10.89,10.9,11.0,11.1,11.11,11.2,11.22,11.3,11.33,11.4,11.44,11.5,11.52,11.55,11.6,11.64,11.66,11.7,11.76,11.77,11.8,11.88,11.9,11.99,12.0,12.1,12.12,12.21,12.24,12.32,12.35,12.36,12.43,12.48,12.54,12.6,12.61,12.65,12.72,12.74,12.76,12.84,12.87,12.96,12.98,13.0,13.08,13.09,13.13,13.2,13.26,13.3,13.32,13.39,13.44,13.52,13.56,13.58,13.65,13.68,13.72,13.78,13.8,13.86,13.91,13.92,14.0,14.04,14.14,14.16,14.17,14.25,14.28,14.3,14.4,14.42,14.43,14.55,14.56,14.69,14.7,14.82,14.84,14.85,14.95,14.98,15.0,15.08,15.12,15.15,15.2,15.21,15.26,15.3,15.34,15.36,15.4,15.45,15.47,15.52,15.54,15.6,15.68,15.75,15.82,15.84,15.9,15.96,16.0,16.05,16.1,16.15,16.16,16.2,16.24,16.32,16.35,16.38,16.48,16.49,16.5,16.52,16.64,16.65,16.66,16.8,16.83,16.95,16.96,17.0,17.1,17.12,17.17,17.25,17.28,17.34,17.4,17.44,17.46,17.51,17.55,17.6,17.64,17.68,17.7,17.76,17.82,17.85,17.92,18.0,18.02,18.05,18.08,18.18,18.19,18.24,18.36,18.4,18.43,18.53,18.54,18.56,18.62,18.7,18.72,18.81,18.87,18.88,18.9,19.0,19.04,19.08,19.19,19.2,19.21,19.26,19.38,19.4,19.44,19.55,19.57,19.6,19.62,19.72,19.76,19.8,19.89,19.95,19.98,20.0,20.06,20.14,20.16,20.2,20.23,20.33,20.34,20.37,20.4,20.52,20.58,20.6,20.7,20.71,20.79,20.8,20.88,20.9,21.0,21.06,21.09,21.12,21.2,21.21,21.24,21.28,21.34,21.4,21.42,21.47,21.56,21.6,21.63,21.66,21.78,21.8,21.84,21.85,22.0,22.04,22.05,22.08,22.2,22.22,22.23,22.26,22.31,22.4,22.42,22.44,22.47,22.54,22.6,22.61,22.66,22.68,22.77,22.8,22.88,22.89,23.0,23.04,23.1,23.2,23.23,23.28,23.31,23.32,23.4,23.46,23.52,23.54,23.6,23.69,23.73,23.75,23.76,23.8,23.92,23.94,23.98,24.0,24.15,24.2,24.24,24.25,24.36,24.38,24.42,24.48,24.5,24.57,24.61,24.64,24.7,24.72,24.75,24.78,24.84,24.86,24.96,24.99,25.0,25.07,25.08,25.2,25.22,25.25,25.3,25.44,25.48,25.5,25.52,25.53,25.65,25.68,25.74,25.75,25.76,25.92,25.96,25.99,26.0,26.16,26.18,26.19,26.22,26.25,26.26,26.4,26.45,26.46,26.5,26.52,26.6,26.64,26.68,26.73,26.75,26.78,26.88,26.91,27.0,27.04,27.12,27.14,27.16,27.25,27.27,27.3,27.36,27.37,27.44,27.5,27.54,27.55,27.56,27.6,27.72,27.75,27.81,27.82,27.84,28.0,28.08,28.13,28.25,28.28,28.32,28.34,28.35,28.42,28.5,28.56,28.6,28.62,28.71,28.75,28.8,28.84,28.86,28.89,29.0,29.1,29.12,29.16,29.25,29.29,29.38,29.4,29.43,29.45,29.5,29.58,29.64,29.68,29.7,29.75,29.76,29.87,29.9,29.96,29.97,30.0,30.07,30.16,30.24,30.3,30.38,30.4,30.42,30.45,30.51,30.52,30.6,30.68,30.69,30.72,30.74,30.78,30.8,30.9,30.94,31.0,31.03,31.04,31.05,31.08,31.2,31.31,31.32,31.35,31.36,31.5,31.59,31.61,31.62,31.64,31.68,31.8,31.86,31.9,31.92,31.93,32.0,32.01,32.1,32.13,32.19,32.2,32.24,32.3,32.32,32.34,32.4,32.48,32.55,32.64,32.67,32.7,32.76,32.77,32.86,32.96,32.98,33.0,33.04,33.06,33.17,33.25,33.28,33.3,33.32,33.33,33.35,33.48,33.6,33.64,33.66,33.79,33.9,33.92,33.93,33.95,33.99,34.0,34.1,34.2,34.22,34.24,34.3,34.32,34.34,34.41,34.5,34.51,34.56,34.65,34.68,34.72,34.8,34.88,34.92,34.98,35.0,35.02,35.03,35.1,35.15,35.2,35.28,35.31,35.34,35.35,35.36,35.4,35.52,35.64,35.65,35.7,35.84,35.89,35.96,35.97,36.0,36.04,36.05,36.1,36.16,36.26,36.27,36.3,36.36,36.38,36.4,36.48,36.58,36.63,36.72,36.75,36.8,36.86,36.89,36.96,37.0,37.05,37.06,37.08,37.1,37.12,37.2,37.24,37.29,37.37,37.4,37.44,37.45,37.62,37.74,37.76,37.8,37.83,37.95,38.0,38.08,38.11,38.15,38.16,38.22,38.28,38.38,38.4,38.42,38.48,38.5,38.52,38.61,38.76,38.8,38.85,38.88,38.94,39.0,39.1,39.14,39.2,39.22,39.24,39.27,39.39,39.44,39.52,39.55,39.59,39.6,39.78,39.9,39.96,40.0,40.12,40.17,40.25,40.28,40.32,40.33,40.4,40.46,40.56,40.6,40.66,40.68,40.7,40.8,40.95,41.04,41.07,41.2,41.3,41.34,41.4,41.42,41.44,41.6,41.65,41.73,41.76,41.8,41.81,42.0,42.12,42.18,42.4,42.48,42.51,42.55,42.56,42.8,42.84,42.9,42.92,42.94,43.2,43.29,43.32,43.6,43.66,43.68,43.7,44.0,44.03,44.07,44.08,44.4,44.46,44.8,44.84,44.85,45.2,45.22,45.24,45.6,45.63,46.0,46.02,46.4,46.41,46.8,47.2,47.6,48.0],\"xaxis\":\"x\",\"y\":[54.86366498594807,49.22698586364246,58.52261693366948,56.07398217804382,60.23441015197632,55.289967468319816,52.14643621952611,49.725798519983265,50.833936498444764,54.830714599347985,55.15506073985775,59.54493790872582,57.9463623730007,50.11328433694918,51.20969317426568,51.883610131064856,52.036135025385256,57.30241702798091,46.48598193894657,50.801181286372255,54.824550227460236,52.97874912488827,53.816876217906724,55.718862423623506,56.53532649692152,53.980994902254665,57.44001294672371,55.865089177657026,51.45450042811467,54.960997875633595,52.04638330254013,52.71439956477379,53.15460841125349,58.8671825032688,54.67643608897683,55.974914690539876,54.195575121433635,53.07728617161622,50.3952042674213,53.25998586158888,51.51926847521584,56.211107766624394,53.592440804521566,52.29033763092292,56.65919754723733,55.067920544920646,56.11574532159222,56.54142358454381,52.036963493534785,56.79288137790117,53.9027205688603,50.679461400102994,56.67403386464726,59.631619077230084,52.669951127432,52.79610075970176,50.355294153535645,56.581542784047556,53.852306232072145,56.42271630629471,55.62613905503477,56.50193439870656,51.4041046963269,55.31784503834202,52.313103006680095,55.32511296828479,58.27206272646672,54.728706356295966,52.05157631510696,49.22696945405739,51.45900603175297,54.688299642568424,52.18085824418902,55.39058462261619,51.94571982139726,50.110867863233345,57.67439936982594,54.94901636214193,54.181805669904485,59.787626457116374,54.82813229394573,49.96742010511187,51.098060874043185,54.48180723978276,51.112675024044144,55.297237504142636,62.62613941674689,52.92502733419494,55.057294158793084,51.074451938759886,53.613532223084164,54.52406514299823,55.02664722314109,59.924914926729265,54.74905167780636,56.57951246192364,52.58263626676052,53.29446047831589,54.934731127793825,58.658824528831666,53.07443722967547,57.19229542028893,55.00283420727142,54.20296191109083,54.65736713332675,56.81854614626636,54.76382816204916,54.00439699146493,60.06879345905581,52.112921425948386,53.12200816089603,52.46465904346651,54.82235428147243,51.75769066444825,56.13546626376003,55.3892118517966,52.104736829885084,50.89612102096648,52.17683989394136,54.393290934530086,55.90727091085431,52.02003050000617,52.24049189500269,55.95967679047841,49.11723491972604,51.34409129815811,54.475835524090456,55.60126323277339,54.1323080898599,55.34902451318694,51.020793532327296,55.35461744127497,53.40469468209954,53.19752056261734,57.05017054285908,59.36269090655283,55.138595754294116,51.86997575136409,55.00468858064771,51.563928635859305,52.391170904014004,57.96712305275791,51.17180279629817,58.66362684836558,57.64145078941214,56.49696428476533,59.81847479318167,55.340699445450326,54.52346952399908,57.43462942888502,56.638698382698784,53.97643041594545,52.71268354360409,56.59035572904629,54.407164030997755,55.61709271943547,53.71711074491132,54.70774778544074,56.43505961831219,57.199707950628635,53.725493781709105,53.79044091156374,56.00744635020063,55.084520471038985,57.40864216867497,51.68265770453801,57.61683979538665,53.23047650551275,54.49620290691148,53.596236508199574,52.443179842652704,56.44119513924016,54.2162721292067,52.68557124706495,54.955268491652504,51.91648709970798,52.78532750116247,55.1445621839898,57.43777972346972,54.53713664923556,58.0919949142939,52.7289970695638,51.64220377780891,50.819971586096266,55.77117192262961,53.403885423162656,52.92102409089078,54.587064305933445,56.38043490122472,53.3873548815381,56.430606535971776,53.87144077828132,50.575549152761205,53.19716221638877,54.735199359069966,53.29965557849488,51.14366375784228,51.8082355282113,51.05336148406118,57.634977121641505,59.43793345892963,57.86885295239611,53.95253144751256,53.92509881848834,55.086705905714055,49.25665375063855,52.83517177200175,50.861423206940806,55.28584113598639,55.47517912969259,48.736641497663854,57.68341976442053,55.522327500411116,55.496628829624065,52.22948289723381,55.02693375741186,50.8080826526134,50.50353349714872,52.24492090443821,55.722763427251,50.48065317157654,52.59690836623167,57.20385937460091,55.25937095987084,56.58519684523317,55.050535684240856,56.72286701668472,54.598064549480675,53.75363274222955,58.30329095898578,52.47574547393577,56.37219517443509,54.613730214198725,55.55734200452295,58.563710772832195,52.5626533010119,54.43432864781672,52.44092023160395,56.278944974920165,54.241055562600735,53.50435026064593,55.62237370511468,50.15893794157417,52.54877755862919,56.60700955548436,53.266242543978066,51.75982163519674,55.621324706971684,57.618604708355434,52.944061350031326,53.76926535958225,53.14225548120302,53.81287226975802,56.124595039922134,55.12608640242345,52.24000597908665,53.54305526987355,50.319077795782924,59.30187762255528,49.60936477636425,51.148649150582585,55.89799953308152,56.280405468591205,49.34438368841639,52.72633008869805,51.54589791853085,56.17146754616312,58.56040563022722,52.692740779788075,52.06658003024113,53.1574543490227,56.853990341404035,51.94105283989612,52.18400091389288,49.237203996611186,54.23890319194319,56.01815950817486,55.081229255920654,55.7277093569963,52.23581549402586,52.542990702840996,52.547435790002716,52.76184382019329,53.71738797736575,54.07021387986807,54.33679276275662,55.545504579256324,49.74940142426459,51.59592701330564,53.2137433842542,51.799700275664065,53.14673720581018,52.356976091417046,56.09788561992073,51.68594276215429,53.28390194078838,52.023283331644535,54.9627041432401,56.038479761403906,53.452926022573614,60.396391971574175,58.60567578224061,55.082695986997614,52.95331783213418,55.967139909153104,56.55200549131158,55.9444041795109,52.08876592134965,51.770924359847065,48.67007606672098,53.52295826350544,54.87127302731642,55.660160873226616,52.77570135230008,56.479044201138365,57.53102176407111,54.36757109030914,55.50584529741758,54.64089339599924,58.27652043834172,54.81005361194485,54.6241829022293,56.778850489864965,54.21231289527291,51.00111945190939,54.21652730155509,55.06082752461363,52.5977277096027,56.739023773942804,51.21553518951475,54.0660503281027,49.15851025989892,55.40311368976796,51.16960461935136,52.94651320949149,51.09261643795136,54.24459735030561,56.95933565011935,51.586187376908676,55.12347475372975,52.909037403555544,56.56339120966648,52.10527392051752,50.079527885548956,54.21887342724787,52.128345564863125,53.05507570715843,53.63128653095385,55.90139544982349,57.859713300783014,50.121451921737595,53.488810582928785,54.531538955687395,52.776915568654125,55.22375892876643,53.30251998942893,54.89762351450915,56.52128323945047,50.214475732447596,55.18842650222531,53.74884295208357,53.40268784758411,59.80428721807335,53.7159932332231,53.01106702889664,52.75775752893456,57.31253006546056,53.151343606909236,55.57586629794829,53.8497829643997,54.440083649457605,52.31528014982975,54.180186211739354,56.619110393468056,62.22753027692026,50.62083212463259,56.86550553921823,49.46262841941201,54.31113659162026,56.39076128604793,57.54059603574264,53.110017583356225,56.12681162742496,57.85513580048924,54.56663208863962,54.48354064847696,51.5087572937933,57.055638814758936,55.79528359018291,53.60811955896686,53.97941566643298,54.78080179576703,52.84610532785425,52.15238657301437,52.91535702925481,55.41026625074986,53.59832652183207,52.514893265898976,53.000331755866725,54.63226799343962,52.25703210446763,53.49730070074642,54.10047925504243,59.79121782565396,54.28026999246218,50.17528015079695,54.58086477823892,54.19768506163674,59.89153626364232,55.821230622786786,56.81747297417035,57.47445208475267,53.093792914263446,52.386499353602005,53.19211895407263,49.28580615424782,55.906920158944544,56.140011634514444,49.869006681390985,56.46992845777696,55.893564089146764,56.69398095883385,54.030303539390005,52.942734392474954,59.39737658711931,53.69473121734857,52.87553960689907,54.142749373349496,52.72065411609148,56.39927483065602,57.86157057230562,56.71422715152216,54.26415026844153,51.73124207200694,58.43666416742395,54.432638594445386,55.01483123886737,55.33454675101606,52.78781433573549,54.841142280264826,50.06822185538703,54.33448822157292,59.16435558702755,51.08359081131957,53.91322475461716,49.7290497454438,52.70156447816444,50.861055054272924,53.86012017949631,57.03671669938676,54.784683549932126,55.28247881714449,55.32972381629978,50.24999358414919,55.73224847544616,50.396323918453774,58.864353232835114,49.99820494352797,52.52090496585472,57.7107359464423,56.64773746870592,56.74395403038018,53.50291725544506,57.10486979602581,54.75680563986789,51.78882751348977,54.7844230607499,56.897902156877805,57.583320134351844,55.04432237345802,56.84204051169305,57.52075030237407,56.969235900068746,56.09202193389742,54.27061106518151,56.13259994466707,53.692723103257805,55.57305385629186,53.78842484993728,56.346104783837106,53.52162809667985,52.701632299023196,54.672706953203324,55.45060239706907,54.22951060253504,54.37155470942971,55.765587058735754,55.8634501168215,53.119396995027145,60.19684225950521,48.99985260723179,54.256895500486955,57.82055510673854,57.233992018816075,53.04754474651493,56.72834135175939,57.38849499373242,60.689181364596564,57.65776238889977,52.67572234947587,56.67979165864012,56.136271291221824,55.73749477785594,52.88129603340617,55.66304314405247,58.65562426102071,58.1687178163731,53.42334883132986,54.92415331552563,54.53944762775916,50.51609128894532,54.066864034967566,58.54342790599495,61.80098201859343,51.15143477309384,56.580748126851454,53.15498086558692,55.84151853353069,53.16242004217485,50.706497027091196,51.82621900571168,54.79925827808943,52.86762581465039,53.8506406013446,54.990940119454386,54.730001240148226,54.084326253432025,55.248871354079924,57.83385500493077,53.495982321689226,56.20425936737937,51.34744431093214,56.65084182934333,56.157925643684216,51.46052155923279,55.53219841285888,56.167219366298994,52.02986569485471,52.779101161812164,56.04861798210728,55.888770065754194,56.55258508233998,53.857277919072125,51.67316088033853,53.71302534164788,51.43799370901865,54.74285779839321,49.78359389310021,54.74430258265008,57.020432841649125,52.63571745373277,59.70670475176806,53.623640821515494,55.58175418068234,60.569636028123675,55.40233888800951,54.83024967288497,56.7625075791423,52.69063940626114,52.82709326590255,54.2993929247271,54.08279062035292,57.12128958864318,52.8756689386804,54.56858633469417,53.26950946003479,53.520928325962046,51.09365154633178,55.616128413676215,58.942591402485746,58.14088415292382,54.12844905619229,54.741080263317315,52.734400751761974,51.634396995950326,53.94418591225965,52.65282818868852,53.80008229227726,54.06587973472985,53.68631564994713,55.853354265900975,55.16535269809807,52.89267185104942,57.47542700132958,55.46676107879513,56.42510023399877,53.517346706407125,58.81367837965192,51.73040439876277,51.61190723655316,53.78263668152013,57.62748991758072,53.58315709029362,54.622735866752585,52.79924161412532,57.49507530312996,50.79232045432667,52.22859338051906,48.8936206440209,52.5772157600744,51.24525306884182,56.126187814875536,54.852253920681434,53.113212275450614,54.492565287050105,51.16036281315804,54.13747790783987,54.82863874834005,56.76883962152588,53.92100432142532,54.63373503456349,50.52693154616924,51.10676351232294,53.48745916446619,51.2991963119112,51.13980191084364,48.457338012747165,55.625745330504934,50.03235406270462,47.85939453022324,55.67125609869086,49.43526649793699,55.979220930362615,55.78424499453864,58.07504519739282,55.74418468154326,52.910115388200204,59.23152871147331,49.934493349672366,55.23976183308456,55.0897996674353,54.672836528327544,53.83862312606427,51.3539545209451,53.219653323758806,58.01465001479077,53.611232245814726,50.41904124833483,52.44845924369221,50.43889752748773,52.88349314790679,57.204242065589355,53.18879876268686,58.44035387586378,49.1394543169914,53.50194332289993,52.62258450146769,49.541460741002574,53.64685179487063,50.25885536421228,57.052067991175775,58.78288247623888,52.93104410119883,54.849996115955804,52.46337121504622,54.388302571377594,58.380378583539056,60.37985181444812,57.77111340221772,55.10825854234411,53.91265217789385,54.80028110813107,56.50127430206414,56.8504301462575,53.90666980548362,55.43896050878142,53.12157449203824,51.85218040422989,54.39070055811034,56.232046989012524,59.111709922504225,59.794334595311156,53.79751198169892,54.93572846858246,54.90683963160593,57.817960497776795,56.664814429495,54.7924166059294,48.931707154118655,57.57227146941225,54.896555710436026,53.92324677259633,54.86322162283725,56.70639297304169,57.038718422614345,55.252317069995705,53.48933724344498,54.537769750918706,50.197098313846595,54.55605158618363,57.41784570223325,56.56603743949807,55.5366540833565,51.74732970580627,53.95406889324504,54.85419383511469,52.44060404793217,57.21606130789283,52.19392641268396,56.608656863923756,55.40260009792237,56.27721029466533,52.57937396271173,58.72589864975309,52.09319284213132,55.45139209009437,55.61013632240963,54.42813530707817,55.77941723725829,55.22099601805884,55.86770726795349,55.88354510159394,51.9374037379579,59.22976198761919,55.57839060970856,52.09614368188194,56.6564288393321,56.18901221660721,52.570413384913934,54.33719332128699,53.97428596778815,54.21270837990399,55.18924505219595,54.44574264037272,58.05383007973324,55.46486431107793,54.05271192805839,50.648155699206335,55.9564637011555,54.56525905819743,54.627937318695665,49.09297843576122,50.57847939363944,51.685849347807064,55.80992522050559,54.29031787804679,53.45915924324305,54.074601302410294,52.27528604965412,54.21473768545289,49.69138886227728,57.139305244339695,51.44006690949834,57.526100165000265,56.0329418747685,52.24209337614296,56.82113128678562,56.60058741721715,51.47761012352724,54.6877593986965,56.08155285748697,55.799172090249634,50.90025795528006,56.112016424853316,47.49985632251014,59.50111071408426,48.61348140235966,58.783864586949804,53.69171527214748,54.227844168717915,56.77703923182045,54.62317286679723,52.374218017997066,53.59257997059835,53.34569825682122,53.3916517838251,50.45171752601664,55.59980106056508,58.36669419628202,50.93529503966408,50.655484378133806,55.962659869144666,53.443758021809856,57.102963498692155,57.09815801280575,53.68624514313121,53.10656444998072,54.896644156444474,54.65552700866987,56.38392028190724,54.668117780048696,53.60032583087877,57.076037613540876,50.41172267408563,58.29332885575078,52.26256035580893,52.46623943796316,49.46969709893284,60.03608170682864,54.26561849958224,54.63626501635643,50.5800029228552,50.161879377283626,55.15314638979214,56.515738513752375,49.06849337597543,54.53505399441932,56.409265510226014,53.293724497168846,54.457244821668766,54.47329610342643,50.18736988056913,55.192552349559435,52.7952057309514,52.45781637277613,55.84377336517543,52.87238914208421,58.248029734751285,53.00225096066439,53.731540936638815,53.64372947039903,55.78139429996625,56.48142912472257,55.319277816745874,51.045955995671875,51.39107835790338,52.793663244735825,56.91232044916954,51.518354964842565,54.346514481058435,54.35644890329455,53.54262737534297,59.23511208634948,56.83972246315612,51.814738991611705,54.41093516667883,50.89653492117364,60.67134616913079,48.75896017762614,50.38534794991168,50.23967936146133,51.463218915357324,53.996729102802675,55.03976714171697,52.98943710452813,51.30167716927794,48.93199076651746,53.63415160960138,53.653997506058275,55.382914483171135,55.809171346780566,50.85171691990185,56.62602315885696,48.164912608678065,57.739414362637206,56.06316888483561,54.24650455202489,53.59104614736847,54.22935415509098,55.56518089975298,54.29901256965089,56.33367481173328,53.60353635181026,46.48359579611521,55.65999149250788,55.26755896322001,54.15634539984497,54.608545493083035,53.90060917149479,53.639796792919114,57.70018411465461,55.990881044554236,48.416106018723866,50.84167024835639,53.91625083042546,51.630036416539575,52.423828318204244,55.58447379264562,50.68725412212659,49.52245490905294,52.14568921462184,57.37642191140413,53.09655826503632,53.07423217404666],\"yaxis\":\"y\",\"type\":\"scatter\"}],                        {\"template\":{\"data\":{\"histogram2dcontour\":[{\"type\":\"histogram2dcontour\",\"colorbar\":{\"outlinewidth\":0,\"ticks\":\"\"},\"colorscale\":[[0.0,\"#0d0887\"],[0.1111111111111111,\"#46039f\"],[0.2222222222222222,\"#7201a8\"],[0.3333333333333333,\"#9c179e\"],[0.4444444444444444,\"#bd3786\"],[0.5555555555555556,\"#d8576b\"],[0.6666666666666666,\"#ed7953\"],[0.7777777777777778,\"#fb9f3a\"],[0.8888888888888888,\"#fdca26\"],[1.0,\"#f0f921\"]]}],\"choropleth\":[{\"type\":\"choropleth\",\"colorbar\":{\"outlinewidth\":0,\"ticks\":\"\"}}],\"histogram2d\":[{\"type\":\"histogram2d\",\"colorbar\":{\"outlinewidth\":0,\"ticks\":\"\"},\"colorscale\":[[0.0,\"#0d0887\"],[0.1111111111111111,\"#46039f\"],[0.2222222222222222,\"#7201a8\"],[0.3333333333333333,\"#9c179e\"],[0.4444444444444444,\"#bd3786\"],[0.5555555555555556,\"#d8576b\"],[0.6666666666666666,\"#ed7953\"],[0.7777777777777778,\"#fb9f3a\"],[0.8888888888888888,\"#fdca26\"],[1.0,\"#f0f921\"]]}],\"heatmap\":[{\"type\":\"heatmap\",\"colorbar\":{\"outlinewidth\":0,\"ticks\":\"\"},\"colorscale\":[[0.0,\"#0d0887\"],[0.1111111111111111,\"#46039f\"],[0.2222222222222222,\"#7201a8\"],[0.3333333333333333,\"#9c179e\"],[0.4444444444444444,\"#bd3786\"],[0.5555555555555556,\"#d8576b\"],[0.6666666666666666,\"#ed7953\"],[0.7777777777777778,\"#fb9f3a\"],[0.8888888888888888,\"#fdca26\"],[1.0,\"#f0f921\"]]}],\"heatmapgl\":[{\"type\":\"heatmapgl\",\"colorbar\":{\"outlinewidth\":0,\"ticks\":\"\"},\"colorscale\":[[0.0,\"#0d0887\"],[0.1111111111111111,\"#46039f\"],[0.2222222222222222,\"#7201a8\"],[0.3333333333333333,\"#9c179e\"],[0.4444444444444444,\"#bd3786\"],[0.5555555555555556,\"#d8576b\"],[0.6666666666666666,\"#ed7953\"],[0.7777777777777778,\"#fb9f3a\"],[0.8888888888888888,\"#fdca26\"],[1.0,\"#f0f921\"]]}],\"contourcarpet\":[{\"type\":\"contourcarpet\",\"colorbar\":{\"outlinewidth\":0,\"ticks\":\"\"}}],\"contour\":[{\"type\":\"contour\",\"colorbar\":{\"outlinewidth\":0,\"ticks\":\"\"},\"colorscale\":[[0.0,\"#0d0887\"],[0.1111111111111111,\"#46039f\"],[0.2222222222222222,\"#7201a8\"],[0.3333333333333333,\"#9c179e\"],[0.4444444444444444,\"#bd3786\"],[0.5555555555555556,\"#d8576b\"],[0.6666666666666666,\"#ed7953\"],[0.7777777777777778,\"#fb9f3a\"],[0.8888888888888888,\"#fdca26\"],[1.0,\"#f0f921\"]]}],\"surface\":[{\"type\":\"surface\",\"colorbar\":{\"outlinewidth\":0,\"ticks\":\"\"},\"colorscale\":[[0.0,\"#0d0887\"],[0.1111111111111111,\"#46039f\"],[0.2222222222222222,\"#7201a8\"],[0.3333333333333333,\"#9c179e\"],[0.4444444444444444,\"#bd3786\"],[0.5555555555555556,\"#d8576b\"],[0.6666666666666666,\"#ed7953\"],[0.7777777777777778,\"#fb9f3a\"],[0.8888888888888888,\"#fdca26\"],[1.0,\"#f0f921\"]]}],\"mesh3d\":[{\"type\":\"mesh3d\",\"colorbar\":{\"outlinewidth\":0,\"ticks\":\"\"}}],\"scatter\":[{\"fillpattern\":{\"fillmode\":\"overlay\",\"size\":10,\"solidity\":0.2},\"type\":\"scatter\"}],\"parcoords\":[{\"type\":\"parcoords\",\"line\":{\"colorbar\":{\"outlinewidth\":0,\"ticks\":\"\"}}}],\"scatterpolargl\":[{\"type\":\"scatterpolargl\",\"marker\":{\"colorbar\":{\"outlinewidth\":0,\"ticks\":\"\"}}}],\"bar\":[{\"error_x\":{\"color\":\"#2a3f5f\"},\"error_y\":{\"color\":\"#2a3f5f\"},\"marker\":{\"line\":{\"color\":\"#E5ECF6\",\"width\":0.5},\"pattern\":{\"fillmode\":\"overlay\",\"size\":10,\"solidity\":0.2}},\"type\":\"bar\"}],\"scattergeo\":[{\"type\":\"scattergeo\",\"marker\":{\"colorbar\":{\"outlinewidth\":0,\"ticks\":\"\"}}}],\"scatterpolar\":[{\"type\":\"scatterpolar\",\"marker\":{\"colorbar\":{\"outlinewidth\":0,\"ticks\":\"\"}}}],\"histogram\":[{\"marker\":{\"pattern\":{\"fillmode\":\"overlay\",\"size\":10,\"solidity\":0.2}},\"type\":\"histogram\"}],\"scattergl\":[{\"type\":\"scattergl\",\"marker\":{\"colorbar\":{\"outlinewidth\":0,\"ticks\":\"\"}}}],\"scatter3d\":[{\"type\":\"scatter3d\",\"line\":{\"colorbar\":{\"outlinewidth\":0,\"ticks\":\"\"}},\"marker\":{\"colorbar\":{\"outlinewidth\":0,\"ticks\":\"\"}}}],\"scattermapbox\":[{\"type\":\"scattermapbox\",\"marker\":{\"colorbar\":{\"outlinewidth\":0,\"ticks\":\"\"}}}],\"scatterternary\":[{\"type\":\"scatterternary\",\"marker\":{\"colorbar\":{\"outlinewidth\":0,\"ticks\":\"\"}}}],\"scattercarpet\":[{\"type\":\"scattercarpet\",\"marker\":{\"colorbar\":{\"outlinewidth\":0,\"ticks\":\"\"}}}],\"carpet\":[{\"aaxis\":{\"endlinecolor\":\"#2a3f5f\",\"gridcolor\":\"white\",\"linecolor\":\"white\",\"minorgridcolor\":\"white\",\"startlinecolor\":\"#2a3f5f\"},\"baxis\":{\"endlinecolor\":\"#2a3f5f\",\"gridcolor\":\"white\",\"linecolor\":\"white\",\"minorgridcolor\":\"white\",\"startlinecolor\":\"#2a3f5f\"},\"type\":\"carpet\"}],\"table\":[{\"cells\":{\"fill\":{\"color\":\"#EBF0F8\"},\"line\":{\"color\":\"white\"}},\"header\":{\"fill\":{\"color\":\"#C8D4E3\"},\"line\":{\"color\":\"white\"}},\"type\":\"table\"}],\"barpolar\":[{\"marker\":{\"line\":{\"color\":\"#E5ECF6\",\"width\":0.5},\"pattern\":{\"fillmode\":\"overlay\",\"size\":10,\"solidity\":0.2}},\"type\":\"barpolar\"}],\"pie\":[{\"automargin\":true,\"type\":\"pie\"}]},\"layout\":{\"autotypenumbers\":\"strict\",\"colorway\":[\"#636efa\",\"#EF553B\",\"#00cc96\",\"#ab63fa\",\"#FFA15A\",\"#19d3f3\",\"#FF6692\",\"#B6E880\",\"#FF97FF\",\"#FECB52\"],\"font\":{\"color\":\"#2a3f5f\"},\"hovermode\":\"closest\",\"hoverlabel\":{\"align\":\"left\"},\"paper_bgcolor\":\"white\",\"plot_bgcolor\":\"#E5ECF6\",\"polar\":{\"bgcolor\":\"#E5ECF6\",\"angularaxis\":{\"gridcolor\":\"white\",\"linecolor\":\"white\",\"ticks\":\"\"},\"radialaxis\":{\"gridcolor\":\"white\",\"linecolor\":\"white\",\"ticks\":\"\"}},\"ternary\":{\"bgcolor\":\"#E5ECF6\",\"aaxis\":{\"gridcolor\":\"white\",\"linecolor\":\"white\",\"ticks\":\"\"},\"baxis\":{\"gridcolor\":\"white\",\"linecolor\":\"white\",\"ticks\":\"\"},\"caxis\":{\"gridcolor\":\"white\",\"linecolor\":\"white\",\"ticks\":\"\"}},\"coloraxis\":{\"colorbar\":{\"outlinewidth\":0,\"ticks\":\"\"}},\"colorscale\":{\"sequential\":[[0.0,\"#0d0887\"],[0.1111111111111111,\"#46039f\"],[0.2222222222222222,\"#7201a8\"],[0.3333333333333333,\"#9c179e\"],[0.4444444444444444,\"#bd3786\"],[0.5555555555555556,\"#d8576b\"],[0.6666666666666666,\"#ed7953\"],[0.7777777777777778,\"#fb9f3a\"],[0.8888888888888888,\"#fdca26\"],[1.0,\"#f0f921\"]],\"sequentialminus\":[[0.0,\"#0d0887\"],[0.1111111111111111,\"#46039f\"],[0.2222222222222222,\"#7201a8\"],[0.3333333333333333,\"#9c179e\"],[0.4444444444444444,\"#bd3786\"],[0.5555555555555556,\"#d8576b\"],[0.6666666666666666,\"#ed7953\"],[0.7777777777777778,\"#fb9f3a\"],[0.8888888888888888,\"#fdca26\"],[1.0,\"#f0f921\"]],\"diverging\":[[0,\"#8e0152\"],[0.1,\"#c51b7d\"],[0.2,\"#de77ae\"],[0.3,\"#f1b6da\"],[0.4,\"#fde0ef\"],[0.5,\"#f7f7f7\"],[0.6,\"#e6f5d0\"],[0.7,\"#b8e186\"],[0.8,\"#7fbc41\"],[0.9,\"#4d9221\"],[1,\"#276419\"]]},\"xaxis\":{\"gridcolor\":\"white\",\"linecolor\":\"white\",\"ticks\":\"\",\"title\":{\"standoff\":15},\"zerolinecolor\":\"white\",\"automargin\":true,\"zerolinewidth\":2},\"yaxis\":{\"gridcolor\":\"white\",\"linecolor\":\"white\",\"ticks\":\"\",\"title\":{\"standoff\":15},\"zerolinecolor\":\"white\",\"automargin\":true,\"zerolinewidth\":2},\"scene\":{\"xaxis\":{\"backgroundcolor\":\"#E5ECF6\",\"gridcolor\":\"white\",\"linecolor\":\"white\",\"showbackground\":true,\"ticks\":\"\",\"zerolinecolor\":\"white\",\"gridwidth\":2},\"yaxis\":{\"backgroundcolor\":\"#E5ECF6\",\"gridcolor\":\"white\",\"linecolor\":\"white\",\"showbackground\":true,\"ticks\":\"\",\"zerolinecolor\":\"white\",\"gridwidth\":2},\"zaxis\":{\"backgroundcolor\":\"#E5ECF6\",\"gridcolor\":\"white\",\"linecolor\":\"white\",\"showbackground\":true,\"ticks\":\"\",\"zerolinecolor\":\"white\",\"gridwidth\":2}},\"shapedefaults\":{\"line\":{\"color\":\"#2a3f5f\"}},\"annotationdefaults\":{\"arrowcolor\":\"#2a3f5f\",\"arrowhead\":0,\"arrowwidth\":1},\"geo\":{\"bgcolor\":\"white\",\"landcolor\":\"#E5ECF6\",\"subunitcolor\":\"white\",\"showland\":true,\"showlakes\":true,\"lakecolor\":\"white\"},\"title\":{\"x\":0.05},\"mapbox\":{\"style\":\"light\"}}},\"xaxis\":{\"anchor\":\"y\",\"domain\":[0.0,1.0],\"title\":{\"text\":\"KM Travelled\"}},\"yaxis\":{\"anchor\":\"x\",\"domain\":[0.0,1.0],\"title\":{\"text\":\"profit_percentage\"}},\"legend\":{\"tracegroupgap\":0},\"margin\":{\"t\":60}},                        {\"responsive\": true}                    ).then(function(){\n",
       "                            \n",
       "var gd = document.getElementById('78c6eb18-25e1-4b62-9c44-e3e47a947a12');\n",
       "var x = new MutationObserver(function (mutations, observer) {{\n",
       "        var display = window.getComputedStyle(gd).display;\n",
       "        if (!display || display === 'none') {{\n",
       "            console.log([gd, 'removed!']);\n",
       "            Plotly.purge(gd);\n",
       "            observer.disconnect();\n",
       "        }}\n",
       "}});\n",
       "\n",
       "// Listen for the removal of the full notebook cells\n",
       "var notebookContainer = gd.closest('#notebook-container');\n",
       "if (notebookContainer) {{\n",
       "    x.observe(notebookContainer, {childList: true});\n",
       "}}\n",
       "\n",
       "// Listen for the clearing of the current output cell\n",
       "var outputEl = gd.closest('.output');\n",
       "if (outputEl) {{\n",
       "    x.observe(outputEl, {childList: true});\n",
       "}}\n",
       "\n",
       "                        })                };                });            </script>        </div>"
      ]
     },
     "metadata": {},
     "output_type": "display_data"
    }
   ],
   "source": [
    "yellow_km_profit_vis = py.line(x='KM Travelled',y='profit_percentage',data_frame=yellow_km_profit)\n",
    "yellow_km_profit_vis.show()"
   ]
  },
  {
   "cell_type": "markdown",
   "metadata": {},
   "source": [
    "### The total km's travelled/covered by each company across each city"
   ]
  },
  {
   "cell_type": "code",
   "execution_count": 116,
   "metadata": {},
   "outputs": [
    {
     "data": {
      "text/html": [
       "<div>\n",
       "<style scoped>\n",
       "    .dataframe tbody tr th:only-of-type {\n",
       "        vertical-align: middle;\n",
       "    }\n",
       "\n",
       "    .dataframe tbody tr th {\n",
       "        vertical-align: top;\n",
       "    }\n",
       "\n",
       "    .dataframe thead th {\n",
       "        text-align: right;\n",
       "    }\n",
       "</style>\n",
       "<table border=\"1\" class=\"dataframe\">\n",
       "  <thead>\n",
       "    <tr style=\"text-align: right;\">\n",
       "      <th></th>\n",
       "      <th>Company</th>\n",
       "      <th>City</th>\n",
       "      <th>total_kmtravelled</th>\n",
       "    </tr>\n",
       "  </thead>\n",
       "  <tbody>\n",
       "    <tr>\n",
       "      <th>0</th>\n",
       "      <td>Pink Cab</td>\n",
       "      <td>ATLANTA GA</td>\n",
       "      <td>39715.17</td>\n",
       "    </tr>\n",
       "    <tr>\n",
       "      <th>1</th>\n",
       "      <td>Pink Cab</td>\n",
       "      <td>AUSTIN TX</td>\n",
       "      <td>41038.42</td>\n",
       "    </tr>\n",
       "    <tr>\n",
       "      <th>2</th>\n",
       "      <td>Pink Cab</td>\n",
       "      <td>BOSTON MA</td>\n",
       "      <td>117933.51</td>\n",
       "    </tr>\n",
       "    <tr>\n",
       "      <th>3</th>\n",
       "      <td>Pink Cab</td>\n",
       "      <td>CHICAGO IL</td>\n",
       "      <td>210726.13</td>\n",
       "    </tr>\n",
       "    <tr>\n",
       "      <th>4</th>\n",
       "      <td>Pink Cab</td>\n",
       "      <td>DALLAS TX</td>\n",
       "      <td>30389.26</td>\n",
       "    </tr>\n",
       "    <tr>\n",
       "      <th>5</th>\n",
       "      <td>Pink Cab</td>\n",
       "      <td>DENVER CO</td>\n",
       "      <td>31308.15</td>\n",
       "    </tr>\n",
       "    <tr>\n",
       "      <th>6</th>\n",
       "      <td>Pink Cab</td>\n",
       "      <td>LOS ANGELES CA</td>\n",
       "      <td>449656.77</td>\n",
       "    </tr>\n",
       "    <tr>\n",
       "      <th>7</th>\n",
       "      <td>Pink Cab</td>\n",
       "      <td>MIAMI FL</td>\n",
       "      <td>44644.45</td>\n",
       "    </tr>\n",
       "    <tr>\n",
       "      <th>8</th>\n",
       "      <td>Pink Cab</td>\n",
       "      <td>NASHVILLE TN</td>\n",
       "      <td>41474.17</td>\n",
       "    </tr>\n",
       "    <tr>\n",
       "      <th>9</th>\n",
       "      <td>Pink Cab</td>\n",
       "      <td>NEW YORK NY</td>\n",
       "      <td>315967.27</td>\n",
       "    </tr>\n",
       "    <tr>\n",
       "      <th>10</th>\n",
       "      <td>Pink Cab</td>\n",
       "      <td>ORANGE COUNTY</td>\n",
       "      <td>33608.50</td>\n",
       "    </tr>\n",
       "    <tr>\n",
       "      <th>11</th>\n",
       "      <td>Pink Cab</td>\n",
       "      <td>PHOENIX AZ</td>\n",
       "      <td>18789.74</td>\n",
       "    </tr>\n",
       "    <tr>\n",
       "      <th>12</th>\n",
       "      <td>Pink Cab</td>\n",
       "      <td>PITTSBURGH PA</td>\n",
       "      <td>15400.66</td>\n",
       "    </tr>\n",
       "    <tr>\n",
       "      <th>13</th>\n",
       "      <td>Pink Cab</td>\n",
       "      <td>SACRAMENTO CA</td>\n",
       "      <td>30154.14</td>\n",
       "    </tr>\n",
       "    <tr>\n",
       "      <th>14</th>\n",
       "      <td>Pink Cab</td>\n",
       "      <td>SAN DIEGO CA</td>\n",
       "      <td>240703.87</td>\n",
       "    </tr>\n",
       "    <tr>\n",
       "      <th>15</th>\n",
       "      <td>Pink Cab</td>\n",
       "      <td>SEATTLE WA</td>\n",
       "      <td>62000.37</td>\n",
       "    </tr>\n",
       "    <tr>\n",
       "      <th>16</th>\n",
       "      <td>Pink Cab</td>\n",
       "      <td>SILICON VALLEY</td>\n",
       "      <td>86540.61</td>\n",
       "    </tr>\n",
       "    <tr>\n",
       "      <th>17</th>\n",
       "      <td>Pink Cab</td>\n",
       "      <td>TUCSON AZ</td>\n",
       "      <td>18022.97</td>\n",
       "    </tr>\n",
       "    <tr>\n",
       "      <th>18</th>\n",
       "      <td>Pink Cab</td>\n",
       "      <td>WASHINGTON DC</td>\n",
       "      <td>82998.95</td>\n",
       "    </tr>\n",
       "    <tr>\n",
       "      <th>19</th>\n",
       "      <td>Yellow Cab</td>\n",
       "      <td>ATLANTA GA</td>\n",
       "      <td>128928.59</td>\n",
       "    </tr>\n",
       "    <tr>\n",
       "      <th>20</th>\n",
       "      <td>Yellow Cab</td>\n",
       "      <td>AUSTIN TX</td>\n",
       "      <td>68168.88</td>\n",
       "    </tr>\n",
       "    <tr>\n",
       "      <th>21</th>\n",
       "      <td>Yellow Cab</td>\n",
       "      <td>BOSTON MA</td>\n",
       "      <td>552454.67</td>\n",
       "    </tr>\n",
       "    <tr>\n",
       "      <th>22</th>\n",
       "      <td>Yellow Cab</td>\n",
       "      <td>CHICAGO IL</td>\n",
       "      <td>1070978.26</td>\n",
       "    </tr>\n",
       "    <tr>\n",
       "      <th>23</th>\n",
       "      <td>Yellow Cab</td>\n",
       "      <td>DALLAS TX</td>\n",
       "      <td>127392.79</td>\n",
       "    </tr>\n",
       "    <tr>\n",
       "      <th>24</th>\n",
       "      <td>Yellow Cab</td>\n",
       "      <td>DENVER CO</td>\n",
       "      <td>54561.60</td>\n",
       "    </tr>\n",
       "    <tr>\n",
       "      <th>25</th>\n",
       "      <td>Yellow Cab</td>\n",
       "      <td>LOS ANGELES CA</td>\n",
       "      <td>639078.88</td>\n",
       "    </tr>\n",
       "    <tr>\n",
       "      <th>26</th>\n",
       "      <td>Yellow Cab</td>\n",
       "      <td>MIAMI FL</td>\n",
       "      <td>100773.72</td>\n",
       "    </tr>\n",
       "    <tr>\n",
       "      <th>27</th>\n",
       "      <td>Yellow Cab</td>\n",
       "      <td>NASHVILLE TN</td>\n",
       "      <td>26850.57</td>\n",
       "    </tr>\n",
       "    <tr>\n",
       "      <th>28</th>\n",
       "      <td>Yellow Cab</td>\n",
       "      <td>NEW YORK NY</td>\n",
       "      <td>1932842.47</td>\n",
       "    </tr>\n",
       "    <tr>\n",
       "      <th>29</th>\n",
       "      <td>Yellow Cab</td>\n",
       "      <td>ORANGE COUNTY</td>\n",
       "      <td>55218.19</td>\n",
       "    </tr>\n",
       "    <tr>\n",
       "      <th>30</th>\n",
       "      <td>Yellow Cab</td>\n",
       "      <td>PHOENIX AZ</td>\n",
       "      <td>27035.34</td>\n",
       "    </tr>\n",
       "    <tr>\n",
       "      <th>31</th>\n",
       "      <td>Yellow Cab</td>\n",
       "      <td>PITTSBURGH PA</td>\n",
       "      <td>14305.10</td>\n",
       "    </tr>\n",
       "    <tr>\n",
       "      <th>32</th>\n",
       "      <td>Yellow Cab</td>\n",
       "      <td>SACRAMENTO CA</td>\n",
       "      <td>23707.06</td>\n",
       "    </tr>\n",
       "    <tr>\n",
       "      <th>33</th>\n",
       "      <td>Yellow Cab</td>\n",
       "      <td>SAN DIEGO CA</td>\n",
       "      <td>219799.82</td>\n",
       "    </tr>\n",
       "    <tr>\n",
       "      <th>34</th>\n",
       "      <td>Yellow Cab</td>\n",
       "      <td>SEATTLE WA</td>\n",
       "      <td>118903.62</td>\n",
       "    </tr>\n",
       "    <tr>\n",
       "      <th>35</th>\n",
       "      <td>Yellow Cab</td>\n",
       "      <td>SILICON VALLEY</td>\n",
       "      <td>107172.36</td>\n",
       "    </tr>\n",
       "    <tr>\n",
       "      <th>36</th>\n",
       "      <td>Yellow Cab</td>\n",
       "      <td>TUCSON AZ</td>\n",
       "      <td>25206.84</td>\n",
       "    </tr>\n",
       "    <tr>\n",
       "      <th>37</th>\n",
       "      <td>Yellow Cab</td>\n",
       "      <td>WASHINGTON DC</td>\n",
       "      <td>906038.71</td>\n",
       "    </tr>\n",
       "  </tbody>\n",
       "</table>\n",
       "</div>"
      ],
      "text/plain": [
       "       Company            City  total_kmtravelled\n",
       "0     Pink Cab      ATLANTA GA           39715.17\n",
       "1     Pink Cab       AUSTIN TX           41038.42\n",
       "2     Pink Cab       BOSTON MA          117933.51\n",
       "3     Pink Cab      CHICAGO IL          210726.13\n",
       "4     Pink Cab       DALLAS TX           30389.26\n",
       "5     Pink Cab       DENVER CO           31308.15\n",
       "6     Pink Cab  LOS ANGELES CA          449656.77\n",
       "7     Pink Cab        MIAMI FL           44644.45\n",
       "8     Pink Cab    NASHVILLE TN           41474.17\n",
       "9     Pink Cab     NEW YORK NY          315967.27\n",
       "10    Pink Cab   ORANGE COUNTY           33608.50\n",
       "11    Pink Cab      PHOENIX AZ           18789.74\n",
       "12    Pink Cab   PITTSBURGH PA           15400.66\n",
       "13    Pink Cab   SACRAMENTO CA           30154.14\n",
       "14    Pink Cab    SAN DIEGO CA          240703.87\n",
       "15    Pink Cab      SEATTLE WA           62000.37\n",
       "16    Pink Cab  SILICON VALLEY           86540.61\n",
       "17    Pink Cab       TUCSON AZ           18022.97\n",
       "18    Pink Cab   WASHINGTON DC           82998.95\n",
       "19  Yellow Cab      ATLANTA GA          128928.59\n",
       "20  Yellow Cab       AUSTIN TX           68168.88\n",
       "21  Yellow Cab       BOSTON MA          552454.67\n",
       "22  Yellow Cab      CHICAGO IL         1070978.26\n",
       "23  Yellow Cab       DALLAS TX          127392.79\n",
       "24  Yellow Cab       DENVER CO           54561.60\n",
       "25  Yellow Cab  LOS ANGELES CA          639078.88\n",
       "26  Yellow Cab        MIAMI FL          100773.72\n",
       "27  Yellow Cab    NASHVILLE TN           26850.57\n",
       "28  Yellow Cab     NEW YORK NY         1932842.47\n",
       "29  Yellow Cab   ORANGE COUNTY           55218.19\n",
       "30  Yellow Cab      PHOENIX AZ           27035.34\n",
       "31  Yellow Cab   PITTSBURGH PA           14305.10\n",
       "32  Yellow Cab   SACRAMENTO CA           23707.06\n",
       "33  Yellow Cab    SAN DIEGO CA          219799.82\n",
       "34  Yellow Cab      SEATTLE WA          118903.62\n",
       "35  Yellow Cab  SILICON VALLEY          107172.36\n",
       "36  Yellow Cab       TUCSON AZ           25206.84\n",
       "37  Yellow Cab   WASHINGTON DC          906038.71"
      ]
     },
     "execution_count": 116,
     "metadata": {},
     "output_type": "execute_result"
    }
   ],
   "source": [
    "city_km_profit_grpby = cab_data_df.groupby(['Company','City']).agg(total_kmtravelled=pd.NamedAgg(column='KM Travelled',aggfunc='sum')).reset_index()\n",
    "city_km_profit_grpby"
   ]
  },
  {
   "cell_type": "code",
   "execution_count": 117,
   "metadata": {},
   "outputs": [
    {
     "data": {
      "text/plain": [
       "Text(0, 0.5, \"total KM's travelled(in millions)\")"
      ]
     },
     "execution_count": 117,
     "metadata": {},
     "output_type": "execute_result"
    },
    {
     "data": {
      "image/png": "[encoded data removed]",
      "text/plain": [
       "<Figure size 720x432 with 1 Axes>"
      ]
     },
     "metadata": {},
     "output_type": "display_data"
    }
   ],
   "source": [
    "sns.set_palette(\"viridis\")\n",
    "plt.figure(figsize=(10,6))\n",
    "sns.barplot(x='City',y='total_kmtravelled',data=city_km_profit_grpby,hue='Company')\n",
    "plt.xticks(rotation=90)\n",
    "plt.ylabel(\"total KM's travelled(in millions)\")"
   ]
  },
  {
   "cell_type": "markdown",
   "metadata": {},
   "source": [
    "### Profit distribution of each company across all cities"
   ]
  },
  {
   "cell_type": "code",
   "execution_count": 118,
   "metadata": {},
   "outputs": [
    {
     "data": {
      "text/html": [
       "<div>\n",
       "<style scoped>\n",
       "    .dataframe tbody tr th:only-of-type {\n",
       "        vertical-align: middle;\n",
       "    }\n",
       "\n",
       "    .dataframe tbody tr th {\n",
       "        vertical-align: top;\n",
       "    }\n",
       "\n",
       "    .dataframe thead th {\n",
       "        text-align: right;\n",
       "    }\n",
       "</style>\n",
       "<table border=\"1\" class=\"dataframe\">\n",
       "  <thead>\n",
       "    <tr style=\"text-align: right;\">\n",
       "      <th></th>\n",
       "      <th>Transaction ID</th>\n",
       "      <th>Date of Travel</th>\n",
       "      <th>Company</th>\n",
       "      <th>City</th>\n",
       "      <th>KM Travelled</th>\n",
       "      <th>Price Charged</th>\n",
       "      <th>Cost of Trip</th>\n",
       "      <th>Year</th>\n",
       "      <th>profit_percentage</th>\n",
       "    </tr>\n",
       "  </thead>\n",
       "  <tbody>\n",
       "    <tr>\n",
       "      <th>0</th>\n",
       "      <td>10000013</td>\n",
       "      <td>2016-01-02</td>\n",
       "      <td>Pink Cab</td>\n",
       "      <td>ATLANTA GA</td>\n",
       "      <td>9.04</td>\n",
       "      <td>125.20</td>\n",
       "      <td>97.63</td>\n",
       "      <td>2016</td>\n",
       "      <td>28.24</td>\n",
       "    </tr>\n",
       "    <tr>\n",
       "      <th>1</th>\n",
       "      <td>10000029</td>\n",
       "      <td>2016-01-02</td>\n",
       "      <td>Pink Cab</td>\n",
       "      <td>BOSTON MA</td>\n",
       "      <td>21.34</td>\n",
       "      <td>324.21</td>\n",
       "      <td>226.20</td>\n",
       "      <td>2016</td>\n",
       "      <td>43.33</td>\n",
       "    </tr>\n",
       "    <tr>\n",
       "      <th>2</th>\n",
       "      <td>10000030</td>\n",
       "      <td>2016-01-02</td>\n",
       "      <td>Pink Cab</td>\n",
       "      <td>BOSTON MA</td>\n",
       "      <td>41.30</td>\n",
       "      <td>646.06</td>\n",
       "      <td>454.30</td>\n",
       "      <td>2016</td>\n",
       "      <td>42.21</td>\n",
       "    </tr>\n",
       "    <tr>\n",
       "      <th>3</th>\n",
       "      <td>10000041</td>\n",
       "      <td>2016-01-02</td>\n",
       "      <td>Pink Cab</td>\n",
       "      <td>CHICAGO IL</td>\n",
       "      <td>35.02</td>\n",
       "      <td>598.43</td>\n",
       "      <td>406.23</td>\n",
       "      <td>2016</td>\n",
       "      <td>47.31</td>\n",
       "    </tr>\n",
       "    <tr>\n",
       "      <th>4</th>\n",
       "      <td>10000045</td>\n",
       "      <td>2016-01-02</td>\n",
       "      <td>Pink Cab</td>\n",
       "      <td>CHICAGO IL</td>\n",
       "      <td>3.24</td>\n",
       "      <td>48.04</td>\n",
       "      <td>33.70</td>\n",
       "      <td>2016</td>\n",
       "      <td>42.57</td>\n",
       "    </tr>\n",
       "    <tr>\n",
       "      <th>...</th>\n",
       "      <td>...</td>\n",
       "      <td>...</td>\n",
       "      <td>...</td>\n",
       "      <td>...</td>\n",
       "      <td>...</td>\n",
       "      <td>...</td>\n",
       "      <td>...</td>\n",
       "      <td>...</td>\n",
       "      <td>...</td>\n",
       "    </tr>\n",
       "    <tr>\n",
       "      <th>359387</th>\n",
       "      <td>10439960</td>\n",
       "      <td>2018-12-31</td>\n",
       "      <td>Yellow Cab</td>\n",
       "      <td>WASHINGTON DC</td>\n",
       "      <td>33.93</td>\n",
       "      <td>474.47</td>\n",
       "      <td>411.23</td>\n",
       "      <td>2018</td>\n",
       "      <td>15.38</td>\n",
       "    </tr>\n",
       "    <tr>\n",
       "      <th>359388</th>\n",
       "      <td>10439984</td>\n",
       "      <td>2018-12-31</td>\n",
       "      <td>Yellow Cab</td>\n",
       "      <td>WASHINGTON DC</td>\n",
       "      <td>40.00</td>\n",
       "      <td>641.78</td>\n",
       "      <td>484.80</td>\n",
       "      <td>2018</td>\n",
       "      <td>32.38</td>\n",
       "    </tr>\n",
       "    <tr>\n",
       "      <th>359389</th>\n",
       "      <td>10440028</td>\n",
       "      <td>2018-12-31</td>\n",
       "      <td>Yellow Cab</td>\n",
       "      <td>WASHINGTON DC</td>\n",
       "      <td>26.22</td>\n",
       "      <td>405.25</td>\n",
       "      <td>327.23</td>\n",
       "      <td>2018</td>\n",
       "      <td>23.84</td>\n",
       "    </tr>\n",
       "    <tr>\n",
       "      <th>359390</th>\n",
       "      <td>10440034</td>\n",
       "      <td>2018-12-31</td>\n",
       "      <td>Yellow Cab</td>\n",
       "      <td>WASHINGTON DC</td>\n",
       "      <td>34.68</td>\n",
       "      <td>505.38</td>\n",
       "      <td>470.26</td>\n",
       "      <td>2018</td>\n",
       "      <td>7.47</td>\n",
       "    </tr>\n",
       "    <tr>\n",
       "      <th>359391</th>\n",
       "      <td>10440093</td>\n",
       "      <td>2018-12-31</td>\n",
       "      <td>Yellow Cab</td>\n",
       "      <td>WASHINGTON DC</td>\n",
       "      <td>4.32</td>\n",
       "      <td>60.41</td>\n",
       "      <td>55.47</td>\n",
       "      <td>2018</td>\n",
       "      <td>8.91</td>\n",
       "    </tr>\n",
       "  </tbody>\n",
       "</table>\n",
       "<p>334569 rows × 9 columns</p>\n",
       "</div>"
      ],
      "text/plain": [
       "        Transaction ID Date of Travel     Company           City  \\\n",
       "0             10000013     2016-01-02    Pink Cab     ATLANTA GA   \n",
       "1             10000029     2016-01-02    Pink Cab      BOSTON MA   \n",
       "2             10000030     2016-01-02    Pink Cab      BOSTON MA   \n",
       "3             10000041     2016-01-02    Pink Cab     CHICAGO IL   \n",
       "4             10000045     2016-01-02    Pink Cab     CHICAGO IL   \n",
       "...                ...            ...         ...            ...   \n",
       "359387        10439960     2018-12-31  Yellow Cab  WASHINGTON DC   \n",
       "359388        10439984     2018-12-31  Yellow Cab  WASHINGTON DC   \n",
       "359389        10440028     2018-12-31  Yellow Cab  WASHINGTON DC   \n",
       "359390        10440034     2018-12-31  Yellow Cab  WASHINGTON DC   \n",
       "359391        10440093     2018-12-31  Yellow Cab  WASHINGTON DC   \n",
       "\n",
       "        KM Travelled  Price Charged  Cost of Trip  Year  profit_percentage  \n",
       "0               9.04         125.20         97.63  2016              28.24  \n",
       "1              21.34         324.21        226.20  2016              43.33  \n",
       "2              41.30         646.06        454.30  2016              42.21  \n",
       "3              35.02         598.43        406.23  2016              47.31  \n",
       "4               3.24          48.04         33.70  2016              42.57  \n",
       "...              ...            ...           ...   ...                ...  \n",
       "359387         33.93         474.47        411.23  2018              15.38  \n",
       "359388         40.00         641.78        484.80  2018              32.38  \n",
       "359389         26.22         405.25        327.23  2018              23.84  \n",
       "359390         34.68         505.38        470.26  2018               7.47  \n",
       "359391          4.32          60.41         55.47  2018               8.91  \n",
       "\n",
       "[334569 rows x 9 columns]"
      ]
     },
     "execution_count": 118,
     "metadata": {},
     "output_type": "execute_result"
    }
   ],
   "source": [
    "cabdata_profit = cab_data_df[cab_data_df['profit_percentage'] > 0]\n",
    "cabdata_profit"
   ]
  },
  {
   "cell_type": "code",
   "execution_count": 119,
   "metadata": {},
   "outputs": [
    {
     "data": {
      "text/html": [
       "<div>\n",
       "<style scoped>\n",
       "    .dataframe tbody tr th:only-of-type {\n",
       "        vertical-align: middle;\n",
       "    }\n",
       "\n",
       "    .dataframe tbody tr th {\n",
       "        vertical-align: top;\n",
       "    }\n",
       "\n",
       "    .dataframe thead th {\n",
       "        text-align: right;\n",
       "    }\n",
       "</style>\n",
       "<table border=\"1\" class=\"dataframe\">\n",
       "  <thead>\n",
       "    <tr style=\"text-align: right;\">\n",
       "      <th></th>\n",
       "      <th>Company</th>\n",
       "      <th>City</th>\n",
       "      <th>Year</th>\n",
       "      <th>profit_percentage</th>\n",
       "    </tr>\n",
       "  </thead>\n",
       "  <tbody>\n",
       "    <tr>\n",
       "      <th>0</th>\n",
       "      <td>Pink Cab</td>\n",
       "      <td>ATLANTA GA</td>\n",
       "      <td>2016</td>\n",
       "      <td>34.37</td>\n",
       "    </tr>\n",
       "    <tr>\n",
       "      <th>1</th>\n",
       "      <td>Pink Cab</td>\n",
       "      <td>ATLANTA GA</td>\n",
       "      <td>2017</td>\n",
       "      <td>28.84</td>\n",
       "    </tr>\n",
       "    <tr>\n",
       "      <th>2</th>\n",
       "      <td>Pink Cab</td>\n",
       "      <td>ATLANTA GA</td>\n",
       "      <td>2018</td>\n",
       "      <td>21.58</td>\n",
       "    </tr>\n",
       "    <tr>\n",
       "      <th>3</th>\n",
       "      <td>Pink Cab</td>\n",
       "      <td>AUSTIN TX</td>\n",
       "      <td>2016</td>\n",
       "      <td>38.36</td>\n",
       "    </tr>\n",
       "    <tr>\n",
       "      <th>4</th>\n",
       "      <td>Pink Cab</td>\n",
       "      <td>AUSTIN TX</td>\n",
       "      <td>2017</td>\n",
       "      <td>39.50</td>\n",
       "    </tr>\n",
       "    <tr>\n",
       "      <th>...</th>\n",
       "      <td>...</td>\n",
       "      <td>...</td>\n",
       "      <td>...</td>\n",
       "      <td>...</td>\n",
       "    </tr>\n",
       "    <tr>\n",
       "      <th>109</th>\n",
       "      <td>Yellow Cab</td>\n",
       "      <td>TUCSON AZ</td>\n",
       "      <td>2017</td>\n",
       "      <td>33.68</td>\n",
       "    </tr>\n",
       "    <tr>\n",
       "      <th>110</th>\n",
       "      <td>Yellow Cab</td>\n",
       "      <td>TUCSON AZ</td>\n",
       "      <td>2018</td>\n",
       "      <td>25.78</td>\n",
       "    </tr>\n",
       "    <tr>\n",
       "      <th>111</th>\n",
       "      <td>Yellow Cab</td>\n",
       "      <td>WASHINGTON DC</td>\n",
       "      <td>2016</td>\n",
       "      <td>30.38</td>\n",
       "    </tr>\n",
       "    <tr>\n",
       "      <th>112</th>\n",
       "      <td>Yellow Cab</td>\n",
       "      <td>WASHINGTON DC</td>\n",
       "      <td>2017</td>\n",
       "      <td>35.36</td>\n",
       "    </tr>\n",
       "    <tr>\n",
       "      <th>113</th>\n",
       "      <td>Yellow Cab</td>\n",
       "      <td>WASHINGTON DC</td>\n",
       "      <td>2018</td>\n",
       "      <td>25.29</td>\n",
       "    </tr>\n",
       "  </tbody>\n",
       "</table>\n",
       "<p>114 rows × 4 columns</p>\n",
       "</div>"
      ],
      "text/plain": [
       "        Company           City  Year  profit_percentage\n",
       "0      Pink Cab     ATLANTA GA  2016              34.37\n",
       "1      Pink Cab     ATLANTA GA  2017              28.84\n",
       "2      Pink Cab     ATLANTA GA  2018              21.58\n",
       "3      Pink Cab      AUSTIN TX  2016              38.36\n",
       "4      Pink Cab      AUSTIN TX  2017              39.50\n",
       "..          ...            ...   ...                ...\n",
       "109  Yellow Cab      TUCSON AZ  2017              33.68\n",
       "110  Yellow Cab      TUCSON AZ  2018              25.78\n",
       "111  Yellow Cab  WASHINGTON DC  2016              30.38\n",
       "112  Yellow Cab  WASHINGTON DC  2017              35.36\n",
       "113  Yellow Cab  WASHINGTON DC  2018              25.29\n",
       "\n",
       "[114 rows x 4 columns]"
      ]
     },
     "execution_count": 119,
     "metadata": {},
     "output_type": "execute_result"
    }
   ],
   "source": [
    "profit_dist = cabdata_profit.groupby(['Company','City',\"Year\"]).agg({\"profit_percentage\":\"mean\"}).reset_index()\n",
    "profit_dist"
   ]
  },
  {
   "cell_type": "code",
   "execution_count": 120,
   "metadata": {},
   "outputs": [],
   "source": [
    "profit_dist_pink = profit_dist.where(profit_dist['Company']=='Pink Cab')\n",
    "profit_dist_yellow = profit_dist.where(profit_dist['Company']=='Yellow Cab')"
   ]
  },
  {
   "cell_type": "code",
   "execution_count": 121,
   "metadata": {},
   "outputs": [
    {
     "data": {
      "text/plain": [
       "(array([ 0,  1,  2,  3,  4,  5,  6,  7,  8,  9, 10, 11, 12, 13, 14, 15, 16,\n",
       "        17, 18]),\n",
       " [Text(0, 0, 'ATLANTA GA'),\n",
       "  Text(1, 0, 'AUSTIN TX'),\n",
       "  Text(2, 0, 'BOSTON MA'),\n",
       "  Text(3, 0, 'CHICAGO IL'),\n",
       "  Text(4, 0, 'DALLAS TX'),\n",
       "  Text(5, 0, 'DENVER CO'),\n",
       "  Text(6, 0, 'LOS ANGELES CA'),\n",
       "  Text(7, 0, 'MIAMI FL'),\n",
       "  Text(8, 0, 'NASHVILLE TN'),\n",
       "  Text(9, 0, 'NEW YORK NY'),\n",
       "  Text(10, 0, 'ORANGE COUNTY'),\n",
       "  Text(11, 0, 'PHOENIX AZ'),\n",
       "  Text(12, 0, 'PITTSBURGH PA'),\n",
       "  Text(13, 0, 'SACRAMENTO CA'),\n",
       "  Text(14, 0, 'SAN DIEGO CA'),\n",
       "  Text(15, 0, 'SEATTLE WA'),\n",
       "  Text(16, 0, 'SILICON VALLEY'),\n",
       "  Text(17, 0, 'TUCSON AZ'),\n",
       "  Text(18, 0, 'WASHINGTON DC')])"
      ]
     },
     "execution_count": 121,
     "metadata": {},
     "output_type": "execute_result"
    },
    {
     "data": {
      "image/png": "[encoded data removed]",
      "text/plain": [
       "<Figure size 720x432 with 1 Axes>"
      ]
     },
     "metadata": {},
     "output_type": "display_data"
    }
   ],
   "source": [
    "plt.figure(figsize=(10,6))\n",
    "sns.barplot(x='City',y='profit_percentage',data=profit_dist_pink,hue='Year',palette='YlGnBu')\n",
    "plt.ylabel(\"Profit_percentage of Pink Cab\")\n",
    "plt.xticks(rotation=90)"
   ]
  },
  {
   "cell_type": "code",
   "execution_count": 122,
   "metadata": {},
   "outputs": [
    {
     "data": {
      "text/plain": [
       "(array([ 0,  1,  2,  3,  4,  5,  6,  7,  8,  9, 10, 11, 12, 13, 14, 15, 16,\n",
       "        17, 18]),\n",
       " [Text(0, 0, 'ATLANTA GA'),\n",
       "  Text(1, 0, 'AUSTIN TX'),\n",
       "  Text(2, 0, 'BOSTON MA'),\n",
       "  Text(3, 0, 'CHICAGO IL'),\n",
       "  Text(4, 0, 'DALLAS TX'),\n",
       "  Text(5, 0, 'DENVER CO'),\n",
       "  Text(6, 0, 'LOS ANGELES CA'),\n",
       "  Text(7, 0, 'MIAMI FL'),\n",
       "  Text(8, 0, 'NASHVILLE TN'),\n",
       "  Text(9, 0, 'NEW YORK NY'),\n",
       "  Text(10, 0, 'ORANGE COUNTY'),\n",
       "  Text(11, 0, 'PHOENIX AZ'),\n",
       "  Text(12, 0, 'PITTSBURGH PA'),\n",
       "  Text(13, 0, 'SACRAMENTO CA'),\n",
       "  Text(14, 0, 'SAN DIEGO CA'),\n",
       "  Text(15, 0, 'SEATTLE WA'),\n",
       "  Text(16, 0, 'SILICON VALLEY'),\n",
       "  Text(17, 0, 'TUCSON AZ'),\n",
       "  Text(18, 0, 'WASHINGTON DC')])"
      ]
     },
     "execution_count": 122,
     "metadata": {},
     "output_type": "execute_result"
    },
    {
     "data": {
      "image/png": "[encoded data removed]",
      "text/plain": [
       "<Figure size 720x432 with 1 Axes>"
      ]
     },
     "metadata": {},
     "output_type": "display_data"
    }
   ],
   "source": [
    "plt.figure(figsize=(10,6))\n",
    "sns.barplot(x='City',y='profit_percentage',data=profit_dist_yellow,hue='Year',palette='YlGnBu')\n",
    "plt.ylabel(\"Profit_percentage of Yellow Cab\")\n",
    "plt.xticks(rotation=90)"
   ]
  },
  {
   "cell_type": "markdown",
   "metadata": {},
   "source": [
    "### Loss distribution of each company across all cities"
   ]
  },
  {
   "cell_type": "code",
   "execution_count": 123,
   "metadata": {},
   "outputs": [
    {
     "name": "stderr",
     "output_type": "stream",
     "text": [
      "C:\\Users\\snigdha.chigurupati\\anaconda3\\lib\\site-packages\\pandas\\core\\frame.py:5039: SettingWithCopyWarning:\n",
      "\n",
      "\n",
      "A value is trying to be set on a copy of a slice from a DataFrame\n",
      "\n",
      "See the caveats in the documentation: https://pandas.pydata.org/pandas-docs/stable/user_guide/indexing.html#returning-a-view-versus-a-copy\n",
      "\n"
     ]
    },
    {
     "data": {
      "text/html": [
       "<div>\n",
       "<style scoped>\n",
       "    .dataframe tbody tr th:only-of-type {\n",
       "        vertical-align: middle;\n",
       "    }\n",
       "\n",
       "    .dataframe tbody tr th {\n",
       "        vertical-align: top;\n",
       "    }\n",
       "\n",
       "    .dataframe thead th {\n",
       "        text-align: right;\n",
       "    }\n",
       "</style>\n",
       "<table border=\"1\" class=\"dataframe\">\n",
       "  <thead>\n",
       "    <tr style=\"text-align: right;\">\n",
       "      <th></th>\n",
       "      <th>Transaction ID</th>\n",
       "      <th>Date of Travel</th>\n",
       "      <th>Company</th>\n",
       "      <th>City</th>\n",
       "      <th>KM Travelled</th>\n",
       "      <th>Price Charged</th>\n",
       "      <th>Cost of Trip</th>\n",
       "      <th>Year</th>\n",
       "      <th>loss_percentage</th>\n",
       "    </tr>\n",
       "  </thead>\n",
       "  <tbody>\n",
       "    <tr>\n",
       "      <th>10</th>\n",
       "      <td>10000066</td>\n",
       "      <td>2016-01-02</td>\n",
       "      <td>Pink Cab</td>\n",
       "      <td>DALLAS TX</td>\n",
       "      <td>13.13</td>\n",
       "      <td>122.42</td>\n",
       "      <td>149.68</td>\n",
       "      <td>2016</td>\n",
       "      <td>-18.21</td>\n",
       "    </tr>\n",
       "    <tr>\n",
       "      <th>11</th>\n",
       "      <td>10000067</td>\n",
       "      <td>2016-01-02</td>\n",
       "      <td>Pink Cab</td>\n",
       "      <td>DALLAS TX</td>\n",
       "      <td>33.32</td>\n",
       "      <td>308.58</td>\n",
       "      <td>386.51</td>\n",
       "      <td>2016</td>\n",
       "      <td>-20.16</td>\n",
       "    </tr>\n",
       "    <tr>\n",
       "      <th>12</th>\n",
       "      <td>10000070</td>\n",
       "      <td>2016-01-02</td>\n",
       "      <td>Pink Cab</td>\n",
       "      <td>DENVER CO</td>\n",
       "      <td>7.02</td>\n",
       "      <td>61.30</td>\n",
       "      <td>82.84</td>\n",
       "      <td>2016</td>\n",
       "      <td>-26.00</td>\n",
       "    </tr>\n",
       "    <tr>\n",
       "      <th>34</th>\n",
       "      <td>10000356</td>\n",
       "      <td>2016-01-02</td>\n",
       "      <td>Pink Cab</td>\n",
       "      <td>SEATTLE WA</td>\n",
       "      <td>14.95</td>\n",
       "      <td>171.47</td>\n",
       "      <td>171.93</td>\n",
       "      <td>2016</td>\n",
       "      <td>-0.26</td>\n",
       "    </tr>\n",
       "    <tr>\n",
       "      <th>389</th>\n",
       "      <td>10000378</td>\n",
       "      <td>2016-01-05</td>\n",
       "      <td>Pink Cab</td>\n",
       "      <td>WASHINGTON DC</td>\n",
       "      <td>29.75</td>\n",
       "      <td>295.60</td>\n",
       "      <td>348.07</td>\n",
       "      <td>2016</td>\n",
       "      <td>-15.08</td>\n",
       "    </tr>\n",
       "    <tr>\n",
       "      <th>...</th>\n",
       "      <td>...</td>\n",
       "      <td>...</td>\n",
       "      <td>...</td>\n",
       "      <td>...</td>\n",
       "      <td>...</td>\n",
       "      <td>...</td>\n",
       "      <td>...</td>\n",
       "      <td>...</td>\n",
       "      <td>...</td>\n",
       "    </tr>\n",
       "    <tr>\n",
       "      <th>359335</th>\n",
       "      <td>10438112</td>\n",
       "      <td>2018-12-31</td>\n",
       "      <td>Yellow Cab</td>\n",
       "      <td>CHICAGO IL</td>\n",
       "      <td>22.42</td>\n",
       "      <td>269.98</td>\n",
       "      <td>282.49</td>\n",
       "      <td>2018</td>\n",
       "      <td>-4.43</td>\n",
       "    </tr>\n",
       "    <tr>\n",
       "      <th>359336</th>\n",
       "      <td>10438116</td>\n",
       "      <td>2018-12-31</td>\n",
       "      <td>Yellow Cab</td>\n",
       "      <td>CHICAGO IL</td>\n",
       "      <td>36.58</td>\n",
       "      <td>435.76</td>\n",
       "      <td>487.25</td>\n",
       "      <td>2018</td>\n",
       "      <td>-10.57</td>\n",
       "    </tr>\n",
       "    <tr>\n",
       "      <th>359338</th>\n",
       "      <td>10438152</td>\n",
       "      <td>2018-12-31</td>\n",
       "      <td>Yellow Cab</td>\n",
       "      <td>CHICAGO IL</td>\n",
       "      <td>19.62</td>\n",
       "      <td>233.72</td>\n",
       "      <td>242.50</td>\n",
       "      <td>2018</td>\n",
       "      <td>-3.62</td>\n",
       "    </tr>\n",
       "    <tr>\n",
       "      <th>359340</th>\n",
       "      <td>10438192</td>\n",
       "      <td>2018-12-31</td>\n",
       "      <td>Yellow Cab</td>\n",
       "      <td>CHICAGO IL</td>\n",
       "      <td>38.61</td>\n",
       "      <td>469.94</td>\n",
       "      <td>509.65</td>\n",
       "      <td>2018</td>\n",
       "      <td>-7.79</td>\n",
       "    </tr>\n",
       "    <tr>\n",
       "      <th>359386</th>\n",
       "      <td>10439934</td>\n",
       "      <td>2018-12-31</td>\n",
       "      <td>Yellow Cab</td>\n",
       "      <td>WASHINGTON DC</td>\n",
       "      <td>38.11</td>\n",
       "      <td>510.48</td>\n",
       "      <td>544.21</td>\n",
       "      <td>2018</td>\n",
       "      <td>-6.20</td>\n",
       "    </tr>\n",
       "  </tbody>\n",
       "</table>\n",
       "<p>24823 rows × 9 columns</p>\n",
       "</div>"
      ],
      "text/plain": [
       "        Transaction ID Date of Travel     Company           City  \\\n",
       "10            10000066     2016-01-02    Pink Cab      DALLAS TX   \n",
       "11            10000067     2016-01-02    Pink Cab      DALLAS TX   \n",
       "12            10000070     2016-01-02    Pink Cab      DENVER CO   \n",
       "34            10000356     2016-01-02    Pink Cab     SEATTLE WA   \n",
       "389           10000378     2016-01-05    Pink Cab  WASHINGTON DC   \n",
       "...                ...            ...         ...            ...   \n",
       "359335        10438112     2018-12-31  Yellow Cab     CHICAGO IL   \n",
       "359336        10438116     2018-12-31  Yellow Cab     CHICAGO IL   \n",
       "359338        10438152     2018-12-31  Yellow Cab     CHICAGO IL   \n",
       "359340        10438192     2018-12-31  Yellow Cab     CHICAGO IL   \n",
       "359386        10439934     2018-12-31  Yellow Cab  WASHINGTON DC   \n",
       "\n",
       "        KM Travelled  Price Charged  Cost of Trip  Year  loss_percentage  \n",
       "10             13.13         122.42        149.68  2016           -18.21  \n",
       "11             33.32         308.58        386.51  2016           -20.16  \n",
       "12              7.02          61.30         82.84  2016           -26.00  \n",
       "34             14.95         171.47        171.93  2016            -0.26  \n",
       "389            29.75         295.60        348.07  2016           -15.08  \n",
       "...              ...            ...           ...   ...              ...  \n",
       "359335         22.42         269.98        282.49  2018            -4.43  \n",
       "359336         36.58         435.76        487.25  2018           -10.57  \n",
       "359338         19.62         233.72        242.50  2018            -3.62  \n",
       "359340         38.61         469.94        509.65  2018            -7.79  \n",
       "359386         38.11         510.48        544.21  2018            -6.20  \n",
       "\n",
       "[24823 rows x 9 columns]"
      ]
     },
     "execution_count": 123,
     "metadata": {},
     "output_type": "execute_result"
    }
   ],
   "source": [
    "cabdata_loss = cab_data_df[cab_data_df['profit_percentage'] <= 0]\n",
    "cabdata_loss.rename(columns={\"profit_percentage\":\"loss_percentage\"}, inplace=True)\n",
    "cabdata_loss"
   ]
  },
  {
   "cell_type": "code",
   "execution_count": 124,
   "metadata": {},
   "outputs": [
    {
     "data": {
      "text/html": [
       "<div>\n",
       "<style scoped>\n",
       "    .dataframe tbody tr th:only-of-type {\n",
       "        vertical-align: middle;\n",
       "    }\n",
       "\n",
       "    .dataframe tbody tr th {\n",
       "        vertical-align: top;\n",
       "    }\n",
       "\n",
       "    .dataframe thead th {\n",
       "        text-align: right;\n",
       "    }\n",
       "</style>\n",
       "<table border=\"1\" class=\"dataframe\">\n",
       "  <thead>\n",
       "    <tr style=\"text-align: right;\">\n",
       "      <th></th>\n",
       "      <th>Company</th>\n",
       "      <th>City</th>\n",
       "      <th>Year</th>\n",
       "      <th>loss_percentage</th>\n",
       "    </tr>\n",
       "  </thead>\n",
       "  <tbody>\n",
       "    <tr>\n",
       "      <th>0</th>\n",
       "      <td>Pink Cab</td>\n",
       "      <td>ATLANTA GA</td>\n",
       "      <td>2016</td>\n",
       "      <td>-8.88</td>\n",
       "    </tr>\n",
       "    <tr>\n",
       "      <th>1</th>\n",
       "      <td>Pink Cab</td>\n",
       "      <td>ATLANTA GA</td>\n",
       "      <td>2017</td>\n",
       "      <td>-8.58</td>\n",
       "    </tr>\n",
       "    <tr>\n",
       "      <th>2</th>\n",
       "      <td>Pink Cab</td>\n",
       "      <td>ATLANTA GA</td>\n",
       "      <td>2018</td>\n",
       "      <td>-5.65</td>\n",
       "    </tr>\n",
       "    <tr>\n",
       "      <th>3</th>\n",
       "      <td>Pink Cab</td>\n",
       "      <td>AUSTIN TX</td>\n",
       "      <td>2016</td>\n",
       "      <td>-9.00</td>\n",
       "    </tr>\n",
       "    <tr>\n",
       "      <th>4</th>\n",
       "      <td>Pink Cab</td>\n",
       "      <td>AUSTIN TX</td>\n",
       "      <td>2017</td>\n",
       "      <td>-7.38</td>\n",
       "    </tr>\n",
       "    <tr>\n",
       "      <th>...</th>\n",
       "      <td>...</td>\n",
       "      <td>...</td>\n",
       "      <td>...</td>\n",
       "      <td>...</td>\n",
       "    </tr>\n",
       "    <tr>\n",
       "      <th>101</th>\n",
       "      <td>Yellow Cab</td>\n",
       "      <td>TUCSON AZ</td>\n",
       "      <td>2017</td>\n",
       "      <td>-8.94</td>\n",
       "    </tr>\n",
       "    <tr>\n",
       "      <th>102</th>\n",
       "      <td>Yellow Cab</td>\n",
       "      <td>TUCSON AZ</td>\n",
       "      <td>2018</td>\n",
       "      <td>-6.36</td>\n",
       "    </tr>\n",
       "    <tr>\n",
       "      <th>103</th>\n",
       "      <td>Yellow Cab</td>\n",
       "      <td>WASHINGTON DC</td>\n",
       "      <td>2016</td>\n",
       "      <td>-6.08</td>\n",
       "    </tr>\n",
       "    <tr>\n",
       "      <th>104</th>\n",
       "      <td>Yellow Cab</td>\n",
       "      <td>WASHINGTON DC</td>\n",
       "      <td>2017</td>\n",
       "      <td>-4.94</td>\n",
       "    </tr>\n",
       "    <tr>\n",
       "      <th>105</th>\n",
       "      <td>Yellow Cab</td>\n",
       "      <td>WASHINGTON DC</td>\n",
       "      <td>2018</td>\n",
       "      <td>-4.37</td>\n",
       "    </tr>\n",
       "  </tbody>\n",
       "</table>\n",
       "<p>106 rows × 4 columns</p>\n",
       "</div>"
      ],
      "text/plain": [
       "        Company           City  Year  loss_percentage\n",
       "0      Pink Cab     ATLANTA GA  2016            -8.88\n",
       "1      Pink Cab     ATLANTA GA  2017            -8.58\n",
       "2      Pink Cab     ATLANTA GA  2018            -5.65\n",
       "3      Pink Cab      AUSTIN TX  2016            -9.00\n",
       "4      Pink Cab      AUSTIN TX  2017            -7.38\n",
       "..          ...            ...   ...              ...\n",
       "101  Yellow Cab      TUCSON AZ  2017            -8.94\n",
       "102  Yellow Cab      TUCSON AZ  2018            -6.36\n",
       "103  Yellow Cab  WASHINGTON DC  2016            -6.08\n",
       "104  Yellow Cab  WASHINGTON DC  2017            -4.94\n",
       "105  Yellow Cab  WASHINGTON DC  2018            -4.37\n",
       "\n",
       "[106 rows x 4 columns]"
      ]
     },
     "execution_count": 124,
     "metadata": {},
     "output_type": "execute_result"
    }
   ],
   "source": [
    "loss_dist = cabdata_loss.groupby(['Company','City',\"Year\"]).agg({\"loss_percentage\":\"mean\"}).reset_index()\n",
    "loss_dist"
   ]
  },
  {
   "cell_type": "code",
   "execution_count": 125,
   "metadata": {},
   "outputs": [],
   "source": [
    "loss_dist_pink = loss_dist.where(loss_dist['Company']=='Pink Cab')\n",
    "loss_dist_yellow = loss_dist.where(loss_dist['Company']=='Yellow Cab')\n",
    "loss_dist_pink['loss_percentage'] = abs(loss_dist_pink['loss_percentage'])\n",
    "loss_dist_yellow['loss_percentage'] = abs(loss_dist_yellow['loss_percentage'])"
   ]
  },
  {
   "cell_type": "code",
   "execution_count": 126,
   "metadata": {},
   "outputs": [
    {
     "data": {
      "text/plain": [
       "(array([ 0,  1,  2,  3,  4,  5,  6,  7,  8,  9, 10, 11, 12, 13, 14, 15, 16,\n",
       "        17, 18]),\n",
       " [Text(0, 0, 'ATLANTA GA'),\n",
       "  Text(1, 0, 'AUSTIN TX'),\n",
       "  Text(2, 0, 'BOSTON MA'),\n",
       "  Text(3, 0, 'CHICAGO IL'),\n",
       "  Text(4, 0, 'DALLAS TX'),\n",
       "  Text(5, 0, 'DENVER CO'),\n",
       "  Text(6, 0, 'LOS ANGELES CA'),\n",
       "  Text(7, 0, 'MIAMI FL'),\n",
       "  Text(8, 0, 'NASHVILLE TN'),\n",
       "  Text(9, 0, 'NEW YORK NY'),\n",
       "  Text(10, 0, 'ORANGE COUNTY'),\n",
       "  Text(11, 0, 'PHOENIX AZ'),\n",
       "  Text(12, 0, 'PITTSBURGH PA'),\n",
       "  Text(13, 0, 'SACRAMENTO CA'),\n",
       "  Text(14, 0, 'SAN DIEGO CA'),\n",
       "  Text(15, 0, 'SEATTLE WA'),\n",
       "  Text(16, 0, 'SILICON VALLEY'),\n",
       "  Text(17, 0, 'TUCSON AZ'),\n",
       "  Text(18, 0, 'WASHINGTON DC')])"
      ]
     },
     "execution_count": 126,
     "metadata": {},
     "output_type": "execute_result"
    },
    {
     "data": {
      "image/png": "[encoded data removed]",
      "text/plain": [
       "<Figure size 720x432 with 1 Axes>"
      ]
     },
     "metadata": {},
     "output_type": "display_data"
    }
   ],
   "source": [
    "plt.figure(figsize=(10,6))\n",
    "sns.barplot(x='City',y='loss_percentage',data=loss_dist_pink,hue='Year',palette='YlOrRd')\n",
    "plt.ylabel(\"Loss_percentage of Pink Cab\")\n",
    "plt.xticks(rotation=90)"
   ]
  },
  {
   "cell_type": "code",
   "execution_count": 127,
   "metadata": {},
   "outputs": [
    {
     "data": {
      "text/plain": [
       "(array([ 0,  1,  2,  3,  4,  5,  6,  7,  8,  9, 10, 11, 12, 13, 14, 15, 16]),\n",
       " [Text(0, 0, 'ATLANTA GA'),\n",
       "  Text(1, 0, 'AUSTIN TX'),\n",
       "  Text(2, 0, 'BOSTON MA'),\n",
       "  Text(3, 0, 'CHICAGO IL'),\n",
       "  Text(4, 0, 'DALLAS TX'),\n",
       "  Text(5, 0, 'DENVER CO'),\n",
       "  Text(6, 0, 'LOS ANGELES CA'),\n",
       "  Text(7, 0, 'MIAMI FL'),\n",
       "  Text(8, 0, 'NASHVILLE TN'),\n",
       "  Text(9, 0, 'ORANGE COUNTY'),\n",
       "  Text(10, 0, 'PHOENIX AZ'),\n",
       "  Text(11, 0, 'PITTSBURGH PA'),\n",
       "  Text(12, 0, 'SACRAMENTO CA'),\n",
       "  Text(13, 0, 'SAN DIEGO CA'),\n",
       "  Text(14, 0, 'SEATTLE WA'),\n",
       "  Text(15, 0, 'TUCSON AZ'),\n",
       "  Text(16, 0, 'WASHINGTON DC')])"
      ]
     },
     "execution_count": 127,
     "metadata": {},
     "output_type": "execute_result"
    },
    {
     "data": {
      "image/png": "[encoded data removed]",
      "text/plain": [
       "<Figure size 720x432 with 1 Axes>"
      ]
     },
     "metadata": {},
     "output_type": "display_data"
    }
   ],
   "source": [
    "plt.figure(figsize=(10,6))\n",
    "sns.barplot(x='City',y='loss_percentage',data=loss_dist_yellow,hue='Year',palette='YlOrRd')\n",
    "plt.ylabel(\"Loss_percentage of Yellow Cab\")\n",
    "plt.xticks(rotation=90)"
   ]
  },
  {
   "cell_type": "markdown",
   "metadata": {},
   "source": [
    "### How companies are managing both, the avg.profit percentage and avg.loss percentage during each year"
   ]
  },
  {
   "cell_type": "code",
   "execution_count": 128,
   "metadata": {},
   "outputs": [
    {
     "data": {
      "text/html": [
       "<div>\n",
       "<style scoped>\n",
       "    .dataframe tbody tr th:only-of-type {\n",
       "        vertical-align: middle;\n",
       "    }\n",
       "\n",
       "    .dataframe tbody tr th {\n",
       "        vertical-align: top;\n",
       "    }\n",
       "\n",
       "    .dataframe thead th {\n",
       "        text-align: right;\n",
       "    }\n",
       "</style>\n",
       "<table border=\"1\" class=\"dataframe\">\n",
       "  <thead>\n",
       "    <tr style=\"text-align: right;\">\n",
       "      <th></th>\n",
       "      <th>Company</th>\n",
       "      <th>City</th>\n",
       "      <th>Year</th>\n",
       "      <th>loss_percentage</th>\n",
       "      <th>profit_percentage</th>\n",
       "    </tr>\n",
       "  </thead>\n",
       "  <tbody>\n",
       "    <tr>\n",
       "      <th>0</th>\n",
       "      <td>Pink Cab</td>\n",
       "      <td>ATLANTA GA</td>\n",
       "      <td>2016</td>\n",
       "      <td>-8.88</td>\n",
       "      <td>34.37</td>\n",
       "    </tr>\n",
       "    <tr>\n",
       "      <th>1</th>\n",
       "      <td>Pink Cab</td>\n",
       "      <td>ATLANTA GA</td>\n",
       "      <td>2017</td>\n",
       "      <td>-8.58</td>\n",
       "      <td>28.84</td>\n",
       "    </tr>\n",
       "    <tr>\n",
       "      <th>2</th>\n",
       "      <td>Pink Cab</td>\n",
       "      <td>ATLANTA GA</td>\n",
       "      <td>2018</td>\n",
       "      <td>-5.65</td>\n",
       "      <td>21.58</td>\n",
       "    </tr>\n",
       "    <tr>\n",
       "      <th>3</th>\n",
       "      <td>Pink Cab</td>\n",
       "      <td>AUSTIN TX</td>\n",
       "      <td>2016</td>\n",
       "      <td>-9.00</td>\n",
       "      <td>38.36</td>\n",
       "    </tr>\n",
       "    <tr>\n",
       "      <th>4</th>\n",
       "      <td>Pink Cab</td>\n",
       "      <td>AUSTIN TX</td>\n",
       "      <td>2017</td>\n",
       "      <td>-7.38</td>\n",
       "      <td>39.50</td>\n",
       "    </tr>\n",
       "    <tr>\n",
       "      <th>...</th>\n",
       "      <td>...</td>\n",
       "      <td>...</td>\n",
       "      <td>...</td>\n",
       "      <td>...</td>\n",
       "      <td>...</td>\n",
       "    </tr>\n",
       "    <tr>\n",
       "      <th>101</th>\n",
       "      <td>Yellow Cab</td>\n",
       "      <td>TUCSON AZ</td>\n",
       "      <td>2017</td>\n",
       "      <td>-8.94</td>\n",
       "      <td>33.68</td>\n",
       "    </tr>\n",
       "    <tr>\n",
       "      <th>102</th>\n",
       "      <td>Yellow Cab</td>\n",
       "      <td>TUCSON AZ</td>\n",
       "      <td>2018</td>\n",
       "      <td>-6.36</td>\n",
       "      <td>25.78</td>\n",
       "    </tr>\n",
       "    <tr>\n",
       "      <th>103</th>\n",
       "      <td>Yellow Cab</td>\n",
       "      <td>WASHINGTON DC</td>\n",
       "      <td>2016</td>\n",
       "      <td>-6.08</td>\n",
       "      <td>30.38</td>\n",
       "    </tr>\n",
       "    <tr>\n",
       "      <th>104</th>\n",
       "      <td>Yellow Cab</td>\n",
       "      <td>WASHINGTON DC</td>\n",
       "      <td>2017</td>\n",
       "      <td>-4.94</td>\n",
       "      <td>35.36</td>\n",
       "    </tr>\n",
       "    <tr>\n",
       "      <th>105</th>\n",
       "      <td>Yellow Cab</td>\n",
       "      <td>WASHINGTON DC</td>\n",
       "      <td>2018</td>\n",
       "      <td>-4.37</td>\n",
       "      <td>25.29</td>\n",
       "    </tr>\n",
       "  </tbody>\n",
       "</table>\n",
       "<p>106 rows × 5 columns</p>\n",
       "</div>"
      ],
      "text/plain": [
       "        Company           City  Year  loss_percentage  profit_percentage\n",
       "0      Pink Cab     ATLANTA GA  2016            -8.88              34.37\n",
       "1      Pink Cab     ATLANTA GA  2017            -8.58              28.84\n",
       "2      Pink Cab     ATLANTA GA  2018            -5.65              21.58\n",
       "3      Pink Cab      AUSTIN TX  2016            -9.00              38.36\n",
       "4      Pink Cab      AUSTIN TX  2017            -7.38              39.50\n",
       "..          ...            ...   ...              ...                ...\n",
       "101  Yellow Cab      TUCSON AZ  2017            -8.94              33.68\n",
       "102  Yellow Cab      TUCSON AZ  2018            -6.36              25.78\n",
       "103  Yellow Cab  WASHINGTON DC  2016            -6.08              30.38\n",
       "104  Yellow Cab  WASHINGTON DC  2017            -4.94              35.36\n",
       "105  Yellow Cab  WASHINGTON DC  2018            -4.37              25.29\n",
       "\n",
       "[106 rows x 5 columns]"
      ]
     },
     "execution_count": 128,
     "metadata": {},
     "output_type": "execute_result"
    }
   ],
   "source": [
    "profit_loss_allyears = pd.merge(loss_dist, profit_dist, on=['Company','City','Year'])\n",
    "profit_loss_allyears"
   ]
  },
  {
   "cell_type": "code",
   "execution_count": 129,
   "metadata": {},
   "outputs": [],
   "source": [
    "subplot_1 = profit_loss_allyears[profit_loss_allyears['Year']==2016]\n",
    "subplot_1_grpby = subplot_1.groupby(['Company']).agg(avg_loss_percentage = pd.NamedAgg(column='loss_percentage',aggfunc='mean'), \n",
    "                                                      avg_profit_percentage = pd.NamedAgg(column='profit_percentage',aggfunc='mean')).reset_index()\n",
    "\n",
    "subplot_2 = profit_loss_allyears[profit_loss_allyears['Year']==2017]\n",
    "subplot_2_grpby = subplot_2.groupby(['Company']).agg(avg_loss_percentage = pd.NamedAgg(column='loss_percentage',aggfunc='mean'), \n",
    "                                                      avg_profit_percentage = pd.NamedAgg(column='profit_percentage',aggfunc='mean')).reset_index()\n",
    "\n",
    "subplot_3 = profit_loss_allyears[profit_loss_allyears['Year']==2018]\n",
    "subplot_3_grpby = subplot_3.groupby(['Company']).agg(avg_loss_percentage = pd.NamedAgg(column='loss_percentage',aggfunc='mean'), \n",
    "                                                      avg_profit_percentage = pd.NamedAgg(column='profit_percentage',aggfunc='mean')).reset_index()"
   ]
  },
  {
   "cell_type": "code",
   "execution_count": 130,
   "metadata": {},
   "outputs": [
    {
     "data": {
      "text/html": [
       "<div>\n",
       "<style scoped>\n",
       "    .dataframe tbody tr th:only-of-type {\n",
       "        vertical-align: middle;\n",
       "    }\n",
       "\n",
       "    .dataframe tbody tr th {\n",
       "        vertical-align: top;\n",
       "    }\n",
       "\n",
       "    .dataframe thead th {\n",
       "        text-align: right;\n",
       "    }\n",
       "</style>\n",
       "<table border=\"1\" class=\"dataframe\">\n",
       "  <thead>\n",
       "    <tr style=\"text-align: right;\">\n",
       "      <th></th>\n",
       "      <th>Company</th>\n",
       "      <th>avg_loss_percentage</th>\n",
       "      <th>avg_profit_percentage</th>\n",
       "    </tr>\n",
       "  </thead>\n",
       "  <tbody>\n",
       "    <tr>\n",
       "      <th>0</th>\n",
       "      <td>Pink Cab</td>\n",
       "      <td>-7.05</td>\n",
       "      <td>24.62</td>\n",
       "    </tr>\n",
       "    <tr>\n",
       "      <th>1</th>\n",
       "      <td>Yellow Cab</td>\n",
       "      <td>-4.78</td>\n",
       "      <td>32.63</td>\n",
       "    </tr>\n",
       "  </tbody>\n",
       "</table>\n",
       "</div>"
      ],
      "text/plain": [
       "      Company  avg_loss_percentage  avg_profit_percentage\n",
       "0    Pink Cab                -7.05                  24.62\n",
       "1  Yellow Cab                -4.78                  32.63"
      ]
     },
     "execution_count": 130,
     "metadata": {},
     "output_type": "execute_result"
    }
   ],
   "source": [
    "subplot_3_grpby"
   ]
  },
  {
   "cell_type": "code",
   "execution_count": 131,
   "metadata": {},
   "outputs": [
    {
     "data": {
      "text/html": [
       "<div>\n",
       "<style scoped>\n",
       "    .dataframe tbody tr th:only-of-type {\n",
       "        vertical-align: middle;\n",
       "    }\n",
       "\n",
       "    .dataframe tbody tr th {\n",
       "        vertical-align: top;\n",
       "    }\n",
       "\n",
       "    .dataframe thead th {\n",
       "        text-align: right;\n",
       "    }\n",
       "</style>\n",
       "<table border=\"1\" class=\"dataframe\">\n",
       "  <thead>\n",
       "    <tr style=\"text-align: right;\">\n",
       "      <th></th>\n",
       "      <th>Company</th>\n",
       "      <th>avg_loss_percentage</th>\n",
       "      <th>avg_profit_percentage</th>\n",
       "    </tr>\n",
       "  </thead>\n",
       "  <tbody>\n",
       "    <tr>\n",
       "      <th>0</th>\n",
       "      <td>Pink Cab</td>\n",
       "      <td>-9.29</td>\n",
       "      <td>31.05</td>\n",
       "    </tr>\n",
       "    <tr>\n",
       "      <th>1</th>\n",
       "      <td>Yellow Cab</td>\n",
       "      <td>-5.90</td>\n",
       "      <td>40.73</td>\n",
       "    </tr>\n",
       "  </tbody>\n",
       "</table>\n",
       "</div>"
      ],
      "text/plain": [
       "      Company  avg_loss_percentage  avg_profit_percentage\n",
       "0    Pink Cab                -9.29                  31.05\n",
       "1  Yellow Cab                -5.90                  40.73"
      ]
     },
     "execution_count": 131,
     "metadata": {},
     "output_type": "execute_result"
    }
   ],
   "source": [
    "subplot_2_grpby"
   ]
  },
  {
   "cell_type": "code",
   "execution_count": 132,
   "metadata": {},
   "outputs": [
    {
     "data": {
      "text/html": [
       "<div>\n",
       "<style scoped>\n",
       "    .dataframe tbody tr th:only-of-type {\n",
       "        vertical-align: middle;\n",
       "    }\n",
       "\n",
       "    .dataframe tbody tr th {\n",
       "        vertical-align: top;\n",
       "    }\n",
       "\n",
       "    .dataframe thead th {\n",
       "        text-align: right;\n",
       "    }\n",
       "</style>\n",
       "<table border=\"1\" class=\"dataframe\">\n",
       "  <thead>\n",
       "    <tr style=\"text-align: right;\">\n",
       "      <th></th>\n",
       "      <th>Company</th>\n",
       "      <th>avg_loss_percentage</th>\n",
       "      <th>avg_profit_percentage</th>\n",
       "    </tr>\n",
       "  </thead>\n",
       "  <tbody>\n",
       "    <tr>\n",
       "      <th>0</th>\n",
       "      <td>Pink Cab</td>\n",
       "      <td>-9.14</td>\n",
       "      <td>31.66</td>\n",
       "    </tr>\n",
       "    <tr>\n",
       "      <th>1</th>\n",
       "      <td>Yellow Cab</td>\n",
       "      <td>-5.71</td>\n",
       "      <td>40.98</td>\n",
       "    </tr>\n",
       "  </tbody>\n",
       "</table>\n",
       "</div>"
      ],
      "text/plain": [
       "      Company  avg_loss_percentage  avg_profit_percentage\n",
       "0    Pink Cab                -9.14                  31.66\n",
       "1  Yellow Cab                -5.71                  40.98"
      ]
     },
     "execution_count": 132,
     "metadata": {},
     "output_type": "execute_result"
    }
   ],
   "source": [
    "subplot_1_grpby"
   ]
  },
  {
   "cell_type": "code",
   "execution_count": 133,
   "metadata": {},
   "outputs": [
    {
     "name": "stderr",
     "output_type": "stream",
     "text": [
      "C:\\Users\\snigdha.chigurupati\\anaconda3\\lib\\site-packages\\seaborn\\_decorators.py:36: FutureWarning:\n",
      "\n",
      "Pass the following variables as keyword args: x, y. From version 0.12, the only valid positional argument will be `data`, and passing other arguments without an explicit keyword will result in an error or misinterpretation.\n",
      "\n",
      "C:\\Users\\snigdha.chigurupati\\anaconda3\\lib\\site-packages\\seaborn\\_decorators.py:36: FutureWarning:\n",
      "\n",
      "Pass the following variables as keyword args: x, y. From version 0.12, the only valid positional argument will be `data`, and passing other arguments without an explicit keyword will result in an error or misinterpretation.\n",
      "\n",
      "C:\\Users\\snigdha.chigurupati\\anaconda3\\lib\\site-packages\\seaborn\\_decorators.py:36: FutureWarning:\n",
      "\n",
      "Pass the following variables as keyword args: x, y. From version 0.12, the only valid positional argument will be `data`, and passing other arguments without an explicit keyword will result in an error or misinterpretation.\n",
      "\n",
      "C:\\Users\\snigdha.chigurupati\\anaconda3\\lib\\site-packages\\seaborn\\_decorators.py:36: FutureWarning:\n",
      "\n",
      "Pass the following variables as keyword args: x, y. From version 0.12, the only valid positional argument will be `data`, and passing other arguments without an explicit keyword will result in an error or misinterpretation.\n",
      "\n",
      "C:\\Users\\snigdha.chigurupati\\anaconda3\\lib\\site-packages\\seaborn\\_decorators.py:36: FutureWarning:\n",
      "\n",
      "Pass the following variables as keyword args: x, y. From version 0.12, the only valid positional argument will be `data`, and passing other arguments without an explicit keyword will result in an error or misinterpretation.\n",
      "\n"
     ]
    },
    {
     "data": {
      "text/plain": [
       "Text(0, 0.5, 'Profit and loss percentage')"
      ]
     },
     "execution_count": 133,
     "metadata": {},
     "output_type": "execute_result"
    },
    {
     "data": {
      "image/png": "[encoded data removed]",
      "text/plain": [
       "<Figure size 720x1440 with 3 Axes>"
      ]
     },
     "metadata": {},
     "output_type": "display_data"
    }
   ],
   "source": [
    "plt.figure(figsize=(10,20))\n",
    "sns.set_style(\"darkgrid\")\n",
    "\n",
    "plt.subplot(3,1,1)\n",
    "sns.barplot(subplot_1_grpby['Company'],subplot_1_grpby['avg_profit_percentage'],palette='pastel')\n",
    "sns.barplot(x=subplot_1_grpby['Company'],y=subplot_1_grpby['avg_loss_percentage'],palette='muted')\n",
    "plt.title(\"avg.profit percentage and avg.loss percentage during 2016\",size=16,color='red')\n",
    "plt.ylabel(\"Profit and loss percentage\",size=12,color='blue')\n",
    "\n",
    "plt.subplot(3,1,2)\n",
    "sns.barplot(subplot_2_grpby['Company'],subplot_2_grpby['avg_profit_percentage'], palette='pastel')\n",
    "sns.barplot(subplot_2_grpby['Company'],subplot_2_grpby['avg_loss_percentage'], palette='muted')\n",
    "plt.title(\"avg.profit percentage and avg.loss percentage during 2017\",size=16,color='red')\n",
    "plt.ylabel(\"Profit and loss percentage\",size=12,color='blue')\n",
    "\n",
    "plt.subplot(3,1,3)\n",
    "sns.barplot(subplot_3_grpby['Company'],subplot_3_grpby['avg_profit_percentage'], palette='pastel')\n",
    "sns.barplot(subplot_3_grpby['Company'],subplot_3_grpby['avg_loss_percentage'], palette='muted')\n",
    "plt.title(\"avg.profit percentage and avg.loss percentage during 2018\",size=16,color='red')\n",
    "plt.ylabel(\"Profit and loss percentage\",size=12,color='blue')"
   ]
  },
  {
   "cell_type": "markdown",
   "metadata": {},
   "source": [
    "### Total transactions/rides of each company for all years"
   ]
  },
  {
   "cell_type": "code",
   "execution_count": 134,
   "metadata": {
    "colab": {
     "base_uri": "https://localhost:8080/",
     "height": 623
    },
    "id": "7I6YPT3oFa1n",
    "outputId": "1ed537ce-6bbc-4028-a27b-34acb567b454"
   },
   "outputs": [
    {
     "data": {
      "text/html": [
       "<div>\n",
       "<style scoped>\n",
       "    .dataframe tbody tr th:only-of-type {\n",
       "        vertical-align: middle;\n",
       "    }\n",
       "\n",
       "    .dataframe tbody tr th {\n",
       "        vertical-align: top;\n",
       "    }\n",
       "\n",
       "    .dataframe thead th {\n",
       "        text-align: right;\n",
       "    }\n",
       "</style>\n",
       "<table border=\"1\" class=\"dataframe\">\n",
       "  <thead>\n",
       "    <tr style=\"text-align: right;\">\n",
       "      <th></th>\n",
       "      <th>Transaction ID</th>\n",
       "      <th>Date of Travel</th>\n",
       "      <th>Company</th>\n",
       "      <th>City</th>\n",
       "      <th>KM Travelled</th>\n",
       "      <th>Price Charged</th>\n",
       "      <th>Cost of Trip</th>\n",
       "      <th>Year</th>\n",
       "      <th>profit_percentage</th>\n",
       "      <th>Customer ID</th>\n",
       "      <th>Payment_Mode</th>\n",
       "      <th>Gender</th>\n",
       "      <th>Age</th>\n",
       "      <th>Income (USD/Month)</th>\n",
       "    </tr>\n",
       "  </thead>\n",
       "  <tbody>\n",
       "    <tr>\n",
       "      <th>0</th>\n",
       "      <td>10000013</td>\n",
       "      <td>2016-01-02</td>\n",
       "      <td>Pink Cab</td>\n",
       "      <td>ATLANTA GA</td>\n",
       "      <td>9.04</td>\n",
       "      <td>125.20</td>\n",
       "      <td>97.63</td>\n",
       "      <td>2016</td>\n",
       "      <td>28.24</td>\n",
       "      <td>28712</td>\n",
       "      <td>Cash</td>\n",
       "      <td>Male</td>\n",
       "      <td>53</td>\n",
       "      <td>11242</td>\n",
       "    </tr>\n",
       "    <tr>\n",
       "      <th>1</th>\n",
       "      <td>10079404</td>\n",
       "      <td>2016-09-21</td>\n",
       "      <td>Yellow Cab</td>\n",
       "      <td>ATLANTA GA</td>\n",
       "      <td>39.60</td>\n",
       "      <td>704.30</td>\n",
       "      <td>494.21</td>\n",
       "      <td>2016</td>\n",
       "      <td>42.51</td>\n",
       "      <td>28712</td>\n",
       "      <td>Card</td>\n",
       "      <td>Male</td>\n",
       "      <td>53</td>\n",
       "      <td>11242</td>\n",
       "    </tr>\n",
       "    <tr>\n",
       "      <th>2</th>\n",
       "      <td>10186994</td>\n",
       "      <td>2017-06-23</td>\n",
       "      <td>Yellow Cab</td>\n",
       "      <td>ATLANTA GA</td>\n",
       "      <td>18.19</td>\n",
       "      <td>365.63</td>\n",
       "      <td>246.66</td>\n",
       "      <td>2017</td>\n",
       "      <td>48.23</td>\n",
       "      <td>28712</td>\n",
       "      <td>Card</td>\n",
       "      <td>Male</td>\n",
       "      <td>53</td>\n",
       "      <td>11242</td>\n",
       "    </tr>\n",
       "    <tr>\n",
       "      <th>3</th>\n",
       "      <td>10320493</td>\n",
       "      <td>2018-04-21</td>\n",
       "      <td>Yellow Cab</td>\n",
       "      <td>ATLANTA GA</td>\n",
       "      <td>19.38</td>\n",
       "      <td>326.35</td>\n",
       "      <td>272.10</td>\n",
       "      <td>2018</td>\n",
       "      <td>19.94</td>\n",
       "      <td>28712</td>\n",
       "      <td>Cash</td>\n",
       "      <td>Male</td>\n",
       "      <td>53</td>\n",
       "      <td>11242</td>\n",
       "    </tr>\n",
       "    <tr>\n",
       "      <th>4</th>\n",
       "      <td>10000029</td>\n",
       "      <td>2016-01-02</td>\n",
       "      <td>Pink Cab</td>\n",
       "      <td>BOSTON MA</td>\n",
       "      <td>21.34</td>\n",
       "      <td>324.21</td>\n",
       "      <td>226.20</td>\n",
       "      <td>2016</td>\n",
       "      <td>43.33</td>\n",
       "      <td>58925</td>\n",
       "      <td>Card</td>\n",
       "      <td>Male</td>\n",
       "      <td>38</td>\n",
       "      <td>26550</td>\n",
       "    </tr>\n",
       "    <tr>\n",
       "      <th>...</th>\n",
       "      <td>...</td>\n",
       "      <td>...</td>\n",
       "      <td>...</td>\n",
       "      <td>...</td>\n",
       "      <td>...</td>\n",
       "      <td>...</td>\n",
       "      <td>...</td>\n",
       "      <td>...</td>\n",
       "      <td>...</td>\n",
       "      <td>...</td>\n",
       "      <td>...</td>\n",
       "      <td>...</td>\n",
       "      <td>...</td>\n",
       "      <td>...</td>\n",
       "    </tr>\n",
       "    <tr>\n",
       "      <th>359387</th>\n",
       "      <td>10435915</td>\n",
       "      <td>2018-12-31</td>\n",
       "      <td>Yellow Cab</td>\n",
       "      <td>SACRAMENTO CA</td>\n",
       "      <td>27.14</td>\n",
       "      <td>374.95</td>\n",
       "      <td>377.79</td>\n",
       "      <td>2018</td>\n",
       "      <td>-0.75</td>\n",
       "      <td>45644</td>\n",
       "      <td>Card</td>\n",
       "      <td>Male</td>\n",
       "      <td>28</td>\n",
       "      <td>23014</td>\n",
       "    </tr>\n",
       "    <tr>\n",
       "      <th>359388</th>\n",
       "      <td>10439393</td>\n",
       "      <td>2018-12-31</td>\n",
       "      <td>Yellow Cab</td>\n",
       "      <td>ORANGE COUNTY</td>\n",
       "      <td>24.78</td>\n",
       "      <td>379.42</td>\n",
       "      <td>347.91</td>\n",
       "      <td>2018</td>\n",
       "      <td>9.06</td>\n",
       "      <td>15270</td>\n",
       "      <td>Cash</td>\n",
       "      <td>Female</td>\n",
       "      <td>18</td>\n",
       "      <td>19636</td>\n",
       "    </tr>\n",
       "    <tr>\n",
       "      <th>359389</th>\n",
       "      <td>10439410</td>\n",
       "      <td>2018-12-31</td>\n",
       "      <td>Yellow Cab</td>\n",
       "      <td>PITTSBURGH PA</td>\n",
       "      <td>4.04</td>\n",
       "      <td>81.05</td>\n",
       "      <td>52.84</td>\n",
       "      <td>2018</td>\n",
       "      <td>53.38</td>\n",
       "      <td>50921</td>\n",
       "      <td>Card</td>\n",
       "      <td>Male</td>\n",
       "      <td>33</td>\n",
       "      <td>18698</td>\n",
       "    </tr>\n",
       "    <tr>\n",
       "      <th>359390</th>\n",
       "      <td>10439419</td>\n",
       "      <td>2018-12-31</td>\n",
       "      <td>Yellow Cab</td>\n",
       "      <td>SACRAMENTO CA</td>\n",
       "      <td>32.67</td>\n",
       "      <td>469.42</td>\n",
       "      <td>466.53</td>\n",
       "      <td>2018</td>\n",
       "      <td>0.62</td>\n",
       "      <td>46512</td>\n",
       "      <td>Cash</td>\n",
       "      <td>Male</td>\n",
       "      <td>20</td>\n",
       "      <td>16996</td>\n",
       "    </tr>\n",
       "    <tr>\n",
       "      <th>359391</th>\n",
       "      <td>10439766</td>\n",
       "      <td>2018-12-31</td>\n",
       "      <td>Yellow Cab</td>\n",
       "      <td>SEATTLE WA</td>\n",
       "      <td>21.42</td>\n",
       "      <td>342.33</td>\n",
       "      <td>275.03</td>\n",
       "      <td>2018</td>\n",
       "      <td>24.47</td>\n",
       "      <td>36141</td>\n",
       "      <td>Card</td>\n",
       "      <td>Female</td>\n",
       "      <td>21</td>\n",
       "      <td>14944</td>\n",
       "    </tr>\n",
       "  </tbody>\n",
       "</table>\n",
       "<p>359392 rows × 14 columns</p>\n",
       "</div>"
      ],
      "text/plain": [
       "        Transaction ID Date of Travel     Company           City  \\\n",
       "0             10000013     2016-01-02    Pink Cab     ATLANTA GA   \n",
       "1             10079404     2016-09-21  Yellow Cab     ATLANTA GA   \n",
       "2             10186994     2017-06-23  Yellow Cab     ATLANTA GA   \n",
       "3             10320493     2018-04-21  Yellow Cab     ATLANTA GA   \n",
       "4             10000029     2016-01-02    Pink Cab      BOSTON MA   \n",
       "...                ...            ...         ...            ...   \n",
       "359387        10435915     2018-12-31  Yellow Cab  SACRAMENTO CA   \n",
       "359388        10439393     2018-12-31  Yellow Cab  ORANGE COUNTY   \n",
       "359389        10439410     2018-12-31  Yellow Cab  PITTSBURGH PA   \n",
       "359390        10439419     2018-12-31  Yellow Cab  SACRAMENTO CA   \n",
       "359391        10439766     2018-12-31  Yellow Cab     SEATTLE WA   \n",
       "\n",
       "        KM Travelled  Price Charged  Cost of Trip  Year  profit_percentage  \\\n",
       "0               9.04         125.20         97.63  2016              28.24   \n",
       "1              39.60         704.30        494.21  2016              42.51   \n",
       "2              18.19         365.63        246.66  2017              48.23   \n",
       "3              19.38         326.35        272.10  2018              19.94   \n",
       "4              21.34         324.21        226.20  2016              43.33   \n",
       "...              ...            ...           ...   ...                ...   \n",
       "359387         27.14         374.95        377.79  2018              -0.75   \n",
       "359388         24.78         379.42        347.91  2018               9.06   \n",
       "359389          4.04          81.05         52.84  2018              53.38   \n",
       "359390         32.67         469.42        466.53  2018               0.62   \n",
       "359391         21.42         342.33        275.03  2018              24.47   \n",
       "\n",
       "        Customer ID Payment_Mode  Gender  Age  Income (USD/Month)  \n",
       "0             28712         Cash    Male   53               11242  \n",
       "1             28712         Card    Male   53               11242  \n",
       "2             28712         Card    Male   53               11242  \n",
       "3             28712         Cash    Male   53               11242  \n",
       "4             58925         Card    Male   38               26550  \n",
       "...             ...          ...     ...  ...                 ...  \n",
       "359387        45644         Card    Male   28               23014  \n",
       "359388        15270         Cash  Female   18               19636  \n",
       "359389        50921         Card    Male   33               18698  \n",
       "359390        46512         Cash    Male   20               16996  \n",
       "359391        36141         Card  Female   21               14944  \n",
       "\n",
       "[359392 rows x 14 columns]"
      ]
     },
     "execution_count": 134,
     "metadata": {},
     "output_type": "execute_result"
    }
   ],
   "source": [
    "df_cab_trans = pd.merge(cab_data_df,transactionID_df,on='Transaction ID')\n",
    "df_cab_trans_cus = pd.merge(df_cab_trans,customerID_df,on='Customer ID')\n",
    "df_cab_trans_cus"
   ]
  },
  {
   "cell_type": "code",
   "execution_count": 135,
   "metadata": {
    "colab": {
     "base_uri": "https://localhost:8080/"
    },
    "id": "Md6_hqUVMWPr",
    "outputId": "911c1911-82a5-4135-8d7f-3b8b3dacbdaa"
   },
   "outputs": [
    {
     "name": "stdout",
     "output_type": "stream",
     "text": [
      "<class 'pandas.core.frame.DataFrame'>\n",
      "Int64Index: 359392 entries, 0 to 359391\n",
      "Data columns (total 14 columns):\n",
      " #   Column              Non-Null Count   Dtype         \n",
      "---  ------              --------------   -----         \n",
      " 0   Transaction ID      359392 non-null  int64         \n",
      " 1   Date of Travel      359392 non-null  datetime64[ns]\n",
      " 2   Company             359392 non-null  object        \n",
      " 3   City                359392 non-null  object        \n",
      " 4   KM Travelled        359392 non-null  float64       \n",
      " 5   Price Charged       359392 non-null  float64       \n",
      " 6   Cost of Trip        359392 non-null  float64       \n",
      " 7   Year                359392 non-null  int64         \n",
      " 8   profit_percentage   359392 non-null  float64       \n",
      " 9   Customer ID         359392 non-null  int64         \n",
      " 10  Payment_Mode        359392 non-null  object        \n",
      " 11  Gender              359392 non-null  object        \n",
      " 12  Age                 359392 non-null  int64         \n",
      " 13  Income (USD/Month)  359392 non-null  int64         \n",
      "dtypes: datetime64[ns](1), float64(4), int64(5), object(4)\n",
      "memory usage: 41.1+ MB\n"
     ]
    }
   ],
   "source": [
    "df_cab_trans_cus.info()"
   ]
  },
  {
   "cell_type": "code",
   "execution_count": 136,
   "metadata": {
    "id": "nbkgLoXYoIg4"
   },
   "outputs": [],
   "source": [
    "pd.options.display.float_format = '{:.2f}'.format"
   ]
  },
  {
   "cell_type": "code",
   "execution_count": 137,
   "metadata": {
    "colab": {
     "base_uri": "https://localhost:8080/",
     "height": 269
    },
    "id": "fTLCsm8IgTYH",
    "outputId": "814dbd11-4f88-4643-c7e3-a02b4db0c96f"
   },
   "outputs": [
    {
     "data": {
      "text/html": [
       "<div>\n",
       "<style scoped>\n",
       "    .dataframe tbody tr th:only-of-type {\n",
       "        vertical-align: middle;\n",
       "    }\n",
       "\n",
       "    .dataframe tbody tr th {\n",
       "        vertical-align: top;\n",
       "    }\n",
       "\n",
       "    .dataframe thead th {\n",
       "        text-align: right;\n",
       "    }\n",
       "</style>\n",
       "<table border=\"1\" class=\"dataframe\">\n",
       "  <thead>\n",
       "    <tr style=\"text-align: right;\">\n",
       "      <th></th>\n",
       "      <th></th>\n",
       "      <th>no_of_transactions_rides</th>\n",
       "      <th>no_of_unique_customers</th>\n",
       "      <th>revenue</th>\n",
       "    </tr>\n",
       "    <tr>\n",
       "      <th>Company</th>\n",
       "      <th>Year</th>\n",
       "      <th></th>\n",
       "      <th></th>\n",
       "      <th></th>\n",
       "    </tr>\n",
       "  </thead>\n",
       "  <tbody>\n",
       "    <tr>\n",
       "      <th rowspan=\"3\" valign=\"top\">Pink Cab</th>\n",
       "      <th>2016</th>\n",
       "      <td>25080</td>\n",
       "      <td>16661</td>\n",
       "      <td>7908479.23</td>\n",
       "    </tr>\n",
       "    <tr>\n",
       "      <th>2017</th>\n",
       "      <td>30321</td>\n",
       "      <td>18643</td>\n",
       "      <td>9578629.54</td>\n",
       "    </tr>\n",
       "    <tr>\n",
       "      <th>2018</th>\n",
       "      <td>29310</td>\n",
       "      <td>18400</td>\n",
       "      <td>8841142.56</td>\n",
       "    </tr>\n",
       "    <tr>\n",
       "      <th rowspan=\"3\" valign=\"top\">Yellow Cab</th>\n",
       "      <th>2016</th>\n",
       "      <td>82239</td>\n",
       "      <td>25937</td>\n",
       "      <td>38481133.18</td>\n",
       "    </tr>\n",
       "    <tr>\n",
       "      <th>2017</th>\n",
       "      <td>98189</td>\n",
       "      <td>27789</td>\n",
       "      <td>45818910.04</td>\n",
       "    </tr>\n",
       "    <tr>\n",
       "      <th>2018</th>\n",
       "      <td>94253</td>\n",
       "      <td>27470</td>\n",
       "      <td>41553843.97</td>\n",
       "    </tr>\n",
       "  </tbody>\n",
       "</table>\n",
       "</div>"
      ],
      "text/plain": [
       "                 no_of_transactions_rides  no_of_unique_customers     revenue\n",
       "Company    Year                                                              \n",
       "Pink Cab   2016                     25080                   16661  7908479.23\n",
       "           2017                     30321                   18643  9578629.54\n",
       "           2018                     29310                   18400  8841142.56\n",
       "Yellow Cab 2016                     82239                   25937 38481133.18\n",
       "           2017                     98189                   27789 45818910.04\n",
       "           2018                     94253                   27470 41553843.97"
      ]
     },
     "execution_count": 137,
     "metadata": {},
     "output_type": "execute_result"
    }
   ],
   "source": [
    "df_grp = df_cab_trans_cus.groupby(['Company','Year']).agg(\n",
    "    no_of_transactions_rides = pd.NamedAgg(column=\"Transaction ID\", aggfunc=\"count\"),\n",
    "    no_of_unique_customers = pd.NamedAgg(column=\"Customer ID\", aggfunc=\"nunique\"),\n",
    "    revenue=(pd.NamedAgg(column=\"Price Charged\", aggfunc=\"sum\")))\n",
    "df_grp"
   ]
  },
  {
   "cell_type": "code",
   "execution_count": 138,
   "metadata": {
    "id": "UmZ1IIkQY1DM"
   },
   "outputs": [],
   "source": [
    "df_grp_new = df_grp.reset_index()"
   ]
  },
  {
   "cell_type": "code",
   "execution_count": 139,
   "metadata": {},
   "outputs": [
    {
     "data": {
      "application/vnd.plotly.v1+json": {
       "config": {
        "plotlyServerURL": "https://plot.ly"
       },
       "data": [
        {
         "hovertemplate": "Company=Pink Cab<br>Year=%{x}<br>no_of_transactions_rides=%{y}<extra></extra>",
         "legendgroup": "Pink Cab",
         "line": {
          "color": "#636efa",
          "dash": "solid"
         },
         "marker": {
          "symbol": "circle"
         },
         "mode": "lines",
         "name": "Pink Cab",
         "orientation": "v",
         "showlegend": true,
         "type": "scatter",
         "x": [
          2016,
          2017,
          2018
         ],
         "xaxis": "x",
         "y": [
          25080,
          30321,
          29310
         ],
         "yaxis": "y"
        },
        {
         "hovertemplate": "Company=Yellow Cab<br>Year=%{x}<br>no_of_transactions_rides=%{y}<extra></extra>",
         "legendgroup": "Yellow Cab",
         "line": {
          "color": "#EF553B",
          "dash": "solid"
         },
         "marker": {
          "symbol": "circle"
         },
         "mode": "lines",
         "name": "Yellow Cab",
         "orientation": "v",
         "showlegend": true,
         "type": "scatter",
         "x": [
          2016,
          2017,
          2018
         ],
         "xaxis": "x",
         "y": [
          82239,
          98189,
          94253
         ],
         "yaxis": "y"
        }
       ],
       "layout": {
        "legend": {
         "title": {
          "text": "Company"
         },
         "tracegroupgap": 0
        },
        "margin": {
         "t": 60
        },
        "template": {
         "data": {
          "bar": [
           {
            "error_x": {
             "color": "#2a3f5f"
            },
            "error_y": {
             "color": "#2a3f5f"
            },
            "marker": {
             "line": {
              "color": "#E5ECF6",
              "width": 0.5
             },
             "pattern": {
              "fillmode": "overlay",
              "size": 10,
              "solidity": 0.2
             }
            },
            "type": "bar"
           }
          ],
          "barpolar": [
           {
            "marker": {
             "line": {
              "color": "#E5ECF6",
              "width": 0.5
             },
             "pattern": {
              "fillmode": "overlay",
              "size": 10,
              "solidity": 0.2
             }
            },
            "type": "barpolar"
           }
          ],
          "carpet": [
           {
            "aaxis": {
             "endlinecolor": "#2a3f5f",
             "gridcolor": "white",
             "linecolor": "white",
             "minorgridcolor": "white",
             "startlinecolor": "#2a3f5f"
            },
            "baxis": {
             "endlinecolor": "#2a3f5f",
             "gridcolor": "white",
             "linecolor": "white",
             "minorgridcolor": "white",
             "startlinecolor": "#2a3f5f"
            },
            "type": "carpet"
           }
          ],
          "choropleth": [
           {
            "colorbar": {
             "outlinewidth": 0,
             "ticks": ""
            },
            "type": "choropleth"
           }
          ],
          "contour": [
           {
            "colorbar": {
             "outlinewidth": 0,
             "ticks": ""
            },
            "colorscale": [
             [
              0,
              "#0d0887"
             ],
             [
              0.1111111111111111,
              "#46039f"
             ],
             [
              0.2222222222222222,
              "#7201a8"
             ],
             [
              0.3333333333333333,
              "#9c179e"
             ],
             [
              0.4444444444444444,
              "#bd3786"
             ],
             [
              0.5555555555555556,
              "#d8576b"
             ],
             [
              0.6666666666666666,
              "#ed7953"
             ],
             [
              0.7777777777777778,
              "#fb9f3a"
             ],
             [
              0.8888888888888888,
              "#fdca26"
             ],
             [
              1,
              "#f0f921"
             ]
            ],
            "type": "contour"
           }
          ],
          "contourcarpet": [
           {
            "colorbar": {
             "outlinewidth": 0,
             "ticks": ""
            },
            "type": "contourcarpet"
           }
          ],
          "heatmap": [
           {
            "colorbar": {
             "outlinewidth": 0,
             "ticks": ""
            },
            "colorscale": [
             [
              0,
              "#0d0887"
             ],
             [
              0.1111111111111111,
              "#46039f"
             ],
             [
              0.2222222222222222,
              "#7201a8"
             ],
             [
              0.3333333333333333,
              "#9c179e"
             ],
             [
              0.4444444444444444,
              "#bd3786"
             ],
             [
              0.5555555555555556,
              "#d8576b"
             ],
             [
              0.6666666666666666,
              "#ed7953"
             ],
             [
              0.7777777777777778,
              "#fb9f3a"
             ],
             [
              0.8888888888888888,
              "#fdca26"
             ],
             [
              1,
              "#f0f921"
             ]
            ],
            "type": "heatmap"
           }
          ],
          "heatmapgl": [
           {
            "colorbar": {
             "outlinewidth": 0,
             "ticks": ""
            },
            "colorscale": [
             [
              0,
              "#0d0887"
             ],
             [
              0.1111111111111111,
              "#46039f"
             ],
             [
              0.2222222222222222,
              "#7201a8"
             ],
             [
              0.3333333333333333,
              "#9c179e"
             ],
             [
              0.4444444444444444,
              "#bd3786"
             ],
             [
              0.5555555555555556,
              "#d8576b"
             ],
             [
              0.6666666666666666,
              "#ed7953"
             ],
             [
              0.7777777777777778,
              "#fb9f3a"
             ],
             [
              0.8888888888888888,
              "#fdca26"
             ],
             [
              1,
              "#f0f921"
             ]
            ],
            "type": "heatmapgl"
           }
          ],
          "histogram": [
           {
            "marker": {
             "pattern": {
              "fillmode": "overlay",
              "size": 10,
              "solidity": 0.2
             }
            },
            "type": "histogram"
           }
          ],
          "histogram2d": [
           {
            "colorbar": {
             "outlinewidth": 0,
             "ticks": ""
            },
            "colorscale": [
             [
              0,
              "#0d0887"
             ],
             [
              0.1111111111111111,
              "#46039f"
             ],
             [
              0.2222222222222222,
              "#7201a8"
             ],
             [
              0.3333333333333333,
              "#9c179e"
             ],
             [
              0.4444444444444444,
              "#bd3786"
             ],
             [
              0.5555555555555556,
              "#d8576b"
             ],
             [
              0.6666666666666666,
              "#ed7953"
             ],
             [
              0.7777777777777778,
              "#fb9f3a"
             ],
             [
              0.8888888888888888,
              "#fdca26"
             ],
             [
              1,
              "#f0f921"
             ]
            ],
            "type": "histogram2d"
           }
          ],
          "histogram2dcontour": [
           {
            "colorbar": {
             "outlinewidth": 0,
             "ticks": ""
            },
            "colorscale": [
             [
              0,
              "#0d0887"
             ],
             [
              0.1111111111111111,
              "#46039f"
             ],
             [
              0.2222222222222222,
              "#7201a8"
             ],
             [
              0.3333333333333333,
              "#9c179e"
             ],
             [
              0.4444444444444444,
              "#bd3786"
             ],
             [
              0.5555555555555556,
              "#d8576b"
             ],
             [
              0.6666666666666666,
              "#ed7953"
             ],
             [
              0.7777777777777778,
              "#fb9f3a"
             ],
             [
              0.8888888888888888,
              "#fdca26"
             ],
             [
              1,
              "#f0f921"
             ]
            ],
            "type": "histogram2dcontour"
           }
          ],
          "mesh3d": [
           {
            "colorbar": {
             "outlinewidth": 0,
             "ticks": ""
            },
            "type": "mesh3d"
           }
          ],
          "parcoords": [
           {
            "line": {
             "colorbar": {
              "outlinewidth": 0,
              "ticks": ""
             }
            },
            "type": "parcoords"
           }
          ],
          "pie": [
           {
            "automargin": true,
            "type": "pie"
           }
          ],
          "scatter": [
           {
            "fillpattern": {
             "fillmode": "overlay",
             "size": 10,
             "solidity": 0.2
            },
            "type": "scatter"
           }
          ],
          "scatter3d": [
           {
            "line": {
             "colorbar": {
              "outlinewidth": 0,
              "ticks": ""
             }
            },
            "marker": {
             "colorbar": {
              "outlinewidth": 0,
              "ticks": ""
             }
            },
            "type": "scatter3d"
           }
          ],
          "scattercarpet": [
           {
            "marker": {
             "colorbar": {
              "outlinewidth": 0,
              "ticks": ""
             }
            },
            "type": "scattercarpet"
           }
          ],
          "scattergeo": [
           {
            "marker": {
             "colorbar": {
              "outlinewidth": 0,
              "ticks": ""
             }
            },
            "type": "scattergeo"
           }
          ],
          "scattergl": [
           {
            "marker": {
             "colorbar": {
              "outlinewidth": 0,
              "ticks": ""
             }
            },
            "type": "scattergl"
           }
          ],
          "scattermapbox": [
           {
            "marker": {
             "colorbar": {
              "outlinewidth": 0,
              "ticks": ""
             }
            },
            "type": "scattermapbox"
           }
          ],
          "scatterpolar": [
           {
            "marker": {
             "colorbar": {
              "outlinewidth": 0,
              "ticks": ""
             }
            },
            "type": "scatterpolar"
           }
          ],
          "scatterpolargl": [
           {
            "marker": {
             "colorbar": {
              "outlinewidth": 0,
              "ticks": ""
             }
            },
            "type": "scatterpolargl"
           }
          ],
          "scatterternary": [
           {
            "marker": {
             "colorbar": {
              "outlinewidth": 0,
              "ticks": ""
             }
            },
            "type": "scatterternary"
           }
          ],
          "surface": [
           {
            "colorbar": {
             "outlinewidth": 0,
             "ticks": ""
            },
            "colorscale": [
             [
              0,
              "#0d0887"
             ],
             [
              0.1111111111111111,
              "#46039f"
             ],
             [
              0.2222222222222222,
              "#7201a8"
             ],
             [
              0.3333333333333333,
              "#9c179e"
             ],
             [
              0.4444444444444444,
              "#bd3786"
             ],
             [
              0.5555555555555556,
              "#d8576b"
             ],
             [
              0.6666666666666666,
              "#ed7953"
             ],
             [
              0.7777777777777778,
              "#fb9f3a"
             ],
             [
              0.8888888888888888,
              "#fdca26"
             ],
             [
              1,
              "#f0f921"
             ]
            ],
            "type": "surface"
           }
          ],
          "table": [
           {
            "cells": {
             "fill": {
              "color": "#EBF0F8"
             },
             "line": {
              "color": "white"
             }
            },
            "header": {
             "fill": {
              "color": "#C8D4E3"
             },
             "line": {
              "color": "white"
             }
            },
            "type": "table"
           }
          ]
         },
         "layout": {
          "annotationdefaults": {
           "arrowcolor": "#2a3f5f",
           "arrowhead": 0,
           "arrowwidth": 1
          },
          "autotypenumbers": "strict",
          "coloraxis": {
           "colorbar": {
            "outlinewidth": 0,
            "ticks": ""
           }
          },
          "colorscale": {
           "diverging": [
            [
             0,
             "#8e0152"
            ],
            [
             0.1,
             "#c51b7d"
            ],
            [
             0.2,
             "#de77ae"
            ],
            [
             0.3,
             "#f1b6da"
            ],
            [
             0.4,
             "#fde0ef"
            ],
            [
             0.5,
             "#f7f7f7"
            ],
            [
             0.6,
             "#e6f5d0"
            ],
            [
             0.7,
             "#b8e186"
            ],
            [
             0.8,
             "#7fbc41"
            ],
            [
             0.9,
             "#4d9221"
            ],
            [
             1,
             "#276419"
            ]
           ],
           "sequential": [
            [
             0,
             "#0d0887"
            ],
            [
             0.1111111111111111,
             "#46039f"
            ],
            [
             0.2222222222222222,
             "#7201a8"
            ],
            [
             0.3333333333333333,
             "#9c179e"
            ],
            [
             0.4444444444444444,
             "#bd3786"
            ],
            [
             0.5555555555555556,
             "#d8576b"
            ],
            [
             0.6666666666666666,
             "#ed7953"
            ],
            [
             0.7777777777777778,
             "#fb9f3a"
            ],
            [
             0.8888888888888888,
             "#fdca26"
            ],
            [
             1,
             "#f0f921"
            ]
           ],
           "sequentialminus": [
            [
             0,
             "#0d0887"
            ],
            [
             0.1111111111111111,
             "#46039f"
            ],
            [
             0.2222222222222222,
             "#7201a8"
            ],
            [
             0.3333333333333333,
             "#9c179e"
            ],
            [
             0.4444444444444444,
             "#bd3786"
            ],
            [
             0.5555555555555556,
             "#d8576b"
            ],
            [
             0.6666666666666666,
             "#ed7953"
            ],
            [
             0.7777777777777778,
             "#fb9f3a"
            ],
            [
             0.8888888888888888,
             "#fdca26"
            ],
            [
             1,
             "#f0f921"
            ]
           ]
          },
          "colorway": [
           "#636efa",
           "#EF553B",
           "#00cc96",
           "#ab63fa",
           "#FFA15A",
           "#19d3f3",
           "#FF6692",
           "#B6E880",
           "#FF97FF",
           "#FECB52"
          ],
          "font": {
           "color": "#2a3f5f"
          },
          "geo": {
           "bgcolor": "white",
           "lakecolor": "white",
           "landcolor": "#E5ECF6",
           "showlakes": true,
           "showland": true,
           "subunitcolor": "white"
          },
          "hoverlabel": {
           "align": "left"
          },
          "hovermode": "closest",
          "mapbox": {
           "style": "light"
          },
          "paper_bgcolor": "white",
          "plot_bgcolor": "#E5ECF6",
          "polar": {
           "angularaxis": {
            "gridcolor": "white",
            "linecolor": "white",
            "ticks": ""
           },
           "bgcolor": "#E5ECF6",
           "radialaxis": {
            "gridcolor": "white",
            "linecolor": "white",
            "ticks": ""
           }
          },
          "scene": {
           "xaxis": {
            "backgroundcolor": "#E5ECF6",
            "gridcolor": "white",
            "gridwidth": 2,
            "linecolor": "white",
            "showbackground": true,
            "ticks": "",
            "zerolinecolor": "white"
           },
           "yaxis": {
            "backgroundcolor": "#E5ECF6",
            "gridcolor": "white",
            "gridwidth": 2,
            "linecolor": "white",
            "showbackground": true,
            "ticks": "",
            "zerolinecolor": "white"
           },
           "zaxis": {
            "backgroundcolor": "#E5ECF6",
            "gridcolor": "white",
            "gridwidth": 2,
            "linecolor": "white",
            "showbackground": true,
            "ticks": "",
            "zerolinecolor": "white"
           }
          },
          "shapedefaults": {
           "line": {
            "color": "#2a3f5f"
           }
          },
          "ternary": {
           "aaxis": {
            "gridcolor": "white",
            "linecolor": "white",
            "ticks": ""
           },
           "baxis": {
            "gridcolor": "white",
            "linecolor": "white",
            "ticks": ""
           },
           "bgcolor": "#E5ECF6",
           "caxis": {
            "gridcolor": "white",
            "linecolor": "white",
            "ticks": ""
           }
          },
          "title": {
           "x": 0.05
          },
          "xaxis": {
           "automargin": true,
           "gridcolor": "white",
           "linecolor": "white",
           "ticks": "",
           "title": {
            "standoff": 15
           },
           "zerolinecolor": "white",
           "zerolinewidth": 2
          },
          "yaxis": {
           "automargin": true,
           "gridcolor": "white",
           "linecolor": "white",
           "ticks": "",
           "title": {
            "standoff": 15
           },
           "zerolinecolor": "white",
           "zerolinewidth": 2
          }
         }
        },
        "xaxis": {
         "anchor": "y",
         "domain": [
          0,
          1
         ],
         "title": {
          "text": "Year"
         }
        },
        "yaxis": {
         "anchor": "x",
         "domain": [
          0,
          1
         ],
         "title": {
          "text": "no_of_transactions_rides"
         }
        }
       }
      },
      "text/html": [
       "<div>                            <div id=\"af2e7fbe-badf-4f79-9bde-e6c863b62f7b\" class=\"plotly-graph-div\" style=\"height:525px; width:100%;\"></div>            <script type=\"text/javascript\">                require([\"plotly\"], function(Plotly) {                    window.PLOTLYENV=window.PLOTLYENV || {};                                    if (document.getElementById(\"af2e7fbe-badf-4f79-9bde-e6c863b62f7b\")) {                    Plotly.newPlot(                        \"af2e7fbe-badf-4f79-9bde-e6c863b62f7b\",                        [{\"hovertemplate\":\"Company=Pink Cab<br>Year=%{x}<br>no_of_transactions_rides=%{y}<extra></extra>\",\"legendgroup\":\"Pink Cab\",\"line\":{\"color\":\"#636efa\",\"dash\":\"solid\"},\"marker\":{\"symbol\":\"circle\"},\"mode\":\"lines\",\"name\":\"Pink Cab\",\"orientation\":\"v\",\"showlegend\":true,\"x\":[2016,2017,2018],\"xaxis\":\"x\",\"y\":[25080,30321,29310],\"yaxis\":\"y\",\"type\":\"scatter\"},{\"hovertemplate\":\"Company=Yellow Cab<br>Year=%{x}<br>no_of_transactions_rides=%{y}<extra></extra>\",\"legendgroup\":\"Yellow Cab\",\"line\":{\"color\":\"#EF553B\",\"dash\":\"solid\"},\"marker\":{\"symbol\":\"circle\"},\"mode\":\"lines\",\"name\":\"Yellow Cab\",\"orientation\":\"v\",\"showlegend\":true,\"x\":[2016,2017,2018],\"xaxis\":\"x\",\"y\":[82239,98189,94253],\"yaxis\":\"y\",\"type\":\"scatter\"}],                        {\"template\":{\"data\":{\"histogram2dcontour\":[{\"type\":\"histogram2dcontour\",\"colorbar\":{\"outlinewidth\":0,\"ticks\":\"\"},\"colorscale\":[[0.0,\"#0d0887\"],[0.1111111111111111,\"#46039f\"],[0.2222222222222222,\"#7201a8\"],[0.3333333333333333,\"#9c179e\"],[0.4444444444444444,\"#bd3786\"],[0.5555555555555556,\"#d8576b\"],[0.6666666666666666,\"#ed7953\"],[0.7777777777777778,\"#fb9f3a\"],[0.8888888888888888,\"#fdca26\"],[1.0,\"#f0f921\"]]}],\"choropleth\":[{\"type\":\"choropleth\",\"colorbar\":{\"outlinewidth\":0,\"ticks\":\"\"}}],\"histogram2d\":[{\"type\":\"histogram2d\",\"colorbar\":{\"outlinewidth\":0,\"ticks\":\"\"},\"colorscale\":[[0.0,\"#0d0887\"],[0.1111111111111111,\"#46039f\"],[0.2222222222222222,\"#7201a8\"],[0.3333333333333333,\"#9c179e\"],[0.4444444444444444,\"#bd3786\"],[0.5555555555555556,\"#d8576b\"],[0.6666666666666666,\"#ed7953\"],[0.7777777777777778,\"#fb9f3a\"],[0.8888888888888888,\"#fdca26\"],[1.0,\"#f0f921\"]]}],\"heatmap\":[{\"type\":\"heatmap\",\"colorbar\":{\"outlinewidth\":0,\"ticks\":\"\"},\"colorscale\":[[0.0,\"#0d0887\"],[0.1111111111111111,\"#46039f\"],[0.2222222222222222,\"#7201a8\"],[0.3333333333333333,\"#9c179e\"],[0.4444444444444444,\"#bd3786\"],[0.5555555555555556,\"#d8576b\"],[0.6666666666666666,\"#ed7953\"],[0.7777777777777778,\"#fb9f3a\"],[0.8888888888888888,\"#fdca26\"],[1.0,\"#f0f921\"]]}],\"heatmapgl\":[{\"type\":\"heatmapgl\",\"colorbar\":{\"outlinewidth\":0,\"ticks\":\"\"},\"colorscale\":[[0.0,\"#0d0887\"],[0.1111111111111111,\"#46039f\"],[0.2222222222222222,\"#7201a8\"],[0.3333333333333333,\"#9c179e\"],[0.4444444444444444,\"#bd3786\"],[0.5555555555555556,\"#d8576b\"],[0.6666666666666666,\"#ed7953\"],[0.7777777777777778,\"#fb9f3a\"],[0.8888888888888888,\"#fdca26\"],[1.0,\"#f0f921\"]]}],\"contourcarpet\":[{\"type\":\"contourcarpet\",\"colorbar\":{\"outlinewidth\":0,\"ticks\":\"\"}}],\"contour\":[{\"type\":\"contour\",\"colorbar\":{\"outlinewidth\":0,\"ticks\":\"\"},\"colorscale\":[[0.0,\"#0d0887\"],[0.1111111111111111,\"#46039f\"],[0.2222222222222222,\"#7201a8\"],[0.3333333333333333,\"#9c179e\"],[0.4444444444444444,\"#bd3786\"],[0.5555555555555556,\"#d8576b\"],[0.6666666666666666,\"#ed7953\"],[0.7777777777777778,\"#fb9f3a\"],[0.8888888888888888,\"#fdca26\"],[1.0,\"#f0f921\"]]}],\"surface\":[{\"type\":\"surface\",\"colorbar\":{\"outlinewidth\":0,\"ticks\":\"\"},\"colorscale\":[[0.0,\"#0d0887\"],[0.1111111111111111,\"#46039f\"],[0.2222222222222222,\"#7201a8\"],[0.3333333333333333,\"#9c179e\"],[0.4444444444444444,\"#bd3786\"],[0.5555555555555556,\"#d8576b\"],[0.6666666666666666,\"#ed7953\"],[0.7777777777777778,\"#fb9f3a\"],[0.8888888888888888,\"#fdca26\"],[1.0,\"#f0f921\"]]}],\"mesh3d\":[{\"type\":\"mesh3d\",\"colorbar\":{\"outlinewidth\":0,\"ticks\":\"\"}}],\"scatter\":[{\"fillpattern\":{\"fillmode\":\"overlay\",\"size\":10,\"solidity\":0.2},\"type\":\"scatter\"}],\"parcoords\":[{\"type\":\"parcoords\",\"line\":{\"colorbar\":{\"outlinewidth\":0,\"ticks\":\"\"}}}],\"scatterpolargl\":[{\"type\":\"scatterpolargl\",\"marker\":{\"colorbar\":{\"outlinewidth\":0,\"ticks\":\"\"}}}],\"bar\":[{\"error_x\":{\"color\":\"#2a3f5f\"},\"error_y\":{\"color\":\"#2a3f5f\"},\"marker\":{\"line\":{\"color\":\"#E5ECF6\",\"width\":0.5},\"pattern\":{\"fillmode\":\"overlay\",\"size\":10,\"solidity\":0.2}},\"type\":\"bar\"}],\"scattergeo\":[{\"type\":\"scattergeo\",\"marker\":{\"colorbar\":{\"outlinewidth\":0,\"ticks\":\"\"}}}],\"scatterpolar\":[{\"type\":\"scatterpolar\",\"marker\":{\"colorbar\":{\"outlinewidth\":0,\"ticks\":\"\"}}}],\"histogram\":[{\"marker\":{\"pattern\":{\"fillmode\":\"overlay\",\"size\":10,\"solidity\":0.2}},\"type\":\"histogram\"}],\"scattergl\":[{\"type\":\"scattergl\",\"marker\":{\"colorbar\":{\"outlinewidth\":0,\"ticks\":\"\"}}}],\"scatter3d\":[{\"type\":\"scatter3d\",\"line\":{\"colorbar\":{\"outlinewidth\":0,\"ticks\":\"\"}},\"marker\":{\"colorbar\":{\"outlinewidth\":0,\"ticks\":\"\"}}}],\"scattermapbox\":[{\"type\":\"scattermapbox\",\"marker\":{\"colorbar\":{\"outlinewidth\":0,\"ticks\":\"\"}}}],\"scatterternary\":[{\"type\":\"scatterternary\",\"marker\":{\"colorbar\":{\"outlinewidth\":0,\"ticks\":\"\"}}}],\"scattercarpet\":[{\"type\":\"scattercarpet\",\"marker\":{\"colorbar\":{\"outlinewidth\":0,\"ticks\":\"\"}}}],\"carpet\":[{\"aaxis\":{\"endlinecolor\":\"#2a3f5f\",\"gridcolor\":\"white\",\"linecolor\":\"white\",\"minorgridcolor\":\"white\",\"startlinecolor\":\"#2a3f5f\"},\"baxis\":{\"endlinecolor\":\"#2a3f5f\",\"gridcolor\":\"white\",\"linecolor\":\"white\",\"minorgridcolor\":\"white\",\"startlinecolor\":\"#2a3f5f\"},\"type\":\"carpet\"}],\"table\":[{\"cells\":{\"fill\":{\"color\":\"#EBF0F8\"},\"line\":{\"color\":\"white\"}},\"header\":{\"fill\":{\"color\":\"#C8D4E3\"},\"line\":{\"color\":\"white\"}},\"type\":\"table\"}],\"barpolar\":[{\"marker\":{\"line\":{\"color\":\"#E5ECF6\",\"width\":0.5},\"pattern\":{\"fillmode\":\"overlay\",\"size\":10,\"solidity\":0.2}},\"type\":\"barpolar\"}],\"pie\":[{\"automargin\":true,\"type\":\"pie\"}]},\"layout\":{\"autotypenumbers\":\"strict\",\"colorway\":[\"#636efa\",\"#EF553B\",\"#00cc96\",\"#ab63fa\",\"#FFA15A\",\"#19d3f3\",\"#FF6692\",\"#B6E880\",\"#FF97FF\",\"#FECB52\"],\"font\":{\"color\":\"#2a3f5f\"},\"hovermode\":\"closest\",\"hoverlabel\":{\"align\":\"left\"},\"paper_bgcolor\":\"white\",\"plot_bgcolor\":\"#E5ECF6\",\"polar\":{\"bgcolor\":\"#E5ECF6\",\"angularaxis\":{\"gridcolor\":\"white\",\"linecolor\":\"white\",\"ticks\":\"\"},\"radialaxis\":{\"gridcolor\":\"white\",\"linecolor\":\"white\",\"ticks\":\"\"}},\"ternary\":{\"bgcolor\":\"#E5ECF6\",\"aaxis\":{\"gridcolor\":\"white\",\"linecolor\":\"white\",\"ticks\":\"\"},\"baxis\":{\"gridcolor\":\"white\",\"linecolor\":\"white\",\"ticks\":\"\"},\"caxis\":{\"gridcolor\":\"white\",\"linecolor\":\"white\",\"ticks\":\"\"}},\"coloraxis\":{\"colorbar\":{\"outlinewidth\":0,\"ticks\":\"\"}},\"colorscale\":{\"sequential\":[[0.0,\"#0d0887\"],[0.1111111111111111,\"#46039f\"],[0.2222222222222222,\"#7201a8\"],[0.3333333333333333,\"#9c179e\"],[0.4444444444444444,\"#bd3786\"],[0.5555555555555556,\"#d8576b\"],[0.6666666666666666,\"#ed7953\"],[0.7777777777777778,\"#fb9f3a\"],[0.8888888888888888,\"#fdca26\"],[1.0,\"#f0f921\"]],\"sequentialminus\":[[0.0,\"#0d0887\"],[0.1111111111111111,\"#46039f\"],[0.2222222222222222,\"#7201a8\"],[0.3333333333333333,\"#9c179e\"],[0.4444444444444444,\"#bd3786\"],[0.5555555555555556,\"#d8576b\"],[0.6666666666666666,\"#ed7953\"],[0.7777777777777778,\"#fb9f3a\"],[0.8888888888888888,\"#fdca26\"],[1.0,\"#f0f921\"]],\"diverging\":[[0,\"#8e0152\"],[0.1,\"#c51b7d\"],[0.2,\"#de77ae\"],[0.3,\"#f1b6da\"],[0.4,\"#fde0ef\"],[0.5,\"#f7f7f7\"],[0.6,\"#e6f5d0\"],[0.7,\"#b8e186\"],[0.8,\"#7fbc41\"],[0.9,\"#4d9221\"],[1,\"#276419\"]]},\"xaxis\":{\"gridcolor\":\"white\",\"linecolor\":\"white\",\"ticks\":\"\",\"title\":{\"standoff\":15},\"zerolinecolor\":\"white\",\"automargin\":true,\"zerolinewidth\":2},\"yaxis\":{\"gridcolor\":\"white\",\"linecolor\":\"white\",\"ticks\":\"\",\"title\":{\"standoff\":15},\"zerolinecolor\":\"white\",\"automargin\":true,\"zerolinewidth\":2},\"scene\":{\"xaxis\":{\"backgroundcolor\":\"#E5ECF6\",\"gridcolor\":\"white\",\"linecolor\":\"white\",\"showbackground\":true,\"ticks\":\"\",\"zerolinecolor\":\"white\",\"gridwidth\":2},\"yaxis\":{\"backgroundcolor\":\"#E5ECF6\",\"gridcolor\":\"white\",\"linecolor\":\"white\",\"showbackground\":true,\"ticks\":\"\",\"zerolinecolor\":\"white\",\"gridwidth\":2},\"zaxis\":{\"backgroundcolor\":\"#E5ECF6\",\"gridcolor\":\"white\",\"linecolor\":\"white\",\"showbackground\":true,\"ticks\":\"\",\"zerolinecolor\":\"white\",\"gridwidth\":2}},\"shapedefaults\":{\"line\":{\"color\":\"#2a3f5f\"}},\"annotationdefaults\":{\"arrowcolor\":\"#2a3f5f\",\"arrowhead\":0,\"arrowwidth\":1},\"geo\":{\"bgcolor\":\"white\",\"landcolor\":\"#E5ECF6\",\"subunitcolor\":\"white\",\"showland\":true,\"showlakes\":true,\"lakecolor\":\"white\"},\"title\":{\"x\":0.05},\"mapbox\":{\"style\":\"light\"}}},\"xaxis\":{\"anchor\":\"y\",\"domain\":[0.0,1.0],\"title\":{\"text\":\"Year\"}},\"yaxis\":{\"anchor\":\"x\",\"domain\":[0.0,1.0],\"title\":{\"text\":\"no_of_transactions_rides\"}},\"legend\":{\"title\":{\"text\":\"Company\"},\"tracegroupgap\":0},\"margin\":{\"t\":60}},                        {\"responsive\": true}                    ).then(function(){\n",
       "                            \n",
       "var gd = document.getElementById('af2e7fbe-badf-4f79-9bde-e6c863b62f7b');\n",
       "var x = new MutationObserver(function (mutations, observer) {{\n",
       "        var display = window.getComputedStyle(gd).display;\n",
       "        if (!display || display === 'none') {{\n",
       "            console.log([gd, 'removed!']);\n",
       "            Plotly.purge(gd);\n",
       "            observer.disconnect();\n",
       "        }}\n",
       "}});\n",
       "\n",
       "// Listen for the removal of the full notebook cells\n",
       "var notebookContainer = gd.closest('#notebook-container');\n",
       "if (notebookContainer) {{\n",
       "    x.observe(notebookContainer, {childList: true});\n",
       "}}\n",
       "\n",
       "// Listen for the clearing of the current output cell\n",
       "var outputEl = gd.closest('.output');\n",
       "if (outputEl) {{\n",
       "    x.observe(outputEl, {childList: true});\n",
       "}}\n",
       "\n",
       "                        })                };                });            </script>        </div>"
      ]
     },
     "metadata": {},
     "output_type": "display_data"
    }
   ],
   "source": [
    "trans_rides_allyears = py.line(x='Year',y='no_of_transactions_rides',data_frame=df_grp_new, color=\"Company\")\n",
    "trans_rides_allyears.show()"
   ]
  },
  {
   "cell_type": "markdown",
   "metadata": {},
   "source": [
    "### City wise transactions/rides of each company"
   ]
  },
  {
   "cell_type": "code",
   "execution_count": 140,
   "metadata": {
    "id": "xDAsVZCZgScy"
   },
   "outputs": [],
   "source": [
    "df_grp_1 = df_cab_trans_cus.groupby(['City','Company']).count()['Transaction ID'].reset_index()\n",
    "df_grp_1.rename(columns={\"Transaction ID\":\"no_of_transactions_OR_rides\"}, inplace=True)"
   ]
  },
  {
   "cell_type": "code",
   "execution_count": 141,
   "metadata": {},
   "outputs": [
    {
     "data": {
      "text/plain": [
       "(array([ 0,  1,  2,  3,  4,  5,  6,  7,  8,  9, 10, 11, 12, 13, 14, 15, 16,\n",
       "        17, 18]),\n",
       " [Text(0, 0, 'ATLANTA GA'),\n",
       "  Text(1, 0, 'AUSTIN TX'),\n",
       "  Text(2, 0, 'BOSTON MA'),\n",
       "  Text(3, 0, 'CHICAGO IL'),\n",
       "  Text(4, 0, 'DALLAS TX'),\n",
       "  Text(5, 0, 'DENVER CO'),\n",
       "  Text(6, 0, 'LOS ANGELES CA'),\n",
       "  Text(7, 0, 'MIAMI FL'),\n",
       "  Text(8, 0, 'NASHVILLE TN'),\n",
       "  Text(9, 0, 'NEW YORK NY'),\n",
       "  Text(10, 0, 'ORANGE COUNTY'),\n",
       "  Text(11, 0, 'PHOENIX AZ'),\n",
       "  Text(12, 0, 'PITTSBURGH PA'),\n",
       "  Text(13, 0, 'SACRAMENTO CA'),\n",
       "  Text(14, 0, 'SAN DIEGO CA'),\n",
       "  Text(15, 0, 'SEATTLE WA'),\n",
       "  Text(16, 0, 'SILICON VALLEY'),\n",
       "  Text(17, 0, 'TUCSON AZ'),\n",
       "  Text(18, 0, 'WASHINGTON DC')])"
      ]
     },
     "execution_count": 141,
     "metadata": {},
     "output_type": "execute_result"
    },
    {
     "data": {
      "image/png": "[encoded data removed]",
      "text/plain": [
       "<Figure size 720x432 with 1 Axes>"
      ]
     },
     "metadata": {},
     "output_type": "display_data"
    }
   ],
   "source": [
    "plt.figure(figsize=(10,6))\n",
    "sns.barplot(x= 'City', y='no_of_transactions_OR_rides', data =df_grp_1, hue ='Company', palette='GnBu')\n",
    "plt.xticks(rotation=60)"
   ]
  },
  {
   "cell_type": "markdown",
   "metadata": {},
   "source": [
    "### The percentage of people who preferred each company out of the total users across all cities"
   ]
  },
  {
   "cell_type": "code",
   "execution_count": 142,
   "metadata": {
    "id": "e_8GiE-vgSZY"
   },
   "outputs": [
    {
     "data": {
      "text/html": [
       "<div>\n",
       "<style scoped>\n",
       "    .dataframe tbody tr th:only-of-type {\n",
       "        vertical-align: middle;\n",
       "    }\n",
       "\n",
       "    .dataframe tbody tr th {\n",
       "        vertical-align: top;\n",
       "    }\n",
       "\n",
       "    .dataframe thead th {\n",
       "        text-align: right;\n",
       "    }\n",
       "</style>\n",
       "<table border=\"1\" class=\"dataframe\">\n",
       "  <thead>\n",
       "    <tr style=\"text-align: right;\">\n",
       "      <th></th>\n",
       "      <th>City</th>\n",
       "      <th>Company</th>\n",
       "      <th>no_of_transactions_OR_rides</th>\n",
       "      <th>Population</th>\n",
       "      <th>Users</th>\n",
       "    </tr>\n",
       "  </thead>\n",
       "  <tbody>\n",
       "    <tr>\n",
       "      <th>0</th>\n",
       "      <td>ATLANTA GA</td>\n",
       "      <td>Pink Cab</td>\n",
       "      <td>1762</td>\n",
       "      <td>814885</td>\n",
       "      <td>24701</td>\n",
       "    </tr>\n",
       "    <tr>\n",
       "      <th>1</th>\n",
       "      <td>ATLANTA GA</td>\n",
       "      <td>Yellow Cab</td>\n",
       "      <td>5795</td>\n",
       "      <td>814885</td>\n",
       "      <td>24701</td>\n",
       "    </tr>\n",
       "    <tr>\n",
       "      <th>2</th>\n",
       "      <td>AUSTIN TX</td>\n",
       "      <td>Pink Cab</td>\n",
       "      <td>1868</td>\n",
       "      <td>698371</td>\n",
       "      <td>14978</td>\n",
       "    </tr>\n",
       "    <tr>\n",
       "      <th>3</th>\n",
       "      <td>AUSTIN TX</td>\n",
       "      <td>Yellow Cab</td>\n",
       "      <td>3028</td>\n",
       "      <td>698371</td>\n",
       "      <td>14978</td>\n",
       "    </tr>\n",
       "    <tr>\n",
       "      <th>4</th>\n",
       "      <td>BOSTON MA</td>\n",
       "      <td>Pink Cab</td>\n",
       "      <td>5186</td>\n",
       "      <td>248968</td>\n",
       "      <td>80021</td>\n",
       "    </tr>\n",
       "  </tbody>\n",
       "</table>\n",
       "</div>"
      ],
      "text/plain": [
       "         City     Company  no_of_transactions_OR_rides  Population  Users\n",
       "0  ATLANTA GA    Pink Cab                         1762      814885  24701\n",
       "1  ATLANTA GA  Yellow Cab                         5795      814885  24701\n",
       "2   AUSTIN TX    Pink Cab                         1868      698371  14978\n",
       "3   AUSTIN TX  Yellow Cab                         3028      698371  14978\n",
       "4   BOSTON MA    Pink Cab                         5186      248968  80021"
      ]
     },
     "execution_count": 142,
     "metadata": {},
     "output_type": "execute_result"
    }
   ],
   "source": [
    "df_joined = df_grp_1.merge(city_df, on ='City')\n",
    "df_joined.head()"
   ]
  },
  {
   "cell_type": "code",
   "execution_count": 143,
   "metadata": {},
   "outputs": [
    {
     "name": "stdout",
     "output_type": "stream",
     "text": [
      "<class 'pandas.core.frame.DataFrame'>\n",
      "Int64Index: 38 entries, 0 to 37\n",
      "Data columns (total 5 columns):\n",
      " #   Column                       Non-Null Count  Dtype \n",
      "---  ------                       --------------  ----- \n",
      " 0   City                         38 non-null     object\n",
      " 1   Company                      38 non-null     object\n",
      " 2   no_of_transactions_OR_rides  38 non-null     int64 \n",
      " 3   Population                   38 non-null     int32 \n",
      " 4   Users                        38 non-null     int32 \n",
      "dtypes: int32(2), int64(1), object(2)\n",
      "memory usage: 1.5+ KB\n"
     ]
    }
   ],
   "source": [
    "df_joined.info()"
   ]
  },
  {
   "cell_type": "code",
   "execution_count": 144,
   "metadata": {
    "id": "qhD9mEjBgSTH"
   },
   "outputs": [
    {
     "data": {
      "text/html": [
       "<div>\n",
       "<style scoped>\n",
       "    .dataframe tbody tr th:only-of-type {\n",
       "        vertical-align: middle;\n",
       "    }\n",
       "\n",
       "    .dataframe tbody tr th {\n",
       "        vertical-align: top;\n",
       "    }\n",
       "\n",
       "    .dataframe thead th {\n",
       "        text-align: right;\n",
       "    }\n",
       "</style>\n",
       "<table border=\"1\" class=\"dataframe\">\n",
       "  <thead>\n",
       "    <tr style=\"text-align: right;\">\n",
       "      <th></th>\n",
       "      <th>City</th>\n",
       "      <th>Company</th>\n",
       "      <th>no_of_transactions_OR_rides</th>\n",
       "      <th>Population</th>\n",
       "      <th>Users</th>\n",
       "      <th>percentage_transactions_outof_TotalUsers</th>\n",
       "    </tr>\n",
       "  </thead>\n",
       "  <tbody>\n",
       "    <tr>\n",
       "      <th>0</th>\n",
       "      <td>ATLANTA GA</td>\n",
       "      <td>Pink Cab</td>\n",
       "      <td>1762</td>\n",
       "      <td>814885</td>\n",
       "      <td>24701</td>\n",
       "      <td>7.13</td>\n",
       "    </tr>\n",
       "    <tr>\n",
       "      <th>1</th>\n",
       "      <td>ATLANTA GA</td>\n",
       "      <td>Yellow Cab</td>\n",
       "      <td>5795</td>\n",
       "      <td>814885</td>\n",
       "      <td>24701</td>\n",
       "      <td>23.46</td>\n",
       "    </tr>\n",
       "    <tr>\n",
       "      <th>2</th>\n",
       "      <td>AUSTIN TX</td>\n",
       "      <td>Pink Cab</td>\n",
       "      <td>1868</td>\n",
       "      <td>698371</td>\n",
       "      <td>14978</td>\n",
       "      <td>12.47</td>\n",
       "    </tr>\n",
       "    <tr>\n",
       "      <th>3</th>\n",
       "      <td>AUSTIN TX</td>\n",
       "      <td>Yellow Cab</td>\n",
       "      <td>3028</td>\n",
       "      <td>698371</td>\n",
       "      <td>14978</td>\n",
       "      <td>20.22</td>\n",
       "    </tr>\n",
       "    <tr>\n",
       "      <th>4</th>\n",
       "      <td>BOSTON MA</td>\n",
       "      <td>Pink Cab</td>\n",
       "      <td>5186</td>\n",
       "      <td>248968</td>\n",
       "      <td>80021</td>\n",
       "      <td>6.48</td>\n",
       "    </tr>\n",
       "  </tbody>\n",
       "</table>\n",
       "</div>"
      ],
      "text/plain": [
       "         City     Company  no_of_transactions_OR_rides  Population  Users  \\\n",
       "0  ATLANTA GA    Pink Cab                         1762      814885  24701   \n",
       "1  ATLANTA GA  Yellow Cab                         5795      814885  24701   \n",
       "2   AUSTIN TX    Pink Cab                         1868      698371  14978   \n",
       "3   AUSTIN TX  Yellow Cab                         3028      698371  14978   \n",
       "4   BOSTON MA    Pink Cab                         5186      248968  80021   \n",
       "\n",
       "   percentage_transactions_outof_TotalUsers  \n",
       "0                                      7.13  \n",
       "1                                     23.46  \n",
       "2                                     12.47  \n",
       "3                                     20.22  \n",
       "4                                      6.48  "
      ]
     },
     "execution_count": 144,
     "metadata": {},
     "output_type": "execute_result"
    }
   ],
   "source": [
    "df_joined['percentage_transactions_outof_TotalUsers'] = (df_joined['no_of_transactions_OR_rides']/df_joined['Users'])*100\n",
    "df_joined.head()"
   ]
  },
  {
   "cell_type": "code",
   "execution_count": 145,
   "metadata": {},
   "outputs": [
    {
     "data": {
      "application/vnd.plotly.v1+json": {
       "config": {
        "plotlyServerURL": "https://plot.ly"
       },
       "data": [
        {
         "hovertemplate": "Company=Pink Cab<br>City=%{x}<br>percentage_transactions_outof_TotalUsers=%{y}<extra></extra>",
         "legendgroup": "Pink Cab",
         "marker": {
          "color": "#636efa",
          "symbol": "circle"
         },
         "mode": "markers",
         "name": "Pink Cab",
         "orientation": "v",
         "showlegend": true,
         "type": "scatter",
         "x": [
          "ATLANTA GA",
          "AUSTIN TX",
          "BOSTON MA",
          "CHICAGO IL",
          "DALLAS TX",
          "DENVER CO",
          "LOS ANGELES CA",
          "MIAMI FL",
          "NASHVILLE TN",
          "NEW YORK NY",
          "ORANGE COUNTY",
          "PHOENIX AZ",
          "PITTSBURGH PA",
          "SACRAMENTO CA",
          "SAN DIEGO CA",
          "SEATTLE WA",
          "SILICON VALLEY",
          "TUCSON AZ",
          "WASHINGTON DC"
         ],
         "xaxis": "x",
         "y": [
          7.133314440710903,
          12.471625050073442,
          6.480798790317542,
          5.691684704623392,
          6.228280001805299,
          11.222928910715723,
          13.782504926040017,
          11.326732673267328,
          19.859762675296654,
          4.622553773138419,
          11.643835616438356,
          14.08772215881298,
          18.72083447707933,
          18.938103350369108,
          15.246803343095936,
          10.90053066272992,
          13.93547913531765,
          13.988095238095239,
          2.9070637239076857
         ],
         "yaxis": "y"
        },
        {
         "hovertemplate": "Company=Yellow Cab<br>City=%{x}<br>percentage_transactions_outof_TotalUsers=%{y}<extra></extra>",
         "legendgroup": "Yellow Cab",
         "marker": {
          "color": "#EF553B",
          "symbol": "circle"
         },
         "mode": "markers",
         "name": "Yellow Cab",
         "orientation": "v",
         "showlegend": true,
         "type": "scatter",
         "x": [
          "ATLANTA GA",
          "AUSTIN TX",
          "BOSTON MA",
          "CHICAGO IL",
          "DALLAS TX",
          "DENVER CO",
          "LOS ANGELES CA",
          "MIAMI FL",
          "NASHVILLE TN",
          "NEW YORK NY",
          "ORANGE COUNTY",
          "PHOENIX AZ",
          "PITTSBURGH PA",
          "SACRAMENTO CA",
          "SAN DIEGO CA",
          "SEATTLE WA",
          "SILICON VALLEY",
          "TUCSON AZ",
          "WASHINGTON DC"
         ],
         "xaxis": "x",
         "y": [
          23.460588640136027,
          20.216317265322473,
          30.624461078966768,
          28.73750516817861,
          25.44116983346121,
          19.571693100394494,
          19.54319651430633,
          25.18811881188119,
          12.610571736785328,
          28.43563936997971,
          19.001077420347855,
          19.566280776129137,
          17.32088937688718,
          14.66496308915389,
          14.023858847060506,
          21.007062203247813,
          17.33034829522516,
          19.817927170868348,
          31.531247785450507
         ],
         "yaxis": "y"
        }
       ],
       "layout": {
        "legend": {
         "title": {
          "text": "Company"
         },
         "tracegroupgap": 0
        },
        "margin": {
         "t": 60
        },
        "template": {
         "data": {
          "bar": [
           {
            "error_x": {
             "color": "#2a3f5f"
            },
            "error_y": {
             "color": "#2a3f5f"
            },
            "marker": {
             "line": {
              "color": "#E5ECF6",
              "width": 0.5
             },
             "pattern": {
              "fillmode": "overlay",
              "size": 10,
              "solidity": 0.2
             }
            },
            "type": "bar"
           }
          ],
          "barpolar": [
           {
            "marker": {
             "line": {
              "color": "#E5ECF6",
              "width": 0.5
             },
             "pattern": {
              "fillmode": "overlay",
              "size": 10,
              "solidity": 0.2
             }
            },
            "type": "barpolar"
           }
          ],
          "carpet": [
           {
            "aaxis": {
             "endlinecolor": "#2a3f5f",
             "gridcolor": "white",
             "linecolor": "white",
             "minorgridcolor": "white",
             "startlinecolor": "#2a3f5f"
            },
            "baxis": {
             "endlinecolor": "#2a3f5f",
             "gridcolor": "white",
             "linecolor": "white",
             "minorgridcolor": "white",
             "startlinecolor": "#2a3f5f"
            },
            "type": "carpet"
           }
          ],
          "choropleth": [
           {
            "colorbar": {
             "outlinewidth": 0,
             "ticks": ""
            },
            "type": "choropleth"
           }
          ],
          "contour": [
           {
            "colorbar": {
             "outlinewidth": 0,
             "ticks": ""
            },
            "colorscale": [
             [
              0,
              "#0d0887"
             ],
             [
              0.1111111111111111,
              "#46039f"
             ],
             [
              0.2222222222222222,
              "#7201a8"
             ],
             [
              0.3333333333333333,
              "#9c179e"
             ],
             [
              0.4444444444444444,
              "#bd3786"
             ],
             [
              0.5555555555555556,
              "#d8576b"
             ],
             [
              0.6666666666666666,
              "#ed7953"
             ],
             [
              0.7777777777777778,
              "#fb9f3a"
             ],
             [
              0.8888888888888888,
              "#fdca26"
             ],
             [
              1,
              "#f0f921"
             ]
            ],
            "type": "contour"
           }
          ],
          "contourcarpet": [
           {
            "colorbar": {
             "outlinewidth": 0,
             "ticks": ""
            },
            "type": "contourcarpet"
           }
          ],
          "heatmap": [
           {
            "colorbar": {
             "outlinewidth": 0,
             "ticks": ""
            },
            "colorscale": [
             [
              0,
              "#0d0887"
             ],
             [
              0.1111111111111111,
              "#46039f"
             ],
             [
              0.2222222222222222,
              "#7201a8"
             ],
             [
              0.3333333333333333,
              "#9c179e"
             ],
             [
              0.4444444444444444,
              "#bd3786"
             ],
             [
              0.5555555555555556,
              "#d8576b"
             ],
             [
              0.6666666666666666,
              "#ed7953"
             ],
             [
              0.7777777777777778,
              "#fb9f3a"
             ],
             [
              0.8888888888888888,
              "#fdca26"
             ],
             [
              1,
              "#f0f921"
             ]
            ],
            "type": "heatmap"
           }
          ],
          "heatmapgl": [
           {
            "colorbar": {
             "outlinewidth": 0,
             "ticks": ""
            },
            "colorscale": [
             [
              0,
              "#0d0887"
             ],
             [
              0.1111111111111111,
              "#46039f"
             ],
             [
              0.2222222222222222,
              "#7201a8"
             ],
             [
              0.3333333333333333,
              "#9c179e"
             ],
             [
              0.4444444444444444,
              "#bd3786"
             ],
             [
              0.5555555555555556,
              "#d8576b"
             ],
             [
              0.6666666666666666,
              "#ed7953"
             ],
             [
              0.7777777777777778,
              "#fb9f3a"
             ],
             [
              0.8888888888888888,
              "#fdca26"
             ],
             [
              1,
              "#f0f921"
             ]
            ],
            "type": "heatmapgl"
           }
          ],
          "histogram": [
           {
            "marker": {
             "pattern": {
              "fillmode": "overlay",
              "size": 10,
              "solidity": 0.2
             }
            },
            "type": "histogram"
           }
          ],
          "histogram2d": [
           {
            "colorbar": {
             "outlinewidth": 0,
             "ticks": ""
            },
            "colorscale": [
             [
              0,
              "#0d0887"
             ],
             [
              0.1111111111111111,
              "#46039f"
             ],
             [
              0.2222222222222222,
              "#7201a8"
             ],
             [
              0.3333333333333333,
              "#9c179e"
             ],
             [
              0.4444444444444444,
              "#bd3786"
             ],
             [
              0.5555555555555556,
              "#d8576b"
             ],
             [
              0.6666666666666666,
              "#ed7953"
             ],
             [
              0.7777777777777778,
              "#fb9f3a"
             ],
             [
              0.8888888888888888,
              "#fdca26"
             ],
             [
              1,
              "#f0f921"
             ]
            ],
            "type": "histogram2d"
           }
          ],
          "histogram2dcontour": [
           {
            "colorbar": {
             "outlinewidth": 0,
             "ticks": ""
            },
            "colorscale": [
             [
              0,
              "#0d0887"
             ],
             [
              0.1111111111111111,
              "#46039f"
             ],
             [
              0.2222222222222222,
              "#7201a8"
             ],
             [
              0.3333333333333333,
              "#9c179e"
             ],
             [
              0.4444444444444444,
              "#bd3786"
             ],
             [
              0.5555555555555556,
              "#d8576b"
             ],
             [
              0.6666666666666666,
              "#ed7953"
             ],
             [
              0.7777777777777778,
              "#fb9f3a"
             ],
             [
              0.8888888888888888,
              "#fdca26"
             ],
             [
              1,
              "#f0f921"
             ]
            ],
            "type": "histogram2dcontour"
           }
          ],
          "mesh3d": [
           {
            "colorbar": {
             "outlinewidth": 0,
             "ticks": ""
            },
            "type": "mesh3d"
           }
          ],
          "parcoords": [
           {
            "line": {
             "colorbar": {
              "outlinewidth": 0,
              "ticks": ""
             }
            },
            "type": "parcoords"
           }
          ],
          "pie": [
           {
            "automargin": true,
            "type": "pie"
           }
          ],
          "scatter": [
           {
            "fillpattern": {
             "fillmode": "overlay",
             "size": 10,
             "solidity": 0.2
            },
            "type": "scatter"
           }
          ],
          "scatter3d": [
           {
            "line": {
             "colorbar": {
              "outlinewidth": 0,
              "ticks": ""
             }
            },
            "marker": {
             "colorbar": {
              "outlinewidth": 0,
              "ticks": ""
             }
            },
            "type": "scatter3d"
           }
          ],
          "scattercarpet": [
           {
            "marker": {
             "colorbar": {
              "outlinewidth": 0,
              "ticks": ""
             }
            },
            "type": "scattercarpet"
           }
          ],
          "scattergeo": [
           {
            "marker": {
             "colorbar": {
              "outlinewidth": 0,
              "ticks": ""
             }
            },
            "type": "scattergeo"
           }
          ],
          "scattergl": [
           {
            "marker": {
             "colorbar": {
              "outlinewidth": 0,
              "ticks": ""
             }
            },
            "type": "scattergl"
           }
          ],
          "scattermapbox": [
           {
            "marker": {
             "colorbar": {
              "outlinewidth": 0,
              "ticks": ""
             }
            },
            "type": "scattermapbox"
           }
          ],
          "scatterpolar": [
           {
            "marker": {
             "colorbar": {
              "outlinewidth": 0,
              "ticks": ""
             }
            },
            "type": "scatterpolar"
           }
          ],
          "scatterpolargl": [
           {
            "marker": {
             "colorbar": {
              "outlinewidth": 0,
              "ticks": ""
             }
            },
            "type": "scatterpolargl"
           }
          ],
          "scatterternary": [
           {
            "marker": {
             "colorbar": {
              "outlinewidth": 0,
              "ticks": ""
             }
            },
            "type": "scatterternary"
           }
          ],
          "surface": [
           {
            "colorbar": {
             "outlinewidth": 0,
             "ticks": ""
            },
            "colorscale": [
             [
              0,
              "#0d0887"
             ],
             [
              0.1111111111111111,
              "#46039f"
             ],
             [
              0.2222222222222222,
              "#7201a8"
             ],
             [
              0.3333333333333333,
              "#9c179e"
             ],
             [
              0.4444444444444444,
              "#bd3786"
             ],
             [
              0.5555555555555556,
              "#d8576b"
             ],
             [
              0.6666666666666666,
              "#ed7953"
             ],
             [
              0.7777777777777778,
              "#fb9f3a"
             ],
             [
              0.8888888888888888,
              "#fdca26"
             ],
             [
              1,
              "#f0f921"
             ]
            ],
            "type": "surface"
           }
          ],
          "table": [
           {
            "cells": {
             "fill": {
              "color": "#EBF0F8"
             },
             "line": {
              "color": "white"
             }
            },
            "header": {
             "fill": {
              "color": "#C8D4E3"
             },
             "line": {
              "color": "white"
             }
            },
            "type": "table"
           }
          ]
         },
         "layout": {
          "annotationdefaults": {
           "arrowcolor": "#2a3f5f",
           "arrowhead": 0,
           "arrowwidth": 1
          },
          "autotypenumbers": "strict",
          "coloraxis": {
           "colorbar": {
            "outlinewidth": 0,
            "ticks": ""
           }
          },
          "colorscale": {
           "diverging": [
            [
             0,
             "#8e0152"
            ],
            [
             0.1,
             "#c51b7d"
            ],
            [
             0.2,
             "#de77ae"
            ],
            [
             0.3,
             "#f1b6da"
            ],
            [
             0.4,
             "#fde0ef"
            ],
            [
             0.5,
             "#f7f7f7"
            ],
            [
             0.6,
             "#e6f5d0"
            ],
            [
             0.7,
             "#b8e186"
            ],
            [
             0.8,
             "#7fbc41"
            ],
            [
             0.9,
             "#4d9221"
            ],
            [
             1,
             "#276419"
            ]
           ],
           "sequential": [
            [
             0,
             "#0d0887"
            ],
            [
             0.1111111111111111,
             "#46039f"
            ],
            [
             0.2222222222222222,
             "#7201a8"
            ],
            [
             0.3333333333333333,
             "#9c179e"
            ],
            [
             0.4444444444444444,
             "#bd3786"
            ],
            [
             0.5555555555555556,
             "#d8576b"
            ],
            [
             0.6666666666666666,
             "#ed7953"
            ],
            [
             0.7777777777777778,
             "#fb9f3a"
            ],
            [
             0.8888888888888888,
             "#fdca26"
            ],
            [
             1,
             "#f0f921"
            ]
           ],
           "sequentialminus": [
            [
             0,
             "#0d0887"
            ],
            [
             0.1111111111111111,
             "#46039f"
            ],
            [
             0.2222222222222222,
             "#7201a8"
            ],
            [
             0.3333333333333333,
             "#9c179e"
            ],
            [
             0.4444444444444444,
             "#bd3786"
            ],
            [
             0.5555555555555556,
             "#d8576b"
            ],
            [
             0.6666666666666666,
             "#ed7953"
            ],
            [
             0.7777777777777778,
             "#fb9f3a"
            ],
            [
             0.8888888888888888,
             "#fdca26"
            ],
            [
             1,
             "#f0f921"
            ]
           ]
          },
          "colorway": [
           "#636efa",
           "#EF553B",
           "#00cc96",
           "#ab63fa",
           "#FFA15A",
           "#19d3f3",
           "#FF6692",
           "#B6E880",
           "#FF97FF",
           "#FECB52"
          ],
          "font": {
           "color": "#2a3f5f"
          },
          "geo": {
           "bgcolor": "white",
           "lakecolor": "white",
           "landcolor": "#E5ECF6",
           "showlakes": true,
           "showland": true,
           "subunitcolor": "white"
          },
          "hoverlabel": {
           "align": "left"
          },
          "hovermode": "closest",
          "mapbox": {
           "style": "light"
          },
          "paper_bgcolor": "white",
          "plot_bgcolor": "#E5ECF6",
          "polar": {
           "angularaxis": {
            "gridcolor": "white",
            "linecolor": "white",
            "ticks": ""
           },
           "bgcolor": "#E5ECF6",
           "radialaxis": {
            "gridcolor": "white",
            "linecolor": "white",
            "ticks": ""
           }
          },
          "scene": {
           "xaxis": {
            "backgroundcolor": "#E5ECF6",
            "gridcolor": "white",
            "gridwidth": 2,
            "linecolor": "white",
            "showbackground": true,
            "ticks": "",
            "zerolinecolor": "white"
           },
           "yaxis": {
            "backgroundcolor": "#E5ECF6",
            "gridcolor": "white",
            "gridwidth": 2,
            "linecolor": "white",
            "showbackground": true,
            "ticks": "",
            "zerolinecolor": "white"
           },
           "zaxis": {
            "backgroundcolor": "#E5ECF6",
            "gridcolor": "white",
            "gridwidth": 2,
            "linecolor": "white",
            "showbackground": true,
            "ticks": "",
            "zerolinecolor": "white"
           }
          },
          "shapedefaults": {
           "line": {
            "color": "#2a3f5f"
           }
          },
          "ternary": {
           "aaxis": {
            "gridcolor": "white",
            "linecolor": "white",
            "ticks": ""
           },
           "baxis": {
            "gridcolor": "white",
            "linecolor": "white",
            "ticks": ""
           },
           "bgcolor": "#E5ECF6",
           "caxis": {
            "gridcolor": "white",
            "linecolor": "white",
            "ticks": ""
           }
          },
          "title": {
           "x": 0.05
          },
          "xaxis": {
           "automargin": true,
           "gridcolor": "white",
           "linecolor": "white",
           "ticks": "",
           "title": {
            "standoff": 15
           },
           "zerolinecolor": "white",
           "zerolinewidth": 2
          },
          "yaxis": {
           "automargin": true,
           "gridcolor": "white",
           "linecolor": "white",
           "ticks": "",
           "title": {
            "standoff": 15
           },
           "zerolinecolor": "white",
           "zerolinewidth": 2
          }
         }
        },
        "xaxis": {
         "anchor": "y",
         "domain": [
          0,
          1
         ],
         "title": {
          "text": "City"
         }
        },
        "yaxis": {
         "anchor": "x",
         "domain": [
          0,
          1
         ],
         "title": {
          "text": "percentage_transactions_outof_TotalUsers"
         }
        }
       }
      },
      "text/html": [
       "<div>                            <div id=\"a4d374e0-a8d2-41bc-a9b9-ccc1cec9de22\" class=\"plotly-graph-div\" style=\"height:525px; width:100%;\"></div>            <script type=\"text/javascript\">                require([\"plotly\"], function(Plotly) {                    window.PLOTLYENV=window.PLOTLYENV || {};                                    if (document.getElementById(\"a4d374e0-a8d2-41bc-a9b9-ccc1cec9de22\")) {                    Plotly.newPlot(                        \"a4d374e0-a8d2-41bc-a9b9-ccc1cec9de22\",                        [{\"hovertemplate\":\"Company=Pink Cab<br>City=%{x}<br>percentage_transactions_outof_TotalUsers=%{y}<extra></extra>\",\"legendgroup\":\"Pink Cab\",\"marker\":{\"color\":\"#636efa\",\"symbol\":\"circle\"},\"mode\":\"markers\",\"name\":\"Pink Cab\",\"orientation\":\"v\",\"showlegend\":true,\"x\":[\"ATLANTA GA\",\"AUSTIN TX\",\"BOSTON MA\",\"CHICAGO IL\",\"DALLAS TX\",\"DENVER CO\",\"LOS ANGELES CA\",\"MIAMI FL\",\"NASHVILLE TN\",\"NEW YORK NY\",\"ORANGE COUNTY\",\"PHOENIX AZ\",\"PITTSBURGH PA\",\"SACRAMENTO CA\",\"SAN DIEGO CA\",\"SEATTLE WA\",\"SILICON VALLEY\",\"TUCSON AZ\",\"WASHINGTON DC\"],\"xaxis\":\"x\",\"y\":[7.133314440710903,12.471625050073442,6.480798790317542,5.691684704623392,6.228280001805299,11.222928910715723,13.782504926040017,11.326732673267328,19.859762675296654,4.622553773138419,11.643835616438356,14.08772215881298,18.72083447707933,18.938103350369108,15.246803343095936,10.90053066272992,13.93547913531765,13.988095238095239,2.9070637239076857],\"yaxis\":\"y\",\"type\":\"scatter\"},{\"hovertemplate\":\"Company=Yellow Cab<br>City=%{x}<br>percentage_transactions_outof_TotalUsers=%{y}<extra></extra>\",\"legendgroup\":\"Yellow Cab\",\"marker\":{\"color\":\"#EF553B\",\"symbol\":\"circle\"},\"mode\":\"markers\",\"name\":\"Yellow Cab\",\"orientation\":\"v\",\"showlegend\":true,\"x\":[\"ATLANTA GA\",\"AUSTIN TX\",\"BOSTON MA\",\"CHICAGO IL\",\"DALLAS TX\",\"DENVER CO\",\"LOS ANGELES CA\",\"MIAMI FL\",\"NASHVILLE TN\",\"NEW YORK NY\",\"ORANGE COUNTY\",\"PHOENIX AZ\",\"PITTSBURGH PA\",\"SACRAMENTO CA\",\"SAN DIEGO CA\",\"SEATTLE WA\",\"SILICON VALLEY\",\"TUCSON AZ\",\"WASHINGTON DC\"],\"xaxis\":\"x\",\"y\":[23.460588640136027,20.216317265322473,30.624461078966768,28.73750516817861,25.44116983346121,19.571693100394494,19.54319651430633,25.18811881188119,12.610571736785328,28.43563936997971,19.001077420347855,19.566280776129137,17.32088937688718,14.66496308915389,14.023858847060506,21.007062203247813,17.33034829522516,19.817927170868348,31.531247785450507],\"yaxis\":\"y\",\"type\":\"scatter\"}],                        {\"template\":{\"data\":{\"histogram2dcontour\":[{\"type\":\"histogram2dcontour\",\"colorbar\":{\"outlinewidth\":0,\"ticks\":\"\"},\"colorscale\":[[0.0,\"#0d0887\"],[0.1111111111111111,\"#46039f\"],[0.2222222222222222,\"#7201a8\"],[0.3333333333333333,\"#9c179e\"],[0.4444444444444444,\"#bd3786\"],[0.5555555555555556,\"#d8576b\"],[0.6666666666666666,\"#ed7953\"],[0.7777777777777778,\"#fb9f3a\"],[0.8888888888888888,\"#fdca26\"],[1.0,\"#f0f921\"]]}],\"choropleth\":[{\"type\":\"choropleth\",\"colorbar\":{\"outlinewidth\":0,\"ticks\":\"\"}}],\"histogram2d\":[{\"type\":\"histogram2d\",\"colorbar\":{\"outlinewidth\":0,\"ticks\":\"\"},\"colorscale\":[[0.0,\"#0d0887\"],[0.1111111111111111,\"#46039f\"],[0.2222222222222222,\"#7201a8\"],[0.3333333333333333,\"#9c179e\"],[0.4444444444444444,\"#bd3786\"],[0.5555555555555556,\"#d8576b\"],[0.6666666666666666,\"#ed7953\"],[0.7777777777777778,\"#fb9f3a\"],[0.8888888888888888,\"#fdca26\"],[1.0,\"#f0f921\"]]}],\"heatmap\":[{\"type\":\"heatmap\",\"colorbar\":{\"outlinewidth\":0,\"ticks\":\"\"},\"colorscale\":[[0.0,\"#0d0887\"],[0.1111111111111111,\"#46039f\"],[0.2222222222222222,\"#7201a8\"],[0.3333333333333333,\"#9c179e\"],[0.4444444444444444,\"#bd3786\"],[0.5555555555555556,\"#d8576b\"],[0.6666666666666666,\"#ed7953\"],[0.7777777777777778,\"#fb9f3a\"],[0.8888888888888888,\"#fdca26\"],[1.0,\"#f0f921\"]]}],\"heatmapgl\":[{\"type\":\"heatmapgl\",\"colorbar\":{\"outlinewidth\":0,\"ticks\":\"\"},\"colorscale\":[[0.0,\"#0d0887\"],[0.1111111111111111,\"#46039f\"],[0.2222222222222222,\"#7201a8\"],[0.3333333333333333,\"#9c179e\"],[0.4444444444444444,\"#bd3786\"],[0.5555555555555556,\"#d8576b\"],[0.6666666666666666,\"#ed7953\"],[0.7777777777777778,\"#fb9f3a\"],[0.8888888888888888,\"#fdca26\"],[1.0,\"#f0f921\"]]}],\"contourcarpet\":[{\"type\":\"contourcarpet\",\"colorbar\":{\"outlinewidth\":0,\"ticks\":\"\"}}],\"contour\":[{\"type\":\"contour\",\"colorbar\":{\"outlinewidth\":0,\"ticks\":\"\"},\"colorscale\":[[0.0,\"#0d0887\"],[0.1111111111111111,\"#46039f\"],[0.2222222222222222,\"#7201a8\"],[0.3333333333333333,\"#9c179e\"],[0.4444444444444444,\"#bd3786\"],[0.5555555555555556,\"#d8576b\"],[0.6666666666666666,\"#ed7953\"],[0.7777777777777778,\"#fb9f3a\"],[0.8888888888888888,\"#fdca26\"],[1.0,\"#f0f921\"]]}],\"surface\":[{\"type\":\"surface\",\"colorbar\":{\"outlinewidth\":0,\"ticks\":\"\"},\"colorscale\":[[0.0,\"#0d0887\"],[0.1111111111111111,\"#46039f\"],[0.2222222222222222,\"#7201a8\"],[0.3333333333333333,\"#9c179e\"],[0.4444444444444444,\"#bd3786\"],[0.5555555555555556,\"#d8576b\"],[0.6666666666666666,\"#ed7953\"],[0.7777777777777778,\"#fb9f3a\"],[0.8888888888888888,\"#fdca26\"],[1.0,\"#f0f921\"]]}],\"mesh3d\":[{\"type\":\"mesh3d\",\"colorbar\":{\"outlinewidth\":0,\"ticks\":\"\"}}],\"scatter\":[{\"fillpattern\":{\"fillmode\":\"overlay\",\"size\":10,\"solidity\":0.2},\"type\":\"scatter\"}],\"parcoords\":[{\"type\":\"parcoords\",\"line\":{\"colorbar\":{\"outlinewidth\":0,\"ticks\":\"\"}}}],\"scatterpolargl\":[{\"type\":\"scatterpolargl\",\"marker\":{\"colorbar\":{\"outlinewidth\":0,\"ticks\":\"\"}}}],\"bar\":[{\"error_x\":{\"color\":\"#2a3f5f\"},\"error_y\":{\"color\":\"#2a3f5f\"},\"marker\":{\"line\":{\"color\":\"#E5ECF6\",\"width\":0.5},\"pattern\":{\"fillmode\":\"overlay\",\"size\":10,\"solidity\":0.2}},\"type\":\"bar\"}],\"scattergeo\":[{\"type\":\"scattergeo\",\"marker\":{\"colorbar\":{\"outlinewidth\":0,\"ticks\":\"\"}}}],\"scatterpolar\":[{\"type\":\"scatterpolar\",\"marker\":{\"colorbar\":{\"outlinewidth\":0,\"ticks\":\"\"}}}],\"histogram\":[{\"marker\":{\"pattern\":{\"fillmode\":\"overlay\",\"size\":10,\"solidity\":0.2}},\"type\":\"histogram\"}],\"scattergl\":[{\"type\":\"scattergl\",\"marker\":{\"colorbar\":{\"outlinewidth\":0,\"ticks\":\"\"}}}],\"scatter3d\":[{\"type\":\"scatter3d\",\"line\":{\"colorbar\":{\"outlinewidth\":0,\"ticks\":\"\"}},\"marker\":{\"colorbar\":{\"outlinewidth\":0,\"ticks\":\"\"}}}],\"scattermapbox\":[{\"type\":\"scattermapbox\",\"marker\":{\"colorbar\":{\"outlinewidth\":0,\"ticks\":\"\"}}}],\"scatterternary\":[{\"type\":\"scatterternary\",\"marker\":{\"colorbar\":{\"outlinewidth\":0,\"ticks\":\"\"}}}],\"scattercarpet\":[{\"type\":\"scattercarpet\",\"marker\":{\"colorbar\":{\"outlinewidth\":0,\"ticks\":\"\"}}}],\"carpet\":[{\"aaxis\":{\"endlinecolor\":\"#2a3f5f\",\"gridcolor\":\"white\",\"linecolor\":\"white\",\"minorgridcolor\":\"white\",\"startlinecolor\":\"#2a3f5f\"},\"baxis\":{\"endlinecolor\":\"#2a3f5f\",\"gridcolor\":\"white\",\"linecolor\":\"white\",\"minorgridcolor\":\"white\",\"startlinecolor\":\"#2a3f5f\"},\"type\":\"carpet\"}],\"table\":[{\"cells\":{\"fill\":{\"color\":\"#EBF0F8\"},\"line\":{\"color\":\"white\"}},\"header\":{\"fill\":{\"color\":\"#C8D4E3\"},\"line\":{\"color\":\"white\"}},\"type\":\"table\"}],\"barpolar\":[{\"marker\":{\"line\":{\"color\":\"#E5ECF6\",\"width\":0.5},\"pattern\":{\"fillmode\":\"overlay\",\"size\":10,\"solidity\":0.2}},\"type\":\"barpolar\"}],\"pie\":[{\"automargin\":true,\"type\":\"pie\"}]},\"layout\":{\"autotypenumbers\":\"strict\",\"colorway\":[\"#636efa\",\"#EF553B\",\"#00cc96\",\"#ab63fa\",\"#FFA15A\",\"#19d3f3\",\"#FF6692\",\"#B6E880\",\"#FF97FF\",\"#FECB52\"],\"font\":{\"color\":\"#2a3f5f\"},\"hovermode\":\"closest\",\"hoverlabel\":{\"align\":\"left\"},\"paper_bgcolor\":\"white\",\"plot_bgcolor\":\"#E5ECF6\",\"polar\":{\"bgcolor\":\"#E5ECF6\",\"angularaxis\":{\"gridcolor\":\"white\",\"linecolor\":\"white\",\"ticks\":\"\"},\"radialaxis\":{\"gridcolor\":\"white\",\"linecolor\":\"white\",\"ticks\":\"\"}},\"ternary\":{\"bgcolor\":\"#E5ECF6\",\"aaxis\":{\"gridcolor\":\"white\",\"linecolor\":\"white\",\"ticks\":\"\"},\"baxis\":{\"gridcolor\":\"white\",\"linecolor\":\"white\",\"ticks\":\"\"},\"caxis\":{\"gridcolor\":\"white\",\"linecolor\":\"white\",\"ticks\":\"\"}},\"coloraxis\":{\"colorbar\":{\"outlinewidth\":0,\"ticks\":\"\"}},\"colorscale\":{\"sequential\":[[0.0,\"#0d0887\"],[0.1111111111111111,\"#46039f\"],[0.2222222222222222,\"#7201a8\"],[0.3333333333333333,\"#9c179e\"],[0.4444444444444444,\"#bd3786\"],[0.5555555555555556,\"#d8576b\"],[0.6666666666666666,\"#ed7953\"],[0.7777777777777778,\"#fb9f3a\"],[0.8888888888888888,\"#fdca26\"],[1.0,\"#f0f921\"]],\"sequentialminus\":[[0.0,\"#0d0887\"],[0.1111111111111111,\"#46039f\"],[0.2222222222222222,\"#7201a8\"],[0.3333333333333333,\"#9c179e\"],[0.4444444444444444,\"#bd3786\"],[0.5555555555555556,\"#d8576b\"],[0.6666666666666666,\"#ed7953\"],[0.7777777777777778,\"#fb9f3a\"],[0.8888888888888888,\"#fdca26\"],[1.0,\"#f0f921\"]],\"diverging\":[[0,\"#8e0152\"],[0.1,\"#c51b7d\"],[0.2,\"#de77ae\"],[0.3,\"#f1b6da\"],[0.4,\"#fde0ef\"],[0.5,\"#f7f7f7\"],[0.6,\"#e6f5d0\"],[0.7,\"#b8e186\"],[0.8,\"#7fbc41\"],[0.9,\"#4d9221\"],[1,\"#276419\"]]},\"xaxis\":{\"gridcolor\":\"white\",\"linecolor\":\"white\",\"ticks\":\"\",\"title\":{\"standoff\":15},\"zerolinecolor\":\"white\",\"automargin\":true,\"zerolinewidth\":2},\"yaxis\":{\"gridcolor\":\"white\",\"linecolor\":\"white\",\"ticks\":\"\",\"title\":{\"standoff\":15},\"zerolinecolor\":\"white\",\"automargin\":true,\"zerolinewidth\":2},\"scene\":{\"xaxis\":{\"backgroundcolor\":\"#E5ECF6\",\"gridcolor\":\"white\",\"linecolor\":\"white\",\"showbackground\":true,\"ticks\":\"\",\"zerolinecolor\":\"white\",\"gridwidth\":2},\"yaxis\":{\"backgroundcolor\":\"#E5ECF6\",\"gridcolor\":\"white\",\"linecolor\":\"white\",\"showbackground\":true,\"ticks\":\"\",\"zerolinecolor\":\"white\",\"gridwidth\":2},\"zaxis\":{\"backgroundcolor\":\"#E5ECF6\",\"gridcolor\":\"white\",\"linecolor\":\"white\",\"showbackground\":true,\"ticks\":\"\",\"zerolinecolor\":\"white\",\"gridwidth\":2}},\"shapedefaults\":{\"line\":{\"color\":\"#2a3f5f\"}},\"annotationdefaults\":{\"arrowcolor\":\"#2a3f5f\",\"arrowhead\":0,\"arrowwidth\":1},\"geo\":{\"bgcolor\":\"white\",\"landcolor\":\"#E5ECF6\",\"subunitcolor\":\"white\",\"showland\":true,\"showlakes\":true,\"lakecolor\":\"white\"},\"title\":{\"x\":0.05},\"mapbox\":{\"style\":\"light\"}}},\"xaxis\":{\"anchor\":\"y\",\"domain\":[0.0,1.0],\"title\":{\"text\":\"City\"}},\"yaxis\":{\"anchor\":\"x\",\"domain\":[0.0,1.0],\"title\":{\"text\":\"percentage_transactions_outof_TotalUsers\"}},\"legend\":{\"title\":{\"text\":\"Company\"},\"tracegroupgap\":0},\"margin\":{\"t\":60}},                        {\"responsive\": true}                    ).then(function(){\n",
       "                            \n",
       "var gd = document.getElementById('a4d374e0-a8d2-41bc-a9b9-ccc1cec9de22');\n",
       "var x = new MutationObserver(function (mutations, observer) {{\n",
       "        var display = window.getComputedStyle(gd).display;\n",
       "        if (!display || display === 'none') {{\n",
       "            console.log([gd, 'removed!']);\n",
       "            Plotly.purge(gd);\n",
       "            observer.disconnect();\n",
       "        }}\n",
       "}});\n",
       "\n",
       "// Listen for the removal of the full notebook cells\n",
       "var notebookContainer = gd.closest('#notebook-container');\n",
       "if (notebookContainer) {{\n",
       "    x.observe(notebookContainer, {childList: true});\n",
       "}}\n",
       "\n",
       "// Listen for the clearing of the current output cell\n",
       "var outputEl = gd.closest('.output');\n",
       "if (outputEl) {{\n",
       "    x.observe(outputEl, {childList: true});\n",
       "}}\n",
       "\n",
       "                        })                };                });            </script>        </div>"
      ]
     },
     "metadata": {},
     "output_type": "display_data"
    },
    {
     "data": {
      "text/plain": [
       "<Figure size 720x432 with 0 Axes>"
      ]
     },
     "metadata": {},
     "output_type": "display_data"
    }
   ],
   "source": [
    "plt.figure(figsize=(10,6))\n",
    "py.scatter(data_frame=df_joined,x='City', y='percentage_transactions_outof_TotalUsers', color='Company')"
   ]
  },
  {
   "cell_type": "markdown",
   "metadata": {},
   "source": [
    "### Out of the most common customers of each company, how is the age, gender and income distributed "
   ]
  },
  {
   "cell_type": "code",
   "execution_count": 146,
   "metadata": {},
   "outputs": [
    {
     "data": {
      "text/html": [
       "<div>\n",
       "<style scoped>\n",
       "    .dataframe tbody tr th:only-of-type {\n",
       "        vertical-align: middle;\n",
       "    }\n",
       "\n",
       "    .dataframe tbody tr th {\n",
       "        vertical-align: top;\n",
       "    }\n",
       "\n",
       "    .dataframe thead th {\n",
       "        text-align: right;\n",
       "    }\n",
       "</style>\n",
       "<table border=\"1\" class=\"dataframe\">\n",
       "  <thead>\n",
       "    <tr style=\"text-align: right;\">\n",
       "      <th></th>\n",
       "      <th>Transaction ID</th>\n",
       "      <th>Date of Travel</th>\n",
       "      <th>Company</th>\n",
       "      <th>City</th>\n",
       "      <th>KM Travelled</th>\n",
       "      <th>Price Charged</th>\n",
       "      <th>Cost of Trip</th>\n",
       "      <th>Year</th>\n",
       "      <th>profit_percentage</th>\n",
       "      <th>Customer ID</th>\n",
       "      <th>Payment_Mode</th>\n",
       "      <th>Gender</th>\n",
       "      <th>Age</th>\n",
       "      <th>Income (USD/Month)</th>\n",
       "    </tr>\n",
       "  </thead>\n",
       "  <tbody>\n",
       "    <tr>\n",
       "      <th>0</th>\n",
       "      <td>10000013</td>\n",
       "      <td>2016-01-02</td>\n",
       "      <td>Pink Cab</td>\n",
       "      <td>ATLANTA GA</td>\n",
       "      <td>9.04</td>\n",
       "      <td>125.20</td>\n",
       "      <td>97.63</td>\n",
       "      <td>2016</td>\n",
       "      <td>28.24</td>\n",
       "      <td>28712</td>\n",
       "      <td>Cash</td>\n",
       "      <td>Male</td>\n",
       "      <td>53</td>\n",
       "      <td>11242</td>\n",
       "    </tr>\n",
       "    <tr>\n",
       "      <th>1</th>\n",
       "      <td>10079404</td>\n",
       "      <td>2016-09-21</td>\n",
       "      <td>Yellow Cab</td>\n",
       "      <td>ATLANTA GA</td>\n",
       "      <td>39.60</td>\n",
       "      <td>704.30</td>\n",
       "      <td>494.21</td>\n",
       "      <td>2016</td>\n",
       "      <td>42.51</td>\n",
       "      <td>28712</td>\n",
       "      <td>Card</td>\n",
       "      <td>Male</td>\n",
       "      <td>53</td>\n",
       "      <td>11242</td>\n",
       "    </tr>\n",
       "    <tr>\n",
       "      <th>2</th>\n",
       "      <td>10186994</td>\n",
       "      <td>2017-06-23</td>\n",
       "      <td>Yellow Cab</td>\n",
       "      <td>ATLANTA GA</td>\n",
       "      <td>18.19</td>\n",
       "      <td>365.63</td>\n",
       "      <td>246.66</td>\n",
       "      <td>2017</td>\n",
       "      <td>48.23</td>\n",
       "      <td>28712</td>\n",
       "      <td>Card</td>\n",
       "      <td>Male</td>\n",
       "      <td>53</td>\n",
       "      <td>11242</td>\n",
       "    </tr>\n",
       "    <tr>\n",
       "      <th>3</th>\n",
       "      <td>10320493</td>\n",
       "      <td>2018-04-21</td>\n",
       "      <td>Yellow Cab</td>\n",
       "      <td>ATLANTA GA</td>\n",
       "      <td>19.38</td>\n",
       "      <td>326.35</td>\n",
       "      <td>272.10</td>\n",
       "      <td>2018</td>\n",
       "      <td>19.94</td>\n",
       "      <td>28712</td>\n",
       "      <td>Cash</td>\n",
       "      <td>Male</td>\n",
       "      <td>53</td>\n",
       "      <td>11242</td>\n",
       "    </tr>\n",
       "    <tr>\n",
       "      <th>4</th>\n",
       "      <td>10000029</td>\n",
       "      <td>2016-01-02</td>\n",
       "      <td>Pink Cab</td>\n",
       "      <td>BOSTON MA</td>\n",
       "      <td>21.34</td>\n",
       "      <td>324.21</td>\n",
       "      <td>226.20</td>\n",
       "      <td>2016</td>\n",
       "      <td>43.33</td>\n",
       "      <td>58925</td>\n",
       "      <td>Card</td>\n",
       "      <td>Male</td>\n",
       "      <td>38</td>\n",
       "      <td>26550</td>\n",
       "    </tr>\n",
       "  </tbody>\n",
       "</table>\n",
       "</div>"
      ],
      "text/plain": [
       "   Transaction ID Date of Travel     Company        City  KM Travelled  \\\n",
       "0        10000013     2016-01-02    Pink Cab  ATLANTA GA          9.04   \n",
       "1        10079404     2016-09-21  Yellow Cab  ATLANTA GA         39.60   \n",
       "2        10186994     2017-06-23  Yellow Cab  ATLANTA GA         18.19   \n",
       "3        10320493     2018-04-21  Yellow Cab  ATLANTA GA         19.38   \n",
       "4        10000029     2016-01-02    Pink Cab   BOSTON MA         21.34   \n",
       "\n",
       "   Price Charged  Cost of Trip  Year  profit_percentage  Customer ID  \\\n",
       "0         125.20         97.63  2016              28.24        28712   \n",
       "1         704.30        494.21  2016              42.51        28712   \n",
       "2         365.63        246.66  2017              48.23        28712   \n",
       "3         326.35        272.10  2018              19.94        28712   \n",
       "4         324.21        226.20  2016              43.33        58925   \n",
       "\n",
       "  Payment_Mode Gender  Age  Income (USD/Month)  \n",
       "0         Cash   Male   53               11242  \n",
       "1         Card   Male   53               11242  \n",
       "2         Card   Male   53               11242  \n",
       "3         Cash   Male   53               11242  \n",
       "4         Card   Male   38               26550  "
      ]
     },
     "execution_count": 146,
     "metadata": {},
     "output_type": "execute_result"
    }
   ],
   "source": [
    "df_cab_trans_cus.head()"
   ]
  },
  {
   "cell_type": "code",
   "execution_count": 147,
   "metadata": {},
   "outputs": [],
   "source": [
    "pinkcab_cust = df_cab_trans_cus[df_cab_trans_cus['Company']=='Pink Cab']\n",
    "yellowcab_cust = df_cab_trans_cus[df_cab_trans_cus['Company']=='Yellow Cab']"
   ]
  },
  {
   "cell_type": "code",
   "execution_count": 148,
   "metadata": {},
   "outputs": [
    {
     "data": {
      "text/html": [
       "<div>\n",
       "<style scoped>\n",
       "    .dataframe tbody tr th:only-of-type {\n",
       "        vertical-align: middle;\n",
       "    }\n",
       "\n",
       "    .dataframe tbody tr th {\n",
       "        vertical-align: top;\n",
       "    }\n",
       "\n",
       "    .dataframe thead th {\n",
       "        text-align: right;\n",
       "    }\n",
       "</style>\n",
       "<table border=\"1\" class=\"dataframe\">\n",
       "  <thead>\n",
       "    <tr style=\"text-align: right;\">\n",
       "      <th></th>\n",
       "      <th>Customer ID</th>\n",
       "      <th>no_of_rides</th>\n",
       "    </tr>\n",
       "  </thead>\n",
       "  <tbody>\n",
       "    <tr>\n",
       "      <th>0</th>\n",
       "      <td>8120</td>\n",
       "      <td>18</td>\n",
       "    </tr>\n",
       "    <tr>\n",
       "      <th>1</th>\n",
       "      <td>8595</td>\n",
       "      <td>17</td>\n",
       "    </tr>\n",
       "    <tr>\n",
       "      <th>2</th>\n",
       "      <td>7927</td>\n",
       "      <td>17</td>\n",
       "    </tr>\n",
       "    <tr>\n",
       "      <th>3</th>\n",
       "      <td>6159</td>\n",
       "      <td>17</td>\n",
       "    </tr>\n",
       "    <tr>\n",
       "      <th>4</th>\n",
       "      <td>7340</td>\n",
       "      <td>16</td>\n",
       "    </tr>\n",
       "    <tr>\n",
       "      <th>...</th>\n",
       "      <td>...</td>\n",
       "      <td>...</td>\n",
       "    </tr>\n",
       "    <tr>\n",
       "      <th>95</th>\n",
       "      <td>6341</td>\n",
       "      <td>12</td>\n",
       "    </tr>\n",
       "    <tr>\n",
       "      <th>96</th>\n",
       "      <td>7227</td>\n",
       "      <td>12</td>\n",
       "    </tr>\n",
       "    <tr>\n",
       "      <th>97</th>\n",
       "      <td>7353</td>\n",
       "      <td>12</td>\n",
       "    </tr>\n",
       "    <tr>\n",
       "      <th>98</th>\n",
       "      <td>6796</td>\n",
       "      <td>12</td>\n",
       "    </tr>\n",
       "    <tr>\n",
       "      <th>99</th>\n",
       "      <td>8480</td>\n",
       "      <td>12</td>\n",
       "    </tr>\n",
       "  </tbody>\n",
       "</table>\n",
       "<p>100 rows × 2 columns</p>\n",
       "</div>"
      ],
      "text/plain": [
       "    Customer ID  no_of_rides\n",
       "0          8120           18\n",
       "1          8595           17\n",
       "2          7927           17\n",
       "3          6159           17\n",
       "4          7340           16\n",
       "..          ...          ...\n",
       "95         6341           12\n",
       "96         7227           12\n",
       "97         7353           12\n",
       "98         6796           12\n",
       "99         8480           12\n",
       "\n",
       "[100 rows x 2 columns]"
      ]
     },
     "execution_count": 148,
     "metadata": {},
     "output_type": "execute_result"
    }
   ],
   "source": [
    "pink_top100_cust = pinkcab_cust['Customer ID'].value_counts().sort_values(ascending=False).head(100).reset_index()\n",
    "pink_top100_cust.columns = ['Customer ID','no_of_rides']\n",
    "pink_top100_cust"
   ]
  },
  {
   "cell_type": "code",
   "execution_count": 149,
   "metadata": {},
   "outputs": [
    {
     "data": {
      "text/html": [
       "<div>\n",
       "<style scoped>\n",
       "    .dataframe tbody tr th:only-of-type {\n",
       "        vertical-align: middle;\n",
       "    }\n",
       "\n",
       "    .dataframe tbody tr th {\n",
       "        vertical-align: top;\n",
       "    }\n",
       "\n",
       "    .dataframe thead th {\n",
       "        text-align: right;\n",
       "    }\n",
       "</style>\n",
       "<table border=\"1\" class=\"dataframe\">\n",
       "  <thead>\n",
       "    <tr style=\"text-align: right;\">\n",
       "      <th></th>\n",
       "      <th>Customer ID</th>\n",
       "      <th>no_of_rides</th>\n",
       "      <th>Gender</th>\n",
       "      <th>Age</th>\n",
       "      <th>Income (USD/Month)</th>\n",
       "    </tr>\n",
       "  </thead>\n",
       "  <tbody>\n",
       "    <tr>\n",
       "      <th>0</th>\n",
       "      <td>8120</td>\n",
       "      <td>18</td>\n",
       "      <td>Female</td>\n",
       "      <td>59</td>\n",
       "      <td>16965</td>\n",
       "    </tr>\n",
       "    <tr>\n",
       "      <th>1</th>\n",
       "      <td>8595</td>\n",
       "      <td>17</td>\n",
       "      <td>Male</td>\n",
       "      <td>43</td>\n",
       "      <td>23719</td>\n",
       "    </tr>\n",
       "    <tr>\n",
       "      <th>2</th>\n",
       "      <td>7927</td>\n",
       "      <td>17</td>\n",
       "      <td>Male</td>\n",
       "      <td>62</td>\n",
       "      <td>14300</td>\n",
       "    </tr>\n",
       "    <tr>\n",
       "      <th>3</th>\n",
       "      <td>6159</td>\n",
       "      <td>17</td>\n",
       "      <td>Male</td>\n",
       "      <td>34</td>\n",
       "      <td>8668</td>\n",
       "    </tr>\n",
       "    <tr>\n",
       "      <th>4</th>\n",
       "      <td>7340</td>\n",
       "      <td>16</td>\n",
       "      <td>Male</td>\n",
       "      <td>26</td>\n",
       "      <td>18178</td>\n",
       "    </tr>\n",
       "    <tr>\n",
       "      <th>...</th>\n",
       "      <td>...</td>\n",
       "      <td>...</td>\n",
       "      <td>...</td>\n",
       "      <td>...</td>\n",
       "      <td>...</td>\n",
       "    </tr>\n",
       "    <tr>\n",
       "      <th>95</th>\n",
       "      <td>6341</td>\n",
       "      <td>12</td>\n",
       "      <td>Female</td>\n",
       "      <td>57</td>\n",
       "      <td>21127</td>\n",
       "    </tr>\n",
       "    <tr>\n",
       "      <th>96</th>\n",
       "      <td>7227</td>\n",
       "      <td>12</td>\n",
       "      <td>Male</td>\n",
       "      <td>38</td>\n",
       "      <td>14001</td>\n",
       "    </tr>\n",
       "    <tr>\n",
       "      <th>97</th>\n",
       "      <td>7353</td>\n",
       "      <td>12</td>\n",
       "      <td>Male</td>\n",
       "      <td>39</td>\n",
       "      <td>10111</td>\n",
       "    </tr>\n",
       "    <tr>\n",
       "      <th>98</th>\n",
       "      <td>6796</td>\n",
       "      <td>12</td>\n",
       "      <td>Male</td>\n",
       "      <td>20</td>\n",
       "      <td>11516</td>\n",
       "    </tr>\n",
       "    <tr>\n",
       "      <th>99</th>\n",
       "      <td>8480</td>\n",
       "      <td>12</td>\n",
       "      <td>Female</td>\n",
       "      <td>41</td>\n",
       "      <td>14726</td>\n",
       "    </tr>\n",
       "  </tbody>\n",
       "</table>\n",
       "<p>100 rows × 5 columns</p>\n",
       "</div>"
      ],
      "text/plain": [
       "    Customer ID  no_of_rides  Gender  Age  Income (USD/Month)\n",
       "0          8120           18  Female   59               16965\n",
       "1          8595           17    Male   43               23719\n",
       "2          7927           17    Male   62               14300\n",
       "3          6159           17    Male   34                8668\n",
       "4          7340           16    Male   26               18178\n",
       "..          ...          ...     ...  ...                 ...\n",
       "95         6341           12  Female   57               21127\n",
       "96         7227           12    Male   38               14001\n",
       "97         7353           12    Male   39               10111\n",
       "98         6796           12    Male   20               11516\n",
       "99         8480           12  Female   41               14726\n",
       "\n",
       "[100 rows x 5 columns]"
      ]
     },
     "execution_count": 149,
     "metadata": {},
     "output_type": "execute_result"
    }
   ],
   "source": [
    "pink_top100_cust_demo = pd.merge(pink_top100_cust, customerID_df, on='Customer ID')\n",
    "pink_top100_cust_demo"
   ]
  },
  {
   "cell_type": "code",
   "execution_count": 171,
   "metadata": {},
   "outputs": [
    {
     "data": {
      "text/plain": [
       "Male      59\n",
       "Female    41\n",
       "Name: Gender, dtype: int64"
      ]
     },
     "execution_count": 171,
     "metadata": {},
     "output_type": "execute_result"
    }
   ],
   "source": [
    "pink_top100_cust_demo['Gender'].value_counts()"
   ]
  },
  {
   "cell_type": "code",
   "execution_count": 172,
   "metadata": {},
   "outputs": [
    {
     "name": "stdout",
     "output_type": "stream",
     "text": [
      "2333\n",
      "34984\n"
     ]
    }
   ],
   "source": [
    "print(pink_top100_cust_demo['Income (USD/Month)'].min())\n",
    "print(pink_top100_cust_demo['Income (USD/Month)'].max())"
   ]
  },
  {
   "cell_type": "code",
   "execution_count": 150,
   "metadata": {},
   "outputs": [
    {
     "data": {
      "application/vnd.plotly.v1+json": {
       "config": {
        "plotlyServerURL": "https://plot.ly"
       },
       "data": [
        {
         "alignmentgroup": "True",
         "hovertemplate": "Gender=Female<br>Age=%{x}<br>Income (USD/Month)=%{y}<extra></extra>",
         "legendgroup": "Female",
         "marker": {
          "color": "#636efa",
          "pattern": {
           "shape": ""
          }
         },
         "name": "Female",
         "offsetgroup": "Female",
         "orientation": "v",
         "showlegend": true,
         "textposition": "auto",
         "type": "bar",
         "x": [
          59,
          26,
          38,
          25,
          22,
          52,
          25,
          38,
          21,
          20,
          33,
          49,
          25,
          21,
          23,
          27,
          33,
          30,
          43,
          45,
          22,
          20,
          26,
          29,
          21,
          48,
          27,
          22,
          20,
          23,
          27,
          26,
          23,
          65,
          51,
          19,
          64,
          25,
          42,
          57,
          41
         ],
         "xaxis": "x",
         "y": [
          16965,
          24284,
          2716,
          5237,
          13286,
          8764,
          9452,
          7106,
          18903,
          19907,
          2333,
          20884,
          3954,
          24943,
          30856,
          5129,
          3993,
          14903,
          4918,
          31520,
          34694,
          16809,
          16220,
          31354,
          30369,
          5704,
          2557,
          26172,
          4663,
          21984,
          13111,
          4860,
          10451,
          18014,
          23981,
          5247,
          7295,
          7756,
          27223,
          21127,
          14726
         ],
         "yaxis": "y"
        },
        {
         "alignmentgroup": "True",
         "hovertemplate": "Gender=Male<br>Age=%{x}<br>Income (USD/Month)=%{y}<extra></extra>",
         "legendgroup": "Male",
         "marker": {
          "color": "#EF553B",
          "pattern": {
           "shape": ""
          }
         },
         "name": "Male",
         "offsetgroup": "Male",
         "orientation": "v",
         "showlegend": true,
         "textposition": "auto",
         "type": "bar",
         "x": [
          43,
          62,
          34,
          26,
          27,
          65,
          19,
          18,
          22,
          62,
          40,
          57,
          25,
          26,
          26,
          37,
          29,
          58,
          53,
          23,
          26,
          32,
          22,
          52,
          26,
          27,
          21,
          36,
          20,
          39,
          58,
          24,
          29,
          27,
          33,
          45,
          42,
          24,
          40,
          18,
          26,
          52,
          38,
          18,
          40,
          38,
          21,
          49,
          38,
          50,
          32,
          19,
          37,
          34,
          22,
          43,
          38,
          39,
          20
         ],
         "xaxis": "x",
         "y": [
          23719,
          14300,
          8668,
          18178,
          30630,
          6099,
          5532,
          20117,
          14856,
          4909,
          6239,
          15815,
          19512,
          23137,
          23183,
          15515,
          16597,
          5844,
          33200,
          3031,
          2704,
          7788,
          34984,
          7219,
          17647,
          18927,
          2825,
          14876,
          18377,
          5999,
          4061,
          3240,
          18037,
          20976,
          4992,
          15568,
          6571,
          13413,
          16286,
          9471,
          24405,
          21930,
          4983,
          9266,
          22746,
          7066,
          9827,
          12746,
          20259,
          24501,
          5532,
          11338,
          10894,
          17561,
          15655,
          18844,
          14001,
          10111,
          11516
         ],
         "yaxis": "y"
        }
       ],
       "layout": {
        "barmode": "relative",
        "legend": {
         "title": {
          "text": "Gender"
         },
         "tracegroupgap": 0
        },
        "margin": {
         "t": 60
        },
        "template": {
         "data": {
          "bar": [
           {
            "error_x": {
             "color": "#2a3f5f"
            },
            "error_y": {
             "color": "#2a3f5f"
            },
            "marker": {
             "line": {
              "color": "#E5ECF6",
              "width": 0.5
             },
             "pattern": {
              "fillmode": "overlay",
              "size": 10,
              "solidity": 0.2
             }
            },
            "type": "bar"
           }
          ],
          "barpolar": [
           {
            "marker": {
             "line": {
              "color": "#E5ECF6",
              "width": 0.5
             },
             "pattern": {
              "fillmode": "overlay",
              "size": 10,
              "solidity": 0.2
             }
            },
            "type": "barpolar"
           }
          ],
          "carpet": [
           {
            "aaxis": {
             "endlinecolor": "#2a3f5f",
             "gridcolor": "white",
             "linecolor": "white",
             "minorgridcolor": "white",
             "startlinecolor": "#2a3f5f"
            },
            "baxis": {
             "endlinecolor": "#2a3f5f",
             "gridcolor": "white",
             "linecolor": "white",
             "minorgridcolor": "white",
             "startlinecolor": "#2a3f5f"
            },
            "type": "carpet"
           }
          ],
          "choropleth": [
           {
            "colorbar": {
             "outlinewidth": 0,
             "ticks": ""
            },
            "type": "choropleth"
           }
          ],
          "contour": [
           {
            "colorbar": {
             "outlinewidth": 0,
             "ticks": ""
            },
            "colorscale": [
             [
              0,
              "#0d0887"
             ],
             [
              0.1111111111111111,
              "#46039f"
             ],
             [
              0.2222222222222222,
              "#7201a8"
             ],
             [
              0.3333333333333333,
              "#9c179e"
             ],
             [
              0.4444444444444444,
              "#bd3786"
             ],
             [
              0.5555555555555556,
              "#d8576b"
             ],
             [
              0.6666666666666666,
              "#ed7953"
             ],
             [
              0.7777777777777778,
              "#fb9f3a"
             ],
             [
              0.8888888888888888,
              "#fdca26"
             ],
             [
              1,
              "#f0f921"
             ]
            ],
            "type": "contour"
           }
          ],
          "contourcarpet": [
           {
            "colorbar": {
             "outlinewidth": 0,
             "ticks": ""
            },
            "type": "contourcarpet"
           }
          ],
          "heatmap": [
           {
            "colorbar": {
             "outlinewidth": 0,
             "ticks": ""
            },
            "colorscale": [
             [
              0,
              "#0d0887"
             ],
             [
              0.1111111111111111,
              "#46039f"
             ],
             [
              0.2222222222222222,
              "#7201a8"
             ],
             [
              0.3333333333333333,
              "#9c179e"
             ],
             [
              0.4444444444444444,
              "#bd3786"
             ],
             [
              0.5555555555555556,
              "#d8576b"
             ],
             [
              0.6666666666666666,
              "#ed7953"
             ],
             [
              0.7777777777777778,
              "#fb9f3a"
             ],
             [
              0.8888888888888888,
              "#fdca26"
             ],
             [
              1,
              "#f0f921"
             ]
            ],
            "type": "heatmap"
           }
          ],
          "heatmapgl": [
           {
            "colorbar": {
             "outlinewidth": 0,
             "ticks": ""
            },
            "colorscale": [
             [
              0,
              "#0d0887"
             ],
             [
              0.1111111111111111,
              "#46039f"
             ],
             [
              0.2222222222222222,
              "#7201a8"
             ],
             [
              0.3333333333333333,
              "#9c179e"
             ],
             [
              0.4444444444444444,
              "#bd3786"
             ],
             [
              0.5555555555555556,
              "#d8576b"
             ],
             [
              0.6666666666666666,
              "#ed7953"
             ],
             [
              0.7777777777777778,
              "#fb9f3a"
             ],
             [
              0.8888888888888888,
              "#fdca26"
             ],
             [
              1,
              "#f0f921"
             ]
            ],
            "type": "heatmapgl"
           }
          ],
          "histogram": [
           {
            "marker": {
             "pattern": {
              "fillmode": "overlay",
              "size": 10,
              "solidity": 0.2
             }
            },
            "type": "histogram"
           }
          ],
          "histogram2d": [
           {
            "colorbar": {
             "outlinewidth": 0,
             "ticks": ""
            },
            "colorscale": [
             [
              0,
              "#0d0887"
             ],
             [
              0.1111111111111111,
              "#46039f"
             ],
             [
              0.2222222222222222,
              "#7201a8"
             ],
             [
              0.3333333333333333,
              "#9c179e"
             ],
             [
              0.4444444444444444,
              "#bd3786"
             ],
             [
              0.5555555555555556,
              "#d8576b"
             ],
             [
              0.6666666666666666,
              "#ed7953"
             ],
             [
              0.7777777777777778,
              "#fb9f3a"
             ],
             [
              0.8888888888888888,
              "#fdca26"
             ],
             [
              1,
              "#f0f921"
             ]
            ],
            "type": "histogram2d"
           }
          ],
          "histogram2dcontour": [
           {
            "colorbar": {
             "outlinewidth": 0,
             "ticks": ""
            },
            "colorscale": [
             [
              0,
              "#0d0887"
             ],
             [
              0.1111111111111111,
              "#46039f"
             ],
             [
              0.2222222222222222,
              "#7201a8"
             ],
             [
              0.3333333333333333,
              "#9c179e"
             ],
             [
              0.4444444444444444,
              "#bd3786"
             ],
             [
              0.5555555555555556,
              "#d8576b"
             ],
             [
              0.6666666666666666,
              "#ed7953"
             ],
             [
              0.7777777777777778,
              "#fb9f3a"
             ],
             [
              0.8888888888888888,
              "#fdca26"
             ],
             [
              1,
              "#f0f921"
             ]
            ],
            "type": "histogram2dcontour"
           }
          ],
          "mesh3d": [
           {
            "colorbar": {
             "outlinewidth": 0,
             "ticks": ""
            },
            "type": "mesh3d"
           }
          ],
          "parcoords": [
           {
            "line": {
             "colorbar": {
              "outlinewidth": 0,
              "ticks": ""
             }
            },
            "type": "parcoords"
           }
          ],
          "pie": [
           {
            "automargin": true,
            "type": "pie"
           }
          ],
          "scatter": [
           {
            "fillpattern": {
             "fillmode": "overlay",
             "size": 10,
             "solidity": 0.2
            },
            "type": "scatter"
           }
          ],
          "scatter3d": [
           {
            "line": {
             "colorbar": {
              "outlinewidth": 0,
              "ticks": ""
             }
            },
            "marker": {
             "colorbar": {
              "outlinewidth": 0,
              "ticks": ""
             }
            },
            "type": "scatter3d"
           }
          ],
          "scattercarpet": [
           {
            "marker": {
             "colorbar": {
              "outlinewidth": 0,
              "ticks": ""
             }
            },
            "type": "scattercarpet"
           }
          ],
          "scattergeo": [
           {
            "marker": {
             "colorbar": {
              "outlinewidth": 0,
              "ticks": ""
             }
            },
            "type": "scattergeo"
           }
          ],
          "scattergl": [
           {
            "marker": {
             "colorbar": {
              "outlinewidth": 0,
              "ticks": ""
             }
            },
            "type": "scattergl"
           }
          ],
          "scattermapbox": [
           {
            "marker": {
             "colorbar": {
              "outlinewidth": 0,
              "ticks": ""
             }
            },
            "type": "scattermapbox"
           }
          ],
          "scatterpolar": [
           {
            "marker": {
             "colorbar": {
              "outlinewidth": 0,
              "ticks": ""
             }
            },
            "type": "scatterpolar"
           }
          ],
          "scatterpolargl": [
           {
            "marker": {
             "colorbar": {
              "outlinewidth": 0,
              "ticks": ""
             }
            },
            "type": "scatterpolargl"
           }
          ],
          "scatterternary": [
           {
            "marker": {
             "colorbar": {
              "outlinewidth": 0,
              "ticks": ""
             }
            },
            "type": "scatterternary"
           }
          ],
          "surface": [
           {
            "colorbar": {
             "outlinewidth": 0,
             "ticks": ""
            },
            "colorscale": [
             [
              0,
              "#0d0887"
             ],
             [
              0.1111111111111111,
              "#46039f"
             ],
             [
              0.2222222222222222,
              "#7201a8"
             ],
             [
              0.3333333333333333,
              "#9c179e"
             ],
             [
              0.4444444444444444,
              "#bd3786"
             ],
             [
              0.5555555555555556,
              "#d8576b"
             ],
             [
              0.6666666666666666,
              "#ed7953"
             ],
             [
              0.7777777777777778,
              "#fb9f3a"
             ],
             [
              0.8888888888888888,
              "#fdca26"
             ],
             [
              1,
              "#f0f921"
             ]
            ],
            "type": "surface"
           }
          ],
          "table": [
           {
            "cells": {
             "fill": {
              "color": "#EBF0F8"
             },
             "line": {
              "color": "white"
             }
            },
            "header": {
             "fill": {
              "color": "#C8D4E3"
             },
             "line": {
              "color": "white"
             }
            },
            "type": "table"
           }
          ]
         },
         "layout": {
          "annotationdefaults": {
           "arrowcolor": "#2a3f5f",
           "arrowhead": 0,
           "arrowwidth": 1
          },
          "autotypenumbers": "strict",
          "coloraxis": {
           "colorbar": {
            "outlinewidth": 0,
            "ticks": ""
           }
          },
          "colorscale": {
           "diverging": [
            [
             0,
             "#8e0152"
            ],
            [
             0.1,
             "#c51b7d"
            ],
            [
             0.2,
             "#de77ae"
            ],
            [
             0.3,
             "#f1b6da"
            ],
            [
             0.4,
             "#fde0ef"
            ],
            [
             0.5,
             "#f7f7f7"
            ],
            [
             0.6,
             "#e6f5d0"
            ],
            [
             0.7,
             "#b8e186"
            ],
            [
             0.8,
             "#7fbc41"
            ],
            [
             0.9,
             "#4d9221"
            ],
            [
             1,
             "#276419"
            ]
           ],
           "sequential": [
            [
             0,
             "#0d0887"
            ],
            [
             0.1111111111111111,
             "#46039f"
            ],
            [
             0.2222222222222222,
             "#7201a8"
            ],
            [
             0.3333333333333333,
             "#9c179e"
            ],
            [
             0.4444444444444444,
             "#bd3786"
            ],
            [
             0.5555555555555556,
             "#d8576b"
            ],
            [
             0.6666666666666666,
             "#ed7953"
            ],
            [
             0.7777777777777778,
             "#fb9f3a"
            ],
            [
             0.8888888888888888,
             "#fdca26"
            ],
            [
             1,
             "#f0f921"
            ]
           ],
           "sequentialminus": [
            [
             0,
             "#0d0887"
            ],
            [
             0.1111111111111111,
             "#46039f"
            ],
            [
             0.2222222222222222,
             "#7201a8"
            ],
            [
             0.3333333333333333,
             "#9c179e"
            ],
            [
             0.4444444444444444,
             "#bd3786"
            ],
            [
             0.5555555555555556,
             "#d8576b"
            ],
            [
             0.6666666666666666,
             "#ed7953"
            ],
            [
             0.7777777777777778,
             "#fb9f3a"
            ],
            [
             0.8888888888888888,
             "#fdca26"
            ],
            [
             1,
             "#f0f921"
            ]
           ]
          },
          "colorway": [
           "#636efa",
           "#EF553B",
           "#00cc96",
           "#ab63fa",
           "#FFA15A",
           "#19d3f3",
           "#FF6692",
           "#B6E880",
           "#FF97FF",
           "#FECB52"
          ],
          "font": {
           "color": "#2a3f5f"
          },
          "geo": {
           "bgcolor": "white",
           "lakecolor": "white",
           "landcolor": "#E5ECF6",
           "showlakes": true,
           "showland": true,
           "subunitcolor": "white"
          },
          "hoverlabel": {
           "align": "left"
          },
          "hovermode": "closest",
          "mapbox": {
           "style": "light"
          },
          "paper_bgcolor": "white",
          "plot_bgcolor": "#E5ECF6",
          "polar": {
           "angularaxis": {
            "gridcolor": "white",
            "linecolor": "white",
            "ticks": ""
           },
           "bgcolor": "#E5ECF6",
           "radialaxis": {
            "gridcolor": "white",
            "linecolor": "white",
            "ticks": ""
           }
          },
          "scene": {
           "xaxis": {
            "backgroundcolor": "#E5ECF6",
            "gridcolor": "white",
            "gridwidth": 2,
            "linecolor": "white",
            "showbackground": true,
            "ticks": "",
            "zerolinecolor": "white"
           },
           "yaxis": {
            "backgroundcolor": "#E5ECF6",
            "gridcolor": "white",
            "gridwidth": 2,
            "linecolor": "white",
            "showbackground": true,
            "ticks": "",
            "zerolinecolor": "white"
           },
           "zaxis": {
            "backgroundcolor": "#E5ECF6",
            "gridcolor": "white",
            "gridwidth": 2,
            "linecolor": "white",
            "showbackground": true,
            "ticks": "",
            "zerolinecolor": "white"
           }
          },
          "shapedefaults": {
           "line": {
            "color": "#2a3f5f"
           }
          },
          "ternary": {
           "aaxis": {
            "gridcolor": "white",
            "linecolor": "white",
            "ticks": ""
           },
           "baxis": {
            "gridcolor": "white",
            "linecolor": "white",
            "ticks": ""
           },
           "bgcolor": "#E5ECF6",
           "caxis": {
            "gridcolor": "white",
            "linecolor": "white",
            "ticks": ""
           }
          },
          "title": {
           "x": 0.05
          },
          "xaxis": {
           "automargin": true,
           "gridcolor": "white",
           "linecolor": "white",
           "ticks": "",
           "title": {
            "standoff": 15
           },
           "zerolinecolor": "white",
           "zerolinewidth": 2
          },
          "yaxis": {
           "automargin": true,
           "gridcolor": "white",
           "linecolor": "white",
           "ticks": "",
           "title": {
            "standoff": 15
           },
           "zerolinecolor": "white",
           "zerolinewidth": 2
          }
         }
        },
        "xaxis": {
         "anchor": "y",
         "domain": [
          0,
          1
         ],
         "title": {
          "text": "Age"
         }
        },
        "yaxis": {
         "anchor": "x",
         "domain": [
          0,
          1
         ],
         "title": {
          "text": "Income (USD/Month)"
         }
        }
       }
      },
      "text/html": [
       "<div>                            <div id=\"7a4c6148-9e48-4b5a-8558-958e7d7e2823\" class=\"plotly-graph-div\" style=\"height:525px; width:100%;\"></div>            <script type=\"text/javascript\">                require([\"plotly\"], function(Plotly) {                    window.PLOTLYENV=window.PLOTLYENV || {};                                    if (document.getElementById(\"7a4c6148-9e48-4b5a-8558-958e7d7e2823\")) {                    Plotly.newPlot(                        \"7a4c6148-9e48-4b5a-8558-958e7d7e2823\",                        [{\"alignmentgroup\":\"True\",\"hovertemplate\":\"Gender=Female<br>Age=%{x}<br>Income (USD/Month)=%{y}<extra></extra>\",\"legendgroup\":\"Female\",\"marker\":{\"color\":\"#636efa\",\"pattern\":{\"shape\":\"\"}},\"name\":\"Female\",\"offsetgroup\":\"Female\",\"orientation\":\"v\",\"showlegend\":true,\"textposition\":\"auto\",\"x\":[59,26,38,25,22,52,25,38,21,20,33,49,25,21,23,27,33,30,43,45,22,20,26,29,21,48,27,22,20,23,27,26,23,65,51,19,64,25,42,57,41],\"xaxis\":\"x\",\"y\":[16965,24284,2716,5237,13286,8764,9452,7106,18903,19907,2333,20884,3954,24943,30856,5129,3993,14903,4918,31520,34694,16809,16220,31354,30369,5704,2557,26172,4663,21984,13111,4860,10451,18014,23981,5247,7295,7756,27223,21127,14726],\"yaxis\":\"y\",\"type\":\"bar\"},{\"alignmentgroup\":\"True\",\"hovertemplate\":\"Gender=Male<br>Age=%{x}<br>Income (USD/Month)=%{y}<extra></extra>\",\"legendgroup\":\"Male\",\"marker\":{\"color\":\"#EF553B\",\"pattern\":{\"shape\":\"\"}},\"name\":\"Male\",\"offsetgroup\":\"Male\",\"orientation\":\"v\",\"showlegend\":true,\"textposition\":\"auto\",\"x\":[43,62,34,26,27,65,19,18,22,62,40,57,25,26,26,37,29,58,53,23,26,32,22,52,26,27,21,36,20,39,58,24,29,27,33,45,42,24,40,18,26,52,38,18,40,38,21,49,38,50,32,19,37,34,22,43,38,39,20],\"xaxis\":\"x\",\"y\":[23719,14300,8668,18178,30630,6099,5532,20117,14856,4909,6239,15815,19512,23137,23183,15515,16597,5844,33200,3031,2704,7788,34984,7219,17647,18927,2825,14876,18377,5999,4061,3240,18037,20976,4992,15568,6571,13413,16286,9471,24405,21930,4983,9266,22746,7066,9827,12746,20259,24501,5532,11338,10894,17561,15655,18844,14001,10111,11516],\"yaxis\":\"y\",\"type\":\"bar\"}],                        {\"template\":{\"data\":{\"histogram2dcontour\":[{\"type\":\"histogram2dcontour\",\"colorbar\":{\"outlinewidth\":0,\"ticks\":\"\"},\"colorscale\":[[0.0,\"#0d0887\"],[0.1111111111111111,\"#46039f\"],[0.2222222222222222,\"#7201a8\"],[0.3333333333333333,\"#9c179e\"],[0.4444444444444444,\"#bd3786\"],[0.5555555555555556,\"#d8576b\"],[0.6666666666666666,\"#ed7953\"],[0.7777777777777778,\"#fb9f3a\"],[0.8888888888888888,\"#fdca26\"],[1.0,\"#f0f921\"]]}],\"choropleth\":[{\"type\":\"choropleth\",\"colorbar\":{\"outlinewidth\":0,\"ticks\":\"\"}}],\"histogram2d\":[{\"type\":\"histogram2d\",\"colorbar\":{\"outlinewidth\":0,\"ticks\":\"\"},\"colorscale\":[[0.0,\"#0d0887\"],[0.1111111111111111,\"#46039f\"],[0.2222222222222222,\"#7201a8\"],[0.3333333333333333,\"#9c179e\"],[0.4444444444444444,\"#bd3786\"],[0.5555555555555556,\"#d8576b\"],[0.6666666666666666,\"#ed7953\"],[0.7777777777777778,\"#fb9f3a\"],[0.8888888888888888,\"#fdca26\"],[1.0,\"#f0f921\"]]}],\"heatmap\":[{\"type\":\"heatmap\",\"colorbar\":{\"outlinewidth\":0,\"ticks\":\"\"},\"colorscale\":[[0.0,\"#0d0887\"],[0.1111111111111111,\"#46039f\"],[0.2222222222222222,\"#7201a8\"],[0.3333333333333333,\"#9c179e\"],[0.4444444444444444,\"#bd3786\"],[0.5555555555555556,\"#d8576b\"],[0.6666666666666666,\"#ed7953\"],[0.7777777777777778,\"#fb9f3a\"],[0.8888888888888888,\"#fdca26\"],[1.0,\"#f0f921\"]]}],\"heatmapgl\":[{\"type\":\"heatmapgl\",\"colorbar\":{\"outlinewidth\":0,\"ticks\":\"\"},\"colorscale\":[[0.0,\"#0d0887\"],[0.1111111111111111,\"#46039f\"],[0.2222222222222222,\"#7201a8\"],[0.3333333333333333,\"#9c179e\"],[0.4444444444444444,\"#bd3786\"],[0.5555555555555556,\"#d8576b\"],[0.6666666666666666,\"#ed7953\"],[0.7777777777777778,\"#fb9f3a\"],[0.8888888888888888,\"#fdca26\"],[1.0,\"#f0f921\"]]}],\"contourcarpet\":[{\"type\":\"contourcarpet\",\"colorbar\":{\"outlinewidth\":0,\"ticks\":\"\"}}],\"contour\":[{\"type\":\"contour\",\"colorbar\":{\"outlinewidth\":0,\"ticks\":\"\"},\"colorscale\":[[0.0,\"#0d0887\"],[0.1111111111111111,\"#46039f\"],[0.2222222222222222,\"#7201a8\"],[0.3333333333333333,\"#9c179e\"],[0.4444444444444444,\"#bd3786\"],[0.5555555555555556,\"#d8576b\"],[0.6666666666666666,\"#ed7953\"],[0.7777777777777778,\"#fb9f3a\"],[0.8888888888888888,\"#fdca26\"],[1.0,\"#f0f921\"]]}],\"surface\":[{\"type\":\"surface\",\"colorbar\":{\"outlinewidth\":0,\"ticks\":\"\"},\"colorscale\":[[0.0,\"#0d0887\"],[0.1111111111111111,\"#46039f\"],[0.2222222222222222,\"#7201a8\"],[0.3333333333333333,\"#9c179e\"],[0.4444444444444444,\"#bd3786\"],[0.5555555555555556,\"#d8576b\"],[0.6666666666666666,\"#ed7953\"],[0.7777777777777778,\"#fb9f3a\"],[0.8888888888888888,\"#fdca26\"],[1.0,\"#f0f921\"]]}],\"mesh3d\":[{\"type\":\"mesh3d\",\"colorbar\":{\"outlinewidth\":0,\"ticks\":\"\"}}],\"scatter\":[{\"fillpattern\":{\"fillmode\":\"overlay\",\"size\":10,\"solidity\":0.2},\"type\":\"scatter\"}],\"parcoords\":[{\"type\":\"parcoords\",\"line\":{\"colorbar\":{\"outlinewidth\":0,\"ticks\":\"\"}}}],\"scatterpolargl\":[{\"type\":\"scatterpolargl\",\"marker\":{\"colorbar\":{\"outlinewidth\":0,\"ticks\":\"\"}}}],\"bar\":[{\"error_x\":{\"color\":\"#2a3f5f\"},\"error_y\":{\"color\":\"#2a3f5f\"},\"marker\":{\"line\":{\"color\":\"#E5ECF6\",\"width\":0.5},\"pattern\":{\"fillmode\":\"overlay\",\"size\":10,\"solidity\":0.2}},\"type\":\"bar\"}],\"scattergeo\":[{\"type\":\"scattergeo\",\"marker\":{\"colorbar\":{\"outlinewidth\":0,\"ticks\":\"\"}}}],\"scatterpolar\":[{\"type\":\"scatterpolar\",\"marker\":{\"colorbar\":{\"outlinewidth\":0,\"ticks\":\"\"}}}],\"histogram\":[{\"marker\":{\"pattern\":{\"fillmode\":\"overlay\",\"size\":10,\"solidity\":0.2}},\"type\":\"histogram\"}],\"scattergl\":[{\"type\":\"scattergl\",\"marker\":{\"colorbar\":{\"outlinewidth\":0,\"ticks\":\"\"}}}],\"scatter3d\":[{\"type\":\"scatter3d\",\"line\":{\"colorbar\":{\"outlinewidth\":0,\"ticks\":\"\"}},\"marker\":{\"colorbar\":{\"outlinewidth\":0,\"ticks\":\"\"}}}],\"scattermapbox\":[{\"type\":\"scattermapbox\",\"marker\":{\"colorbar\":{\"outlinewidth\":0,\"ticks\":\"\"}}}],\"scatterternary\":[{\"type\":\"scatterternary\",\"marker\":{\"colorbar\":{\"outlinewidth\":0,\"ticks\":\"\"}}}],\"scattercarpet\":[{\"type\":\"scattercarpet\",\"marker\":{\"colorbar\":{\"outlinewidth\":0,\"ticks\":\"\"}}}],\"carpet\":[{\"aaxis\":{\"endlinecolor\":\"#2a3f5f\",\"gridcolor\":\"white\",\"linecolor\":\"white\",\"minorgridcolor\":\"white\",\"startlinecolor\":\"#2a3f5f\"},\"baxis\":{\"endlinecolor\":\"#2a3f5f\",\"gridcolor\":\"white\",\"linecolor\":\"white\",\"minorgridcolor\":\"white\",\"startlinecolor\":\"#2a3f5f\"},\"type\":\"carpet\"}],\"table\":[{\"cells\":{\"fill\":{\"color\":\"#EBF0F8\"},\"line\":{\"color\":\"white\"}},\"header\":{\"fill\":{\"color\":\"#C8D4E3\"},\"line\":{\"color\":\"white\"}},\"type\":\"table\"}],\"barpolar\":[{\"marker\":{\"line\":{\"color\":\"#E5ECF6\",\"width\":0.5},\"pattern\":{\"fillmode\":\"overlay\",\"size\":10,\"solidity\":0.2}},\"type\":\"barpolar\"}],\"pie\":[{\"automargin\":true,\"type\":\"pie\"}]},\"layout\":{\"autotypenumbers\":\"strict\",\"colorway\":[\"#636efa\",\"#EF553B\",\"#00cc96\",\"#ab63fa\",\"#FFA15A\",\"#19d3f3\",\"#FF6692\",\"#B6E880\",\"#FF97FF\",\"#FECB52\"],\"font\":{\"color\":\"#2a3f5f\"},\"hovermode\":\"closest\",\"hoverlabel\":{\"align\":\"left\"},\"paper_bgcolor\":\"white\",\"plot_bgcolor\":\"#E5ECF6\",\"polar\":{\"bgcolor\":\"#E5ECF6\",\"angularaxis\":{\"gridcolor\":\"white\",\"linecolor\":\"white\",\"ticks\":\"\"},\"radialaxis\":{\"gridcolor\":\"white\",\"linecolor\":\"white\",\"ticks\":\"\"}},\"ternary\":{\"bgcolor\":\"#E5ECF6\",\"aaxis\":{\"gridcolor\":\"white\",\"linecolor\":\"white\",\"ticks\":\"\"},\"baxis\":{\"gridcolor\":\"white\",\"linecolor\":\"white\",\"ticks\":\"\"},\"caxis\":{\"gridcolor\":\"white\",\"linecolor\":\"white\",\"ticks\":\"\"}},\"coloraxis\":{\"colorbar\":{\"outlinewidth\":0,\"ticks\":\"\"}},\"colorscale\":{\"sequential\":[[0.0,\"#0d0887\"],[0.1111111111111111,\"#46039f\"],[0.2222222222222222,\"#7201a8\"],[0.3333333333333333,\"#9c179e\"],[0.4444444444444444,\"#bd3786\"],[0.5555555555555556,\"#d8576b\"],[0.6666666666666666,\"#ed7953\"],[0.7777777777777778,\"#fb9f3a\"],[0.8888888888888888,\"#fdca26\"],[1.0,\"#f0f921\"]],\"sequentialminus\":[[0.0,\"#0d0887\"],[0.1111111111111111,\"#46039f\"],[0.2222222222222222,\"#7201a8\"],[0.3333333333333333,\"#9c179e\"],[0.4444444444444444,\"#bd3786\"],[0.5555555555555556,\"#d8576b\"],[0.6666666666666666,\"#ed7953\"],[0.7777777777777778,\"#fb9f3a\"],[0.8888888888888888,\"#fdca26\"],[1.0,\"#f0f921\"]],\"diverging\":[[0,\"#8e0152\"],[0.1,\"#c51b7d\"],[0.2,\"#de77ae\"],[0.3,\"#f1b6da\"],[0.4,\"#fde0ef\"],[0.5,\"#f7f7f7\"],[0.6,\"#e6f5d0\"],[0.7,\"#b8e186\"],[0.8,\"#7fbc41\"],[0.9,\"#4d9221\"],[1,\"#276419\"]]},\"xaxis\":{\"gridcolor\":\"white\",\"linecolor\":\"white\",\"ticks\":\"\",\"title\":{\"standoff\":15},\"zerolinecolor\":\"white\",\"automargin\":true,\"zerolinewidth\":2},\"yaxis\":{\"gridcolor\":\"white\",\"linecolor\":\"white\",\"ticks\":\"\",\"title\":{\"standoff\":15},\"zerolinecolor\":\"white\",\"automargin\":true,\"zerolinewidth\":2},\"scene\":{\"xaxis\":{\"backgroundcolor\":\"#E5ECF6\",\"gridcolor\":\"white\",\"linecolor\":\"white\",\"showbackground\":true,\"ticks\":\"\",\"zerolinecolor\":\"white\",\"gridwidth\":2},\"yaxis\":{\"backgroundcolor\":\"#E5ECF6\",\"gridcolor\":\"white\",\"linecolor\":\"white\",\"showbackground\":true,\"ticks\":\"\",\"zerolinecolor\":\"white\",\"gridwidth\":2},\"zaxis\":{\"backgroundcolor\":\"#E5ECF6\",\"gridcolor\":\"white\",\"linecolor\":\"white\",\"showbackground\":true,\"ticks\":\"\",\"zerolinecolor\":\"white\",\"gridwidth\":2}},\"shapedefaults\":{\"line\":{\"color\":\"#2a3f5f\"}},\"annotationdefaults\":{\"arrowcolor\":\"#2a3f5f\",\"arrowhead\":0,\"arrowwidth\":1},\"geo\":{\"bgcolor\":\"white\",\"landcolor\":\"#E5ECF6\",\"subunitcolor\":\"white\",\"showland\":true,\"showlakes\":true,\"lakecolor\":\"white\"},\"title\":{\"x\":0.05},\"mapbox\":{\"style\":\"light\"}}},\"xaxis\":{\"anchor\":\"y\",\"domain\":[0.0,1.0],\"title\":{\"text\":\"Age\"}},\"yaxis\":{\"anchor\":\"x\",\"domain\":[0.0,1.0],\"title\":{\"text\":\"Income (USD/Month)\"}},\"legend\":{\"title\":{\"text\":\"Gender\"},\"tracegroupgap\":0},\"margin\":{\"t\":60},\"barmode\":\"relative\"},                        {\"responsive\": true}                    ).then(function(){\n",
       "                            \n",
       "var gd = document.getElementById('7a4c6148-9e48-4b5a-8558-958e7d7e2823');\n",
       "var x = new MutationObserver(function (mutations, observer) {{\n",
       "        var display = window.getComputedStyle(gd).display;\n",
       "        if (!display || display === 'none') {{\n",
       "            console.log([gd, 'removed!']);\n",
       "            Plotly.purge(gd);\n",
       "            observer.disconnect();\n",
       "        }}\n",
       "}});\n",
       "\n",
       "// Listen for the removal of the full notebook cells\n",
       "var notebookContainer = gd.closest('#notebook-container');\n",
       "if (notebookContainer) {{\n",
       "    x.observe(notebookContainer, {childList: true});\n",
       "}}\n",
       "\n",
       "// Listen for the clearing of the current output cell\n",
       "var outputEl = gd.closest('.output');\n",
       "if (outputEl) {{\n",
       "    x.observe(outputEl, {childList: true});\n",
       "}}\n",
       "\n",
       "                        })                };                });            </script>        </div>"
      ]
     },
     "metadata": {},
     "output_type": "display_data"
    },
    {
     "data": {
      "text/plain": [
       "<Figure size 1080x432 with 0 Axes>"
      ]
     },
     "metadata": {},
     "output_type": "display_data"
    }
   ],
   "source": [
    "plt.figure(figsize=(15,6))\n",
    "py.bar(x='Age', y = 'Income (USD/Month)', data_frame=pink_top100_cust_demo, color='Gender')"
   ]
  },
  {
   "cell_type": "code",
   "execution_count": 151,
   "metadata": {},
   "outputs": [
    {
     "data": {
      "text/html": [
       "<div>\n",
       "<style scoped>\n",
       "    .dataframe tbody tr th:only-of-type {\n",
       "        vertical-align: middle;\n",
       "    }\n",
       "\n",
       "    .dataframe tbody tr th {\n",
       "        vertical-align: top;\n",
       "    }\n",
       "\n",
       "    .dataframe thead th {\n",
       "        text-align: right;\n",
       "    }\n",
       "</style>\n",
       "<table border=\"1\" class=\"dataframe\">\n",
       "  <thead>\n",
       "    <tr style=\"text-align: right;\">\n",
       "      <th></th>\n",
       "      <th>Customer ID</th>\n",
       "      <th>no_of_rides</th>\n",
       "    </tr>\n",
       "  </thead>\n",
       "  <tbody>\n",
       "    <tr>\n",
       "      <th>0</th>\n",
       "      <td>494</td>\n",
       "      <td>47</td>\n",
       "    </tr>\n",
       "    <tr>\n",
       "      <th>1</th>\n",
       "      <td>1803</td>\n",
       "      <td>47</td>\n",
       "    </tr>\n",
       "    <tr>\n",
       "      <th>2</th>\n",
       "      <td>1360</td>\n",
       "      <td>47</td>\n",
       "    </tr>\n",
       "    <tr>\n",
       "      <th>3</th>\n",
       "      <td>636</td>\n",
       "      <td>46</td>\n",
       "    </tr>\n",
       "    <tr>\n",
       "      <th>4</th>\n",
       "      <td>126</td>\n",
       "      <td>45</td>\n",
       "    </tr>\n",
       "    <tr>\n",
       "      <th>...</th>\n",
       "      <td>...</td>\n",
       "      <td>...</td>\n",
       "    </tr>\n",
       "    <tr>\n",
       "      <th>95</th>\n",
       "      <td>2131</td>\n",
       "      <td>38</td>\n",
       "    </tr>\n",
       "    <tr>\n",
       "      <th>96</th>\n",
       "      <td>444</td>\n",
       "      <td>38</td>\n",
       "    </tr>\n",
       "    <tr>\n",
       "      <th>97</th>\n",
       "      <td>1305</td>\n",
       "      <td>38</td>\n",
       "    </tr>\n",
       "    <tr>\n",
       "      <th>98</th>\n",
       "      <td>1766</td>\n",
       "      <td>38</td>\n",
       "    </tr>\n",
       "    <tr>\n",
       "      <th>99</th>\n",
       "      <td>2844</td>\n",
       "      <td>38</td>\n",
       "    </tr>\n",
       "  </tbody>\n",
       "</table>\n",
       "<p>100 rows × 2 columns</p>\n",
       "</div>"
      ],
      "text/plain": [
       "    Customer ID  no_of_rides\n",
       "0           494           47\n",
       "1          1803           47\n",
       "2          1360           47\n",
       "3           636           46\n",
       "4           126           45\n",
       "..          ...          ...\n",
       "95         2131           38\n",
       "96          444           38\n",
       "97         1305           38\n",
       "98         1766           38\n",
       "99         2844           38\n",
       "\n",
       "[100 rows x 2 columns]"
      ]
     },
     "execution_count": 151,
     "metadata": {},
     "output_type": "execute_result"
    }
   ],
   "source": [
    "yellow_top100_cust = yellowcab_cust['Customer ID'].value_counts().sort_values(ascending=False).head(100).reset_index()\n",
    "yellow_top100_cust.columns = ['Customer ID','no_of_rides']\n",
    "yellow_top100_cust"
   ]
  },
  {
   "cell_type": "code",
   "execution_count": 152,
   "metadata": {},
   "outputs": [
    {
     "data": {
      "text/html": [
       "<div>\n",
       "<style scoped>\n",
       "    .dataframe tbody tr th:only-of-type {\n",
       "        vertical-align: middle;\n",
       "    }\n",
       "\n",
       "    .dataframe tbody tr th {\n",
       "        vertical-align: top;\n",
       "    }\n",
       "\n",
       "    .dataframe thead th {\n",
       "        text-align: right;\n",
       "    }\n",
       "</style>\n",
       "<table border=\"1\" class=\"dataframe\">\n",
       "  <thead>\n",
       "    <tr style=\"text-align: right;\">\n",
       "      <th></th>\n",
       "      <th>Customer ID</th>\n",
       "      <th>no_of_rides</th>\n",
       "      <th>Gender</th>\n",
       "      <th>Age</th>\n",
       "      <th>Income (USD/Month)</th>\n",
       "    </tr>\n",
       "  </thead>\n",
       "  <tbody>\n",
       "    <tr>\n",
       "      <th>0</th>\n",
       "      <td>494</td>\n",
       "      <td>47</td>\n",
       "      <td>Male</td>\n",
       "      <td>18</td>\n",
       "      <td>18616</td>\n",
       "    </tr>\n",
       "    <tr>\n",
       "      <th>1</th>\n",
       "      <td>1803</td>\n",
       "      <td>47</td>\n",
       "      <td>Male</td>\n",
       "      <td>38</td>\n",
       "      <td>19204</td>\n",
       "    </tr>\n",
       "    <tr>\n",
       "      <th>2</th>\n",
       "      <td>1360</td>\n",
       "      <td>47</td>\n",
       "      <td>Male</td>\n",
       "      <td>36</td>\n",
       "      <td>12457</td>\n",
       "    </tr>\n",
       "    <tr>\n",
       "      <th>3</th>\n",
       "      <td>636</td>\n",
       "      <td>46</td>\n",
       "      <td>Male</td>\n",
       "      <td>52</td>\n",
       "      <td>9797</td>\n",
       "    </tr>\n",
       "    <tr>\n",
       "      <th>4</th>\n",
       "      <td>126</td>\n",
       "      <td>45</td>\n",
       "      <td>Female</td>\n",
       "      <td>18</td>\n",
       "      <td>10637</td>\n",
       "    </tr>\n",
       "    <tr>\n",
       "      <th>...</th>\n",
       "      <td>...</td>\n",
       "      <td>...</td>\n",
       "      <td>...</td>\n",
       "      <td>...</td>\n",
       "      <td>...</td>\n",
       "    </tr>\n",
       "    <tr>\n",
       "      <th>95</th>\n",
       "      <td>2131</td>\n",
       "      <td>38</td>\n",
       "      <td>Male</td>\n",
       "      <td>31</td>\n",
       "      <td>5383</td>\n",
       "    </tr>\n",
       "    <tr>\n",
       "      <th>96</th>\n",
       "      <td>444</td>\n",
       "      <td>38</td>\n",
       "      <td>Female</td>\n",
       "      <td>57</td>\n",
       "      <td>22015</td>\n",
       "    </tr>\n",
       "    <tr>\n",
       "      <th>97</th>\n",
       "      <td>1305</td>\n",
       "      <td>38</td>\n",
       "      <td>Male</td>\n",
       "      <td>27</td>\n",
       "      <td>2750</td>\n",
       "    </tr>\n",
       "    <tr>\n",
       "      <th>98</th>\n",
       "      <td>1766</td>\n",
       "      <td>38</td>\n",
       "      <td>Male</td>\n",
       "      <td>35</td>\n",
       "      <td>24334</td>\n",
       "    </tr>\n",
       "    <tr>\n",
       "      <th>99</th>\n",
       "      <td>2844</td>\n",
       "      <td>38</td>\n",
       "      <td>Female</td>\n",
       "      <td>30</td>\n",
       "      <td>5315</td>\n",
       "    </tr>\n",
       "  </tbody>\n",
       "</table>\n",
       "<p>100 rows × 5 columns</p>\n",
       "</div>"
      ],
      "text/plain": [
       "    Customer ID  no_of_rides  Gender  Age  Income (USD/Month)\n",
       "0           494           47    Male   18               18616\n",
       "1          1803           47    Male   38               19204\n",
       "2          1360           47    Male   36               12457\n",
       "3           636           46    Male   52                9797\n",
       "4           126           45  Female   18               10637\n",
       "..          ...          ...     ...  ...                 ...\n",
       "95         2131           38    Male   31                5383\n",
       "96          444           38  Female   57               22015\n",
       "97         1305           38    Male   27                2750\n",
       "98         1766           38    Male   35               24334\n",
       "99         2844           38  Female   30                5315\n",
       "\n",
       "[100 rows x 5 columns]"
      ]
     },
     "execution_count": 152,
     "metadata": {},
     "output_type": "execute_result"
    }
   ],
   "source": [
    "yellow_top100_cust_demo = pd.merge(yellow_top100_cust, customerID_df, on='Customer ID')\n",
    "yellow_top100_cust_demo"
   ]
  },
  {
   "cell_type": "code",
   "execution_count": 170,
   "metadata": {},
   "outputs": [
    {
     "data": {
      "text/plain": [
       "Male      50\n",
       "Female    50\n",
       "Name: Gender, dtype: int64"
      ]
     },
     "execution_count": 170,
     "metadata": {},
     "output_type": "execute_result"
    }
   ],
   "source": [
    "yellow_top100_cust_demo['Gender'].value_counts()"
   ]
  },
  {
   "cell_type": "code",
   "execution_count": 173,
   "metadata": {},
   "outputs": [
    {
     "name": "stdout",
     "output_type": "stream",
     "text": [
      "2340\n",
      "34953\n"
     ]
    }
   ],
   "source": [
    "print(yellow_top100_cust_demo['Income (USD/Month)'].min())\n",
    "print(yellow_top100_cust_demo['Income (USD/Month)'].max())"
   ]
  },
  {
   "cell_type": "code",
   "execution_count": 153,
   "metadata": {},
   "outputs": [
    {
     "data": {
      "application/vnd.plotly.v1+json": {
       "config": {
        "plotlyServerURL": "https://plot.ly"
       },
       "data": [
        {
         "alignmentgroup": "True",
         "hovertemplate": "Gender=Male<br>Age=%{x}<br>Income (USD/Month)=%{y}<extra></extra>",
         "legendgroup": "Male",
         "marker": {
          "color": "#636efa",
          "pattern": {
           "shape": ""
          }
         },
         "name": "Male",
         "offsetgroup": "Male",
         "orientation": "v",
         "showlegend": true,
         "textposition": "auto",
         "type": "bar",
         "x": [
          18,
          38,
          36,
          52,
          29,
          38,
          61,
          23,
          20,
          35,
          26,
          26,
          21,
          42,
          32,
          44,
          31,
          40,
          65,
          29,
          25,
          34,
          64,
          32,
          20,
          58,
          33,
          58,
          22,
          62,
          29,
          29,
          32,
          25,
          27,
          31,
          21,
          47,
          61,
          28,
          55,
          40,
          21,
          27,
          21,
          20,
          23,
          31,
          27,
          35
         ],
         "xaxis": "x",
         "y": [
          18616,
          19204,
          12457,
          9797,
          6941,
          7266,
          18690,
          10393,
          16895,
          16738,
          5460,
          20862,
          4195,
          18270,
          28556,
          14989,
          19256,
          29485,
          6135,
          23829,
          23689,
          24345,
          11272,
          18225,
          34613,
          13097,
          20886,
          20155,
          8899,
          12093,
          18205,
          10114,
          9788,
          8800,
          16808,
          16289,
          4154,
          14908,
          20076,
          28689,
          27962,
          19030,
          31912,
          3199,
          26143,
          32163,
          12716,
          5383,
          2750,
          24334
         ],
         "yaxis": "y"
        },
        {
         "alignmentgroup": "True",
         "hovertemplate": "Gender=Female<br>Age=%{x}<br>Income (USD/Month)=%{y}<extra></extra>",
         "legendgroup": "Female",
         "marker": {
          "color": "#EF553B",
          "pattern": {
           "shape": ""
          }
         },
         "name": "Female",
         "offsetgroup": "Female",
         "orientation": "v",
         "showlegend": true,
         "textposition": "auto",
         "type": "bar",
         "x": [
          18,
          60,
          20,
          65,
          54,
          38,
          21,
          22,
          32,
          48,
          29,
          27,
          21,
          44,
          24,
          26,
          60,
          28,
          27,
          27,
          37,
          27,
          36,
          19,
          20,
          20,
          27,
          34,
          43,
          48,
          20,
          29,
          23,
          36,
          20,
          49,
          27,
          19,
          19,
          31,
          60,
          54,
          63,
          45,
          62,
          29,
          50,
          33,
          57,
          30
         ],
         "xaxis": "x",
         "y": [
          10637,
          6147,
          34953,
          18700,
          2340,
          11293,
          12800,
          23940,
          15630,
          6987,
          2637,
          22635,
          9417,
          19642,
          29486,
          3589,
          22931,
          15367,
          4451,
          12968,
          18943,
          2630,
          5718,
          16166,
          13020,
          28649,
          13038,
          10062,
          13829,
          21401,
          8172,
          21149,
          13749,
          12567,
          8169,
          29659,
          8509,
          21506,
          8711,
          3077,
          6881,
          22201,
          24268,
          3865,
          19725,
          17234,
          18151,
          4410,
          22015,
          5315
         ],
         "yaxis": "y"
        }
       ],
       "layout": {
        "barmode": "relative",
        "legend": {
         "title": {
          "text": "Gender"
         },
         "tracegroupgap": 0
        },
        "margin": {
         "t": 60
        },
        "template": {
         "data": {
          "bar": [
           {
            "error_x": {
             "color": "#2a3f5f"
            },
            "error_y": {
             "color": "#2a3f5f"
            },
            "marker": {
             "line": {
              "color": "#E5ECF6",
              "width": 0.5
             },
             "pattern": {
              "fillmode": "overlay",
              "size": 10,
              "solidity": 0.2
             }
            },
            "type": "bar"
           }
          ],
          "barpolar": [
           {
            "marker": {
             "line": {
              "color": "#E5ECF6",
              "width": 0.5
             },
             "pattern": {
              "fillmode": "overlay",
              "size": 10,
              "solidity": 0.2
             }
            },
            "type": "barpolar"
           }
          ],
          "carpet": [
           {
            "aaxis": {
             "endlinecolor": "#2a3f5f",
             "gridcolor": "white",
             "linecolor": "white",
             "minorgridcolor": "white",
             "startlinecolor": "#2a3f5f"
            },
            "baxis": {
             "endlinecolor": "#2a3f5f",
             "gridcolor": "white",
             "linecolor": "white",
             "minorgridcolor": "white",
             "startlinecolor": "#2a3f5f"
            },
            "type": "carpet"
           }
          ],
          "choropleth": [
           {
            "colorbar": {
             "outlinewidth": 0,
             "ticks": ""
            },
            "type": "choropleth"
           }
          ],
          "contour": [
           {
            "colorbar": {
             "outlinewidth": 0,
             "ticks": ""
            },
            "colorscale": [
             [
              0,
              "#0d0887"
             ],
             [
              0.1111111111111111,
              "#46039f"
             ],
             [
              0.2222222222222222,
              "#7201a8"
             ],
             [
              0.3333333333333333,
              "#9c179e"
             ],
             [
              0.4444444444444444,
              "#bd3786"
             ],
             [
              0.5555555555555556,
              "#d8576b"
             ],
             [
              0.6666666666666666,
              "#ed7953"
             ],
             [
              0.7777777777777778,
              "#fb9f3a"
             ],
             [
              0.8888888888888888,
              "#fdca26"
             ],
             [
              1,
              "#f0f921"
             ]
            ],
            "type": "contour"
           }
          ],
          "contourcarpet": [
           {
            "colorbar": {
             "outlinewidth": 0,
             "ticks": ""
            },
            "type": "contourcarpet"
           }
          ],
          "heatmap": [
           {
            "colorbar": {
             "outlinewidth": 0,
             "ticks": ""
            },
            "colorscale": [
             [
              0,
              "#0d0887"
             ],
             [
              0.1111111111111111,
              "#46039f"
             ],
             [
              0.2222222222222222,
              "#7201a8"
             ],
             [
              0.3333333333333333,
              "#9c179e"
             ],
             [
              0.4444444444444444,
              "#bd3786"
             ],
             [
              0.5555555555555556,
              "#d8576b"
             ],
             [
              0.6666666666666666,
              "#ed7953"
             ],
             [
              0.7777777777777778,
              "#fb9f3a"
             ],
             [
              0.8888888888888888,
              "#fdca26"
             ],
             [
              1,
              "#f0f921"
             ]
            ],
            "type": "heatmap"
           }
          ],
          "heatmapgl": [
           {
            "colorbar": {
             "outlinewidth": 0,
             "ticks": ""
            },
            "colorscale": [
             [
              0,
              "#0d0887"
             ],
             [
              0.1111111111111111,
              "#46039f"
             ],
             [
              0.2222222222222222,
              "#7201a8"
             ],
             [
              0.3333333333333333,
              "#9c179e"
             ],
             [
              0.4444444444444444,
              "#bd3786"
             ],
             [
              0.5555555555555556,
              "#d8576b"
             ],
             [
              0.6666666666666666,
              "#ed7953"
             ],
             [
              0.7777777777777778,
              "#fb9f3a"
             ],
             [
              0.8888888888888888,
              "#fdca26"
             ],
             [
              1,
              "#f0f921"
             ]
            ],
            "type": "heatmapgl"
           }
          ],
          "histogram": [
           {
            "marker": {
             "pattern": {
              "fillmode": "overlay",
              "size": 10,
              "solidity": 0.2
             }
            },
            "type": "histogram"
           }
          ],
          "histogram2d": [
           {
            "colorbar": {
             "outlinewidth": 0,
             "ticks": ""
            },
            "colorscale": [
             [
              0,
              "#0d0887"
             ],
             [
              0.1111111111111111,
              "#46039f"
             ],
             [
              0.2222222222222222,
              "#7201a8"
             ],
             [
              0.3333333333333333,
              "#9c179e"
             ],
             [
              0.4444444444444444,
              "#bd3786"
             ],
             [
              0.5555555555555556,
              "#d8576b"
             ],
             [
              0.6666666666666666,
              "#ed7953"
             ],
             [
              0.7777777777777778,
              "#fb9f3a"
             ],
             [
              0.8888888888888888,
              "#fdca26"
             ],
             [
              1,
              "#f0f921"
             ]
            ],
            "type": "histogram2d"
           }
          ],
          "histogram2dcontour": [
           {
            "colorbar": {
             "outlinewidth": 0,
             "ticks": ""
            },
            "colorscale": [
             [
              0,
              "#0d0887"
             ],
             [
              0.1111111111111111,
              "#46039f"
             ],
             [
              0.2222222222222222,
              "#7201a8"
             ],
             [
              0.3333333333333333,
              "#9c179e"
             ],
             [
              0.4444444444444444,
              "#bd3786"
             ],
             [
              0.5555555555555556,
              "#d8576b"
             ],
             [
              0.6666666666666666,
              "#ed7953"
             ],
             [
              0.7777777777777778,
              "#fb9f3a"
             ],
             [
              0.8888888888888888,
              "#fdca26"
             ],
             [
              1,
              "#f0f921"
             ]
            ],
            "type": "histogram2dcontour"
           }
          ],
          "mesh3d": [
           {
            "colorbar": {
             "outlinewidth": 0,
             "ticks": ""
            },
            "type": "mesh3d"
           }
          ],
          "parcoords": [
           {
            "line": {
             "colorbar": {
              "outlinewidth": 0,
              "ticks": ""
             }
            },
            "type": "parcoords"
           }
          ],
          "pie": [
           {
            "automargin": true,
            "type": "pie"
           }
          ],
          "scatter": [
           {
            "fillpattern": {
             "fillmode": "overlay",
             "size": 10,
             "solidity": 0.2
            },
            "type": "scatter"
           }
          ],
          "scatter3d": [
           {
            "line": {
             "colorbar": {
              "outlinewidth": 0,
              "ticks": ""
             }
            },
            "marker": {
             "colorbar": {
              "outlinewidth": 0,
              "ticks": ""
             }
            },
            "type": "scatter3d"
           }
          ],
          "scattercarpet": [
           {
            "marker": {
             "colorbar": {
              "outlinewidth": 0,
              "ticks": ""
             }
            },
            "type": "scattercarpet"
           }
          ],
          "scattergeo": [
           {
            "marker": {
             "colorbar": {
              "outlinewidth": 0,
              "ticks": ""
             }
            },
            "type": "scattergeo"
           }
          ],
          "scattergl": [
           {
            "marker": {
             "colorbar": {
              "outlinewidth": 0,
              "ticks": ""
             }
            },
            "type": "scattergl"
           }
          ],
          "scattermapbox": [
           {
            "marker": {
             "colorbar": {
              "outlinewidth": 0,
              "ticks": ""
             }
            },
            "type": "scattermapbox"
           }
          ],
          "scatterpolar": [
           {
            "marker": {
             "colorbar": {
              "outlinewidth": 0,
              "ticks": ""
             }
            },
            "type": "scatterpolar"
           }
          ],
          "scatterpolargl": [
           {
            "marker": {
             "colorbar": {
              "outlinewidth": 0,
              "ticks": ""
             }
            },
            "type": "scatterpolargl"
           }
          ],
          "scatterternary": [
           {
            "marker": {
             "colorbar": {
              "outlinewidth": 0,
              "ticks": ""
             }
            },
            "type": "scatterternary"
           }
          ],
          "surface": [
           {
            "colorbar": {
             "outlinewidth": 0,
             "ticks": ""
            },
            "colorscale": [
             [
              0,
              "#0d0887"
             ],
             [
              0.1111111111111111,
              "#46039f"
             ],
             [
              0.2222222222222222,
              "#7201a8"
             ],
             [
              0.3333333333333333,
              "#9c179e"
             ],
             [
              0.4444444444444444,
              "#bd3786"
             ],
             [
              0.5555555555555556,
              "#d8576b"
             ],
             [
              0.6666666666666666,
              "#ed7953"
             ],
             [
              0.7777777777777778,
              "#fb9f3a"
             ],
             [
              0.8888888888888888,
              "#fdca26"
             ],
             [
              1,
              "#f0f921"
             ]
            ],
            "type": "surface"
           }
          ],
          "table": [
           {
            "cells": {
             "fill": {
              "color": "#EBF0F8"
             },
             "line": {
              "color": "white"
             }
            },
            "header": {
             "fill": {
              "color": "#C8D4E3"
             },
             "line": {
              "color": "white"
             }
            },
            "type": "table"
           }
          ]
         },
         "layout": {
          "annotationdefaults": {
           "arrowcolor": "#2a3f5f",
           "arrowhead": 0,
           "arrowwidth": 1
          },
          "autotypenumbers": "strict",
          "coloraxis": {
           "colorbar": {
            "outlinewidth": 0,
            "ticks": ""
           }
          },
          "colorscale": {
           "diverging": [
            [
             0,
             "#8e0152"
            ],
            [
             0.1,
             "#c51b7d"
            ],
            [
             0.2,
             "#de77ae"
            ],
            [
             0.3,
             "#f1b6da"
            ],
            [
             0.4,
             "#fde0ef"
            ],
            [
             0.5,
             "#f7f7f7"
            ],
            [
             0.6,
             "#e6f5d0"
            ],
            [
             0.7,
             "#b8e186"
            ],
            [
             0.8,
             "#7fbc41"
            ],
            [
             0.9,
             "#4d9221"
            ],
            [
             1,
             "#276419"
            ]
           ],
           "sequential": [
            [
             0,
             "#0d0887"
            ],
            [
             0.1111111111111111,
             "#46039f"
            ],
            [
             0.2222222222222222,
             "#7201a8"
            ],
            [
             0.3333333333333333,
             "#9c179e"
            ],
            [
             0.4444444444444444,
             "#bd3786"
            ],
            [
             0.5555555555555556,
             "#d8576b"
            ],
            [
             0.6666666666666666,
             "#ed7953"
            ],
            [
             0.7777777777777778,
             "#fb9f3a"
            ],
            [
             0.8888888888888888,
             "#fdca26"
            ],
            [
             1,
             "#f0f921"
            ]
           ],
           "sequentialminus": [
            [
             0,
             "#0d0887"
            ],
            [
             0.1111111111111111,
             "#46039f"
            ],
            [
             0.2222222222222222,
             "#7201a8"
            ],
            [
             0.3333333333333333,
             "#9c179e"
            ],
            [
             0.4444444444444444,
             "#bd3786"
            ],
            [
             0.5555555555555556,
             "#d8576b"
            ],
            [
             0.6666666666666666,
             "#ed7953"
            ],
            [
             0.7777777777777778,
             "#fb9f3a"
            ],
            [
             0.8888888888888888,
             "#fdca26"
            ],
            [
             1,
             "#f0f921"
            ]
           ]
          },
          "colorway": [
           "#636efa",
           "#EF553B",
           "#00cc96",
           "#ab63fa",
           "#FFA15A",
           "#19d3f3",
           "#FF6692",
           "#B6E880",
           "#FF97FF",
           "#FECB52"
          ],
          "font": {
           "color": "#2a3f5f"
          },
          "geo": {
           "bgcolor": "white",
           "lakecolor": "white",
           "landcolor": "#E5ECF6",
           "showlakes": true,
           "showland": true,
           "subunitcolor": "white"
          },
          "hoverlabel": {
           "align": "left"
          },
          "hovermode": "closest",
          "mapbox": {
           "style": "light"
          },
          "paper_bgcolor": "white",
          "plot_bgcolor": "#E5ECF6",
          "polar": {
           "angularaxis": {
            "gridcolor": "white",
            "linecolor": "white",
            "ticks": ""
           },
           "bgcolor": "#E5ECF6",
           "radialaxis": {
            "gridcolor": "white",
            "linecolor": "white",
            "ticks": ""
           }
          },
          "scene": {
           "xaxis": {
            "backgroundcolor": "#E5ECF6",
            "gridcolor": "white",
            "gridwidth": 2,
            "linecolor": "white",
            "showbackground": true,
            "ticks": "",
            "zerolinecolor": "white"
           },
           "yaxis": {
            "backgroundcolor": "#E5ECF6",
            "gridcolor": "white",
            "gridwidth": 2,
            "linecolor": "white",
            "showbackground": true,
            "ticks": "",
            "zerolinecolor": "white"
           },
           "zaxis": {
            "backgroundcolor": "#E5ECF6",
            "gridcolor": "white",
            "gridwidth": 2,
            "linecolor": "white",
            "showbackground": true,
            "ticks": "",
            "zerolinecolor": "white"
           }
          },
          "shapedefaults": {
           "line": {
            "color": "#2a3f5f"
           }
          },
          "ternary": {
           "aaxis": {
            "gridcolor": "white",
            "linecolor": "white",
            "ticks": ""
           },
           "baxis": {
            "gridcolor": "white",
            "linecolor": "white",
            "ticks": ""
           },
           "bgcolor": "#E5ECF6",
           "caxis": {
            "gridcolor": "white",
            "linecolor": "white",
            "ticks": ""
           }
          },
          "title": {
           "x": 0.05
          },
          "xaxis": {
           "automargin": true,
           "gridcolor": "white",
           "linecolor": "white",
           "ticks": "",
           "title": {
            "standoff": 15
           },
           "zerolinecolor": "white",
           "zerolinewidth": 2
          },
          "yaxis": {
           "automargin": true,
           "gridcolor": "white",
           "linecolor": "white",
           "ticks": "",
           "title": {
            "standoff": 15
           },
           "zerolinecolor": "white",
           "zerolinewidth": 2
          }
         }
        },
        "xaxis": {
         "anchor": "y",
         "domain": [
          0,
          1
         ],
         "title": {
          "text": "Age"
         }
        },
        "yaxis": {
         "anchor": "x",
         "domain": [
          0,
          1
         ],
         "title": {
          "text": "Income (USD/Month)"
         }
        }
       }
      },
      "text/html": [
       "<div>                            <div id=\"12194677-5c24-4000-b9d9-3d35850fc951\" class=\"plotly-graph-div\" style=\"height:525px; width:100%;\"></div>            <script type=\"text/javascript\">                require([\"plotly\"], function(Plotly) {                    window.PLOTLYENV=window.PLOTLYENV || {};                                    if (document.getElementById(\"12194677-5c24-4000-b9d9-3d35850fc951\")) {                    Plotly.newPlot(                        \"12194677-5c24-4000-b9d9-3d35850fc951\",                        [{\"alignmentgroup\":\"True\",\"hovertemplate\":\"Gender=Male<br>Age=%{x}<br>Income (USD/Month)=%{y}<extra></extra>\",\"legendgroup\":\"Male\",\"marker\":{\"color\":\"#636efa\",\"pattern\":{\"shape\":\"\"}},\"name\":\"Male\",\"offsetgroup\":\"Male\",\"orientation\":\"v\",\"showlegend\":true,\"textposition\":\"auto\",\"x\":[18,38,36,52,29,38,61,23,20,35,26,26,21,42,32,44,31,40,65,29,25,34,64,32,20,58,33,58,22,62,29,29,32,25,27,31,21,47,61,28,55,40,21,27,21,20,23,31,27,35],\"xaxis\":\"x\",\"y\":[18616,19204,12457,9797,6941,7266,18690,10393,16895,16738,5460,20862,4195,18270,28556,14989,19256,29485,6135,23829,23689,24345,11272,18225,34613,13097,20886,20155,8899,12093,18205,10114,9788,8800,16808,16289,4154,14908,20076,28689,27962,19030,31912,3199,26143,32163,12716,5383,2750,24334],\"yaxis\":\"y\",\"type\":\"bar\"},{\"alignmentgroup\":\"True\",\"hovertemplate\":\"Gender=Female<br>Age=%{x}<br>Income (USD/Month)=%{y}<extra></extra>\",\"legendgroup\":\"Female\",\"marker\":{\"color\":\"#EF553B\",\"pattern\":{\"shape\":\"\"}},\"name\":\"Female\",\"offsetgroup\":\"Female\",\"orientation\":\"v\",\"showlegend\":true,\"textposition\":\"auto\",\"x\":[18,60,20,65,54,38,21,22,32,48,29,27,21,44,24,26,60,28,27,27,37,27,36,19,20,20,27,34,43,48,20,29,23,36,20,49,27,19,19,31,60,54,63,45,62,29,50,33,57,30],\"xaxis\":\"x\",\"y\":[10637,6147,34953,18700,2340,11293,12800,23940,15630,6987,2637,22635,9417,19642,29486,3589,22931,15367,4451,12968,18943,2630,5718,16166,13020,28649,13038,10062,13829,21401,8172,21149,13749,12567,8169,29659,8509,21506,8711,3077,6881,22201,24268,3865,19725,17234,18151,4410,22015,5315],\"yaxis\":\"y\",\"type\":\"bar\"}],                        {\"template\":{\"data\":{\"histogram2dcontour\":[{\"type\":\"histogram2dcontour\",\"colorbar\":{\"outlinewidth\":0,\"ticks\":\"\"},\"colorscale\":[[0.0,\"#0d0887\"],[0.1111111111111111,\"#46039f\"],[0.2222222222222222,\"#7201a8\"],[0.3333333333333333,\"#9c179e\"],[0.4444444444444444,\"#bd3786\"],[0.5555555555555556,\"#d8576b\"],[0.6666666666666666,\"#ed7953\"],[0.7777777777777778,\"#fb9f3a\"],[0.8888888888888888,\"#fdca26\"],[1.0,\"#f0f921\"]]}],\"choropleth\":[{\"type\":\"choropleth\",\"colorbar\":{\"outlinewidth\":0,\"ticks\":\"\"}}],\"histogram2d\":[{\"type\":\"histogram2d\",\"colorbar\":{\"outlinewidth\":0,\"ticks\":\"\"},\"colorscale\":[[0.0,\"#0d0887\"],[0.1111111111111111,\"#46039f\"],[0.2222222222222222,\"#7201a8\"],[0.3333333333333333,\"#9c179e\"],[0.4444444444444444,\"#bd3786\"],[0.5555555555555556,\"#d8576b\"],[0.6666666666666666,\"#ed7953\"],[0.7777777777777778,\"#fb9f3a\"],[0.8888888888888888,\"#fdca26\"],[1.0,\"#f0f921\"]]}],\"heatmap\":[{\"type\":\"heatmap\",\"colorbar\":{\"outlinewidth\":0,\"ticks\":\"\"},\"colorscale\":[[0.0,\"#0d0887\"],[0.1111111111111111,\"#46039f\"],[0.2222222222222222,\"#7201a8\"],[0.3333333333333333,\"#9c179e\"],[0.4444444444444444,\"#bd3786\"],[0.5555555555555556,\"#d8576b\"],[0.6666666666666666,\"#ed7953\"],[0.7777777777777778,\"#fb9f3a\"],[0.8888888888888888,\"#fdca26\"],[1.0,\"#f0f921\"]]}],\"heatmapgl\":[{\"type\":\"heatmapgl\",\"colorbar\":{\"outlinewidth\":0,\"ticks\":\"\"},\"colorscale\":[[0.0,\"#0d0887\"],[0.1111111111111111,\"#46039f\"],[0.2222222222222222,\"#7201a8\"],[0.3333333333333333,\"#9c179e\"],[0.4444444444444444,\"#bd3786\"],[0.5555555555555556,\"#d8576b\"],[0.6666666666666666,\"#ed7953\"],[0.7777777777777778,\"#fb9f3a\"],[0.8888888888888888,\"#fdca26\"],[1.0,\"#f0f921\"]]}],\"contourcarpet\":[{\"type\":\"contourcarpet\",\"colorbar\":{\"outlinewidth\":0,\"ticks\":\"\"}}],\"contour\":[{\"type\":\"contour\",\"colorbar\":{\"outlinewidth\":0,\"ticks\":\"\"},\"colorscale\":[[0.0,\"#0d0887\"],[0.1111111111111111,\"#46039f\"],[0.2222222222222222,\"#7201a8\"],[0.3333333333333333,\"#9c179e\"],[0.4444444444444444,\"#bd3786\"],[0.5555555555555556,\"#d8576b\"],[0.6666666666666666,\"#ed7953\"],[0.7777777777777778,\"#fb9f3a\"],[0.8888888888888888,\"#fdca26\"],[1.0,\"#f0f921\"]]}],\"surface\":[{\"type\":\"surface\",\"colorbar\":{\"outlinewidth\":0,\"ticks\":\"\"},\"colorscale\":[[0.0,\"#0d0887\"],[0.1111111111111111,\"#46039f\"],[0.2222222222222222,\"#7201a8\"],[0.3333333333333333,\"#9c179e\"],[0.4444444444444444,\"#bd3786\"],[0.5555555555555556,\"#d8576b\"],[0.6666666666666666,\"#ed7953\"],[0.7777777777777778,\"#fb9f3a\"],[0.8888888888888888,\"#fdca26\"],[1.0,\"#f0f921\"]]}],\"mesh3d\":[{\"type\":\"mesh3d\",\"colorbar\":{\"outlinewidth\":0,\"ticks\":\"\"}}],\"scatter\":[{\"fillpattern\":{\"fillmode\":\"overlay\",\"size\":10,\"solidity\":0.2},\"type\":\"scatter\"}],\"parcoords\":[{\"type\":\"parcoords\",\"line\":{\"colorbar\":{\"outlinewidth\":0,\"ticks\":\"\"}}}],\"scatterpolargl\":[{\"type\":\"scatterpolargl\",\"marker\":{\"colorbar\":{\"outlinewidth\":0,\"ticks\":\"\"}}}],\"bar\":[{\"error_x\":{\"color\":\"#2a3f5f\"},\"error_y\":{\"color\":\"#2a3f5f\"},\"marker\":{\"line\":{\"color\":\"#E5ECF6\",\"width\":0.5},\"pattern\":{\"fillmode\":\"overlay\",\"size\":10,\"solidity\":0.2}},\"type\":\"bar\"}],\"scattergeo\":[{\"type\":\"scattergeo\",\"marker\":{\"colorbar\":{\"outlinewidth\":0,\"ticks\":\"\"}}}],\"scatterpolar\":[{\"type\":\"scatterpolar\",\"marker\":{\"colorbar\":{\"outlinewidth\":0,\"ticks\":\"\"}}}],\"histogram\":[{\"marker\":{\"pattern\":{\"fillmode\":\"overlay\",\"size\":10,\"solidity\":0.2}},\"type\":\"histogram\"}],\"scattergl\":[{\"type\":\"scattergl\",\"marker\":{\"colorbar\":{\"outlinewidth\":0,\"ticks\":\"\"}}}],\"scatter3d\":[{\"type\":\"scatter3d\",\"line\":{\"colorbar\":{\"outlinewidth\":0,\"ticks\":\"\"}},\"marker\":{\"colorbar\":{\"outlinewidth\":0,\"ticks\":\"\"}}}],\"scattermapbox\":[{\"type\":\"scattermapbox\",\"marker\":{\"colorbar\":{\"outlinewidth\":0,\"ticks\":\"\"}}}],\"scatterternary\":[{\"type\":\"scatterternary\",\"marker\":{\"colorbar\":{\"outlinewidth\":0,\"ticks\":\"\"}}}],\"scattercarpet\":[{\"type\":\"scattercarpet\",\"marker\":{\"colorbar\":{\"outlinewidth\":0,\"ticks\":\"\"}}}],\"carpet\":[{\"aaxis\":{\"endlinecolor\":\"#2a3f5f\",\"gridcolor\":\"white\",\"linecolor\":\"white\",\"minorgridcolor\":\"white\",\"startlinecolor\":\"#2a3f5f\"},\"baxis\":{\"endlinecolor\":\"#2a3f5f\",\"gridcolor\":\"white\",\"linecolor\":\"white\",\"minorgridcolor\":\"white\",\"startlinecolor\":\"#2a3f5f\"},\"type\":\"carpet\"}],\"table\":[{\"cells\":{\"fill\":{\"color\":\"#EBF0F8\"},\"line\":{\"color\":\"white\"}},\"header\":{\"fill\":{\"color\":\"#C8D4E3\"},\"line\":{\"color\":\"white\"}},\"type\":\"table\"}],\"barpolar\":[{\"marker\":{\"line\":{\"color\":\"#E5ECF6\",\"width\":0.5},\"pattern\":{\"fillmode\":\"overlay\",\"size\":10,\"solidity\":0.2}},\"type\":\"barpolar\"}],\"pie\":[{\"automargin\":true,\"type\":\"pie\"}]},\"layout\":{\"autotypenumbers\":\"strict\",\"colorway\":[\"#636efa\",\"#EF553B\",\"#00cc96\",\"#ab63fa\",\"#FFA15A\",\"#19d3f3\",\"#FF6692\",\"#B6E880\",\"#FF97FF\",\"#FECB52\"],\"font\":{\"color\":\"#2a3f5f\"},\"hovermode\":\"closest\",\"hoverlabel\":{\"align\":\"left\"},\"paper_bgcolor\":\"white\",\"plot_bgcolor\":\"#E5ECF6\",\"polar\":{\"bgcolor\":\"#E5ECF6\",\"angularaxis\":{\"gridcolor\":\"white\",\"linecolor\":\"white\",\"ticks\":\"\"},\"radialaxis\":{\"gridcolor\":\"white\",\"linecolor\":\"white\",\"ticks\":\"\"}},\"ternary\":{\"bgcolor\":\"#E5ECF6\",\"aaxis\":{\"gridcolor\":\"white\",\"linecolor\":\"white\",\"ticks\":\"\"},\"baxis\":{\"gridcolor\":\"white\",\"linecolor\":\"white\",\"ticks\":\"\"},\"caxis\":{\"gridcolor\":\"white\",\"linecolor\":\"white\",\"ticks\":\"\"}},\"coloraxis\":{\"colorbar\":{\"outlinewidth\":0,\"ticks\":\"\"}},\"colorscale\":{\"sequential\":[[0.0,\"#0d0887\"],[0.1111111111111111,\"#46039f\"],[0.2222222222222222,\"#7201a8\"],[0.3333333333333333,\"#9c179e\"],[0.4444444444444444,\"#bd3786\"],[0.5555555555555556,\"#d8576b\"],[0.6666666666666666,\"#ed7953\"],[0.7777777777777778,\"#fb9f3a\"],[0.8888888888888888,\"#fdca26\"],[1.0,\"#f0f921\"]],\"sequentialminus\":[[0.0,\"#0d0887\"],[0.1111111111111111,\"#46039f\"],[0.2222222222222222,\"#7201a8\"],[0.3333333333333333,\"#9c179e\"],[0.4444444444444444,\"#bd3786\"],[0.5555555555555556,\"#d8576b\"],[0.6666666666666666,\"#ed7953\"],[0.7777777777777778,\"#fb9f3a\"],[0.8888888888888888,\"#fdca26\"],[1.0,\"#f0f921\"]],\"diverging\":[[0,\"#8e0152\"],[0.1,\"#c51b7d\"],[0.2,\"#de77ae\"],[0.3,\"#f1b6da\"],[0.4,\"#fde0ef\"],[0.5,\"#f7f7f7\"],[0.6,\"#e6f5d0\"],[0.7,\"#b8e186\"],[0.8,\"#7fbc41\"],[0.9,\"#4d9221\"],[1,\"#276419\"]]},\"xaxis\":{\"gridcolor\":\"white\",\"linecolor\":\"white\",\"ticks\":\"\",\"title\":{\"standoff\":15},\"zerolinecolor\":\"white\",\"automargin\":true,\"zerolinewidth\":2},\"yaxis\":{\"gridcolor\":\"white\",\"linecolor\":\"white\",\"ticks\":\"\",\"title\":{\"standoff\":15},\"zerolinecolor\":\"white\",\"automargin\":true,\"zerolinewidth\":2},\"scene\":{\"xaxis\":{\"backgroundcolor\":\"#E5ECF6\",\"gridcolor\":\"white\",\"linecolor\":\"white\",\"showbackground\":true,\"ticks\":\"\",\"zerolinecolor\":\"white\",\"gridwidth\":2},\"yaxis\":{\"backgroundcolor\":\"#E5ECF6\",\"gridcolor\":\"white\",\"linecolor\":\"white\",\"showbackground\":true,\"ticks\":\"\",\"zerolinecolor\":\"white\",\"gridwidth\":2},\"zaxis\":{\"backgroundcolor\":\"#E5ECF6\",\"gridcolor\":\"white\",\"linecolor\":\"white\",\"showbackground\":true,\"ticks\":\"\",\"zerolinecolor\":\"white\",\"gridwidth\":2}},\"shapedefaults\":{\"line\":{\"color\":\"#2a3f5f\"}},\"annotationdefaults\":{\"arrowcolor\":\"#2a3f5f\",\"arrowhead\":0,\"arrowwidth\":1},\"geo\":{\"bgcolor\":\"white\",\"landcolor\":\"#E5ECF6\",\"subunitcolor\":\"white\",\"showland\":true,\"showlakes\":true,\"lakecolor\":\"white\"},\"title\":{\"x\":0.05},\"mapbox\":{\"style\":\"light\"}}},\"xaxis\":{\"anchor\":\"y\",\"domain\":[0.0,1.0],\"title\":{\"text\":\"Age\"}},\"yaxis\":{\"anchor\":\"x\",\"domain\":[0.0,1.0],\"title\":{\"text\":\"Income (USD/Month)\"}},\"legend\":{\"title\":{\"text\":\"Gender\"},\"tracegroupgap\":0},\"margin\":{\"t\":60},\"barmode\":\"relative\"},                        {\"responsive\": true}                    ).then(function(){\n",
       "                            \n",
       "var gd = document.getElementById('12194677-5c24-4000-b9d9-3d35850fc951');\n",
       "var x = new MutationObserver(function (mutations, observer) {{\n",
       "        var display = window.getComputedStyle(gd).display;\n",
       "        if (!display || display === 'none') {{\n",
       "            console.log([gd, 'removed!']);\n",
       "            Plotly.purge(gd);\n",
       "            observer.disconnect();\n",
       "        }}\n",
       "}});\n",
       "\n",
       "// Listen for the removal of the full notebook cells\n",
       "var notebookContainer = gd.closest('#notebook-container');\n",
       "if (notebookContainer) {{\n",
       "    x.observe(notebookContainer, {childList: true});\n",
       "}}\n",
       "\n",
       "// Listen for the clearing of the current output cell\n",
       "var outputEl = gd.closest('.output');\n",
       "if (outputEl) {{\n",
       "    x.observe(outputEl, {childList: true});\n",
       "}}\n",
       "\n",
       "                        })                };                });            </script>        </div>"
      ]
     },
     "metadata": {},
     "output_type": "display_data"
    },
    {
     "data": {
      "text/plain": [
       "<Figure size 1080x432 with 0 Axes>"
      ]
     },
     "metadata": {},
     "output_type": "display_data"
    }
   ],
   "source": [
    "plt.figure(figsize=(15,6))\n",
    "py.bar(x='Age', y = 'Income (USD/Month)', data_frame=yellow_top100_cust_demo, color='Gender')"
   ]
  },
  {
   "cell_type": "markdown",
   "metadata": {},
   "source": [
    " ### Forecasting"
   ]
  },
  {
   "cell_type": "code",
   "execution_count": 154,
   "metadata": {},
   "outputs": [],
   "source": [
    "df_cab_trans_cus_city = pd.merge(df_cab_trans_cus, city_df, on='City')"
   ]
  },
  {
   "cell_type": "code",
   "execution_count": 155,
   "metadata": {},
   "outputs": [],
   "source": [
    "from statsmodels.tsa.arima_model import ARIMA"
   ]
  },
  {
   "cell_type": "code",
   "execution_count": 156,
   "metadata": {},
   "outputs": [
    {
     "data": {
      "text/html": [
       "<div>\n",
       "<style scoped>\n",
       "    .dataframe tbody tr th:only-of-type {\n",
       "        vertical-align: middle;\n",
       "    }\n",
       "\n",
       "    .dataframe tbody tr th {\n",
       "        vertical-align: top;\n",
       "    }\n",
       "\n",
       "    .dataframe thead th {\n",
       "        text-align: right;\n",
       "    }\n",
       "</style>\n",
       "<table border=\"1\" class=\"dataframe\">\n",
       "  <thead>\n",
       "    <tr style=\"text-align: right;\">\n",
       "      <th></th>\n",
       "      <th>Transaction ID</th>\n",
       "      <th>Company</th>\n",
       "      <th>City</th>\n",
       "      <th>KM Travelled</th>\n",
       "      <th>Price Charged</th>\n",
       "      <th>Cost of Trip</th>\n",
       "      <th>Year</th>\n",
       "      <th>profit_percentage</th>\n",
       "      <th>Customer ID</th>\n",
       "      <th>Payment_Mode</th>\n",
       "      <th>Gender</th>\n",
       "      <th>Age</th>\n",
       "      <th>Income (USD/Month)</th>\n",
       "      <th>Population</th>\n",
       "      <th>Users</th>\n",
       "    </tr>\n",
       "    <tr>\n",
       "      <th>Date of Travel</th>\n",
       "      <th></th>\n",
       "      <th></th>\n",
       "      <th></th>\n",
       "      <th></th>\n",
       "      <th></th>\n",
       "      <th></th>\n",
       "      <th></th>\n",
       "      <th></th>\n",
       "      <th></th>\n",
       "      <th></th>\n",
       "      <th></th>\n",
       "      <th></th>\n",
       "      <th></th>\n",
       "      <th></th>\n",
       "      <th></th>\n",
       "    </tr>\n",
       "  </thead>\n",
       "  <tbody>\n",
       "    <tr>\n",
       "      <th>2016-01-02</th>\n",
       "      <td>10000013</td>\n",
       "      <td>Pink Cab</td>\n",
       "      <td>ATLANTA GA</td>\n",
       "      <td>9.04</td>\n",
       "      <td>125.20</td>\n",
       "      <td>97.63</td>\n",
       "      <td>2016</td>\n",
       "      <td>28.24</td>\n",
       "      <td>28712</td>\n",
       "      <td>Cash</td>\n",
       "      <td>Male</td>\n",
       "      <td>53</td>\n",
       "      <td>11242</td>\n",
       "      <td>814885</td>\n",
       "      <td>24701</td>\n",
       "    </tr>\n",
       "    <tr>\n",
       "      <th>2016-09-21</th>\n",
       "      <td>10079404</td>\n",
       "      <td>Yellow Cab</td>\n",
       "      <td>ATLANTA GA</td>\n",
       "      <td>39.60</td>\n",
       "      <td>704.30</td>\n",
       "      <td>494.21</td>\n",
       "      <td>2016</td>\n",
       "      <td>42.51</td>\n",
       "      <td>28712</td>\n",
       "      <td>Card</td>\n",
       "      <td>Male</td>\n",
       "      <td>53</td>\n",
       "      <td>11242</td>\n",
       "      <td>814885</td>\n",
       "      <td>24701</td>\n",
       "    </tr>\n",
       "    <tr>\n",
       "      <th>2017-06-23</th>\n",
       "      <td>10186994</td>\n",
       "      <td>Yellow Cab</td>\n",
       "      <td>ATLANTA GA</td>\n",
       "      <td>18.19</td>\n",
       "      <td>365.63</td>\n",
       "      <td>246.66</td>\n",
       "      <td>2017</td>\n",
       "      <td>48.23</td>\n",
       "      <td>28712</td>\n",
       "      <td>Card</td>\n",
       "      <td>Male</td>\n",
       "      <td>53</td>\n",
       "      <td>11242</td>\n",
       "      <td>814885</td>\n",
       "      <td>24701</td>\n",
       "    </tr>\n",
       "    <tr>\n",
       "      <th>2018-04-21</th>\n",
       "      <td>10320493</td>\n",
       "      <td>Yellow Cab</td>\n",
       "      <td>ATLANTA GA</td>\n",
       "      <td>19.38</td>\n",
       "      <td>326.35</td>\n",
       "      <td>272.10</td>\n",
       "      <td>2018</td>\n",
       "      <td>19.94</td>\n",
       "      <td>28712</td>\n",
       "      <td>Cash</td>\n",
       "      <td>Male</td>\n",
       "      <td>53</td>\n",
       "      <td>11242</td>\n",
       "      <td>814885</td>\n",
       "      <td>24701</td>\n",
       "    </tr>\n",
       "    <tr>\n",
       "      <th>2016-01-02</th>\n",
       "      <td>10000384</td>\n",
       "      <td>Yellow Cab</td>\n",
       "      <td>ATLANTA GA</td>\n",
       "      <td>33.93</td>\n",
       "      <td>1341.17</td>\n",
       "      <td>464.16</td>\n",
       "      <td>2016</td>\n",
       "      <td>188.94</td>\n",
       "      <td>27602</td>\n",
       "      <td>Card</td>\n",
       "      <td>Male</td>\n",
       "      <td>23</td>\n",
       "      <td>8542</td>\n",
       "      <td>814885</td>\n",
       "      <td>24701</td>\n",
       "    </tr>\n",
       "  </tbody>\n",
       "</table>\n",
       "</div>"
      ],
      "text/plain": [
       "                Transaction ID     Company        City  KM Travelled  \\\n",
       "Date of Travel                                                         \n",
       "2016-01-02            10000013    Pink Cab  ATLANTA GA          9.04   \n",
       "2016-09-21            10079404  Yellow Cab  ATLANTA GA         39.60   \n",
       "2017-06-23            10186994  Yellow Cab  ATLANTA GA         18.19   \n",
       "2018-04-21            10320493  Yellow Cab  ATLANTA GA         19.38   \n",
       "2016-01-02            10000384  Yellow Cab  ATLANTA GA         33.93   \n",
       "\n",
       "                Price Charged  Cost of Trip  Year  profit_percentage  \\\n",
       "Date of Travel                                                         \n",
       "2016-01-02             125.20         97.63  2016              28.24   \n",
       "2016-09-21             704.30        494.21  2016              42.51   \n",
       "2017-06-23             365.63        246.66  2017              48.23   \n",
       "2018-04-21             326.35        272.10  2018              19.94   \n",
       "2016-01-02            1341.17        464.16  2016             188.94   \n",
       "\n",
       "                Customer ID Payment_Mode Gender  Age  Income (USD/Month)  \\\n",
       "Date of Travel                                                             \n",
       "2016-01-02            28712         Cash   Male   53               11242   \n",
       "2016-09-21            28712         Card   Male   53               11242   \n",
       "2017-06-23            28712         Card   Male   53               11242   \n",
       "2018-04-21            28712         Cash   Male   53               11242   \n",
       "2016-01-02            27602         Card   Male   23                8542   \n",
       "\n",
       "                Population  Users  \n",
       "Date of Travel                     \n",
       "2016-01-02          814885  24701  \n",
       "2016-09-21          814885  24701  \n",
       "2017-06-23          814885  24701  \n",
       "2018-04-21          814885  24701  \n",
       "2016-01-02          814885  24701  "
      ]
     },
     "execution_count": 156,
     "metadata": {},
     "output_type": "execute_result"
    }
   ],
   "source": [
    "df_cab_trans_cus_city_timeseries = df_cab_trans_cus_city.set_index('Date of Travel')\n",
    "df_cab_trans_cus_city_timeseries.head()"
   ]
  },
  {
   "cell_type": "code",
   "execution_count": 157,
   "metadata": {},
   "outputs": [],
   "source": [
    "df_cab_trans_cus_city_timeseries_pink = df_cab_trans_cus_city_timeseries[df_cab_trans_cus_city_timeseries['Company']=='Pink Cab']\n",
    "df_cab_trans_cus_city_timeseries_yellow = df_cab_trans_cus_city_timeseries[df_cab_trans_cus_city_timeseries['Company']=='Yellow Cab']"
   ]
  },
  {
   "cell_type": "markdown",
   "metadata": {},
   "source": [
    "##### Checking forecasting for Pink Cab"
   ]
  },
  {
   "cell_type": "code",
   "execution_count": 158,
   "metadata": {},
   "outputs": [
    {
     "data": {
      "text/html": [
       "<div>\n",
       "<style scoped>\n",
       "    .dataframe tbody tr th:only-of-type {\n",
       "        vertical-align: middle;\n",
       "    }\n",
       "\n",
       "    .dataframe tbody tr th {\n",
       "        vertical-align: top;\n",
       "    }\n",
       "\n",
       "    .dataframe thead th {\n",
       "        text-align: right;\n",
       "    }\n",
       "</style>\n",
       "<table border=\"1\" class=\"dataframe\">\n",
       "  <thead>\n",
       "    <tr style=\"text-align: right;\">\n",
       "      <th></th>\n",
       "      <th>Transaction ID</th>\n",
       "      <th>KM Travelled</th>\n",
       "      <th>Price Charged</th>\n",
       "      <th>Cost of Trip</th>\n",
       "      <th>Year</th>\n",
       "      <th>profit_percentage</th>\n",
       "      <th>Customer ID</th>\n",
       "      <th>Age</th>\n",
       "      <th>Income (USD/Month)</th>\n",
       "      <th>Population</th>\n",
       "      <th>Users</th>\n",
       "    </tr>\n",
       "    <tr>\n",
       "      <th>Date of Travel</th>\n",
       "      <th></th>\n",
       "      <th></th>\n",
       "      <th></th>\n",
       "      <th></th>\n",
       "      <th></th>\n",
       "      <th></th>\n",
       "      <th></th>\n",
       "      <th></th>\n",
       "      <th></th>\n",
       "      <th></th>\n",
       "      <th></th>\n",
       "    </tr>\n",
       "  </thead>\n",
       "  <tbody>\n",
       "    <tr>\n",
       "      <th>2016-01-02</th>\n",
       "      <td>410006914</td>\n",
       "      <td>814.49</td>\n",
       "      <td>13858.58</td>\n",
       "      <td>9049.16</td>\n",
       "      <td>82656</td>\n",
       "      <td>2008.01</td>\n",
       "      <td>885222</td>\n",
       "      <td>1424</td>\n",
       "      <td>643606</td>\n",
       "      <td>61020526</td>\n",
       "      <td>3995164</td>\n",
       "    </tr>\n",
       "    <tr>\n",
       "      <th>2016-01-03</th>\n",
       "      <td>520009002</td>\n",
       "      <td>1342.21</td>\n",
       "      <td>25375.33</td>\n",
       "      <td>14754.75</td>\n",
       "      <td>104832</td>\n",
       "      <td>3700.91</td>\n",
       "      <td>904435</td>\n",
       "      <td>1929</td>\n",
       "      <td>805411</td>\n",
       "      <td>84984926</td>\n",
       "      <td>5608169</td>\n",
       "    </tr>\n",
       "    <tr>\n",
       "      <th>2016-01-04</th>\n",
       "      <td>40000544</td>\n",
       "      <td>79.30</td>\n",
       "      <td>1266.07</td>\n",
       "      <td>837.48</td>\n",
       "      <td>8064</td>\n",
       "      <td>210.15</td>\n",
       "      <td>19979</td>\n",
       "      <td>144</td>\n",
       "      <td>69897</td>\n",
       "      <td>20001748</td>\n",
       "      <td>892562</td>\n",
       "    </tr>\n",
       "    <tr>\n",
       "      <th>2016-01-05</th>\n",
       "      <td>60001126</td>\n",
       "      <td>158.18</td>\n",
       "      <td>2505.80</td>\n",
       "      <td>1760.44</td>\n",
       "      <td>12096</td>\n",
       "      <td>256.66</td>\n",
       "      <td>154531</td>\n",
       "      <td>276</td>\n",
       "      <td>52321</td>\n",
       "      <td>6069632</td>\n",
       "      <td>558898</td>\n",
       "    </tr>\n",
       "    <tr>\n",
       "      <th>2016-01-06</th>\n",
       "      <td>230002765</td>\n",
       "      <td>509.02</td>\n",
       "      <td>7957.59</td>\n",
       "      <td>5620.61</td>\n",
       "      <td>46368</td>\n",
       "      <td>894.39</td>\n",
       "      <td>495651</td>\n",
       "      <td>809</td>\n",
       "      <td>374489</td>\n",
       "      <td>46007714</td>\n",
       "      <td>2590359</td>\n",
       "    </tr>\n",
       "    <tr>\n",
       "      <th>...</th>\n",
       "      <td>...</td>\n",
       "      <td>...</td>\n",
       "      <td>...</td>\n",
       "      <td>...</td>\n",
       "      <td>...</td>\n",
       "      <td>...</td>\n",
       "      <td>...</td>\n",
       "      <td>...</td>\n",
       "      <td>...</td>\n",
       "      <td>...</td>\n",
       "      <td>...</td>\n",
       "    </tr>\n",
       "    <tr>\n",
       "      <th>2018-12-27</th>\n",
       "      <td>688606436</td>\n",
       "      <td>1461.68</td>\n",
       "      <td>20457.74</td>\n",
       "      <td>16158.61</td>\n",
       "      <td>133188</td>\n",
       "      <td>1904.61</td>\n",
       "      <td>1374303</td>\n",
       "      <td>2363</td>\n",
       "      <td>930570</td>\n",
       "      <td>165771968</td>\n",
       "      <td>8417115</td>\n",
       "    </tr>\n",
       "    <tr>\n",
       "      <th>2018-12-28</th>\n",
       "      <td>2264058503</td>\n",
       "      <td>4836.04</td>\n",
       "      <td>71309.55</td>\n",
       "      <td>52830.65</td>\n",
       "      <td>437906</td>\n",
       "      <td>7617.45</td>\n",
       "      <td>3494245</td>\n",
       "      <td>7699</td>\n",
       "      <td>3171673</td>\n",
       "      <td>505636902</td>\n",
       "      <td>27753299</td>\n",
       "    </tr>\n",
       "    <tr>\n",
       "      <th>2018-12-29</th>\n",
       "      <td>2034530213</td>\n",
       "      <td>4431.16</td>\n",
       "      <td>68126.84</td>\n",
       "      <td>48726.84</td>\n",
       "      <td>393510</td>\n",
       "      <td>7741.92</td>\n",
       "      <td>3804073</td>\n",
       "      <td>6703</td>\n",
       "      <td>2786821</td>\n",
       "      <td>458309661</td>\n",
       "      <td>24359877</td>\n",
       "    </tr>\n",
       "    <tr>\n",
       "      <th>2018-12-30</th>\n",
       "      <td>584277073</td>\n",
       "      <td>1263.91</td>\n",
       "      <td>17922.82</td>\n",
       "      <td>13903.76</td>\n",
       "      <td>113008</td>\n",
       "      <td>1714.23</td>\n",
       "      <td>1061924</td>\n",
       "      <td>2026</td>\n",
       "      <td>876196</td>\n",
       "      <td>156201238</td>\n",
       "      <td>8062181</td>\n",
       "    </tr>\n",
       "    <tr>\n",
       "      <th>2018-12-31</th>\n",
       "      <td>605209509</td>\n",
       "      <td>1380.66</td>\n",
       "      <td>19792.74</td>\n",
       "      <td>15348.58</td>\n",
       "      <td>117044</td>\n",
       "      <td>1544.45</td>\n",
       "      <td>1018979</td>\n",
       "      <td>1979</td>\n",
       "      <td>881953</td>\n",
       "      <td>132719777</td>\n",
       "      <td>6681164</td>\n",
       "    </tr>\n",
       "  </tbody>\n",
       "</table>\n",
       "<p>1095 rows × 11 columns</p>\n",
       "</div>"
      ],
      "text/plain": [
       "                Transaction ID  KM Travelled  Price Charged  Cost of Trip  \\\n",
       "Date of Travel                                                              \n",
       "2016-01-02           410006914        814.49       13858.58       9049.16   \n",
       "2016-01-03           520009002       1342.21       25375.33      14754.75   \n",
       "2016-01-04            40000544         79.30        1266.07        837.48   \n",
       "2016-01-05            60001126        158.18        2505.80       1760.44   \n",
       "2016-01-06           230002765        509.02        7957.59       5620.61   \n",
       "...                        ...           ...            ...           ...   \n",
       "2018-12-27           688606436       1461.68       20457.74      16158.61   \n",
       "2018-12-28          2264058503       4836.04       71309.55      52830.65   \n",
       "2018-12-29          2034530213       4431.16       68126.84      48726.84   \n",
       "2018-12-30           584277073       1263.91       17922.82      13903.76   \n",
       "2018-12-31           605209509       1380.66       19792.74      15348.58   \n",
       "\n",
       "                  Year  profit_percentage  Customer ID   Age  \\\n",
       "Date of Travel                                                 \n",
       "2016-01-02       82656            2008.01       885222  1424   \n",
       "2016-01-03      104832            3700.91       904435  1929   \n",
       "2016-01-04        8064             210.15        19979   144   \n",
       "2016-01-05       12096             256.66       154531   276   \n",
       "2016-01-06       46368             894.39       495651   809   \n",
       "...                ...                ...          ...   ...   \n",
       "2018-12-27      133188            1904.61      1374303  2363   \n",
       "2018-12-28      437906            7617.45      3494245  7699   \n",
       "2018-12-29      393510            7741.92      3804073  6703   \n",
       "2018-12-30      113008            1714.23      1061924  2026   \n",
       "2018-12-31      117044            1544.45      1018979  1979   \n",
       "\n",
       "                Income (USD/Month)  Population     Users  \n",
       "Date of Travel                                            \n",
       "2016-01-02                  643606    61020526   3995164  \n",
       "2016-01-03                  805411    84984926   5608169  \n",
       "2016-01-04                   69897    20001748    892562  \n",
       "2016-01-05                   52321     6069632    558898  \n",
       "2016-01-06                  374489    46007714   2590359  \n",
       "...                            ...         ...       ...  \n",
       "2018-12-27                  930570   165771968   8417115  \n",
       "2018-12-28                 3171673   505636902  27753299  \n",
       "2018-12-29                 2786821   458309661  24359877  \n",
       "2018-12-30                  876196   156201238   8062181  \n",
       "2018-12-31                  881953   132719777   6681164  \n",
       "\n",
       "[1095 rows x 11 columns]"
      ]
     },
     "execution_count": 158,
     "metadata": {},
     "output_type": "execute_result"
    }
   ],
   "source": [
    "df_cab_trans_cus_city_timeseries_pink_sampled = df_cab_trans_cus_city_timeseries_pink.resample('D').sum()\n",
    "df_cab_trans_cus_city_timeseries_pink_sampled"
   ]
  },
  {
   "cell_type": "code",
   "execution_count": 159,
   "metadata": {},
   "outputs": [],
   "source": [
    "train = df_cab_trans_cus_city_timeseries_pink_sampled.iloc[:-219]\n",
    "test = df_cab_trans_cus_city_timeseries_pink_sampled.iloc[-219:]"
   ]
  },
  {
   "cell_type": "code",
   "execution_count": 160,
   "metadata": {},
   "outputs": [
    {
     "data": {
      "text/html": [
       "<div>\n",
       "<style scoped>\n",
       "    .dataframe tbody tr th:only-of-type {\n",
       "        vertical-align: middle;\n",
       "    }\n",
       "\n",
       "    .dataframe tbody tr th {\n",
       "        vertical-align: top;\n",
       "    }\n",
       "\n",
       "    .dataframe thead th {\n",
       "        text-align: right;\n",
       "    }\n",
       "</style>\n",
       "<table border=\"1\" class=\"dataframe\">\n",
       "  <thead>\n",
       "    <tr style=\"text-align: right;\">\n",
       "      <th></th>\n",
       "      <th>Transaction ID</th>\n",
       "      <th>KM Travelled</th>\n",
       "      <th>Price Charged</th>\n",
       "      <th>Cost of Trip</th>\n",
       "      <th>Year</th>\n",
       "      <th>profit_percentage</th>\n",
       "      <th>Customer ID</th>\n",
       "      <th>Age</th>\n",
       "      <th>Income (USD/Month)</th>\n",
       "      <th>Population</th>\n",
       "      <th>Users</th>\n",
       "    </tr>\n",
       "    <tr>\n",
       "      <th>Date of Travel</th>\n",
       "      <th></th>\n",
       "      <th></th>\n",
       "      <th></th>\n",
       "      <th></th>\n",
       "      <th></th>\n",
       "      <th></th>\n",
       "      <th></th>\n",
       "      <th></th>\n",
       "      <th></th>\n",
       "      <th></th>\n",
       "      <th></th>\n",
       "    </tr>\n",
       "  </thead>\n",
       "  <tbody>\n",
       "    <tr>\n",
       "      <th>2016-01-02</th>\n",
       "      <td>410006914</td>\n",
       "      <td>814.49</td>\n",
       "      <td>13858.58</td>\n",
       "      <td>9049.16</td>\n",
       "      <td>82656</td>\n",
       "      <td>2008.01</td>\n",
       "      <td>885222</td>\n",
       "      <td>1424</td>\n",
       "      <td>643606</td>\n",
       "      <td>61020526</td>\n",
       "      <td>3995164</td>\n",
       "    </tr>\n",
       "    <tr>\n",
       "      <th>2016-01-03</th>\n",
       "      <td>520009002</td>\n",
       "      <td>1342.21</td>\n",
       "      <td>25375.33</td>\n",
       "      <td>14754.75</td>\n",
       "      <td>104832</td>\n",
       "      <td>3700.91</td>\n",
       "      <td>904435</td>\n",
       "      <td>1929</td>\n",
       "      <td>805411</td>\n",
       "      <td>84984926</td>\n",
       "      <td>5608169</td>\n",
       "    </tr>\n",
       "    <tr>\n",
       "      <th>2016-01-04</th>\n",
       "      <td>40000544</td>\n",
       "      <td>79.30</td>\n",
       "      <td>1266.07</td>\n",
       "      <td>837.48</td>\n",
       "      <td>8064</td>\n",
       "      <td>210.15</td>\n",
       "      <td>19979</td>\n",
       "      <td>144</td>\n",
       "      <td>69897</td>\n",
       "      <td>20001748</td>\n",
       "      <td>892562</td>\n",
       "    </tr>\n",
       "    <tr>\n",
       "      <th>2016-01-05</th>\n",
       "      <td>60001126</td>\n",
       "      <td>158.18</td>\n",
       "      <td>2505.80</td>\n",
       "      <td>1760.44</td>\n",
       "      <td>12096</td>\n",
       "      <td>256.66</td>\n",
       "      <td>154531</td>\n",
       "      <td>276</td>\n",
       "      <td>52321</td>\n",
       "      <td>6069632</td>\n",
       "      <td>558898</td>\n",
       "    </tr>\n",
       "    <tr>\n",
       "      <th>2016-01-06</th>\n",
       "      <td>230002765</td>\n",
       "      <td>509.02</td>\n",
       "      <td>7957.59</td>\n",
       "      <td>5620.61</td>\n",
       "      <td>46368</td>\n",
       "      <td>894.39</td>\n",
       "      <td>495651</td>\n",
       "      <td>809</td>\n",
       "      <td>374489</td>\n",
       "      <td>46007714</td>\n",
       "      <td>2590359</td>\n",
       "    </tr>\n",
       "    <tr>\n",
       "      <th>...</th>\n",
       "      <td>...</td>\n",
       "      <td>...</td>\n",
       "      <td>...</td>\n",
       "      <td>...</td>\n",
       "      <td>...</td>\n",
       "      <td>...</td>\n",
       "      <td>...</td>\n",
       "      <td>...</td>\n",
       "      <td>...</td>\n",
       "      <td>...</td>\n",
       "      <td>...</td>\n",
       "    </tr>\n",
       "    <tr>\n",
       "      <th>2018-05-22</th>\n",
       "      <td>289257900</td>\n",
       "      <td>697.34</td>\n",
       "      <td>8043.60</td>\n",
       "      <td>7791.14</td>\n",
       "      <td>56504</td>\n",
       "      <td>81.15</td>\n",
       "      <td>371350</td>\n",
       "      <td>1126</td>\n",
       "      <td>411033</td>\n",
       "      <td>60060340</td>\n",
       "      <td>3507416</td>\n",
       "    </tr>\n",
       "    <tr>\n",
       "      <th>2018-05-23</th>\n",
       "      <td>351264374</td>\n",
       "      <td>863.97</td>\n",
       "      <td>10251.78</td>\n",
       "      <td>9719.02</td>\n",
       "      <td>68612</td>\n",
       "      <td>202.74</td>\n",
       "      <td>552218</td>\n",
       "      <td>1221</td>\n",
       "      <td>569393</td>\n",
       "      <td>84200445</td>\n",
       "      <td>4264946</td>\n",
       "    </tr>\n",
       "    <tr>\n",
       "      <th>2018-05-24</th>\n",
       "      <td>506235207</td>\n",
       "      <td>1093.22</td>\n",
       "      <td>12625.96</td>\n",
       "      <td>11788.17</td>\n",
       "      <td>98882</td>\n",
       "      <td>308.48</td>\n",
       "      <td>965039</td>\n",
       "      <td>1682</td>\n",
       "      <td>787534</td>\n",
       "      <td>101422354</td>\n",
       "      <td>5961928</td>\n",
       "    </tr>\n",
       "    <tr>\n",
       "      <th>2018-05-25</th>\n",
       "      <td>1157105082</td>\n",
       "      <td>2594.92</td>\n",
       "      <td>33570.87</td>\n",
       "      <td>28400.97</td>\n",
       "      <td>226016</td>\n",
       "      <td>1910.41</td>\n",
       "      <td>2262406</td>\n",
       "      <td>3949</td>\n",
       "      <td>1689041</td>\n",
       "      <td>202202782</td>\n",
       "      <td>12701228</td>\n",
       "    </tr>\n",
       "    <tr>\n",
       "      <th>2018-05-26</th>\n",
       "      <td>1322409373</td>\n",
       "      <td>2732.29</td>\n",
       "      <td>35188.58</td>\n",
       "      <td>29925.54</td>\n",
       "      <td>258304</td>\n",
       "      <td>2214.09</td>\n",
       "      <td>2419566</td>\n",
       "      <td>4682</td>\n",
       "      <td>2080167</td>\n",
       "      <td>230140927</td>\n",
       "      <td>14273459</td>\n",
       "    </tr>\n",
       "  </tbody>\n",
       "</table>\n",
       "<p>876 rows × 11 columns</p>\n",
       "</div>"
      ],
      "text/plain": [
       "                Transaction ID  KM Travelled  Price Charged  Cost of Trip  \\\n",
       "Date of Travel                                                              \n",
       "2016-01-02           410006914        814.49       13858.58       9049.16   \n",
       "2016-01-03           520009002       1342.21       25375.33      14754.75   \n",
       "2016-01-04            40000544         79.30        1266.07        837.48   \n",
       "2016-01-05            60001126        158.18        2505.80       1760.44   \n",
       "2016-01-06           230002765        509.02        7957.59       5620.61   \n",
       "...                        ...           ...            ...           ...   \n",
       "2018-05-22           289257900        697.34        8043.60       7791.14   \n",
       "2018-05-23           351264374        863.97       10251.78       9719.02   \n",
       "2018-05-24           506235207       1093.22       12625.96      11788.17   \n",
       "2018-05-25          1157105082       2594.92       33570.87      28400.97   \n",
       "2018-05-26          1322409373       2732.29       35188.58      29925.54   \n",
       "\n",
       "                  Year  profit_percentage  Customer ID   Age  \\\n",
       "Date of Travel                                                 \n",
       "2016-01-02       82656            2008.01       885222  1424   \n",
       "2016-01-03      104832            3700.91       904435  1929   \n",
       "2016-01-04        8064             210.15        19979   144   \n",
       "2016-01-05       12096             256.66       154531   276   \n",
       "2016-01-06       46368             894.39       495651   809   \n",
       "...                ...                ...          ...   ...   \n",
       "2018-05-22       56504              81.15       371350  1126   \n",
       "2018-05-23       68612             202.74       552218  1221   \n",
       "2018-05-24       98882             308.48       965039  1682   \n",
       "2018-05-25      226016            1910.41      2262406  3949   \n",
       "2018-05-26      258304            2214.09      2419566  4682   \n",
       "\n",
       "                Income (USD/Month)  Population     Users  \n",
       "Date of Travel                                            \n",
       "2016-01-02                  643606    61020526   3995164  \n",
       "2016-01-03                  805411    84984926   5608169  \n",
       "2016-01-04                   69897    20001748    892562  \n",
       "2016-01-05                   52321     6069632    558898  \n",
       "2016-01-06                  374489    46007714   2590359  \n",
       "...                            ...         ...       ...  \n",
       "2018-05-22                  411033    60060340   3507416  \n",
       "2018-05-23                  569393    84200445   4264946  \n",
       "2018-05-24                  787534   101422354   5961928  \n",
       "2018-05-25                 1689041   202202782  12701228  \n",
       "2018-05-26                 2080167   230140927  14273459  \n",
       "\n",
       "[876 rows x 11 columns]"
      ]
     },
     "execution_count": 160,
     "metadata": {},
     "output_type": "execute_result"
    }
   ],
   "source": [
    "train"
   ]
  },
  {
   "cell_type": "code",
   "execution_count": 161,
   "metadata": {},
   "outputs": [
    {
     "name": "stderr",
     "output_type": "stream",
     "text": [
      "C:\\Users\\snigdha.chigurupati\\anaconda3\\lib\\site-packages\\statsmodels\\tsa\\arima_model.py:472: FutureWarning:\n",
      "\n",
      "\n",
      "statsmodels.tsa.arima_model.ARMA and statsmodels.tsa.arima_model.ARIMA have\n",
      "been deprecated in favor of statsmodels.tsa.arima.model.ARIMA (note the .\n",
      "between arima and model) and\n",
      "statsmodels.tsa.SARIMAX. These will be removed after the 0.12 release.\n",
      "\n",
      "statsmodels.tsa.arima.model.ARIMA makes use of the statespace framework and\n",
      "is both well tested and maintained.\n",
      "\n",
      "To silence this warning and continue using ARMA and ARIMA until they are\n",
      "removed, use:\n",
      "\n",
      "import warnings\n",
      "warnings.filterwarnings('ignore', 'statsmodels.tsa.arima_model.ARMA',\n",
      "                        FutureWarning)\n",
      "warnings.filterwarnings('ignore', 'statsmodels.tsa.arima_model.ARIMA',\n",
      "                        FutureWarning)\n",
      "\n",
      "\n"
     ]
    }
   ],
   "source": [
    "model = ARIMA(train['profit_percentage'], order=(1, 1, 1))\n",
    "model_fit = model.fit()"
   ]
  },
  {
   "cell_type": "code",
   "execution_count": 162,
   "metadata": {},
   "outputs": [],
   "source": [
    "predictions = model_fit.forecast(steps=219)[0]"
   ]
  },
  {
   "cell_type": "code",
   "execution_count": 163,
   "metadata": {},
   "outputs": [
    {
     "data": {
      "text/plain": [
       "<matplotlib.collections.PathCollection at 0x2182be826d0>"
      ]
     },
     "execution_count": 163,
     "metadata": {},
     "output_type": "execute_result"
    },
    {
     "data": {
      "image/png": "[encoded data removed]",
      "text/plain": [
       "<Figure size 432x288 with 1 Axes>"
      ]
     },
     "metadata": {},
     "output_type": "display_data"
    }
   ],
   "source": [
    "plt.scatter(pd.date_range(start=df_cab_trans_cus_city_timeseries_pink_sampled.index[-1], periods=len(predictions), freq='D'), predictions, label='Forecast')"
   ]
  },
  {
   "cell_type": "markdown",
   "metadata": {},
   "source": [
    "##### Checking the forecast for yellow cab"
   ]
  },
  {
   "cell_type": "code",
   "execution_count": 164,
   "metadata": {},
   "outputs": [
    {
     "data": {
      "text/html": [
       "<div>\n",
       "<style scoped>\n",
       "    .dataframe tbody tr th:only-of-type {\n",
       "        vertical-align: middle;\n",
       "    }\n",
       "\n",
       "    .dataframe tbody tr th {\n",
       "        vertical-align: top;\n",
       "    }\n",
       "\n",
       "    .dataframe thead th {\n",
       "        text-align: right;\n",
       "    }\n",
       "</style>\n",
       "<table border=\"1\" class=\"dataframe\">\n",
       "  <thead>\n",
       "    <tr style=\"text-align: right;\">\n",
       "      <th></th>\n",
       "      <th>Transaction ID</th>\n",
       "      <th>KM Travelled</th>\n",
       "      <th>Price Charged</th>\n",
       "      <th>Cost of Trip</th>\n",
       "      <th>Year</th>\n",
       "      <th>profit_percentage</th>\n",
       "      <th>Customer ID</th>\n",
       "      <th>Age</th>\n",
       "      <th>Income (USD/Month)</th>\n",
       "      <th>Population</th>\n",
       "      <th>Users</th>\n",
       "    </tr>\n",
       "    <tr>\n",
       "      <th>Date of Travel</th>\n",
       "      <th></th>\n",
       "      <th></th>\n",
       "      <th></th>\n",
       "      <th></th>\n",
       "      <th></th>\n",
       "      <th></th>\n",
       "      <th></th>\n",
       "      <th></th>\n",
       "      <th></th>\n",
       "      <th></th>\n",
       "      <th></th>\n",
       "    </tr>\n",
       "  </thead>\n",
       "  <tbody>\n",
       "    <tr>\n",
       "      <th>2016-01-02</th>\n",
       "      <td>1400118937</td>\n",
       "      <td>3279.47</td>\n",
       "      <td>88457.39</td>\n",
       "      <td>43161.75</td>\n",
       "      <td>282240</td>\n",
       "      <td>14591.49</td>\n",
       "      <td>2773489</td>\n",
       "      <td>4912</td>\n",
       "      <td>1906751</td>\n",
       "      <td>400242866.00</td>\n",
       "      <td>21797293.00</td>\n",
       "    </tr>\n",
       "    <tr>\n",
       "      <th>2016-01-03</th>\n",
       "      <td>1260102481</td>\n",
       "      <td>2827.62</td>\n",
       "      <td>75971.25</td>\n",
       "      <td>37521.72</td>\n",
       "      <td>254016</td>\n",
       "      <td>12818.29</td>\n",
       "      <td>2564476</td>\n",
       "      <td>4356</td>\n",
       "      <td>1782987</td>\n",
       "      <td>352432541.00</td>\n",
       "      <td>19041244.00</td>\n",
       "    </tr>\n",
       "    <tr>\n",
       "      <th>2016-01-04</th>\n",
       "      <td>210015405</td>\n",
       "      <td>449.17</td>\n",
       "      <td>9786.67</td>\n",
       "      <td>6136.47</td>\n",
       "      <td>42336</td>\n",
       "      <td>1431.27</td>\n",
       "      <td>262344</td>\n",
       "      <td>710</td>\n",
       "      <td>315462</td>\n",
       "      <td>51771998.00</td>\n",
       "      <td>3130955.00</td>\n",
       "    </tr>\n",
       "    <tr>\n",
       "      <th>2016-01-05</th>\n",
       "      <td>410037510</td>\n",
       "      <td>1084.65</td>\n",
       "      <td>25697.12</td>\n",
       "      <td>14359.00</td>\n",
       "      <td>82656</td>\n",
       "      <td>3313.59</td>\n",
       "      <td>694794</td>\n",
       "      <td>1406</td>\n",
       "      <td>581408</td>\n",
       "      <td>148149625.00</td>\n",
       "      <td>7237034.00</td>\n",
       "    </tr>\n",
       "    <tr>\n",
       "      <th>2016-01-06</th>\n",
       "      <td>860069754</td>\n",
       "      <td>1926.41</td>\n",
       "      <td>43698.99</td>\n",
       "      <td>25035.54</td>\n",
       "      <td>173376</td>\n",
       "      <td>6483.63</td>\n",
       "      <td>1825843</td>\n",
       "      <td>3014</td>\n",
       "      <td>1338179</td>\n",
       "      <td>209960419.00</td>\n",
       "      <td>12760531.00</td>\n",
       "    </tr>\n",
       "    <tr>\n",
       "      <th>...</th>\n",
       "      <td>...</td>\n",
       "      <td>...</td>\n",
       "      <td>...</td>\n",
       "      <td>...</td>\n",
       "      <td>...</td>\n",
       "      <td>...</td>\n",
       "      <td>...</td>\n",
       "      <td>...</td>\n",
       "      <td>...</td>\n",
       "      <td>...</td>\n",
       "      <td>...</td>\n",
       "    </tr>\n",
       "    <tr>\n",
       "      <th>2018-12-27</th>\n",
       "      <td>2629685821</td>\n",
       "      <td>5636.39</td>\n",
       "      <td>102244.77</td>\n",
       "      <td>74187.12</td>\n",
       "      <td>508536</td>\n",
       "      <td>9532.26</td>\n",
       "      <td>5017901</td>\n",
       "      <td>8589</td>\n",
       "      <td>3821394</td>\n",
       "      <td>842236409.00</td>\n",
       "      <td>41154339.00</td>\n",
       "    </tr>\n",
       "    <tr>\n",
       "      <th>2018-12-28</th>\n",
       "      <td>6532468606</td>\n",
       "      <td>13745.95</td>\n",
       "      <td>281617.70</td>\n",
       "      <td>181206.28</td>\n",
       "      <td>1263268</td>\n",
       "      <td>33941.31</td>\n",
       "      <td>10062974</td>\n",
       "      <td>21089</td>\n",
       "      <td>9672885</td>\n",
       "      <td>2404755228.00</td>\n",
       "      <td>109822493.00</td>\n",
       "    </tr>\n",
       "    <tr>\n",
       "      <th>2018-12-29</th>\n",
       "      <td>6574237801</td>\n",
       "      <td>14402.06</td>\n",
       "      <td>289551.59</td>\n",
       "      <td>190737.51</td>\n",
       "      <td>1271340</td>\n",
       "      <td>33396.90</td>\n",
       "      <td>10738877</td>\n",
       "      <td>22848</td>\n",
       "      <td>9664008</td>\n",
       "      <td>2414906176.00</td>\n",
       "      <td>110888890.00</td>\n",
       "    </tr>\n",
       "    <tr>\n",
       "      <th>2018-12-30</th>\n",
       "      <td>2097489089</td>\n",
       "      <td>4513.79</td>\n",
       "      <td>79426.69</td>\n",
       "      <td>59852.62</td>\n",
       "      <td>405618</td>\n",
       "      <td>7578.66</td>\n",
       "      <td>3779395</td>\n",
       "      <td>7269</td>\n",
       "      <td>2919116</td>\n",
       "      <td>687618097.00</td>\n",
       "      <td>33611714.00</td>\n",
       "    </tr>\n",
       "    <tr>\n",
       "      <th>2018-12-31</th>\n",
       "      <td>2066430141</td>\n",
       "      <td>4487.53</td>\n",
       "      <td>77075.18</td>\n",
       "      <td>59287.57</td>\n",
       "      <td>399564</td>\n",
       "      <td>6243.22</td>\n",
       "      <td>3794528</td>\n",
       "      <td>6993</td>\n",
       "      <td>2904245</td>\n",
       "      <td>623901694.00</td>\n",
       "      <td>31712888.00</td>\n",
       "    </tr>\n",
       "  </tbody>\n",
       "</table>\n",
       "<p>1095 rows × 11 columns</p>\n",
       "</div>"
      ],
      "text/plain": [
       "                Transaction ID  KM Travelled  Price Charged  Cost of Trip  \\\n",
       "Date of Travel                                                              \n",
       "2016-01-02          1400118937       3279.47       88457.39      43161.75   \n",
       "2016-01-03          1260102481       2827.62       75971.25      37521.72   \n",
       "2016-01-04           210015405        449.17        9786.67       6136.47   \n",
       "2016-01-05           410037510       1084.65       25697.12      14359.00   \n",
       "2016-01-06           860069754       1926.41       43698.99      25035.54   \n",
       "...                        ...           ...            ...           ...   \n",
       "2018-12-27          2629685821       5636.39      102244.77      74187.12   \n",
       "2018-12-28          6532468606      13745.95      281617.70     181206.28   \n",
       "2018-12-29          6574237801      14402.06      289551.59     190737.51   \n",
       "2018-12-30          2097489089       4513.79       79426.69      59852.62   \n",
       "2018-12-31          2066430141       4487.53       77075.18      59287.57   \n",
       "\n",
       "                   Year  profit_percentage  Customer ID    Age  \\\n",
       "Date of Travel                                                   \n",
       "2016-01-02       282240           14591.49      2773489   4912   \n",
       "2016-01-03       254016           12818.29      2564476   4356   \n",
       "2016-01-04        42336            1431.27       262344    710   \n",
       "2016-01-05        82656            3313.59       694794   1406   \n",
       "2016-01-06       173376            6483.63      1825843   3014   \n",
       "...                 ...                ...          ...    ...   \n",
       "2018-12-27       508536            9532.26      5017901   8589   \n",
       "2018-12-28      1263268           33941.31     10062974  21089   \n",
       "2018-12-29      1271340           33396.90     10738877  22848   \n",
       "2018-12-30       405618            7578.66      3779395   7269   \n",
       "2018-12-31       399564            6243.22      3794528   6993   \n",
       "\n",
       "                Income (USD/Month)    Population        Users  \n",
       "Date of Travel                                                 \n",
       "2016-01-02                 1906751  400242866.00  21797293.00  \n",
       "2016-01-03                 1782987  352432541.00  19041244.00  \n",
       "2016-01-04                  315462   51771998.00   3130955.00  \n",
       "2016-01-05                  581408  148149625.00   7237034.00  \n",
       "2016-01-06                 1338179  209960419.00  12760531.00  \n",
       "...                            ...           ...          ...  \n",
       "2018-12-27                 3821394  842236409.00  41154339.00  \n",
       "2018-12-28                 9672885 2404755228.00 109822493.00  \n",
       "2018-12-29                 9664008 2414906176.00 110888890.00  \n",
       "2018-12-30                 2919116  687618097.00  33611714.00  \n",
       "2018-12-31                 2904245  623901694.00  31712888.00  \n",
       "\n",
       "[1095 rows x 11 columns]"
      ]
     },
     "execution_count": 164,
     "metadata": {},
     "output_type": "execute_result"
    }
   ],
   "source": [
    "df_cab_trans_cus_city_timeseries_yellow_sampled = df_cab_trans_cus_city_timeseries_yellow.resample('D').sum()\n",
    "df_cab_trans_cus_city_timeseries_yellow_sampled"
   ]
  },
  {
   "cell_type": "code",
   "execution_count": 165,
   "metadata": {},
   "outputs": [],
   "source": [
    "train = df_cab_trans_cus_city_timeseries_yellow_sampled.iloc[:-219]\n",
    "test = df_cab_trans_cus_city_timeseries_yellow_sampled.iloc[-219:]"
   ]
  },
  {
   "cell_type": "code",
   "execution_count": 166,
   "metadata": {},
   "outputs": [
    {
     "name": "stderr",
     "output_type": "stream",
     "text": [
      "C:\\Users\\snigdha.chigurupati\\anaconda3\\lib\\site-packages\\statsmodels\\tsa\\arima_model.py:472: FutureWarning:\n",
      "\n",
      "\n",
      "statsmodels.tsa.arima_model.ARMA and statsmodels.tsa.arima_model.ARIMA have\n",
      "been deprecated in favor of statsmodels.tsa.arima.model.ARIMA (note the .\n",
      "between arima and model) and\n",
      "statsmodels.tsa.SARIMAX. These will be removed after the 0.12 release.\n",
      "\n",
      "statsmodels.tsa.arima.model.ARIMA makes use of the statespace framework and\n",
      "is both well tested and maintained.\n",
      "\n",
      "To silence this warning and continue using ARMA and ARIMA until they are\n",
      "removed, use:\n",
      "\n",
      "import warnings\n",
      "warnings.filterwarnings('ignore', 'statsmodels.tsa.arima_model.ARMA',\n",
      "                        FutureWarning)\n",
      "warnings.filterwarnings('ignore', 'statsmodels.tsa.arima_model.ARIMA',\n",
      "                        FutureWarning)\n",
      "\n",
      "\n"
     ]
    }
   ],
   "source": [
    "model = ARIMA(train['profit_percentage'], order=(1, 1, 1))\n",
    "model_fit = model.fit()"
   ]
  },
  {
   "cell_type": "code",
   "execution_count": 167,
   "metadata": {},
   "outputs": [],
   "source": [
    "predictions = model_fit.forecast(steps=219)[0]"
   ]
  },
  {
   "cell_type": "code",
   "execution_count": 168,
   "metadata": {},
   "outputs": [
    {
     "data": {
      "text/plain": [
       "<matplotlib.collections.PathCollection at 0x2182876a790>"
      ]
     },
     "execution_count": 168,
     "metadata": {},
     "output_type": "execute_result"
    },
    {
     "data": {
      "image/png": "[encoded data removed]",
      "text/plain": [
       "<Figure size 432x288 with 1 Axes>"
      ]
     },
     "metadata": {},
     "output_type": "display_data"
    }
   ],
   "source": [
    "plt.scatter(pd.date_range(start=df_cab_trans_cus_city_timeseries_yellow_sampled.index[-1], periods=len(predictions), freq='D'), predictions, label='Forecast')"
   ]
  },
  {
   "cell_type": "markdown",
   "metadata": {},
   "source": [
    "### Infereneces of hypothesis"
   ]
  },
  {
   "cell_type": "markdown",
   "metadata": {},
   "source": [
    "1. The revenue generated by companies were high in 2017 when compared to 2016 and 2018. The revenue and the average profit percentage of the 'Yellow Cab' was much higher than the 'Pink Cab', infact, the average profit percentage of Yellow Cab was more than 50% during few years.\n",
    "2. The kilometers travelled by either companies is not affecting the profit percentage meaning, shorter and longer rides in terms of kilometers does not affect the profit percentage of the companies.\n",
    "3. Interstingly, San Fransisco does have the cab service users but there is no cab data related to San Fransisco, it may be because people of San Fransisco might have other cab company preferences.\n",
    "4. Yellow cab had been more predominantly popular in Newyork city than pink cab, followed by Chicago, Boton, Washington DC, Los Angeles. \n",
    "5. Almost both the companies had seen much profit in Newyork city, Silicion Valley. Other profitable cities for pink cab company include Miami, Austin, Tuscon. For Yellow cab it is, Dallas.\n",
    "6. The cities which brought loss over pink cab were, Dallas, Denver, Pheonix, Pittsburgh, Tuscon. For yellow cab, the cities were, Pittsburgh, Sacramento, Tuscon.\n",
    "7. Overall, the loss percentage for pink cab each year is more than yellow cab.\n",
    "8. The total kilometers travelled and the customer base are more for Yellow cab. Also, Newyork city had acclaimed the highest cab services by making highest kilometers travelled.\n",
    "9. People in most of the cities preferred yellow cab over pink cab company.\n",
    "10. For pink cab company, most customers were around the age 18-27 with others extending to 45 and 65. However, for Yellow cab company, prominent age gropus were from 18 till 40 with others extending to 45, 50 and even 65, and both companies have customers whose income ranges from around 2k till 35k USD/Month\n",
    "11. Lastly, through timeseries forcasting using ARIMA, it was seen that the forecasted profit percentange for 2019, increased for yellow cab whereas it decreased for pink cab company.\n",
    "12. From above all, it can be suggested that investing in Yellow would be right for the XYZ firm. "
   ]
  },
  {
   "cell_type": "code",
   "execution_count": null,
   "metadata": {},
   "outputs": [],
   "source": []
  }
 ],
 "metadata": {
  "colab": {
   "provenance": []
  },
  "kernelspec": {
   "display_name": "Python 3 (ipykernel)",
   "language": "python",
   "name": "python3"
  },
  "language_info": {
   "codemirror_mode": {
    "name": "ipython",
    "version": 3
   },
   "file_extension": ".py",
   "mimetype": "text/x-python",
   "name": "python",
   "nbconvert_exporter": "python",
   "pygments_lexer": "ipython3",
   "version": "3.9.7"
  }
 },
 "nbformat": 4,
 "nbformat_minor": 1
}
